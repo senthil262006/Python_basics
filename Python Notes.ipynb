{
 "cells": [
  {
   "cell_type": "code",
   "execution_count": 1,
   "id": "84ba00e1",
   "metadata": {},
   "outputs": [],
   "source": [
    "# import sys\n",
    "import keyword\n",
    "import operator \n",
    "from datetime import datetime\n",
    "import os"
   ]
  },
  {
   "cell_type": "markdown",
   "id": "68d415fa",
   "metadata": {},
   "source": [
    "# Keywords"
   ]
  },
  {
   "cell_type": "markdown",
   "id": "fc06dcc0",
   "metadata": {},
   "source": [
    "Keywords are the reserved words in Python and can't be used as an identifier"
   ]
  },
  {
   "cell_type": "code",
   "execution_count": 3,
   "id": "9e21378b",
   "metadata": {},
   "outputs": [
    {
     "name": "stdout",
     "output_type": "stream",
     "text": [
      "['False', 'None', 'True', '__peg_parser__', 'and', 'as', 'assert', 'async', 'await', 'break', 'class', 'continue', 'def', 'del', 'elif', 'else', 'except', 'finally', 'for', 'from', 'global', 'if', 'import', 'in', 'is', 'lambda', 'nonlocal', 'not', 'or', 'pass', 'raise', 'return', 'try', 'while', 'with', 'yield']\n"
     ]
    }
   ],
   "source": [
    "print(keyword.kwlist) # List all Python Keywords"
   ]
  },
  {
   "cell_type": "code",
   "execution_count": 4,
   "id": "a1d91aae",
   "metadata": {},
   "outputs": [
    {
     "data": {
      "text/plain": [
       "36"
      ]
     },
     "execution_count": 4,
     "metadata": {},
     "output_type": "execute_result"
    }
   ],
   "source": [
    "len(keyword.kwlist)"
   ]
  },
  {
   "cell_type": "markdown",
   "id": "0ce81cf2",
   "metadata": {},
   "source": [
    "# Identifiers"
   ]
  },
  {
   "cell_type": "markdown",
   "id": "1dbc3703",
   "metadata": {},
   "source": [
    "An identifier(label) is a name given to entities like class, functions, variables, etc. It helps to differentiateone entity from another.\n",
    "\n",
    "Identifiers can be alphanumeric but it should not start from number "
   ]
  },
  {
   "cell_type": "code",
   "execution_count": 4,
   "id": "1e156d09",
   "metadata": {},
   "outputs": [
    {
     "ename": "SyntaxError",
     "evalue": "invalid syntax (Temp/ipykernel_9508/434924443.py, line 1)",
     "output_type": "error",
     "traceback": [
      "\u001b[1;36m  File \u001b[1;32m\"C:\\Users\\Lenovo\\AppData\\Local\\Temp/ipykernel_9508/434924443.py\"\u001b[1;36m, line \u001b[1;32m1\u001b[0m\n\u001b[1;33m    1var=10   # Identifier can't start with a digit\u001b[0m\n\u001b[1;37m     ^\u001b[0m\n\u001b[1;31mSyntaxError\u001b[0m\u001b[1;31m:\u001b[0m invalid syntax\n"
     ]
    }
   ],
   "source": [
    "1var=10   # Identifier can't start with a digit"
   ]
  },
  {
   "cell_type": "code",
   "execution_count": 6,
   "id": "3846f1ff",
   "metadata": {},
   "outputs": [
    {
     "ename": "NameError",
     "evalue": "name 'val2' is not defined",
     "output_type": "error",
     "traceback": [
      "\u001b[1;31m---------------------------------------------------------------------------\u001b[0m",
      "\u001b[1;31mNameError\u001b[0m                                 Traceback (most recent call last)",
      "\u001b[1;32m~\\AppData\\Local\\Temp/ipykernel_11208/3475134109.py\u001b[0m in \u001b[0;36m<module>\u001b[1;34m\u001b[0m\n\u001b[1;32m----> 1\u001b[1;33m \u001b[0mval2\u001b[0m\u001b[1;33m@=\u001b[0m\u001b[1;36m35\u001b[0m        \u001b[1;31m# Identifier can't use special symbols\u001b[0m\u001b[1;33m\u001b[0m\u001b[1;33m\u001b[0m\u001b[0m\n\u001b[0m",
      "\u001b[1;31mNameError\u001b[0m: name 'val2' is not defined"
     ]
    }
   ],
   "source": [
    "val2@=35 \t# Identifier can't use special symbols"
   ]
  },
  {
   "cell_type": "code",
   "execution_count": 7,
   "id": "308004a9",
   "metadata": {},
   "outputs": [
    {
     "ename": "SyntaxError",
     "evalue": "invalid syntax (Temp/ipykernel_11208/3321359636.py, line 1)",
     "output_type": "error",
     "traceback": [
      "\u001b[1;36m  File \u001b[1;32m\"C:\\Users\\Lenovo\\AppData\\Local\\Temp/ipykernel_11208/3321359636.py\"\u001b[1;36m, line \u001b[1;32m1\u001b[0m\n\u001b[1;33m    import=125          # Keywords can't be used as identifiers\u001b[0m\n\u001b[1;37m          ^\u001b[0m\n\u001b[1;31mSyntaxError\u001b[0m\u001b[1;31m:\u001b[0m invalid syntax\n"
     ]
    }
   ],
   "source": [
    "import=125          # Keywords can't be used as identifiers"
   ]
  },
  {
   "cell_type": "code",
   "execution_count": 8,
   "id": "d9fc3c47",
   "metadata": {},
   "outputs": [],
   "source": [
    "\"\"\"\n",
    "Correct way of defining an identifier\n",
    "(Identifiers can be a combination of letters in lowercase (a to z) or uppercase (\n",
    "\"\"\"\n",
    "val2=10    "
   ]
  },
  {
   "cell_type": "code",
   "execution_count": 9,
   "id": "9610183c",
   "metadata": {},
   "outputs": [],
   "source": [
    "val_=99"
   ]
  },
  {
   "cell_type": "markdown",
   "id": "3772064d",
   "metadata": {},
   "source": [
    "# Comments in Python"
   ]
  },
  {
   "cell_type": "markdown",
   "id": "c2690f09",
   "metadata": {},
   "source": [
    "Comments can be used to explain the code for more readabilty.\n",
    "\n"
   ]
  },
  {
   "cell_type": "code",
   "execution_count": 10,
   "id": "aba9b21d",
   "metadata": {},
   "outputs": [],
   "source": [
    "'''\n",
    "Multiple\n",
    "line\n",
    "comment\n",
    "'''\n",
    "val=10"
   ]
  },
  {
   "cell_type": "code",
   "execution_count": 11,
   "id": "013725e3",
   "metadata": {},
   "outputs": [],
   "source": [
    "\"\"\"\n",
    "Multiple\n",
    "line\n",
    "comment\n",
    "\"\"\"\n",
    "val=10"
   ]
  },
  {
   "cell_type": "markdown",
   "id": "094a5b5e",
   "metadata": {},
   "source": [
    "# Statements"
   ]
  },
  {
   "cell_type": "markdown",
   "id": "4a76656c",
   "metadata": {},
   "source": [
    "Instructions that a Python interpreter can execute."
   ]
  },
  {
   "cell_type": "code",
   "execution_count": 12,
   "id": "3bb266f6",
   "metadata": {},
   "outputs": [
    {
     "data": {
      "text/plain": [
       "30"
      ]
     },
     "execution_count": 12,
     "metadata": {},
     "output_type": "execute_result"
    }
   ],
   "source": [
    "#Single Line statement\n",
    "p1=10+20\n",
    "\n",
    "p1"
   ]
  },
  {
   "cell_type": "code",
   "execution_count": 13,
   "id": "76b439e0",
   "metadata": {},
   "outputs": [
    {
     "data": {
      "text/plain": [
       "['a', 'b', 'c', 'd']"
      ]
     },
     "execution_count": 13,
     "metadata": {},
     "output_type": "execute_result"
    }
   ],
   "source": [
    "#Single Line statement\n",
    "p1=['a', 'b', 'c', 'd' ]\n",
    "\n",
    "p1"
   ]
  },
  {
   "cell_type": "code",
   "execution_count": 14,
   "id": "996b2f96",
   "metadata": {},
   "outputs": [
    {
     "data": {
      "text/plain": [
       "250"
      ]
     },
     "execution_count": 14,
     "metadata": {},
     "output_type": "execute_result"
    }
   ],
   "source": [
    "# Multi Line statement\n",
    "p1=10+20 \\\n",
    "   +40+50 \\\n",
    "   +60+70\n",
    "\n",
    "\n",
    "p1"
   ]
  },
  {
   "cell_type": "code",
   "execution_count": 15,
   "id": "bee97362",
   "metadata": {},
   "outputs": [],
   "source": [
    "#Multi Line statement\n",
    "p1=['a', \n",
    "    'b',\n",
    "    'c', \n",
    "    'd' ]\n"
   ]
  },
  {
   "cell_type": "markdown",
   "id": "7b91c1fa",
   "metadata": {},
   "source": [
    "# Indentation"
   ]
  },
  {
   "cell_type": "markdown",
   "id": "1d3f439e",
   "metadata": {},
   "source": [
    "Indentation refers to the spaces at the beginning of a code line. It is very important as Python usesindentation to indicate a block of code.If the indentation is not correct we will endup with\n",
    "IndentationError error."
   ]
  },
  {
   "cell_type": "code",
   "execution_count": 16,
   "id": "eae95381",
   "metadata": {},
   "outputs": [
    {
     "name": "stdout",
     "output_type": "stream",
     "text": [
      "P is equal to 10\n"
     ]
    }
   ],
   "source": [
    "p=10\n",
    "if p==10:\n",
    "    print('P is equal to 10')    # correct indentation"
   ]
  },
  {
   "cell_type": "code",
   "execution_count": 17,
   "id": "1b9133b3",
   "metadata": {},
   "outputs": [
    {
     "ename": "IndentationError",
     "evalue": "expected an indented block (Temp/ipykernel_11208/2299842483.py, line 4)",
     "output_type": "error",
     "traceback": [
      "\u001b[1;36m  File \u001b[1;32m\"C:\\Users\\Lenovo\\AppData\\Local\\Temp/ipykernel_11208/2299842483.py\"\u001b[1;36m, line \u001b[1;32m4\u001b[0m\n\u001b[1;33m    print('P is equal to 10')    # wrong indentation\u001b[0m\n\u001b[1;37m    ^\u001b[0m\n\u001b[1;31mIndentationError\u001b[0m\u001b[1;31m:\u001b[0m expected an indented block\n"
     ]
    }
   ],
   "source": [
    "# if indentation is skipped we will encounter \"IndentationError: expected an indented block\n",
    "p=10\n",
    "if p==10:\n",
    "print('P is equal to 10')    # wrong indentation"
   ]
  },
  {
   "cell_type": "code",
   "execution_count": 18,
   "id": "d7a9e044",
   "metadata": {},
   "outputs": [
    {
     "name": "stdout",
     "output_type": "stream",
     "text": [
      "1\n",
      "2\n",
      "3\n",
      "4\n"
     ]
    }
   ],
   "source": [
    "for i in range(1,5):\n",
    "    print(i)      # correct indentation"
   ]
  },
  {
   "cell_type": "code",
   "execution_count": 19,
   "id": "9137a18f",
   "metadata": {},
   "outputs": [
    {
     "name": "stdout",
     "output_type": "stream",
     "text": [
      "1\n",
      "2\n",
      "3\n",
      "4\n"
     ]
    }
   ],
   "source": [
    "for i in range(1,5): print(i)   # correct indentation"
   ]
  },
  {
   "cell_type": "code",
   "execution_count": 20,
   "id": "7f4012de",
   "metadata": {},
   "outputs": [
    {
     "name": "stdout",
     "output_type": "stream",
     "text": [
      "1\n",
      "2\n",
      "3\n",
      "4\n",
      "20\n"
     ]
    }
   ],
   "source": [
    "j=20\n",
    "for i in range(1,5):\n",
    "    print(i)  #inner loop\n",
    "print(j) #outer loop   "
   ]
  },
  {
   "cell_type": "markdown",
   "id": "b01db10f",
   "metadata": {},
   "source": [
    "# Docstrings"
   ]
  },
  {
   "cell_type": "markdown",
   "id": "9725e840",
   "metadata": {},
   "source": [
    "1) Docstrings provide a convenient way of associating documentation with functions, classes,methods or modules.\n"
   ]
  },
  {
   "cell_type": "markdown",
   "id": "567429b7",
   "metadata": {},
   "source": [
    "2) They appear right after the definition of a function, method, class, or module."
   ]
  },
  {
   "cell_type": "code",
   "execution_count": 21,
   "id": "1c1b0c8c",
   "metadata": {},
   "outputs": [],
   "source": [
    "def square(num):\n",
    "    '''Square Function :- This function will return the square of a number'''\n",
    "    return num**2"
   ]
  },
  {
   "cell_type": "code",
   "execution_count": 22,
   "id": "3ec5ad39",
   "metadata": {},
   "outputs": [
    {
     "data": {
      "text/plain": [
       "4"
      ]
     },
     "execution_count": 22,
     "metadata": {},
     "output_type": "execute_result"
    }
   ],
   "source": [
    "square(2)"
   ]
  },
  {
   "cell_type": "code",
   "execution_count": 23,
   "id": "6b418580",
   "metadata": {},
   "outputs": [
    {
     "data": {
      "text/plain": [
       "'Square Function :- This function will return the square of a number'"
      ]
     },
     "execution_count": 23,
     "metadata": {},
     "output_type": "execute_result"
    }
   ],
   "source": [
    "square.__doc__"
   ]
  },
  {
   "cell_type": "code",
   "execution_count": 24,
   "id": "dc439ef4",
   "metadata": {},
   "outputs": [],
   "source": [
    "def evenodd(num):\n",
    "    '''evenodd Function :- This function will test whether a numbr is Even or Odd'''\n",
    "    if  num%2==0:\n",
    "        print(\"Even Number\")\n",
    "    else:\n",
    "        print(\"Odd Number\")"
   ]
  },
  {
   "cell_type": "code",
   "execution_count": 25,
   "id": "df4fc23f",
   "metadata": {},
   "outputs": [
    {
     "name": "stdout",
     "output_type": "stream",
     "text": [
      "Even Number\n"
     ]
    }
   ],
   "source": [
    "evenodd(2)"
   ]
  },
  {
   "cell_type": "code",
   "execution_count": 26,
   "id": "f0202c96",
   "metadata": {},
   "outputs": [
    {
     "name": "stdout",
     "output_type": "stream",
     "text": [
      "Odd Number\n"
     ]
    }
   ],
   "source": [
    "evenodd(3)"
   ]
  },
  {
   "cell_type": "code",
   "execution_count": 27,
   "id": "43411d39",
   "metadata": {},
   "outputs": [
    {
     "data": {
      "text/plain": [
       "'evenodd Function :- This function will test whether a numbr is Even or Odd'"
      ]
     },
     "execution_count": 27,
     "metadata": {},
     "output_type": "execute_result"
    }
   ],
   "source": [
    "evenodd.__doc__"
   ]
  },
  {
   "cell_type": "markdown",
   "id": "32a32c73",
   "metadata": {},
   "source": [
    "# Variables\n"
   ]
  },
  {
   "cell_type": "markdown",
   "id": "15b8aa66",
   "metadata": {},
   "source": [
    "A Python variable is a reserved memory location to store values.A variable is created the momentyou first assign a value to it."
   ]
  },
  {
   "cell_type": "code",
   "execution_count": 28,
   "id": "f9c2cd2d",
   "metadata": {},
   "outputs": [],
   "source": [
    "p = 30"
   ]
  },
  {
   "cell_type": "code",
   "execution_count": 29,
   "id": "00e7ca10",
   "metadata": {},
   "outputs": [
    {
     "data": {
      "text/plain": [
       "1486439869648"
      ]
     },
     "execution_count": 29,
     "metadata": {},
     "output_type": "execute_result"
    }
   ],
   "source": [
    "'''\n",
    "id() \n",
    "function returns the “identity” of the object.The identity of an object \n",
    "                    - Is an integer\n",
    "                    - Guaranteed to be unique\n",
    "                    - Constant for this object during its lifetime.\n",
    "'''\n",
    "id(p)"
   ]
  },
  {
   "cell_type": "code",
   "execution_count": 30,
   "id": "8a94a506",
   "metadata": {},
   "outputs": [
    {
     "data": {
      "text/plain": [
       "'0x15a16b86cd0'"
      ]
     },
     "execution_count": 30,
     "metadata": {},
     "output_type": "execute_result"
    }
   ],
   "source": [
    "hex(id(p))        # Memory address of the variable"
   ]
  },
  {
   "cell_type": "code",
   "execution_count": 31,
   "id": "36539a93",
   "metadata": {},
   "outputs": [
    {
     "data": {
      "text/plain": [
       "(20, int, '0x15a16b86b90')"
      ]
     },
     "execution_count": 31,
     "metadata": {},
     "output_type": "execute_result"
    }
   ],
   "source": [
    "p=20\n",
    "q=20\n",
    "r=p\n",
    "p,type(p),hex(id(p))"
   ]
  },
  {
   "cell_type": "code",
   "execution_count": 32,
   "id": "ff578cb5",
   "metadata": {},
   "outputs": [
    {
     "data": {
      "text/plain": [
       "(20, int, '0x15a16b86b90')"
      ]
     },
     "execution_count": 32,
     "metadata": {},
     "output_type": "execute_result"
    }
   ],
   "source": [
    "r, type(r), hex(id(r))"
   ]
  },
  {
   "attachments": {
    "image.png": {
     "image/png": "[encoded data removed]"
    }
   },
   "cell_type": "markdown",
   "id": "512b97f6",
   "metadata": {},
   "source": [
    "![image.png](attachment:image.png)"
   ]
  },
  {
   "cell_type": "code",
   "execution_count": 33,
   "id": "024b01fd",
   "metadata": {},
   "outputs": [
    {
     "data": {
      "text/plain": [
       "30"
      ]
     },
     "execution_count": 33,
     "metadata": {},
     "output_type": "execute_result"
    }
   ],
   "source": [
    "p=20\n",
    "p=p+10# Variable Overwriting\n",
    "p"
   ]
  },
  {
   "cell_type": "markdown",
   "id": "690426a0",
   "metadata": {},
   "source": [
    "# Data Types"
   ]
  },
  {
   "cell_type": "code",
   "execution_count": 34,
   "id": "897995d8",
   "metadata": {},
   "outputs": [
    {
     "name": "stdout",
     "output_type": "stream",
     "text": [
      "10\n",
      "<class 'int'>\n",
      "28\n",
      "10  is Integer? True\n"
     ]
    }
   ],
   "source": [
    "val1=10                                             # Integer data type\n",
    "print(val1)\n",
    "print(type(val1))                                   # type of object\n",
    "print(sys.getsizeof(val1))                          # size of integer object in bytes\n",
    "print(val1,\" is Integer?\",isinstance(val1,int))     # val1 is an instance of intiger"
   ]
  },
  {
   "cell_type": "code",
   "execution_count": 35,
   "id": "f0b4890b",
   "metadata": {},
   "outputs": [
    {
     "name": "stdout",
     "output_type": "stream",
     "text": [
      "92.78\n",
      "<class 'float'>\n",
      "24\n",
      "92.78  is float? True\n"
     ]
    }
   ],
   "source": [
    "val2=92.78                                         # Float data type\n",
    "print(val2)\n",
    "print(type(val2))                                  # type of object\n",
    "print(sys.getsizeof(val2))                         # size of float object in bytes\n",
    "print(val2,\" is float?\",isinstance(val2,float))    # Val2 is an instance of float\n"
   ]
  },
  {
   "cell_type": "code",
   "execution_count": 36,
   "id": "ea2b75fc",
   "metadata": {},
   "outputs": [
    {
     "name": "stdout",
     "output_type": "stream",
     "text": [
      "(25+10j)\n",
      "<class 'complex'>\n",
      "32\n",
      "(25+10j)  is complex? True\n"
     ]
    }
   ],
   "source": [
    "val3=25+10j                                        # Complex data type\n",
    "print(val3)\n",
    "print(type(val3))                                  # type of object\n",
    "print(sys.getsizeof(val3))                         # size of float object in bytes\n",
    "print(val3,\" is complex?\",isinstance(val3,complex))# val3"
   ]
  },
  {
   "cell_type": "code",
   "execution_count": 37,
   "id": "ffdc1adb",
   "metadata": {},
   "outputs": [
    {
     "data": {
      "text/plain": [
       "24"
      ]
     },
     "execution_count": 37,
     "metadata": {},
     "output_type": "execute_result"
    }
   ],
   "source": [
    "sys.getsizeof(int())                               # size of integer object in bytes"
   ]
  },
  {
   "cell_type": "code",
   "execution_count": 38,
   "id": "f32ce804",
   "metadata": {},
   "outputs": [
    {
     "data": {
      "text/plain": [
       "24"
      ]
     },
     "execution_count": 38,
     "metadata": {},
     "output_type": "execute_result"
    }
   ],
   "source": [
    "sys.getsizeof(float())                             # size of float object in bytes"
   ]
  },
  {
   "cell_type": "code",
   "execution_count": 39,
   "id": "15a6f5bb",
   "metadata": {},
   "outputs": [
    {
     "data": {
      "text/plain": [
       "32"
      ]
     },
     "execution_count": 39,
     "metadata": {},
     "output_type": "execute_result"
    }
   ],
   "source": [
    "sys.getsizeof(complex())                           # size of complex object in bytes"
   ]
  },
  {
   "cell_type": "markdown",
   "id": "1e34772a",
   "metadata": {},
   "source": [
    "# Boolean"
   ]
  },
  {
   "cell_type": "markdown",
   "id": "50a7cc29",
   "metadata": {},
   "source": [
    "Boolean data type can have only two possible values true or false\n",
    "."
   ]
  },
  {
   "cell_type": "code",
   "execution_count": 40,
   "id": "f6f7dd38",
   "metadata": {},
   "outputs": [],
   "source": [
    "bool1=True"
   ]
  },
  {
   "cell_type": "code",
   "execution_count": 41,
   "id": "72a1085b",
   "metadata": {},
   "outputs": [],
   "source": [
    "bool2=False"
   ]
  },
  {
   "cell_type": "code",
   "execution_count": 42,
   "id": "a9bac94c",
   "metadata": {},
   "outputs": [
    {
     "name": "stdout",
     "output_type": "stream",
     "text": [
      "<class 'bool'>\n"
     ]
    }
   ],
   "source": [
    "print(type(bool1))"
   ]
  },
  {
   "cell_type": "code",
   "execution_count": 43,
   "id": "e895695f",
   "metadata": {},
   "outputs": [
    {
     "name": "stdout",
     "output_type": "stream",
     "text": [
      "<class 'bool'>\n"
     ]
    }
   ],
   "source": [
    "print(type(bool2))"
   ]
  },
  {
   "cell_type": "code",
   "execution_count": 44,
   "id": "23a142ff",
   "metadata": {},
   "outputs": [
    {
     "data": {
      "text/plain": [
       "True"
      ]
     },
     "execution_count": 44,
     "metadata": {},
     "output_type": "execute_result"
    }
   ],
   "source": [
    "isinstance(bool1, bool)"
   ]
  },
  {
   "cell_type": "code",
   "execution_count": 45,
   "id": "34490fb8",
   "metadata": {},
   "outputs": [
    {
     "data": {
      "text/plain": [
       "False"
      ]
     },
     "execution_count": 45,
     "metadata": {},
     "output_type": "execute_result"
    }
   ],
   "source": [
    "bool(0)"
   ]
  },
  {
   "cell_type": "code",
   "execution_count": 46,
   "id": "022e82d4",
   "metadata": {},
   "outputs": [
    {
     "data": {
      "text/plain": [
       "True"
      ]
     },
     "execution_count": 46,
     "metadata": {},
     "output_type": "execute_result"
    }
   ],
   "source": [
    "bool(1)"
   ]
  },
  {
   "cell_type": "code",
   "execution_count": 47,
   "id": "2e906389",
   "metadata": {},
   "outputs": [
    {
     "data": {
      "text/plain": [
       "False"
      ]
     },
     "execution_count": 47,
     "metadata": {},
     "output_type": "execute_result"
    }
   ],
   "source": [
    "bool(None)"
   ]
  },
  {
   "cell_type": "code",
   "execution_count": 48,
   "id": "8abc55aa",
   "metadata": {},
   "outputs": [
    {
     "data": {
      "text/plain": [
       "False"
      ]
     },
     "execution_count": 48,
     "metadata": {},
     "output_type": "execute_result"
    }
   ],
   "source": [
    "bool()"
   ]
  },
  {
   "cell_type": "markdown",
   "id": "303aa9d1",
   "metadata": {},
   "source": [
    "# Strings"
   ]
  },
  {
   "cell_type": "markdown",
   "id": "02ac1274",
   "metadata": {},
   "source": [
    "# String Creation"
   ]
  },
  {
   "cell_type": "code",
   "execution_count": 49,
   "id": "0ec66bee",
   "metadata": {},
   "outputs": [
    {
     "name": "stdout",
     "output_type": "stream",
     "text": [
      "HELLO PYTHON\n"
     ]
    }
   ],
   "source": [
    "str1=\"HELLO PYTHON\"            \n",
    "print(str1)"
   ]
  },
  {
   "cell_type": "code",
   "execution_count": 50,
   "id": "97a67575",
   "metadata": {},
   "outputs": [
    {
     "name": "stdout",
     "output_type": "stream",
     "text": [
      "Hello World\n"
     ]
    }
   ],
   "source": [
    "mystr='Hello World'             # Define string using single quotes\n",
    "print(mystr)"
   ]
  },
  {
   "cell_type": "code",
   "execution_count": 51,
   "id": "8895fae6",
   "metadata": {},
   "outputs": [
    {
     "name": "stdout",
     "output_type": "stream",
     "text": [
      "Hello World\n"
     ]
    }
   ],
   "source": [
    "mystr=\"Hello World\"            # Define string using double quotes\n",
    "print(mystr)"
   ]
  },
  {
   "cell_type": "code",
   "execution_count": 52,
   "id": "c6481c48",
   "metadata": {},
   "outputs": [
    {
     "name": "stdout",
     "output_type": "stream",
     "text": [
      "Hello \n",
      "            World \n"
     ]
    }
   ],
   "source": [
    "mystr='''Hello \n",
    "            World '''         # Define string using triple quotes\n",
    "print(mystr)"
   ]
  },
  {
   "cell_type": "code",
   "execution_count": 53,
   "id": "a28bc93f",
   "metadata": {},
   "outputs": [
    {
     "name": "stdout",
     "output_type": "stream",
     "text": [
      "Hello\n",
      "                World\n"
     ]
    }
   ],
   "source": [
    "mystr=\"\"\"Hello\n",
    "                World\"\"\"     # Define string using triple quotes\n",
    "print(mystr)"
   ]
  },
  {
   "cell_type": "code",
   "execution_count": 54,
   "id": "c6f9333f",
   "metadata": {},
   "outputs": [
    {
     "name": "stdout",
     "output_type": "stream",
     "text": [
      "Happy Monday Everyone\n"
     ]
    }
   ],
   "source": [
    "mystr=('Happy '\n",
    "        'Monday '\n",
    "        'Everyone'\n",
    "        )\n",
    "print(mystr)"
   ]
  },
  {
   "cell_type": "code",
   "execution_count": 55,
   "id": "1181a63b",
   "metadata": {},
   "outputs": [
    {
     "data": {
      "text/plain": [
       "'Woohoo Woohoo Woohoo Woohoo Woohoo '"
      ]
     },
     "execution_count": 55,
     "metadata": {},
     "output_type": "execute_result"
    }
   ],
   "source": [
    "mystr2='Woohoo '\n",
    "mystr2=mystr2*5\n",
    "mystr2"
   ]
  },
  {
   "cell_type": "code",
   "execution_count": 56,
   "id": "8eb085e8",
   "metadata": {},
   "outputs": [
    {
     "data": {
      "text/plain": [
       "35"
      ]
     },
     "execution_count": 56,
     "metadata": {},
     "output_type": "execute_result"
    }
   ],
   "source": [
    "len(mystr2)                   # Length of string"
   ]
  },
  {
   "cell_type": "markdown",
   "id": "c9a2c368",
   "metadata": {},
   "source": [
    "# String Indexing"
   ]
  },
  {
   "attachments": {
    "image.png": {
     "image/png": "[encoded data removed]"
    }
   },
   "cell_type": "markdown",
   "id": "233ae74f",
   "metadata": {},
   "source": [
    "![image.png](attachment:image.png)"
   ]
  },
  {
   "cell_type": "code",
   "execution_count": 57,
   "id": "6598c7fe",
   "metadata": {},
   "outputs": [
    {
     "data": {
      "text/plain": [
       "'HELLO PYTHON'"
      ]
     },
     "execution_count": 57,
     "metadata": {},
     "output_type": "execute_result"
    }
   ],
   "source": [
    "str1"
   ]
  },
  {
   "cell_type": "code",
   "execution_count": 58,
   "id": "bc8fc211",
   "metadata": {},
   "outputs": [
    {
     "data": {
      "text/plain": [
       "'H'"
      ]
     },
     "execution_count": 58,
     "metadata": {},
     "output_type": "execute_result"
    }
   ],
   "source": [
    "str1[0]                    # First character in string \"str1\""
   ]
  },
  {
   "cell_type": "code",
   "execution_count": 59,
   "id": "97453fa9",
   "metadata": {},
   "outputs": [
    {
     "data": {
      "text/plain": [
       "'N'"
      ]
     },
     "execution_count": 59,
     "metadata": {},
     "output_type": "execute_result"
    }
   ],
   "source": [
    "str1[len(str1)-1]         # Last character in string using len function"
   ]
  },
  {
   "cell_type": "code",
   "execution_count": 60,
   "id": "40008db2",
   "metadata": {},
   "outputs": [
    {
     "data": {
      "text/plain": [
       "'N'"
      ]
     },
     "execution_count": 60,
     "metadata": {},
     "output_type": "execute_result"
    }
   ],
   "source": [
    "str1[-1]"
   ]
  },
  {
   "cell_type": "code",
   "execution_count": 61,
   "id": "f5a39a07",
   "metadata": {},
   "outputs": [
    {
     "data": {
      "text/plain": [
       "'P'"
      ]
     },
     "execution_count": 61,
     "metadata": {},
     "output_type": "execute_result"
    }
   ],
   "source": [
    "str1[6]                 #Fetch 7th element of the string"
   ]
  },
  {
   "cell_type": "code",
   "execution_count": 62,
   "id": "67b8ff60",
   "metadata": {},
   "outputs": [
    {
     "data": {
      "text/plain": [
       "' '"
      ]
     },
     "execution_count": 62,
     "metadata": {},
     "output_type": "execute_result"
    }
   ],
   "source": [
    "str1[5]"
   ]
  },
  {
   "cell_type": "markdown",
   "id": "1c936de6",
   "metadata": {},
   "source": [
    "# String Slicing"
   ]
  },
  {
   "cell_type": "code",
   "execution_count": 63,
   "id": "9f5a4e32",
   "metadata": {},
   "outputs": [
    {
     "data": {
      "text/plain": [
       "'HELLO'"
      ]
     },
     "execution_count": 63,
     "metadata": {},
     "output_type": "execute_result"
    }
   ],
   "source": [
    "str1[0:5]             # String slicing - Fetch all characters from 0 to 5 index location excluding lasr index(5)"
   ]
  },
  {
   "cell_type": "code",
   "execution_count": 64,
   "id": "f919bc07",
   "metadata": {},
   "outputs": [
    {
     "data": {
      "text/plain": [
       "'HELLO PYTHO'"
      ]
     },
     "execution_count": 64,
     "metadata": {},
     "output_type": "execute_result"
    }
   ],
   "source": [
    "str1[0:-1] #compination of fwd and bkwd slicing"
   ]
  },
  {
   "cell_type": "code",
   "execution_count": 65,
   "id": "a305633c",
   "metadata": {},
   "outputs": [
    {
     "data": {
      "text/plain": [
       "'NOHTYP OLLEH'"
      ]
     },
     "execution_count": 65,
     "metadata": {},
     "output_type": "execute_result"
    }
   ],
   "source": [
    "str1[::-1] #Reverse Sliscing "
   ]
  },
  {
   "cell_type": "code",
   "execution_count": 66,
   "id": "cb11f515",
   "metadata": {},
   "outputs": [
    {
     "data": {
      "text/plain": [
       "'LEH'"
      ]
     },
     "execution_count": 66,
     "metadata": {},
     "output_type": "execute_result"
    }
   ],
   "source": [
    "str1[2::-1]"
   ]
  },
  {
   "cell_type": "markdown",
   "id": "a3fd9c2f",
   "metadata": {},
   "source": [
    "# Update & Delete String"
   ]
  },
  {
   "cell_type": "code",
   "execution_count": 67,
   "id": "15ae1086",
   "metadata": {},
   "outputs": [
    {
     "data": {
      "text/plain": [
       "'HELLO PYTHON'"
      ]
     },
     "execution_count": 67,
     "metadata": {},
     "output_type": "execute_result"
    }
   ],
   "source": [
    "str1"
   ]
  },
  {
   "cell_type": "code",
   "execution_count": 68,
   "id": "105a9bb1",
   "metadata": {},
   "outputs": [
    {
     "ename": "TypeError",
     "evalue": "'str' object does not support item assignment",
     "output_type": "error",
     "traceback": [
      "\u001b[1;31m---------------------------------------------------------------------------\u001b[0m",
      "\u001b[1;31mTypeError\u001b[0m                                 Traceback (most recent call last)",
      "\u001b[1;32m~\\AppData\\Local\\Temp/ipykernel_11208/3026157716.py\u001b[0m in \u001b[0;36m<module>\u001b[1;34m\u001b[0m\n\u001b[1;32m----> 1\u001b[1;33m \u001b[0mstr1\u001b[0m\u001b[1;33m[\u001b[0m\u001b[1;36m0\u001b[0m\u001b[1;33m:\u001b[0m\u001b[1;36m5\u001b[0m\u001b[1;33m]\u001b[0m\u001b[1;33m=\u001b[0m\u001b[1;34m'HELAA'\u001b[0m \u001b[1;31m#Strings are immutable So the elements of a string  cannot modify\u001b[0m\u001b[1;33m\u001b[0m\u001b[1;33m\u001b[0m\u001b[0m\n\u001b[0m",
      "\u001b[1;31mTypeError\u001b[0m: 'str' object does not support item assignment"
     ]
    }
   ],
   "source": [
    "str1[0:5]='HELAA' #Strings are immutable So the elements of a string  cannot modify"
   ]
  },
  {
   "cell_type": "code",
   "execution_count": 69,
   "id": "98dc655d",
   "metadata": {},
   "outputs": [
    {
     "ename": "SyntaxError",
     "evalue": "invalid syntax (Temp/ipykernel_11208/4115970601.py, line 1)",
     "output_type": "error",
     "traceback": [
      "\u001b[1;36m  File \u001b[1;32m\"C:\\Users\\Lenovo\\AppData\\Local\\Temp/ipykernel_11208/4115970601.py\"\u001b[1;36m, line \u001b[1;32m1\u001b[0m\n\u001b[1;33m    del =str1 # Delete the string\u001b[0m\n\u001b[1;37m        ^\u001b[0m\n\u001b[1;31mSyntaxError\u001b[0m\u001b[1;31m:\u001b[0m invalid syntax\n"
     ]
    }
   ],
   "source": [
    "del =str1 # Delete the string\n",
    "str1"
   ]
  },
  {
   "cell_type": "markdown",
   "id": "ea509791",
   "metadata": {},
   "source": [
    "# String concatenation"
   ]
  },
  {
   "cell_type": "code",
   "execution_count": 70,
   "id": "4c047abe",
   "metadata": {},
   "outputs": [
    {
     "name": "stdout",
     "output_type": "stream",
     "text": [
      "HelloAsif\n"
     ]
    }
   ],
   "source": [
    "# String concatenation\n",
    "s1=\"Hello\"\n",
    "s2=\"Asif\"\n",
    "s3=s1+s2\n",
    "print(s3)"
   ]
  },
  {
   "cell_type": "code",
   "execution_count": 71,
   "id": "ad194c87",
   "metadata": {},
   "outputs": [
    {
     "name": "stdout",
     "output_type": "stream",
     "text": [
      "Hello Asif\n"
     ]
    }
   ],
   "source": [
    "# String concatenation\n",
    "s1=\"Hello\"\n",
    "s2=\"Asif\"\n",
    "s3=s1+\" \"+s2\n",
    "print(s3)"
   ]
  },
  {
   "cell_type": "markdown",
   "id": "788c3160",
   "metadata": {},
   "source": [
    "# Iterating through a String"
   ]
  },
  {
   "cell_type": "code",
   "execution_count": 72,
   "id": "b8b70c65",
   "metadata": {},
   "outputs": [],
   "source": [
    "mystr1=\"Hello Everyone\""
   ]
  },
  {
   "cell_type": "code",
   "execution_count": 73,
   "id": "e8da56ee",
   "metadata": {},
   "outputs": [
    {
     "name": "stdout",
     "output_type": "stream",
     "text": [
      "H\n",
      "e\n",
      "l\n",
      "l\n",
      "o\n",
      " \n",
      "E\n",
      "v\n",
      "e\n",
      "r\n",
      "y\n",
      "o\n",
      "n\n",
      "e\n"
     ]
    }
   ],
   "source": [
    "# Iteration\n",
    "for i in mystr1:\n",
    "    print(i)"
   ]
  },
  {
   "cell_type": "code",
   "execution_count": 74,
   "id": "e7b41252",
   "metadata": {},
   "outputs": [
    {
     "name": "stdout",
     "output_type": "stream",
     "text": [
      "(0, 'H')\n",
      "(1, 'e')\n",
      "(2, 'l')\n",
      "(3, 'l')\n",
      "(4, 'o')\n",
      "(5, ' ')\n",
      "(6, 'E')\n",
      "(7, 'v')\n",
      "(8, 'e')\n",
      "(9, 'r')\n",
      "(10, 'y')\n",
      "(11, 'o')\n",
      "(12, 'n')\n",
      "(13, 'e')\n"
     ]
    }
   ],
   "source": [
    "for i in enumerate(mystr1):\n",
    "    print(i)"
   ]
  },
  {
   "cell_type": "code",
   "execution_count": 75,
   "id": "dbce9583",
   "metadata": {},
   "outputs": [
    {
     "data": {
      "text/plain": [
       "<enumerate at 0x15a1c9cebc0>"
      ]
     },
     "execution_count": 75,
     "metadata": {},
     "output_type": "execute_result"
    }
   ],
   "source": [
    "enumerate(mystr1)"
   ]
  },
  {
   "cell_type": "code",
   "execution_count": 76,
   "id": "3fa372ce",
   "metadata": {},
   "outputs": [
    {
     "data": {
      "text/plain": [
       "[(0, 'H'),\n",
       " (1, 'e'),\n",
       " (2, 'l'),\n",
       " (3, 'l'),\n",
       " (4, 'o'),\n",
       " (5, ' '),\n",
       " (6, 'E'),\n",
       " (7, 'v'),\n",
       " (8, 'e'),\n",
       " (9, 'r'),\n",
       " (10, 'y'),\n",
       " (11, 'o'),\n",
       " (12, 'n'),\n",
       " (13, 'e')]"
      ]
     },
     "execution_count": 76,
     "metadata": {},
     "output_type": "execute_result"
    }
   ],
   "source": [
    "list(enumerate(mystr1)) ## Enumerate method adds a counter to an iterable and return tuble of index and string"
   ]
  },
  {
   "cell_type": "code",
   "execution_count": 77,
   "id": "ca5db575",
   "metadata": {},
   "outputs": [
    {
     "name": "stdout",
     "output_type": "stream",
     "text": [
      "True\n",
      "True\n",
      "False\n"
     ]
    }
   ],
   "source": [
    "# String membership\n",
    "mystr1=\"Hello Everyone\"\n",
    "print('Hello' in mystr1)      # Check whether substring \"Hello\" is present in mstr1\n",
    "print('Everyone' in mystr1)   # Check whether substring \"Everyone\" is present in mystr1\n",
    "print('Hi' in mystr1)         # Check whether substring \"Hi\" is present in string \"mystr1\n"
   ]
  },
  {
   "cell_type": "code",
   "execution_count": 78,
   "id": "6fb0d0f1",
   "metadata": {},
   "outputs": [
    {
     "name": "stdout",
     "output_type": "stream",
     "text": [
      "('Natural language processing with Python ', 'and', ' R and Java')\n"
     ]
    }
   ],
   "source": [
    "\"\"\"\n",
    "The partition() method searches for a specified string and splits the string into\n",
    "- The first element contains the part before the argument string.\n",
    "- The second element contains the argument string.\n",
    "- The third element contains the part after the argument string.\n",
    "\"\"\"\n",
    "str5=\"Natural language processing with Python and R and Java\"\n",
    "L=str5.partition(\"and\")\n",
    "print(L)"
   ]
  },
  {
   "cell_type": "code",
   "execution_count": 79,
   "id": "7692edfb",
   "metadata": {},
   "outputs": [
    {
     "name": "stdout",
     "output_type": "stream",
     "text": [
      "('Natural language processing with Python and R ', 'and', ' Java')\n"
     ]
    }
   ],
   "source": [
    "\"\"\"\n",
    "The rpartition() method searches for the last occurence of the specified string a\n",
    "containing three elements.\n",
    "- The first element contains the part before the argument string.\n",
    "- The second element contains the argument string.\n",
    "- The third element contains the part after the argument string.\n",
    "\"\"\"\n",
    "str5=\"Natural language processing with Python and R and Java\"\n",
    "L=str5.rpartition(\"and\")\n",
    "print(L)"
   ]
  },
  {
   "cell_type": "markdown",
   "id": "a359098c",
   "metadata": {},
   "source": [
    "# String Functions"
   ]
  },
  {
   "cell_type": "code",
   "execution_count": 80,
   "id": "80be6df2",
   "metadata": {},
   "outputs": [
    {
     "data": {
      "text/plain": [
       "' Hello Everyone '"
      ]
     },
     "execution_count": 80,
     "metadata": {},
     "output_type": "execute_result"
    }
   ],
   "source": [
    "mystr2=\" Hello Everyone \"\n",
    "mystr2"
   ]
  },
  {
   "cell_type": "code",
   "execution_count": 81,
   "id": "7d13e281",
   "metadata": {},
   "outputs": [
    {
     "data": {
      "text/plain": [
       "['__add__',\n",
       " '__class__',\n",
       " '__contains__',\n",
       " '__delattr__',\n",
       " '__dir__',\n",
       " '__doc__',\n",
       " '__eq__',\n",
       " '__format__',\n",
       " '__ge__',\n",
       " '__getattribute__',\n",
       " '__getitem__',\n",
       " '__getnewargs__',\n",
       " '__gt__',\n",
       " '__hash__',\n",
       " '__init__',\n",
       " '__init_subclass__',\n",
       " '__iter__',\n",
       " '__le__',\n",
       " '__len__',\n",
       " '__lt__',\n",
       " '__mod__',\n",
       " '__mul__',\n",
       " '__ne__',\n",
       " '__new__',\n",
       " '__reduce__',\n",
       " '__reduce_ex__',\n",
       " '__repr__',\n",
       " '__rmod__',\n",
       " '__rmul__',\n",
       " '__setattr__',\n",
       " '__sizeof__',\n",
       " '__str__',\n",
       " '__subclasshook__',\n",
       " 'capitalize',\n",
       " 'casefold',\n",
       " 'center',\n",
       " 'count',\n",
       " 'encode',\n",
       " 'endswith',\n",
       " 'expandtabs',\n",
       " 'find',\n",
       " 'format',\n",
       " 'format_map',\n",
       " 'index',\n",
       " 'isalnum',\n",
       " 'isalpha',\n",
       " 'isascii',\n",
       " 'isdecimal',\n",
       " 'isdigit',\n",
       " 'isidentifier',\n",
       " 'islower',\n",
       " 'isnumeric',\n",
       " 'isprintable',\n",
       " 'isspace',\n",
       " 'istitle',\n",
       " 'isupper',\n",
       " 'join',\n",
       " 'ljust',\n",
       " 'lower',\n",
       " 'lstrip',\n",
       " 'maketrans',\n",
       " 'partition',\n",
       " 'removeprefix',\n",
       " 'removesuffix',\n",
       " 'replace',\n",
       " 'rfind',\n",
       " 'rindex',\n",
       " 'rjust',\n",
       " 'rpartition',\n",
       " 'rsplit',\n",
       " 'rstrip',\n",
       " 'split',\n",
       " 'splitlines',\n",
       " 'startswith',\n",
       " 'strip',\n",
       " 'swapcase',\n",
       " 'title',\n",
       " 'translate',\n",
       " 'upper',\n",
       " 'zfill']"
      ]
     },
     "execution_count": 81,
     "metadata": {},
     "output_type": "execute_result"
    }
   ],
   "source": [
    "dir(mystr2)"
   ]
  },
  {
   "cell_type": "code",
   "execution_count": 82,
   "id": "4c688a3c",
   "metadata": {},
   "outputs": [
    {
     "data": {
      "text/plain": [
       "'Hello Everyone'"
      ]
     },
     "execution_count": 82,
     "metadata": {},
     "output_type": "execute_result"
    }
   ],
   "source": [
    "mystr2.strip()                # Removes white space from begining & end"
   ]
  },
  {
   "cell_type": "code",
   "execution_count": 83,
   "id": "c71b3f3a",
   "metadata": {},
   "outputs": [
    {
     "data": {
      "text/plain": [
       "' Hello Everyone'"
      ]
     },
     "execution_count": 83,
     "metadata": {},
     "output_type": "execute_result"
    }
   ],
   "source": [
    "mystr2.rstrip()               # Removes all whitespaces at the end of the string"
   ]
  },
  {
   "cell_type": "code",
   "execution_count": 84,
   "id": "1667538b",
   "metadata": {},
   "outputs": [
    {
     "data": {
      "text/plain": [
       "'Hello Everyone '"
      ]
     },
     "execution_count": 84,
     "metadata": {},
     "output_type": "execute_result"
    }
   ],
   "source": [
    "mystr2.lstrip()               # Removes all whitespaces at the begining of the string"
   ]
  },
  {
   "cell_type": "code",
   "execution_count": 85,
   "id": "45c7ca24",
   "metadata": {},
   "outputs": [
    {
     "data": {
      "text/plain": [
       "'*********Hello Everyone***********All the Best**********'"
      ]
     },
     "execution_count": 85,
     "metadata": {},
     "output_type": "execute_result"
    }
   ],
   "source": [
    "mystr2=\"*********Hello Everyone***********All the Best**********\"\n",
    "mystr2"
   ]
  },
  {
   "cell_type": "code",
   "execution_count": 86,
   "id": "5a915686",
   "metadata": {},
   "outputs": [
    {
     "data": {
      "text/plain": [
       "'Hello Everyone***********All the Best'"
      ]
     },
     "execution_count": 86,
     "metadata": {},
     "output_type": "execute_result"
    }
   ],
   "source": [
    "mystr2.strip('*')           # Removes all '*' characters from begining & end of the string"
   ]
  },
  {
   "cell_type": "code",
   "execution_count": 87,
   "id": "662b5172",
   "metadata": {},
   "outputs": [
    {
     "data": {
      "text/plain": [
       "'*********Hello Everyone***********All the Best'"
      ]
     },
     "execution_count": 87,
     "metadata": {},
     "output_type": "execute_result"
    }
   ],
   "source": [
    "mystr2.rstrip('*')          # Removes all '*' characters at the end of the string"
   ]
  },
  {
   "cell_type": "code",
   "execution_count": 88,
   "id": "db305ef9",
   "metadata": {},
   "outputs": [
    {
     "data": {
      "text/plain": [
       "'Hello Everyone***********All the Best**********'"
      ]
     },
     "execution_count": 88,
     "metadata": {},
     "output_type": "execute_result"
    }
   ],
   "source": [
    "mystr2.lstrip('*')          # Removes all '*' characters at the end of the string"
   ]
  },
  {
   "cell_type": "code",
   "execution_count": 89,
   "id": "bd8b56ea",
   "metadata": {},
   "outputs": [
    {
     "data": {
      "text/plain": [
       "' hello everyone '"
      ]
     },
     "execution_count": 89,
     "metadata": {},
     "output_type": "execute_result"
    }
   ],
   "source": [
    "mystr2=\" Hello Everyone \"\n",
    "mystr2.lower()                  # Return whole string in lowercase"
   ]
  },
  {
   "cell_type": "code",
   "execution_count": 90,
   "id": "f0a5c046",
   "metadata": {},
   "outputs": [
    {
     "data": {
      "text/plain": [
       "' HELLO EVERYONE '"
      ]
     },
     "execution_count": 90,
     "metadata": {},
     "output_type": "execute_result"
    }
   ],
   "source": [
    "mystr2.upper()                  # Return whole string in uppercase"
   ]
  },
  {
   "cell_type": "code",
   "execution_count": 91,
   "id": "36ed06b9",
   "metadata": {},
   "outputs": [
    {
     "data": {
      "text/plain": [
       "' Hollo Everyone '"
      ]
     },
     "execution_count": 91,
     "metadata": {},
     "output_type": "execute_result"
    }
   ],
   "source": [
    "mystr2.replace(\"He\",\"Ho\")       #Replace substring \"He\" with \"Ho\""
   ]
  },
  {
   "cell_type": "code",
   "execution_count": 92,
   "id": "4c631db3",
   "metadata": {},
   "outputs": [
    {
     "data": {
      "text/plain": [
       "'HelloEveryone'"
      ]
     },
     "execution_count": 92,
     "metadata": {},
     "output_type": "execute_result"
    }
   ],
   "source": [
    "mystr2.replace(\" \",\"\")          # Remove all whitespaces using replace function"
   ]
  },
  {
   "cell_type": "code",
   "execution_count": 93,
   "id": "4e89178b",
   "metadata": {},
   "outputs": [
    {
     "data": {
      "text/plain": [
       "2"
      ]
     },
     "execution_count": 93,
     "metadata": {},
     "output_type": "execute_result"
    }
   ],
   "source": [
    "mystr5=\"one two Three one two two three\"\n",
    "mystr5.count(\"one\")                 # Number of times substring \"one\" occurred in string."
   ]
  },
  {
   "cell_type": "code",
   "execution_count": 94,
   "id": "45ba5288",
   "metadata": {},
   "outputs": [
    {
     "data": {
      "text/plain": [
       "3"
      ]
     },
     "execution_count": 94,
     "metadata": {},
     "output_type": "execute_result"
    }
   ],
   "source": [
    "mystr5.count(\"two\")                 # Number of times substring \"two\" occurred in string."
   ]
  },
  {
   "cell_type": "code",
   "execution_count": 95,
   "id": "810c172a",
   "metadata": {},
   "outputs": [
    {
     "data": {
      "text/plain": [
       "True"
      ]
     },
     "execution_count": 95,
     "metadata": {},
     "output_type": "execute_result"
    }
   ],
   "source": [
    "mystr5.startswith(\"one\")            # Return boolean value True if string starts with \"one\""
   ]
  },
  {
   "cell_type": "code",
   "execution_count": 96,
   "id": "0934313f",
   "metadata": {},
   "outputs": [
    {
     "data": {
      "text/plain": [
       "True"
      ]
     },
     "execution_count": 96,
     "metadata": {},
     "output_type": "execute_result"
    }
   ],
   "source": [
    "mystr5.endswith(\"three\")            # Return boolean value True if string ends with \"three\""
   ]
  },
  {
   "cell_type": "code",
   "execution_count": 97,
   "id": "b6465c3a",
   "metadata": {},
   "outputs": [],
   "source": [
    "mystr4=\"one two three four one two two three five five six seven six seven one\""
   ]
  },
  {
   "cell_type": "code",
   "execution_count": 98,
   "id": "961d6478",
   "metadata": {},
   "outputs": [
    {
     "data": {
      "text/plain": [
       "['one',\n",
       " 'two',\n",
       " 'three',\n",
       " 'four',\n",
       " 'one',\n",
       " 'two',\n",
       " 'two',\n",
       " 'three',\n",
       " 'five',\n",
       " 'five',\n",
       " 'six',\n",
       " 'seven',\n",
       " 'six',\n",
       " 'seven',\n",
       " 'one']"
      ]
     },
     "execution_count": 98,
     "metadata": {},
     "output_type": "execute_result"
    }
   ],
   "source": [
    "mylist=mystr4.split()              # Split String into substrings\n",
    "mylist"
   ]
  },
  {
   "cell_type": "code",
   "execution_count": 99,
   "id": "cd43767a",
   "metadata": {},
   "outputs": [],
   "source": [
    "# Combining string & numbers using format method\n",
    "item1=40\n",
    "item2=55\n",
    "item3=77"
   ]
  },
  {
   "cell_type": "code",
   "execution_count": 100,
   "id": "c3c3443c",
   "metadata": {},
   "outputs": [],
   "source": [
    "res=\"Cost of item1 , item2 and item3 are {} , {} and {}\""
   ]
  },
  {
   "cell_type": "code",
   "execution_count": 101,
   "id": "fde1cf3e",
   "metadata": {},
   "outputs": [
    {
     "name": "stdout",
     "output_type": "stream",
     "text": [
      "Cost of item1 , item2 and item3 are 40 , 55 and 77\n"
     ]
    }
   ],
   "source": [
    "print(res.format(item1,item2,item3))"
   ]
  },
  {
   "cell_type": "code",
   "execution_count": 102,
   "id": "ac3309e4",
   "metadata": {},
   "outputs": [
    {
     "name": "stdout",
     "output_type": "stream",
     "text": [
      "                                          WELCOME EVERYONE                                          \n"
     ]
    }
   ],
   "source": [
    "str2=\" WELCOME EVERYONE \"\n",
    "str2=str2.center(100)          # center align the string using a specific character as t\n",
    "print(str2)"
   ]
  },
  {
   "cell_type": "code",
   "execution_count": 103,
   "id": "c52c1352",
   "metadata": {},
   "outputs": [
    {
     "name": "stdout",
     "output_type": "stream",
     "text": [
      "***************************************** WELCOME EVERYONE *****************************************\n"
     ]
    }
   ],
   "source": [
    "str2=\" WELCOME EVERYONE \"\n",
    "str2=str2.center(100,'*')       # center align the string using a specific character\n",
    "print(str2)"
   ]
  },
  {
   "cell_type": "code",
   "execution_count": 104,
   "id": "262eedd5",
   "metadata": {},
   "outputs": [
    {
     "name": "stdout",
     "output_type": "stream",
     "text": [
      "                                 WELCOME EVERYONE \n"
     ]
    }
   ],
   "source": [
    "str2=\" WELCOME EVERYONE \"\n",
    "str2=str2.rjust(50)            # Right align the string using a specific character as the\n",
    "print(str2)"
   ]
  },
  {
   "cell_type": "code",
   "execution_count": 105,
   "id": "aaefbb70",
   "metadata": {},
   "outputs": [
    {
     "name": "stdout",
     "output_type": "stream",
     "text": [
      "******************************** WELCOME EVERYONE \n"
     ]
    }
   ],
   "source": [
    "str2=\" WELCOME EVERYONE \"\n",
    "str2=str2.rjust(50,'*')       # Right align the string using a specific character ('*\n",
    "print(str2)"
   ]
  },
  {
   "cell_type": "code",
   "execution_count": 106,
   "id": "e05be24b",
   "metadata": {},
   "outputs": [
    {
     "name": "stdout",
     "output_type": "stream",
     "text": [
      " WELCOME EVERYONE ********************************\n"
     ]
    }
   ],
   "source": [
    "str2=\" WELCOME EVERYONE \"\n",
    "str2=str2.ljust(50,'*')       # Left align the string using a specific character ('*\n",
    "print(str2)"
   ]
  },
  {
   "cell_type": "code",
   "execution_count": 107,
   "id": "4685f693",
   "metadata": {},
   "outputs": [
    {
     "name": "stdout",
     "output_type": "stream",
     "text": [
      "19\n"
     ]
    }
   ],
   "source": [
    "str4=\"one two three four five six seven\"\n",
    "loc=str4.find(\"five\")        # Find the location of word 'five' in the string \"str4\"\n",
    "print(loc)"
   ]
  },
  {
   "cell_type": "code",
   "execution_count": 108,
   "id": "6c84b624",
   "metadata": {},
   "outputs": [
    {
     "name": "stdout",
     "output_type": "stream",
     "text": [
      "False\n",
      "True\n",
      "True\n",
      "True\n"
     ]
    }
   ],
   "source": [
    "mystr6='123456789'\n",
    "print(mystr6.isalpha())     # returns True if all the characters in the text are lett\n",
    "print(mystr6.isalnum())     # returns True if a string contains only letters or numb\n",
    "print(mystr6.isdecimal())   # returns True if all the characters are decimals (0-9)\n",
    "print(mystr6.isnumeric())   # returns True if all the characters are numeric (0-9)"
   ]
  },
  {
   "cell_type": "code",
   "execution_count": 109,
   "id": "e82db56d",
   "metadata": {},
   "outputs": [
    {
     "name": "stdout",
     "output_type": "stream",
     "text": [
      "True\n",
      "True\n",
      "False\n",
      "False\n"
     ]
    }
   ],
   "source": [
    "mystr6='abcde'\n",
    "print(mystr6.isalpha())                    # returns True if all the characters in the text are lett\n",
    "print(mystr6.isalnum())                    # returns True if a string contains only letters or numb\n",
    "print(mystr6.isdecimal())                  # returns True if all the characters are decimals (0-9)\n",
    "print(mystr6.isnumeric())                  # returns True if all the characters are numeric (0-9)"
   ]
  },
  {
   "cell_type": "code",
   "execution_count": 110,
   "id": "65b7e439",
   "metadata": {},
   "outputs": [
    {
     "name": "stdout",
     "output_type": "stream",
     "text": [
      "False\n",
      "True\n",
      "False\n",
      "False\n"
     ]
    }
   ],
   "source": [
    "mystr6='abc12309'\n",
    "print(mystr6.isalpha())                  # returns True if all the characters in the text are lett\n",
    "print(mystr6.isalnum())                  # returns True if a string contains only letters or numb\n",
    "print(mystr6.isdecimal())                # returns True if all the characters are decimals (0-9)\n",
    "print(mystr6.isnumeric())                # returns True if all the characters are numeric (0-9)"
   ]
  },
  {
   "cell_type": "code",
   "execution_count": 111,
   "id": "49470a7e",
   "metadata": {},
   "outputs": [
    {
     "name": "stdout",
     "output_type": "stream",
     "text": [
      "True\n",
      "False\n"
     ]
    }
   ],
   "source": [
    "mystr7='ABCDEF'\n",
    "print(mystr7.isupper())                  # Returns True if all the characters are in upper case\n",
    "print(mystr7.islower())                  # Returns True if all the characters are in lower case"
   ]
  },
  {
   "cell_type": "code",
   "execution_count": 112,
   "id": "ce51efa5",
   "metadata": {},
   "outputs": [
    {
     "name": "stdout",
     "output_type": "stream",
     "text": [
      "False\n",
      "True\n"
     ]
    }
   ],
   "source": [
    "mystr8='abcdef'\n",
    "print(mystr8.isupper())                 # Returns True if all the characters are in upper case\n",
    "print(mystr8.islower())                 # Returns True if all the characters are in lower case"
   ]
  },
  {
   "cell_type": "code",
   "execution_count": 113,
   "id": "26db8f1c",
   "metadata": {},
   "outputs": [
    {
     "name": "stdout",
     "output_type": "stream",
     "text": [
      "51\n"
     ]
    }
   ],
   "source": [
    "str6=\"one two three four one two two three five five six one ten eight ten nine\"\n",
    "loc=str6.rfind(\"one\")                   # last occurrence of word 'one' in string \"str6\"\n",
    "print(loc)"
   ]
  },
  {
   "cell_type": "code",
   "execution_count": 114,
   "id": "c26e8798",
   "metadata": {},
   "outputs": [
    {
     "name": "stdout",
     "output_type": "stream",
     "text": [
      "51\n"
     ]
    }
   ],
   "source": [
    "loc=str6.rindex(\"one\")                  # last occurrence of word 'one' in string \"str6\"\n",
    "print(loc)"
   ]
  },
  {
   "cell_type": "code",
   "execution_count": 115,
   "id": "04febe16",
   "metadata": {},
   "outputs": [
    {
     "data": {
      "text/plain": [
       "' abc def ghi'"
      ]
     },
     "execution_count": 115,
     "metadata": {},
     "output_type": "execute_result"
    }
   ],
   "source": [
    "txt=\" abc def ghi \"\n",
    "txt.rstrip()"
   ]
  },
  {
   "cell_type": "code",
   "execution_count": 116,
   "id": "081f8ae2",
   "metadata": {},
   "outputs": [
    {
     "data": {
      "text/plain": [
       "'abc def ghi '"
      ]
     },
     "execution_count": 116,
     "metadata": {},
     "output_type": "execute_result"
    }
   ],
   "source": [
    "txt=\" abc def ghi \"\n",
    "txt.lstrip()"
   ]
  },
  {
   "cell_type": "code",
   "execution_count": 117,
   "id": "12473b61",
   "metadata": {},
   "outputs": [
    {
     "data": {
      "text/plain": [
       "'abc def ghi'"
      ]
     },
     "execution_count": 117,
     "metadata": {},
     "output_type": "execute_result"
    }
   ],
   "source": [
    "txt=\" abc def ghi \"\n",
    "txt.strip()"
   ]
  },
  {
   "cell_type": "markdown",
   "id": "00a573bd",
   "metadata": {},
   "source": [
    "# Using Escape Character"
   ]
  },
  {
   "cell_type": "code",
   "execution_count": 118,
   "id": "79fbdc32",
   "metadata": {},
   "outputs": [
    {
     "ename": "SyntaxError",
     "evalue": "invalid syntax (Temp/ipykernel_11208/569859150.py, line 2)",
     "output_type": "error",
     "traceback": [
      "\u001b[1;36m  File \u001b[1;32m\"C:\\Users\\Lenovo\\AppData\\Local\\Temp/ipykernel_11208/569859150.py\"\u001b[1;36m, line \u001b[1;32m2\u001b[0m\n\u001b[1;33m    mystr=\"My favourite TV Series is \"GameofThrones\"\"\u001b[0m\n\u001b[1;37m                                      ^\u001b[0m\n\u001b[1;31mSyntaxError\u001b[0m\u001b[1;31m:\u001b[0m invalid syntax\n"
     ]
    }
   ],
   "source": [
    "#Using double quotes in the string is not allowed.\n",
    "mystr=\"My favourite TV Series is \"GameofThrones\"\""
   ]
  },
  {
   "cell_type": "code",
   "execution_count": 119,
   "id": "772fbb0a",
   "metadata": {},
   "outputs": [
    {
     "name": "stdout",
     "output_type": "stream",
     "text": [
      "My favourite TV Series is \"GameofThrones\"\n"
     ]
    }
   ],
   "source": [
    "#Using escape character to allow illegal characters\n",
    "mystr=\"My favourite TV Series is \\\"GameofThrones\\\"\"\n",
    "print(mystr)"
   ]
  },
  {
   "cell_type": "markdown",
   "id": "ebff54cc",
   "metadata": {},
   "source": [
    "# List"
   ]
  },
  {
   "cell_type": "markdown",
   "id": "4f014b99",
   "metadata": {},
   "source": [
    "1) List is an ordered sequence of items.\n"
   ]
  },
  {
   "cell_type": "markdown",
   "id": "52eb3519",
   "metadata": {},
   "source": [
    "2) We can have different data types under a list. E.g we can have integer, float and string items ina same list."
   ]
  },
  {
   "cell_type": "markdown",
   "id": "aa4fe7b9",
   "metadata": {},
   "source": [
    "# List Creation"
   ]
  },
  {
   "cell_type": "code",
   "execution_count": 120,
   "id": "fca655fc",
   "metadata": {},
   "outputs": [],
   "source": [
    "list1=[]                     # Empty List"
   ]
  },
  {
   "cell_type": "code",
   "execution_count": 121,
   "id": "edf87d5a",
   "metadata": {},
   "outputs": [
    {
     "name": "stdout",
     "output_type": "stream",
     "text": [
      "<class 'list'>\n"
     ]
    }
   ],
   "source": [
    "print(type(list1))"
   ]
  },
  {
   "cell_type": "code",
   "execution_count": 122,
   "id": "06483937",
   "metadata": {},
   "outputs": [],
   "source": [
    "list2=[10,30,60]           # List of integers numbers"
   ]
  },
  {
   "cell_type": "code",
   "execution_count": 123,
   "id": "520391ee",
   "metadata": {},
   "outputs": [],
   "source": [
    "list3=[10.77,30.66,60.89]  # List of float numbers"
   ]
  },
  {
   "cell_type": "code",
   "execution_count": 124,
   "id": "a3645d4d",
   "metadata": {},
   "outputs": [],
   "source": [
    "list4=['one','two',\"three\"]                      # List of strings"
   ]
  },
  {
   "cell_type": "code",
   "execution_count": 125,
   "id": "f100e394",
   "metadata": {},
   "outputs": [],
   "source": [
    "list5=['Asif',25,[50,100],[150,90]]              # Nested Lists"
   ]
  },
  {
   "cell_type": "code",
   "execution_count": 126,
   "id": "0c50baa5",
   "metadata": {},
   "outputs": [],
   "source": [
    "list6=[100,'Asif',17.765]                        # List of mixed data types"
   ]
  },
  {
   "cell_type": "code",
   "execution_count": 127,
   "id": "d9436423",
   "metadata": {},
   "outputs": [],
   "source": [
    "list7=['Asif',25,[50,100],[150,90] , {'John','David'}]"
   ]
  },
  {
   "cell_type": "code",
   "execution_count": 128,
   "id": "10fdda67",
   "metadata": {},
   "outputs": [
    {
     "data": {
      "text/plain": [
       "3"
      ]
     },
     "execution_count": 128,
     "metadata": {},
     "output_type": "execute_result"
    }
   ],
   "source": [
    "len(list6)                                       #Length of list"
   ]
  },
  {
   "cell_type": "markdown",
   "id": "511a84fa",
   "metadata": {},
   "source": [
    "# List Indexing"
   ]
  },
  {
   "attachments": {
    "image.png": {
     "image/png": "[encoded data removed]"
    }
   },
   "cell_type": "markdown",
   "id": "88911bac",
   "metadata": {},
   "source": [
    "![image.png](attachment:image.png)"
   ]
  },
  {
   "cell_type": "code",
   "execution_count": 129,
   "id": "c899e751",
   "metadata": {},
   "outputs": [
    {
     "data": {
      "text/plain": [
       "10"
      ]
     },
     "execution_count": 129,
     "metadata": {},
     "output_type": "execute_result"
    }
   ],
   "source": [
    "list2[0]                         # Retreive first element of the list"
   ]
  },
  {
   "cell_type": "code",
   "execution_count": 130,
   "id": "87de449c",
   "metadata": {},
   "outputs": [
    {
     "data": {
      "text/plain": [
       "'one'"
      ]
     },
     "execution_count": 130,
     "metadata": {},
     "output_type": "execute_result"
    }
   ],
   "source": [
    "list4[0]                        # Retreive first element of the list"
   ]
  },
  {
   "cell_type": "code",
   "execution_count": 131,
   "id": "80f61102",
   "metadata": {},
   "outputs": [
    {
     "data": {
      "text/plain": [
       "'o'"
      ]
     },
     "execution_count": 131,
     "metadata": {},
     "output_type": "execute_result"
    }
   ],
   "source": [
    "list4[0][0]                     # Nested indexing - \n",
    "                                # Access the first character of the first list element"
   ]
  },
  {
   "cell_type": "code",
   "execution_count": 132,
   "id": "948e170e",
   "metadata": {},
   "outputs": [
    {
     "data": {
      "text/plain": [
       "'three'"
      ]
     },
     "execution_count": 132,
     "metadata": {},
     "output_type": "execute_result"
    }
   ],
   "source": [
    "list4[-1]                      # Last item of the list"
   ]
  },
  {
   "cell_type": "code",
   "execution_count": 133,
   "id": "4481ec59",
   "metadata": {},
   "outputs": [
    {
     "data": {
      "text/plain": [
       "[150, 90]"
      ]
     },
     "execution_count": 133,
     "metadata": {},
     "output_type": "execute_result"
    }
   ],
   "source": [
    "list5[-1]                     # Last item of the list"
   ]
  },
  {
   "cell_type": "markdown",
   "id": "f11e4dae",
   "metadata": {},
   "source": [
    "# List Slicing"
   ]
  },
  {
   "cell_type": "code",
   "execution_count": 134,
   "id": "7a4861bc",
   "metadata": {},
   "outputs": [],
   "source": [
    "mylist=['one','two','three','four','five','six','seven','eight']"
   ]
  },
  {
   "cell_type": "code",
   "execution_count": 135,
   "id": "33c95f4d",
   "metadata": {},
   "outputs": [
    {
     "data": {
      "text/plain": [
       "['one', 'two', 'three']"
      ]
     },
     "execution_count": 135,
     "metadata": {},
     "output_type": "execute_result"
    }
   ],
   "source": [
    "mylist[0:3]                 # Return all items from 0th to 3rd index location excluding the item"
   ]
  },
  {
   "cell_type": "code",
   "execution_count": 136,
   "id": "a825cdda",
   "metadata": {},
   "outputs": [
    {
     "data": {
      "text/plain": [
       "['three', 'four', 'five']"
      ]
     },
     "execution_count": 136,
     "metadata": {},
     "output_type": "execute_result"
    }
   ],
   "source": [
    "mylist[2:5]                # List all items from 2nd to 5th index location excluding the item at mylist"
   ]
  },
  {
   "cell_type": "code",
   "execution_count": 137,
   "id": "1cb86fe1",
   "metadata": {},
   "outputs": [
    {
     "data": {
      "text/plain": [
       "['one', 'two', 'three']"
      ]
     },
     "execution_count": 137,
     "metadata": {},
     "output_type": "execute_result"
    }
   ],
   "source": [
    "mylist[:3]                # Return first three items"
   ]
  },
  {
   "cell_type": "code",
   "execution_count": 138,
   "id": "0fb9ce1b",
   "metadata": {},
   "outputs": [
    {
     "data": {
      "text/plain": [
       "['one', 'two']"
      ]
     },
     "execution_count": 138,
     "metadata": {},
     "output_type": "execute_result"
    }
   ],
   "source": [
    "mylist[:2]               # Return first two items"
   ]
  },
  {
   "cell_type": "code",
   "execution_count": 139,
   "id": "47b8823f",
   "metadata": {},
   "outputs": [
    {
     "data": {
      "text/plain": [
       "['six', 'seven', 'eight']"
      ]
     },
     "execution_count": 139,
     "metadata": {},
     "output_type": "execute_result"
    }
   ],
   "source": [
    "mylist[-3:]             # Return last three items"
   ]
  },
  {
   "cell_type": "code",
   "execution_count": 140,
   "id": "77af5ab1",
   "metadata": {},
   "outputs": [
    {
     "data": {
      "text/plain": [
       "['seven', 'eight']"
      ]
     },
     "execution_count": 140,
     "metadata": {},
     "output_type": "execute_result"
    }
   ],
   "source": [
    "mylist[-2:]            # Return last two items"
   ]
  },
  {
   "cell_type": "code",
   "execution_count": 141,
   "id": "d58b1513",
   "metadata": {},
   "outputs": [
    {
     "data": {
      "text/plain": [
       "'eight'"
      ]
     },
     "execution_count": 141,
     "metadata": {},
     "output_type": "execute_result"
    }
   ],
   "source": [
    "mylist[-1]            # Return last item of the list"
   ]
  },
  {
   "cell_type": "code",
   "execution_count": 142,
   "id": "bcc93c54",
   "metadata": {},
   "outputs": [
    {
     "data": {
      "text/plain": [
       "['one', 'two', 'three', 'four', 'five', 'six', 'seven', 'eight']"
      ]
     },
     "execution_count": 142,
     "metadata": {},
     "output_type": "execute_result"
    }
   ],
   "source": [
    "mylist[:]           # Return whole list"
   ]
  },
  {
   "cell_type": "code",
   "execution_count": 143,
   "id": "ce9ccea7",
   "metadata": {},
   "outputs": [
    {
     "data": {
      "text/plain": [
       "['eight', 'seven', 'six', 'five', 'four', 'three', 'two', 'one']"
      ]
     },
     "execution_count": 143,
     "metadata": {},
     "output_type": "execute_result"
    }
   ],
   "source": [
    "mylist[::-1]           # Reverse whole list"
   ]
  },
  {
   "cell_type": "markdown",
   "id": "78df4abb",
   "metadata": {},
   "source": [
    "# Add , Remove & Change Items"
   ]
  },
  {
   "cell_type": "code",
   "execution_count": 144,
   "id": "58aa7435",
   "metadata": {},
   "outputs": [
    {
     "data": {
      "text/plain": [
       "['one', 'two', 'three', 'four', 'five', 'six', 'seven', 'eight']"
      ]
     },
     "execution_count": 144,
     "metadata": {},
     "output_type": "execute_result"
    }
   ],
   "source": [
    "mylist"
   ]
  },
  {
   "cell_type": "code",
   "execution_count": 145,
   "id": "8675969f",
   "metadata": {},
   "outputs": [
    {
     "data": {
      "text/plain": [
       "['one', 'two', 'three', 'four', 'five', 'six', 'seven', 'eight', 'nine']"
      ]
     },
     "execution_count": 145,
     "metadata": {},
     "output_type": "execute_result"
    }
   ],
   "source": [
    "mylist.append('nine')          # Add an item to the end of the list\n",
    "mylist"
   ]
  },
  {
   "cell_type": "code",
   "execution_count": 146,
   "id": "b5205f7b",
   "metadata": {},
   "outputs": [
    {
     "data": {
      "text/plain": [
       "['one', 'two', 'three', 'four', 'five', 'six', 'seven', 'eight', 'nine', 'ten']"
      ]
     },
     "execution_count": 146,
     "metadata": {},
     "output_type": "execute_result"
    }
   ],
   "source": [
    "mylist.insert(9,'ten')        # Add item at index location 9\n",
    "mylist"
   ]
  },
  {
   "cell_type": "code",
   "execution_count": 147,
   "id": "e9f05e97",
   "metadata": {},
   "outputs": [
    {
     "data": {
      "text/plain": [
       "['one',\n",
       " 'ONE',\n",
       " 'two',\n",
       " 'three',\n",
       " 'four',\n",
       " 'five',\n",
       " 'six',\n",
       " 'seven',\n",
       " 'eight',\n",
       " 'nine',\n",
       " 'ten']"
      ]
     },
     "execution_count": 147,
     "metadata": {},
     "output_type": "execute_result"
    }
   ],
   "source": [
    "mylist.insert(1,'ONE')      # Add item at index location 1\n",
    "mylist"
   ]
  },
  {
   "cell_type": "code",
   "execution_count": 148,
   "id": "01bf8b59",
   "metadata": {},
   "outputs": [
    {
     "data": {
      "text/plain": [
       "['one', 'two', 'three', 'four', 'five', 'six', 'seven', 'eight', 'nine', 'ten']"
      ]
     },
     "execution_count": 148,
     "metadata": {},
     "output_type": "execute_result"
    }
   ],
   "source": [
    "mylist.remove('ONE')         # Remove item \"ONE\"\n",
    "mylist"
   ]
  },
  {
   "cell_type": "code",
   "execution_count": 149,
   "id": "92ffef3b",
   "metadata": {},
   "outputs": [
    {
     "data": {
      "text/plain": [
       "['one', 'two', 'three', 'four', 'five', 'six', 'seven', 'eight', 'nine']"
      ]
     },
     "execution_count": 149,
     "metadata": {},
     "output_type": "execute_result"
    }
   ],
   "source": [
    "mylist.pop()                # Remove last item of the list\n",
    "mylist"
   ]
  },
  {
   "cell_type": "code",
   "execution_count": 150,
   "id": "08cf9863",
   "metadata": {},
   "outputs": [
    {
     "data": {
      "text/plain": [
       "['one', 'two', 'three', 'four', 'five', 'six', 'seven', 'eight']"
      ]
     },
     "execution_count": 150,
     "metadata": {},
     "output_type": "execute_result"
    }
   ],
   "source": [
    "mylist.pop(8)                # Remove item at index location 8\n",
    "mylist"
   ]
  },
  {
   "cell_type": "code",
   "execution_count": 151,
   "id": "977e91bf",
   "metadata": {},
   "outputs": [],
   "source": [
    "del mylist[7]               # Remove item at index location 7"
   ]
  },
  {
   "cell_type": "code",
   "execution_count": 152,
   "id": "333551b5",
   "metadata": {},
   "outputs": [
    {
     "data": {
      "text/plain": [
       "['one', 'two', 'three', 'four', 'five', 'six', 'seven']"
      ]
     },
     "execution_count": 152,
     "metadata": {},
     "output_type": "execute_result"
    }
   ],
   "source": [
    "mylist"
   ]
  },
  {
   "cell_type": "code",
   "execution_count": 153,
   "id": "b0c7aa9b",
   "metadata": {},
   "outputs": [
    {
     "data": {
      "text/plain": [
       "[1, 2, 3, 'four', 'five', 'six', 'seven']"
      ]
     },
     "execution_count": 153,
     "metadata": {},
     "output_type": "execute_result"
    }
   ],
   "source": [
    "# Change value of the string\n",
    "mylist[0]=1\n",
    "mylist[1]=2\n",
    "mylist[2]=3\n",
    "mylist"
   ]
  },
  {
   "cell_type": "code",
   "execution_count": 154,
   "id": "b427c9dd",
   "metadata": {},
   "outputs": [
    {
     "data": {
      "text/plain": [
       "[]"
      ]
     },
     "execution_count": 154,
     "metadata": {},
     "output_type": "execute_result"
    }
   ],
   "source": [
    "mylist.clear()              # Empty List / Delete all items in the list\n",
    "mylist"
   ]
  },
  {
   "cell_type": "code",
   "execution_count": 155,
   "id": "71e7c3e0",
   "metadata": {},
   "outputs": [
    {
     "ename": "NameError",
     "evalue": "name 'mylist' is not defined",
     "output_type": "error",
     "traceback": [
      "\u001b[1;31m---------------------------------------------------------------------------\u001b[0m",
      "\u001b[1;31mNameError\u001b[0m                                 Traceback (most recent call last)",
      "\u001b[1;32m~\\AppData\\Local\\Temp/ipykernel_11208/3439604405.py\u001b[0m in \u001b[0;36m<module>\u001b[1;34m\u001b[0m\n\u001b[0;32m      1\u001b[0m \u001b[1;32mdel\u001b[0m \u001b[0mmylist\u001b[0m                 \u001b[1;31m# Delete the whole list\u001b[0m\u001b[1;33m\u001b[0m\u001b[1;33m\u001b[0m\u001b[0m\n\u001b[1;32m----> 2\u001b[1;33m \u001b[0mmylist\u001b[0m\u001b[1;33m\u001b[0m\u001b[1;33m\u001b[0m\u001b[0m\n\u001b[0m",
      "\u001b[1;31mNameError\u001b[0m: name 'mylist' is not defined"
     ]
    }
   ],
   "source": [
    "del mylist                 # Delete the whole list\n",
    "mylist"
   ]
  },
  {
   "cell_type": "markdown",
   "id": "869e7ad8",
   "metadata": {},
   "source": [
    "# Copy List"
   ]
  },
  {
   "cell_type": "code",
   "execution_count": 156,
   "id": "585bc020",
   "metadata": {},
   "outputs": [],
   "source": [
    "mylist=['one','two','three','four','five','six','seven','eight', 'nine', 'ten']"
   ]
  },
  {
   "cell_type": "code",
   "execution_count": 157,
   "id": "3d9ed56f",
   "metadata": {},
   "outputs": [],
   "source": [
    "mylist1=mylist        #Create a new reference \"mylist1\""
   ]
  },
  {
   "cell_type": "code",
   "execution_count": 158,
   "id": "2d1820b7",
   "metadata": {},
   "outputs": [
    {
     "data": {
      "text/plain": [
       "(1486538907776, 1486538907776)"
      ]
     },
     "execution_count": 158,
     "metadata": {},
     "output_type": "execute_result"
    }
   ],
   "source": [
    "id(mylist), id(mylist1)   # The address of both mylist & mylist1 will be the same"
   ]
  },
  {
   "cell_type": "code",
   "execution_count": 159,
   "id": "dce0d781",
   "metadata": {},
   "outputs": [],
   "source": [
    "mylist2=mylist.copy()    # Create a copy of the list"
   ]
  },
  {
   "cell_type": "code",
   "execution_count": 160,
   "id": "a4e36673",
   "metadata": {},
   "outputs": [
    {
     "data": {
      "text/plain": [
       "(1486538907776, 1486521773184)"
      ]
     },
     "execution_count": 160,
     "metadata": {},
     "output_type": "execute_result"
    }
   ],
   "source": [
    "id(mylist), id(mylist2)  # The address of mylist2 will be different from mylist because mylist2 store date diffrent location usin .copy methood"
   ]
  },
  {
   "cell_type": "code",
   "execution_count": 161,
   "id": "02d61a19",
   "metadata": {},
   "outputs": [],
   "source": [
    "mylist[0]=1"
   ]
  },
  {
   "cell_type": "code",
   "execution_count": 162,
   "id": "83468caf",
   "metadata": {},
   "outputs": [
    {
     "data": {
      "text/plain": [
       "([1, 'two', 'three', 'four', 'five', 'six', 'seven', 'eight', 'nine', 'ten'],\n",
       " [1, 'two', 'three', 'four', 'five', 'six', 'seven', 'eight', 'nine', 'ten'],\n",
       " ['one',\n",
       "  'two',\n",
       "  'three',\n",
       "  'four',\n",
       "  'five',\n",
       "  'six',\n",
       "  'seven',\n",
       "  'eight',\n",
       "  'nine',\n",
       "  'ten'])"
      ]
     },
     "execution_count": 162,
     "metadata": {},
     "output_type": "execute_result"
    }
   ],
   "source": [
    "mylist,mylist1,mylist2 # mylist1 will be also impacted as it is pointing to the same list \n",
    "                       ## Copy of list won't be impacted due to changes made on the original list"
   ]
  },
  {
   "cell_type": "markdown",
   "id": "d6e64bdf",
   "metadata": {},
   "source": [
    "# Join Lists"
   ]
  },
  {
   "cell_type": "code",
   "execution_count": 163,
   "id": "89eeef5a",
   "metadata": {},
   "outputs": [],
   "source": [
    "list1=['one','two','three','four']\n",
    "list2=['five','six','seven','eight']"
   ]
  },
  {
   "cell_type": "code",
   "execution_count": 164,
   "id": "2dafb70b",
   "metadata": {},
   "outputs": [
    {
     "data": {
      "text/plain": [
       "['one', 'two', 'three', 'four', 'five', 'six', 'seven', 'eight']"
      ]
     },
     "execution_count": 164,
     "metadata": {},
     "output_type": "execute_result"
    }
   ],
   "source": [
    "list3 = list1 + list2\n",
    "list3"
   ]
  },
  {
   "cell_type": "code",
   "execution_count": 165,
   "id": "6aaa726d",
   "metadata": {},
   "outputs": [
    {
     "data": {
      "text/plain": [
       "['one', 'two', 'three', 'four', 'five', 'six', 'seven', 'eight']"
      ]
     },
     "execution_count": 165,
     "metadata": {},
     "output_type": "execute_result"
    }
   ],
   "source": [
    "list1.extend(list2)     #Append list2 with list1\n",
    "list1"
   ]
  },
  {
   "cell_type": "code",
   "execution_count": 166,
   "id": "0cae406b",
   "metadata": {},
   "outputs": [
    {
     "data": {
      "text/plain": [
       "['one',\n",
       " 'two',\n",
       " 'three',\n",
       " 'four',\n",
       " 'five',\n",
       " 'six',\n",
       " 'seven',\n",
       " 'eight',\n",
       " ['five', 'six', 'seven', 'eight']]"
      ]
     },
     "execution_count": 166,
     "metadata": {},
     "output_type": "execute_result"
    }
   ],
   "source": [
    "list1.append(list2)     #add  list2 with list1\n",
    "list1"
   ]
  },
  {
   "cell_type": "code",
   "execution_count": 167,
   "id": "3f934f92",
   "metadata": {},
   "outputs": [],
   "source": [
    "list1=['one', 'two', 'three', 'four', 'five', 'six', 'seven', 'eight']"
   ]
  },
  {
   "cell_type": "markdown",
   "id": "9b964719",
   "metadata": {},
   "source": [
    "# List Membership"
   ]
  },
  {
   "cell_type": "code",
   "execution_count": 168,
   "id": "e0c7e86c",
   "metadata": {},
   "outputs": [
    {
     "data": {
      "text/plain": [
       "['one', 'two', 'three', 'four', 'five', 'six', 'seven', 'eight']"
      ]
     },
     "execution_count": 168,
     "metadata": {},
     "output_type": "execute_result"
    }
   ],
   "source": [
    "list1"
   ]
  },
  {
   "cell_type": "code",
   "execution_count": 169,
   "id": "40e56205",
   "metadata": {},
   "outputs": [
    {
     "data": {
      "text/plain": [
       "True"
      ]
     },
     "execution_count": 169,
     "metadata": {},
     "output_type": "execute_result"
    }
   ],
   "source": [
    "'one'in list1     # Check if 'one' exist in the list"
   ]
  },
  {
   "cell_type": "code",
   "execution_count": 170,
   "id": "480b4960",
   "metadata": {},
   "outputs": [
    {
     "data": {
      "text/plain": [
       "False"
      ]
     },
     "execution_count": 170,
     "metadata": {},
     "output_type": "execute_result"
    }
   ],
   "source": [
    "'ten'in list1     # Check if 'one' exist in the list"
   ]
  },
  {
   "cell_type": "code",
   "execution_count": 171,
   "id": "39f3d8f3",
   "metadata": {},
   "outputs": [
    {
     "name": "stdout",
     "output_type": "stream",
     "text": [
      "Three is  present in the list'\n"
     ]
    }
   ],
   "source": [
    "if 'three' in list1:  #Check if 'three' exist in the list\n",
    "    print(\"Three is  present in the list'\")"
   ]
  },
  {
   "cell_type": "code",
   "execution_count": 172,
   "id": "80e741fa",
   "metadata": {},
   "outputs": [
    {
     "name": "stdout",
     "output_type": "stream",
     "text": [
      "eleven is not   present in the list\n"
     ]
    }
   ],
   "source": [
    "if 'eleven' in list1:  #Check if 'three' exist in the list\n",
    "    print(\"eleven is   present in the list\")\n",
    "else:\n",
    "     print(\"eleven is not   present in the list\")\n",
    "    "
   ]
  },
  {
   "cell_type": "code",
   "execution_count": 173,
   "id": "c596b7ef",
   "metadata": {},
   "outputs": [
    {
     "data": {
      "text/plain": [
       "['one', 'two', 'three', 'four', 'five', 'six', 'seven', 'eight']"
      ]
     },
     "execution_count": 173,
     "metadata": {},
     "output_type": "execute_result"
    }
   ],
   "source": [
    "list1"
   ]
  },
  {
   "cell_type": "markdown",
   "id": "bf3bc9c1",
   "metadata": {},
   "source": [
    "# Reverse & Sort List"
   ]
  },
  {
   "cell_type": "code",
   "execution_count": 174,
   "id": "423781c9",
   "metadata": {},
   "outputs": [
    {
     "data": {
      "text/plain": [
       "['one', 'two', 'three', 'four', 'five', 'six', 'seven', 'eight']"
      ]
     },
     "execution_count": 174,
     "metadata": {},
     "output_type": "execute_result"
    }
   ],
   "source": [
    "list1"
   ]
  },
  {
   "cell_type": "code",
   "execution_count": 175,
   "id": "4bae9407",
   "metadata": {},
   "outputs": [
    {
     "data": {
      "text/plain": [
       "['eight', 'seven', 'six', 'five', 'four', 'three', 'two', 'one']"
      ]
     },
     "execution_count": 175,
     "metadata": {},
     "output_type": "execute_result"
    }
   ],
   "source": [
    "list1.reverse() # Reverse the list\n",
    "list1"
   ]
  },
  {
   "cell_type": "code",
   "execution_count": 176,
   "id": "cdc4c134",
   "metadata": {},
   "outputs": [],
   "source": [
    "list1=['one', 'two', 'three', 'four', 'five', 'six', 'seven', 'eight']"
   ]
  },
  {
   "cell_type": "code",
   "execution_count": 177,
   "id": "b25535db",
   "metadata": {},
   "outputs": [
    {
     "data": {
      "text/plain": [
       "['eight', 'seven', 'six', 'five', 'four', 'three', 'two', 'one']"
      ]
     },
     "execution_count": 177,
     "metadata": {},
     "output_type": "execute_result"
    }
   ],
   "source": [
    "list1=list1[::-1]  # Reverse the list\n",
    "list1"
   ]
  },
  {
   "cell_type": "code",
   "execution_count": 178,
   "id": "e27a8f58",
   "metadata": {},
   "outputs": [
    {
     "data": {
      "text/plain": [
       "[2, 5, 9, 12, 34, 88, 99]"
      ]
     },
     "execution_count": 178,
     "metadata": {},
     "output_type": "execute_result"
    }
   ],
   "source": [
    "mylist3=[9,5,2,99,12,88,34]\n",
    "mylist3.sort()   # Sort list in ascending order\n",
    "mylist3"
   ]
  },
  {
   "cell_type": "code",
   "execution_count": 179,
   "id": "27d5fe38",
   "metadata": {},
   "outputs": [
    {
     "data": {
      "text/plain": [
       "[99, 88, 34, 12, 9, 5, 2]"
      ]
     },
     "execution_count": 179,
     "metadata": {},
     "output_type": "execute_result"
    }
   ],
   "source": [
    "mylist3=[9,5,2,99,12,88,34]\n",
    "mylist3.sort(reverse=True)   # Sort list in ascending order\n",
    "mylist3"
   ]
  },
  {
   "cell_type": "code",
   "execution_count": 180,
   "id": "3fa8392b",
   "metadata": {},
   "outputs": [
    {
     "data": {
      "text/plain": [
       "[2, 5, 9, 12, 34, 88, 99]"
      ]
     },
     "execution_count": 180,
     "metadata": {},
     "output_type": "execute_result"
    }
   ],
   "source": [
    "mylist3=[9,5,2,99,12,88,34]\n",
    "sorted(mylist3)"
   ]
  },
  {
   "cell_type": "code",
   "execution_count": 181,
   "id": "d655e9dd",
   "metadata": {},
   "outputs": [
    {
     "data": {
      "text/plain": [
       "[9, 5, 2, 99, 12, 88, 34]"
      ]
     },
     "execution_count": 181,
     "metadata": {},
     "output_type": "execute_result"
    }
   ],
   "source": [
    "mylist3"
   ]
  },
  {
   "cell_type": "markdown",
   "id": "7eb888a0",
   "metadata": {},
   "source": [
    "# Loop through a list"
   ]
  },
  {
   "cell_type": "code",
   "execution_count": 182,
   "id": "50e62f6d",
   "metadata": {},
   "outputs": [
    {
     "data": {
      "text/plain": [
       "['one', 'two', 'three', 'four', 'five', 'six', 'seven', 'eight']"
      ]
     },
     "execution_count": 182,
     "metadata": {},
     "output_type": "execute_result"
    }
   ],
   "source": [
    "list1=['one', 'two', 'three', 'four', 'five', 'six', 'seven', 'eight']\n",
    "list1"
   ]
  },
  {
   "cell_type": "code",
   "execution_count": 183,
   "id": "f930fc61",
   "metadata": {},
   "outputs": [
    {
     "name": "stdout",
     "output_type": "stream",
     "text": [
      "one\n",
      "two\n",
      "three\n",
      "four\n",
      "five\n",
      "six\n",
      "seven\n",
      "eight\n"
     ]
    }
   ],
   "source": [
    "for i in list1:\n",
    "    print(i)"
   ]
  },
  {
   "cell_type": "code",
   "execution_count": 184,
   "id": "a01a3cab",
   "metadata": {},
   "outputs": [
    {
     "name": "stdout",
     "output_type": "stream",
     "text": [
      "(0, 'one')\n",
      "(1, 'two')\n",
      "(2, 'three')\n",
      "(3, 'four')\n",
      "(4, 'five')\n",
      "(5, 'six')\n",
      "(6, 'seven')\n",
      "(7, 'eight')\n"
     ]
    }
   ],
   "source": [
    "for i in enumerate(list1):\n",
    "    print(i)"
   ]
  },
  {
   "cell_type": "code",
   "execution_count": 185,
   "id": "e15c29d5",
   "metadata": {},
   "outputs": [],
   "source": [
    "list10=['one','two','three','four','one','one','two','three']"
   ]
  },
  {
   "cell_type": "code",
   "execution_count": 186,
   "id": "df30631a",
   "metadata": {},
   "outputs": [
    {
     "data": {
      "text/plain": [
       "3"
      ]
     },
     "execution_count": 186,
     "metadata": {},
     "output_type": "execute_result"
    }
   ],
   "source": [
    "list10.count('one')# Number of times item \"one\" occurred in the list."
   ]
  },
  {
   "cell_type": "code",
   "execution_count": 187,
   "id": "3ed745dd",
   "metadata": {},
   "outputs": [
    {
     "data": {
      "text/plain": [
       "2"
      ]
     },
     "execution_count": 187,
     "metadata": {},
     "output_type": "execute_result"
    }
   ],
   "source": [
    "list10.count('two')# Occurence of item 'two' in the list"
   ]
  },
  {
   "cell_type": "code",
   "execution_count": 188,
   "id": "6e3d4184",
   "metadata": {},
   "outputs": [
    {
     "data": {
      "text/plain": [
       "1"
      ]
     },
     "execution_count": 188,
     "metadata": {},
     "output_type": "execute_result"
    }
   ],
   "source": [
    "list10.count('four')#Occurence of item 'four' in the list"
   ]
  },
  {
   "cell_type": "markdown",
   "id": "af014958",
   "metadata": {},
   "source": [
    "# All / Any"
   ]
  },
  {
   "cell_type": "markdown",
   "id": "9a0f6cf5",
   "metadata": {},
   "source": [
    "The all()method returns:\n",
    "\n",
    "          True- If all elements in a list are true\n",
    "          False- If any element in a list is false\n",
    "          \n",
    "The any() function returns True if any element in the list is True. If not, any() returns False."
   ]
  },
  {
   "cell_type": "code",
   "execution_count": 189,
   "id": "4a647d89",
   "metadata": {},
   "outputs": [],
   "source": [
    "L1=[1,2,3,4,0]"
   ]
  },
  {
   "cell_type": "code",
   "execution_count": 190,
   "id": "e026d412",
   "metadata": {},
   "outputs": [
    {
     "data": {
      "text/plain": [
       "False"
      ]
     },
     "execution_count": 190,
     "metadata": {},
     "output_type": "execute_result"
    }
   ],
   "source": [
    "all(L1)# Will Return false as one value is false (Value 0)\n"
   ]
  },
  {
   "cell_type": "code",
   "execution_count": 191,
   "id": "7fdff7a2",
   "metadata": {},
   "outputs": [
    {
     "data": {
      "text/plain": [
       "True"
      ]
     },
     "execution_count": 191,
     "metadata": {},
     "output_type": "execute_result"
    }
   ],
   "source": [
    "any(L1)# Will Return True as we have items in the list with True value"
   ]
  },
  {
   "cell_type": "code",
   "execution_count": 192,
   "id": "3d3441a0",
   "metadata": {},
   "outputs": [],
   "source": [
    "L2=[1,2,3,4,True,False]"
   ]
  },
  {
   "cell_type": "code",
   "execution_count": 193,
   "id": "c28f0550",
   "metadata": {},
   "outputs": [
    {
     "data": {
      "text/plain": [
       "False"
      ]
     },
     "execution_count": 193,
     "metadata": {},
     "output_type": "execute_result"
    }
   ],
   "source": [
    "all(L2)# Returns false as one value is false"
   ]
  },
  {
   "cell_type": "code",
   "execution_count": 194,
   "id": "cb7e3a1a",
   "metadata": {},
   "outputs": [
    {
     "data": {
      "text/plain": [
       "True"
      ]
     },
     "execution_count": 194,
     "metadata": {},
     "output_type": "execute_result"
    }
   ],
   "source": [
    "any(L2)# Will Return True as we have items in the list with True value\n"
   ]
  },
  {
   "cell_type": "code",
   "execution_count": 195,
   "id": "fa7a4116",
   "metadata": {},
   "outputs": [],
   "source": [
    "L3=[1,2,3,True]"
   ]
  },
  {
   "cell_type": "code",
   "execution_count": 196,
   "id": "e2b2a638",
   "metadata": {},
   "outputs": [
    {
     "data": {
      "text/plain": [
       "True"
      ]
     },
     "execution_count": 196,
     "metadata": {},
     "output_type": "execute_result"
    }
   ],
   "source": [
    "all(L3)#Will return True as all items in the list are True"
   ]
  },
  {
   "cell_type": "code",
   "execution_count": 197,
   "id": "d5659f50",
   "metadata": {},
   "outputs": [
    {
     "data": {
      "text/plain": [
       "True"
      ]
     },
     "execution_count": 197,
     "metadata": {},
     "output_type": "execute_result"
    }
   ],
   "source": [
    "any(L3)# Will Return True as we have items in the list with True value"
   ]
  },
  {
   "cell_type": "markdown",
   "id": "56f72367",
   "metadata": {},
   "source": [
    "# List Comprehensions"
   ]
  },
  {
   "cell_type": "markdown",
   "id": "d7dfd8e4",
   "metadata": {},
   "source": [
    "List Comprehensions provide an elegant way to create new lists.\n",
    "\n",
    "It consists of brackets containing an expression followed by a for clause, then zero or more for \n",
    "or if clauses."
   ]
  },
  {
   "cell_type": "code",
   "execution_count": 198,
   "id": "58bf3d3e",
   "metadata": {},
   "outputs": [
    {
     "data": {
      "text/plain": [
       "[0, 1, 4, 9, 16, 25, 36, 49, 64, 81]"
      ]
     },
     "execution_count": 198,
     "metadata": {},
     "output_type": "execute_result"
    }
   ],
   "source": [
    "mylist3=[num**2 for num in range(10)]# calculate square of all numbers between\n",
    "mylist3"
   ]
  },
  {
   "attachments": {
    "image.png": {
     "image/png": "[encoded data removed]"
    }
   },
   "cell_type": "markdown",
   "id": "e16244e2",
   "metadata": {},
   "source": [
    "![image.png](attachment:image.png)"
   ]
  },
  {
   "cell_type": "code",
   "execution_count": 199,
   "id": "725fec4a",
   "metadata": {},
   "outputs": [
    {
     "data": {
      "text/plain": [
       "['W', 'E', 'L', 'C', 'O', 'M', 'E']"
      ]
     },
     "execution_count": 199,
     "metadata": {},
     "output_type": "execute_result"
    }
   ],
   "source": [
    "mystring=\"WELCOME\"\n",
    "mylist=[i for i in mystring]     # Iterating through a string Using List Comprehe\n",
    "mylist"
   ]
  },
  {
   "cell_type": "code",
   "execution_count": 200,
   "id": "7e6726b0",
   "metadata": {},
   "outputs": [
    {
     "data": {
      "text/plain": [
       "[0, 2, 4, 6, 8, 10, 12, 14, 16, 18, 20, 22, 24, 26, 28, 30, 32, 34, 36, 38]"
      ]
     },
     "execution_count": 200,
     "metadata": {},
     "output_type": "execute_result"
    }
   ],
   "source": [
    "mylist1=[i   for i in range(40) if i%2==0  ] # Display all even numbers between 0 to 39\n",
    "mylist1"
   ]
  },
  {
   "cell_type": "code",
   "execution_count": 201,
   "id": "c3a5fa47",
   "metadata": {},
   "outputs": [
    {
     "data": {
      "text/plain": [
       "[0,\n",
       " 0,\n",
       " 2,\n",
       " 0,\n",
       " 4,\n",
       " 0,\n",
       " 6,\n",
       " 0,\n",
       " 8,\n",
       " 0,\n",
       " 10,\n",
       " 0,\n",
       " 12,\n",
       " 0,\n",
       " 14,\n",
       " 0,\n",
       " 16,\n",
       " 0,\n",
       " 18,\n",
       " 0,\n",
       " 20,\n",
       " 0,\n",
       " 22,\n",
       " 0,\n",
       " 24,\n",
       " 0,\n",
       " 26,\n",
       " 0,\n",
       " 28,\n",
       " 0,\n",
       " 30,\n",
       " 0,\n",
       " 32,\n",
       " 0,\n",
       " 34,\n",
       " 0,\n",
       " 36,\n",
       " 0,\n",
       " 38,\n",
       " 0]"
      ]
     },
     "execution_count": 201,
     "metadata": {},
     "output_type": "execute_result"
    }
   ],
   "source": [
    "mylist1=[i  if i%2==0 else 0 for i in range(40) ]  # Display all even numbers between 0 to 39 else print 0\n",
    "mylist1"
   ]
  },
  {
   "cell_type": "code",
   "execution_count": 202,
   "id": "16cf2994",
   "metadata": {},
   "outputs": [
    {
     "data": {
      "text/plain": [
       "['1', '2', '3', '4', '5', '6', '7', '8', '9']"
      ]
     },
     "execution_count": 202,
     "metadata": {},
     "output_type": "execute_result"
    }
   ],
   "source": [
    "# Extract numbers from a string\n",
    "mystr=\"One 1 two 2 three 3 four 4 five 5 six 6789\"\n",
    "numbers=[i for i in mystr if i .isdigit()]\n",
    "numbers"
   ]
  },
  {
   "cell_type": "code",
   "execution_count": 203,
   "id": "15a380a5",
   "metadata": {},
   "outputs": [
    {
     "data": {
      "text/plain": [
       "['O',\n",
       " 'n',\n",
       " 'e',\n",
       " 't',\n",
       " 'w',\n",
       " 'o',\n",
       " 't',\n",
       " 'h',\n",
       " 'r',\n",
       " 'e',\n",
       " 'e',\n",
       " 'f',\n",
       " 'o',\n",
       " 'u',\n",
       " 'r',\n",
       " 'f',\n",
       " 'i',\n",
       " 'v',\n",
       " 'e',\n",
       " 's',\n",
       " 'i',\n",
       " 'x']"
      ]
     },
     "execution_count": 203,
     "metadata": {},
     "output_type": "execute_result"
    }
   ],
   "source": [
    "# Extract leter from a string\n",
    "mystr=\"One 1 two 2 three 3 four 4 five 5 six 6789\"\n",
    "numbers=[i for i in mystr if i.isalpha()]\n",
    "numbers"
   ]
  },
  {
   "cell_type": "markdown",
   "id": "08299cfa",
   "metadata": {},
   "source": [
    "# Tuples"
   ]
  },
  {
   "cell_type": "markdown",
   "id": "0e97fb89",
   "metadata": {},
   "source": [
    "1. Tuple is similar to List except that the objects in tuple are immutable which means we cannotchange the elements of a tuple once assigned.\n",
    "2. When we do not want to change the data over time, tuple is a preferred data type.\n",
    "3. Iterating over the elements of a tuple is faster compared to iterating over a list."
   ]
  },
  {
   "cell_type": "markdown",
   "id": "15db75af",
   "metadata": {},
   "source": [
    "# Tuple Creation"
   ]
  },
  {
   "cell_type": "code",
   "execution_count": 204,
   "id": "e9e1fcc1",
   "metadata": {},
   "outputs": [],
   "source": [
    "tup1=()                   # Empty tuple\n",
    "tup2=(10, 30, 60)         # tuple of integers numbers\n",
    "tup3=(10.77,30.66,60.89)  # tuple of float numbers\n",
    "tup4=('one','two',\"three\")# tuple of strings\n",
    "tup5=('Asif',25,(50,100),(150,90))   # Nested tuples\n",
    "tup6=(100,'Asif',17.765)  # Tuple of mixed data types\n",
    "tup7=('Asif',25,[50,100],[150,90] , {'John','David'} , (99,22,33))\n"
   ]
  },
  {
   "cell_type": "code",
   "execution_count": 205,
   "id": "566ac4f3",
   "metadata": {},
   "outputs": [
    {
     "data": {
      "text/plain": [
       "6"
      ]
     },
     "execution_count": 205,
     "metadata": {},
     "output_type": "execute_result"
    }
   ],
   "source": [
    "len(tup7)  #Length of list"
   ]
  },
  {
   "cell_type": "markdown",
   "id": "4e8e19c1",
   "metadata": {},
   "source": [
    "# Tuple Indexing"
   ]
  },
  {
   "cell_type": "code",
   "execution_count": 206,
   "id": "c5674ba8",
   "metadata": {},
   "outputs": [
    {
     "data": {
      "text/plain": [
       "10"
      ]
     },
     "execution_count": 206,
     "metadata": {},
     "output_type": "execute_result"
    }
   ],
   "source": [
    "tup2[0]             # Retreive first element of the tuple"
   ]
  },
  {
   "cell_type": "code",
   "execution_count": 207,
   "id": "5939c56f",
   "metadata": {},
   "outputs": [
    {
     "data": {
      "text/plain": [
       "'one'"
      ]
     },
     "execution_count": 207,
     "metadata": {},
     "output_type": "execute_result"
    }
   ],
   "source": [
    "tup4[0]             # Retreive first element of the tuple"
   ]
  },
  {
   "cell_type": "code",
   "execution_count": 208,
   "id": "cdc4c6fc",
   "metadata": {},
   "outputs": [
    {
     "data": {
      "text/plain": [
       "'o'"
      ]
     },
     "execution_count": 208,
     "metadata": {},
     "output_type": "execute_result"
    }
   ],
   "source": [
    "tup4[0][0]          # Nested indexing - Access the first character of the first tuple elem"
   ]
  },
  {
   "cell_type": "code",
   "execution_count": 209,
   "id": "876be59b",
   "metadata": {},
   "outputs": [
    {
     "data": {
      "text/plain": [
       "'three'"
      ]
     },
     "execution_count": 209,
     "metadata": {},
     "output_type": "execute_result"
    }
   ],
   "source": [
    "tup4[-1]            # Last item of the tuple"
   ]
  },
  {
   "cell_type": "code",
   "execution_count": 210,
   "id": "fe6b6aaa",
   "metadata": {},
   "outputs": [
    {
     "data": {
      "text/plain": [
       "(150, 90)"
      ]
     },
     "execution_count": 210,
     "metadata": {},
     "output_type": "execute_result"
    }
   ],
   "source": [
    "tup5[-1]           # Last item of the tuple"
   ]
  },
  {
   "cell_type": "markdown",
   "id": "4b653571",
   "metadata": {},
   "source": [
    "# Tuple Slicing"
   ]
  },
  {
   "cell_type": "code",
   "execution_count": 211,
   "id": "177bc65a",
   "metadata": {},
   "outputs": [],
   "source": [
    "mytuple=('one','two','three','four','five','six','seven','eight', 'nine', 'ten')"
   ]
  },
  {
   "cell_type": "code",
   "execution_count": 212,
   "id": "442bf9e3",
   "metadata": {},
   "outputs": [
    {
     "data": {
      "text/plain": [
       "('one', 'two', 'three')"
      ]
     },
     "execution_count": 212,
     "metadata": {},
     "output_type": "execute_result"
    }
   ],
   "source": [
    "mytuple[0:3]    # Return all items from 0th to 3rd index location excluding the item in 3rd index"
   ]
  },
  {
   "cell_type": "code",
   "execution_count": 213,
   "id": "139ea61e",
   "metadata": {},
   "outputs": [
    {
     "data": {
      "text/plain": [
       "('three', 'four', 'five')"
      ]
     },
     "execution_count": 213,
     "metadata": {},
     "output_type": "execute_result"
    }
   ],
   "source": [
    "mytuple[2:5]    # List all items from 2nd to 5th index location excluding the item a"
   ]
  },
  {
   "cell_type": "code",
   "execution_count": 214,
   "id": "201a1df7",
   "metadata": {},
   "outputs": [
    {
     "data": {
      "text/plain": [
       "('one', 'two', 'three')"
      ]
     },
     "execution_count": 214,
     "metadata": {},
     "output_type": "execute_result"
    }
   ],
   "source": [
    "mytuple[:3]     # Return first three items"
   ]
  },
  {
   "cell_type": "code",
   "execution_count": 215,
   "id": "228cbb7b",
   "metadata": {},
   "outputs": [
    {
     "data": {
      "text/plain": [
       "('one', 'two')"
      ]
     },
     "execution_count": 215,
     "metadata": {},
     "output_type": "execute_result"
    }
   ],
   "source": [
    "mytuple[:2]     # Return first two items"
   ]
  },
  {
   "cell_type": "code",
   "execution_count": 216,
   "id": "0f29b782",
   "metadata": {},
   "outputs": [
    {
     "data": {
      "text/plain": [
       "('eight', 'nine', 'ten')"
      ]
     },
     "execution_count": 216,
     "metadata": {},
     "output_type": "execute_result"
    }
   ],
   "source": [
    "mytuple[-3:]    # Return last three items"
   ]
  },
  {
   "cell_type": "code",
   "execution_count": 217,
   "id": "c4178028",
   "metadata": {},
   "outputs": [
    {
     "data": {
      "text/plain": [
       "('nine', 'ten')"
      ]
     },
     "execution_count": 217,
     "metadata": {},
     "output_type": "execute_result"
    }
   ],
   "source": [
    "mytuple[-2:]    # Return last two items"
   ]
  },
  {
   "cell_type": "code",
   "execution_count": 218,
   "id": "17567d7b",
   "metadata": {},
   "outputs": [
    {
     "data": {
      "text/plain": [
       "'ten'"
      ]
     },
     "execution_count": 218,
     "metadata": {},
     "output_type": "execute_result"
    }
   ],
   "source": [
    "mytuple[-1]     # Return last item of the tuple"
   ]
  },
  {
   "cell_type": "code",
   "execution_count": 219,
   "id": "d67d218d",
   "metadata": {},
   "outputs": [
    {
     "data": {
      "text/plain": [
       "('one', 'two', 'three', 'four', 'five', 'six', 'seven', 'eight', 'nine', 'ten')"
      ]
     },
     "execution_count": 219,
     "metadata": {},
     "output_type": "execute_result"
    }
   ],
   "source": [
    "mytuple[:]      # Return whole tuple"
   ]
  },
  {
   "cell_type": "markdown",
   "id": "dc30999f",
   "metadata": {},
   "source": [
    "# Remove & Change Items"
   ]
  },
  {
   "cell_type": "code",
   "execution_count": 220,
   "id": "d71a1728",
   "metadata": {},
   "outputs": [
    {
     "data": {
      "text/plain": [
       "('one', 'two', 'three', 'four', 'five', 'six', 'seven', 'eight', 'nine', 'ten')"
      ]
     },
     "execution_count": 220,
     "metadata": {},
     "output_type": "execute_result"
    }
   ],
   "source": [
    "mytuple"
   ]
  },
  {
   "cell_type": "code",
   "execution_count": 221,
   "id": "047761f5",
   "metadata": {},
   "outputs": [
    {
     "ename": "TypeError",
     "evalue": "'tuple' object doesn't support item deletion",
     "output_type": "error",
     "traceback": [
      "\u001b[1;31m---------------------------------------------------------------------------\u001b[0m",
      "\u001b[1;31mTypeError\u001b[0m                                 Traceback (most recent call last)",
      "\u001b[1;32m~\\AppData\\Local\\Temp/ipykernel_11208/3501677866.py\u001b[0m in \u001b[0;36m<module>\u001b[1;34m\u001b[0m\n\u001b[1;32m----> 1\u001b[1;33m \u001b[1;32mdel\u001b[0m \u001b[0mmytuple\u001b[0m\u001b[1;33m[\u001b[0m\u001b[1;36m0\u001b[0m\u001b[1;33m]\u001b[0m   \u001b[1;31m# Tuples are immutable which means we can't DELETE tuple items\u001b[0m\u001b[1;33m\u001b[0m\u001b[1;33m\u001b[0m\u001b[0m\n\u001b[0m",
      "\u001b[1;31mTypeError\u001b[0m: 'tuple' object doesn't support item deletion"
     ]
    }
   ],
   "source": [
    "del mytuple[0]   # Tuples are immutable which means we can't DELETE tuple items"
   ]
  },
  {
   "cell_type": "code",
   "execution_count": 222,
   "id": "b89b116f",
   "metadata": {},
   "outputs": [
    {
     "ename": "TypeError",
     "evalue": "'tuple' object does not support item assignment",
     "output_type": "error",
     "traceback": [
      "\u001b[1;31m---------------------------------------------------------------------------\u001b[0m",
      "\u001b[1;31mTypeError\u001b[0m                                 Traceback (most recent call last)",
      "\u001b[1;32m~\\AppData\\Local\\Temp/ipykernel_11208/3754342951.py\u001b[0m in \u001b[0;36m<module>\u001b[1;34m\u001b[0m\n\u001b[1;32m----> 1\u001b[1;33m \u001b[0mmytuple\u001b[0m\u001b[1;33m[\u001b[0m\u001b[1;36m0\u001b[0m\u001b[1;33m]\u001b[0m\u001b[1;33m=\u001b[0m\u001b[1;36m1\u001b[0m    \u001b[1;31m# Tuples are immutable which means we can't CHANGE tuple items\u001b[0m\u001b[1;33m\u001b[0m\u001b[1;33m\u001b[0m\u001b[0m\n\u001b[0m",
      "\u001b[1;31mTypeError\u001b[0m: 'tuple' object does not support item assignment"
     ]
    }
   ],
   "source": [
    "mytuple[0]=1    # Tuples are immutable which means we can't CHANGE tuple items"
   ]
  },
  {
   "cell_type": "code",
   "execution_count": 223,
   "id": "a40b13ec",
   "metadata": {},
   "outputs": [],
   "source": [
    "del mytuple     # Deleting entire tuple object is possible"
   ]
  },
  {
   "cell_type": "markdown",
   "id": "f9be5cd8",
   "metadata": {},
   "source": [
    "# Loop through a tuple"
   ]
  },
  {
   "cell_type": "code",
   "execution_count": 224,
   "id": "9d64330a",
   "metadata": {},
   "outputs": [],
   "source": [
    "mytuple=('one', 'two', 'three', 'four', 'five', 'six', 'seven', 'eight')"
   ]
  },
  {
   "cell_type": "code",
   "execution_count": 225,
   "id": "cb90c29b",
   "metadata": {},
   "outputs": [
    {
     "name": "stdout",
     "output_type": "stream",
     "text": [
      "one\n",
      "two\n",
      "three\n",
      "four\n",
      "five\n",
      "six\n",
      "seven\n",
      "eight\n"
     ]
    }
   ],
   "source": [
    "for i in mytuple:\n",
    "    print(i)"
   ]
  },
  {
   "cell_type": "code",
   "execution_count": 226,
   "id": "dac1c281",
   "metadata": {},
   "outputs": [
    {
     "name": "stdout",
     "output_type": "stream",
     "text": [
      "(0, 'one')\n",
      "(1, 'two')\n",
      "(2, 'three')\n",
      "(3, 'four')\n",
      "(4, 'five')\n",
      "(5, 'six')\n",
      "(6, 'seven')\n",
      "(7, 'eight')\n"
     ]
    }
   ],
   "source": [
    "for i in enumerate(mytuple):\n",
    "    print(i)"
   ]
  },
  {
   "cell_type": "markdown",
   "id": "30227f40",
   "metadata": {},
   "source": [
    "# Count"
   ]
  },
  {
   "cell_type": "code",
   "execution_count": 227,
   "id": "d8c2c139",
   "metadata": {},
   "outputs": [],
   "source": [
    "mytuple1=('one','two','three','four','one','one','two','three')"
   ]
  },
  {
   "cell_type": "code",
   "execution_count": 228,
   "id": "1e28e6ee",
   "metadata": {},
   "outputs": [
    {
     "data": {
      "text/plain": [
       "3"
      ]
     },
     "execution_count": 228,
     "metadata": {},
     "output_type": "execute_result"
    }
   ],
   "source": [
    "mytuple1.count('one')        # Number of times item \"one\" occurred in the tuple."
   ]
  },
  {
   "cell_type": "code",
   "execution_count": 229,
   "id": "6ad28e3f",
   "metadata": {},
   "outputs": [
    {
     "data": {
      "text/plain": [
       "2"
      ]
     },
     "execution_count": 229,
     "metadata": {},
     "output_type": "execute_result"
    }
   ],
   "source": [
    "mytuple1.count('two')        # Occurence of item 'two' in the tuple"
   ]
  },
  {
   "cell_type": "code",
   "execution_count": 230,
   "id": "7adbd9f2",
   "metadata": {},
   "outputs": [
    {
     "data": {
      "text/plain": [
       "1"
      ]
     },
     "execution_count": 230,
     "metadata": {},
     "output_type": "execute_result"
    }
   ],
   "source": [
    "mytuple1.count('four')       #Occurence of item 'four' in the tuple"
   ]
  },
  {
   "cell_type": "markdown",
   "id": "8f0d42e4",
   "metadata": {},
   "source": [
    "# Tuple Membership"
   ]
  },
  {
   "cell_type": "code",
   "execution_count": 231,
   "id": "3e2cbf6a",
   "metadata": {},
   "outputs": [
    {
     "data": {
      "text/plain": [
       "('one', 'two', 'three', 'four', 'five', 'six', 'seven', 'eight')"
      ]
     },
     "execution_count": 231,
     "metadata": {},
     "output_type": "execute_result"
    }
   ],
   "source": [
    "mytuple"
   ]
  },
  {
   "cell_type": "code",
   "execution_count": 232,
   "id": "93f168a4",
   "metadata": {},
   "outputs": [
    {
     "data": {
      "text/plain": [
       "True"
      ]
     },
     "execution_count": 232,
     "metadata": {},
     "output_type": "execute_result"
    }
   ],
   "source": [
    "'one' in mytuple            # Check if 'one' exist in the list"
   ]
  },
  {
   "cell_type": "code",
   "execution_count": 233,
   "id": "2a1f819f",
   "metadata": {},
   "outputs": [
    {
     "data": {
      "text/plain": [
       "False"
      ]
     },
     "execution_count": 233,
     "metadata": {},
     "output_type": "execute_result"
    }
   ],
   "source": [
    "'ten' in mytuple           # Check if 'ten' exist in the list"
   ]
  },
  {
   "cell_type": "code",
   "execution_count": 234,
   "id": "c7d64040",
   "metadata": {},
   "outputs": [
    {
     "name": "stdout",
     "output_type": "stream",
     "text": [
      "Three is present in the tuple\n"
     ]
    }
   ],
   "source": [
    "if 'three' in mytuple:     # Check if 'three' exist in the list\n",
    "    print('Three is present in the tuple')\n",
    "else:\n",
    "    print('Three is not present in the tuple')"
   ]
  },
  {
   "cell_type": "code",
   "execution_count": 235,
   "id": "f5b43f87",
   "metadata": {},
   "outputs": [
    {
     "name": "stdout",
     "output_type": "stream",
     "text": [
      "eleven is not present in the tuple\n"
     ]
    }
   ],
   "source": [
    "if 'eleven' in mytuple:           # Check if 'eleven' exist in the list\n",
    "    print('eleven is present in the tuple')\n",
    "else:\n",
    "    print('eleven is not present in the tuple')"
   ]
  },
  {
   "cell_type": "markdown",
   "id": "072cbd35",
   "metadata": {},
   "source": [
    "# Index Position"
   ]
  },
  {
   "cell_type": "code",
   "execution_count": 236,
   "id": "560b500f",
   "metadata": {},
   "outputs": [
    {
     "data": {
      "text/plain": [
       "('one', 'two', 'three', 'four', 'five', 'six', 'seven', 'eight')"
      ]
     },
     "execution_count": 236,
     "metadata": {},
     "output_type": "execute_result"
    }
   ],
   "source": [
    " mytuple"
   ]
  },
  {
   "cell_type": "code",
   "execution_count": 237,
   "id": "67953f01",
   "metadata": {},
   "outputs": [
    {
     "data": {
      "text/plain": [
       "0"
      ]
     },
     "execution_count": 237,
     "metadata": {},
     "output_type": "execute_result"
    }
   ],
   "source": [
    "mytuple.index('one')       # Index of first element equal to 'one'"
   ]
  },
  {
   "cell_type": "code",
   "execution_count": 238,
   "id": "ea4eea23",
   "metadata": {},
   "outputs": [
    {
     "data": {
      "text/plain": [
       "4"
      ]
     },
     "execution_count": 238,
     "metadata": {},
     "output_type": "execute_result"
    }
   ],
   "source": [
    "mytuple.index('five')      # Index of first element equal to 'five'"
   ]
  },
  {
   "cell_type": "code",
   "execution_count": 239,
   "id": "1b827508",
   "metadata": {},
   "outputs": [
    {
     "data": {
      "text/plain": [
       "('one', 'two', 'three', 'four', 'one', 'one', 'two', 'three')"
      ]
     },
     "execution_count": 239,
     "metadata": {},
     "output_type": "execute_result"
    }
   ],
   "source": [
    "mytuple1"
   ]
  },
  {
   "cell_type": "code",
   "execution_count": 240,
   "id": "7532f985",
   "metadata": {},
   "outputs": [
    {
     "data": {
      "text/plain": [
       "0"
      ]
     },
     "execution_count": 240,
     "metadata": {},
     "output_type": "execute_result"
    }
   ],
   "source": [
    "mytuple1.index('one')"
   ]
  },
  {
   "cell_type": "code",
   "execution_count": 241,
   "id": "a7f2c266",
   "metadata": {},
   "outputs": [],
   "source": [
    "mytuple2=(43,67,99,12,6,90,67)"
   ]
  },
  {
   "cell_type": "code",
   "execution_count": 242,
   "id": "580738bc",
   "metadata": {},
   "outputs": [
    {
     "data": {
      "text/plain": [
       "[6, 12, 43, 67, 67, 90, 99]"
      ]
     },
     "execution_count": 242,
     "metadata": {},
     "output_type": "execute_result"
    }
   ],
   "source": [
    "sorted(mytuple2)"
   ]
  },
  {
   "cell_type": "code",
   "execution_count": 243,
   "id": "51ef6628",
   "metadata": {},
   "outputs": [
    {
     "data": {
      "text/plain": [
       "(43, 67, 99, 12, 6, 90, 67)"
      ]
     },
     "execution_count": 243,
     "metadata": {},
     "output_type": "execute_result"
    }
   ],
   "source": [
    "mytuple2"
   ]
  },
  {
   "cell_type": "code",
   "execution_count": 244,
   "id": "435f93b9",
   "metadata": {},
   "outputs": [
    {
     "data": {
      "text/plain": [
       "[99, 90, 67, 67, 43, 12, 6]"
      ]
     },
     "execution_count": 244,
     "metadata": {},
     "output_type": "execute_result"
    }
   ],
   "source": [
    "sorted(mytuple2,reverse=True)"
   ]
  },
  {
   "cell_type": "markdown",
   "id": "9fba1296",
   "metadata": {},
   "source": [
    "# Sets"
   ]
  },
  {
   "cell_type": "markdown",
   "id": "aeb24e3d",
   "metadata": {},
   "source": [
    "1) Unordered & Unindexed collection of items.\n",
    "\n",
    "2) Set elements are unique. Duplicate elements are not allowed.\n",
    "\n",
    "3) Set elements are immutable (cannot be changed).\n",
    "\n",
    "4) Set itself is mutable. We can add or remove items from it."
   ]
  },
  {
   "cell_type": "markdown",
   "id": "721ef613",
   "metadata": {},
   "source": [
    "# Set Creation"
   ]
  },
  {
   "cell_type": "code",
   "execution_count": 245,
   "id": "e90ec0a4",
   "metadata": {},
   "outputs": [
    {
     "data": {
      "text/plain": [
       "{1, 2, 3, 4, 5}"
      ]
     },
     "execution_count": 245,
     "metadata": {},
     "output_type": "execute_result"
    }
   ],
   "source": [
    "myset={1,2,3,4,5}      # Set of numbers\n",
    "myset"
   ]
  },
  {
   "cell_type": "code",
   "execution_count": 246,
   "id": "4797b1aa",
   "metadata": {},
   "outputs": [
    {
     "data": {
      "text/plain": [
       "5"
      ]
     },
     "execution_count": 246,
     "metadata": {},
     "output_type": "execute_result"
    }
   ],
   "source": [
    "len(myset)            #Length of the set"
   ]
  },
  {
   "cell_type": "code",
   "execution_count": 247,
   "id": "9961c437",
   "metadata": {},
   "outputs": [
    {
     "data": {
      "text/plain": [
       "{1, 2, 3, 4, 5}"
      ]
     },
     "execution_count": 247,
     "metadata": {},
     "output_type": "execute_result"
    }
   ],
   "source": [
    "my_set={1,1,2,2,3,4,5,5}\n",
    "my_set               # Duplicate elements are not allowed."
   ]
  },
  {
   "cell_type": "code",
   "execution_count": 248,
   "id": "eff5c679",
   "metadata": {},
   "outputs": [
    {
     "data": {
      "text/plain": [
       "{1.79, 2.08, 3.99, 4.56, 5.45}"
      ]
     },
     "execution_count": 248,
     "metadata": {},
     "output_type": "execute_result"
    }
   ],
   "source": [
    "myset1={1.79,2.08,3.99,4.56,5.45}       # Set of float numbers\n",
    "myset1"
   ]
  },
  {
   "cell_type": "code",
   "execution_count": 249,
   "id": "fc426578",
   "metadata": {},
   "outputs": [
    {
     "data": {
      "text/plain": [
       "{'Asif', 'John', 'Tyrion'}"
      ]
     },
     "execution_count": 249,
     "metadata": {},
     "output_type": "execute_result"
    }
   ],
   "source": [
    "myset2={'Asif','John','Tyrion'}        # Set of Strings\n",
    "myset2"
   ]
  },
  {
   "cell_type": "code",
   "execution_count": 250,
   "id": "67b76ff2",
   "metadata": {},
   "outputs": [
    {
     "data": {
      "text/plain": [
       "{(11, 22, 32), 10, 20, 'Hola'}"
      ]
     },
     "execution_count": 250,
     "metadata": {},
     "output_type": "execute_result"
    }
   ],
   "source": [
    "myset3={10,20,\"Hola\", (11,22,32)}     # Mixed datatypes\n",
    "myset3"
   ]
  },
  {
   "cell_type": "code",
   "execution_count": 251,
   "id": "1e35aeda",
   "metadata": {},
   "outputs": [
    {
     "ename": "TypeError",
     "evalue": "unhashable type: 'list'",
     "output_type": "error",
     "traceback": [
      "\u001b[1;31m---------------------------------------------------------------------------\u001b[0m",
      "\u001b[1;31mTypeError\u001b[0m                                 Traceback (most recent call last)",
      "\u001b[1;32m~\\AppData\\Local\\Temp/ipykernel_11208/1949783987.py\u001b[0m in \u001b[0;36m<module>\u001b[1;34m\u001b[0m\n\u001b[1;32m----> 1\u001b[1;33m \u001b[0mmyset3\u001b[0m\u001b[1;33m=\u001b[0m\u001b[1;33m{\u001b[0m\u001b[1;36m10\u001b[0m\u001b[1;33m,\u001b[0m\u001b[1;36m20\u001b[0m\u001b[1;33m,\u001b[0m\u001b[1;34m\"Hola\"\u001b[0m\u001b[1;33m,\u001b[0m \u001b[1;33m[\u001b[0m\u001b[1;36m11\u001b[0m\u001b[1;33m,\u001b[0m\u001b[1;36m22\u001b[0m\u001b[1;33m,\u001b[0m\u001b[1;36m32\u001b[0m\u001b[1;33m]\u001b[0m\u001b[1;33m}\u001b[0m      \u001b[1;31m# set doesn't allow mutable items like list\u001b[0m\u001b[1;33m\u001b[0m\u001b[1;33m\u001b[0m\u001b[0m\n\u001b[0m\u001b[0;32m      2\u001b[0m \u001b[0mmyset3\u001b[0m\u001b[1;33m\u001b[0m\u001b[1;33m\u001b[0m\u001b[0m\n",
      "\u001b[1;31mTypeError\u001b[0m: unhashable type: 'list'"
     ]
    }
   ],
   "source": [
    "myset3={10,20,\"Hola\", [11,22,32]}      # set doesn't allow mutable items like list\n",
    "myset3"
   ]
  },
  {
   "cell_type": "code",
   "execution_count": 252,
   "id": "a79434b3",
   "metadata": {},
   "outputs": [
    {
     "name": "stdout",
     "output_type": "stream",
     "text": [
      "<class 'set'>\n"
     ]
    }
   ],
   "source": [
    "myset4=set()           # Create an empty set\n",
    "print(type(myset4))"
   ]
  },
  {
   "cell_type": "code",
   "execution_count": 253,
   "id": "b5b630ad",
   "metadata": {},
   "outputs": [
    {
     "data": {
      "text/plain": [
       "{'four', 'one', 'three', 'two'}"
      ]
     },
     "execution_count": 253,
     "metadata": {},
     "output_type": "execute_result"
    }
   ],
   "source": [
    "my_set1=set(('one','two','three','four'))\n",
    "my_set1"
   ]
  },
  {
   "cell_type": "markdown",
   "id": "e10cc243",
   "metadata": {},
   "source": [
    "# Loop through a Set"
   ]
  },
  {
   "cell_type": "code",
   "execution_count": 254,
   "id": "73034940",
   "metadata": {},
   "outputs": [
    {
     "name": "stdout",
     "output_type": "stream",
     "text": [
      "one\n",
      "two\n",
      "six\n",
      "five\n",
      "four\n",
      "eight\n",
      "seven\n",
      "three\n"
     ]
    }
   ],
   "source": [
    "myset={'one','two','three','four','five','six','seven','eight'}\n",
    "for i in myset :\n",
    "    print(i)"
   ]
  },
  {
   "cell_type": "code",
   "execution_count": 255,
   "id": "3185a9c0",
   "metadata": {},
   "outputs": [
    {
     "name": "stdout",
     "output_type": "stream",
     "text": [
      "(0, 'one')\n",
      "(1, 'two')\n",
      "(2, 'six')\n",
      "(3, 'five')\n",
      "(4, 'four')\n",
      "(5, 'eight')\n",
      "(6, 'seven')\n",
      "(7, 'three')\n"
     ]
    }
   ],
   "source": [
    "for i in enumerate(myset) :\n",
    "    print(i)"
   ]
  },
  {
   "cell_type": "markdown",
   "id": "08a5beba",
   "metadata": {},
   "source": [
    "# Set Membership"
   ]
  },
  {
   "cell_type": "code",
   "execution_count": 256,
   "id": "9c5f5a00",
   "metadata": {},
   "outputs": [
    {
     "data": {
      "text/plain": [
       "{'eight', 'five', 'four', 'one', 'seven', 'six', 'three', 'two'}"
      ]
     },
     "execution_count": 256,
     "metadata": {},
     "output_type": "execute_result"
    }
   ],
   "source": [
    "my_set={'eight', 'five', 'four', 'one', 'seven', 'six', 'three', 'two'}\n",
    "my_set"
   ]
  },
  {
   "cell_type": "code",
   "execution_count": 257,
   "id": "6803c033",
   "metadata": {},
   "outputs": [
    {
     "data": {
      "text/plain": [
       "True"
      ]
     },
     "execution_count": 257,
     "metadata": {},
     "output_type": "execute_result"
    }
   ],
   "source": [
    "'one' in myset # Check if 'one' exist in the set"
   ]
  },
  {
   "cell_type": "code",
   "execution_count": 258,
   "id": "c8cfb35c",
   "metadata": {},
   "outputs": [
    {
     "data": {
      "text/plain": [
       "False"
      ]
     },
     "execution_count": 258,
     "metadata": {},
     "output_type": "execute_result"
    }
   ],
   "source": [
    "'Ten' in myset # Check if 'Ten' exist in the set"
   ]
  },
  {
   "cell_type": "code",
   "execution_count": 259,
   "id": "1e480729",
   "metadata": {},
   "outputs": [
    {
     "name": "stdout",
     "output_type": "stream",
     "text": [
      "eleven is not present in the set\n"
     ]
    }
   ],
   "source": [
    "if 'eleven' in myset : # Check if 'eleven' exist in the list\n",
    "    print('eleven is present in the set')\n",
    "else:\n",
    "    print('eleven is not present in the set')"
   ]
  },
  {
   "cell_type": "markdown",
   "id": "6364504e",
   "metadata": {},
   "source": [
    "# Add & Remove Items"
   ]
  },
  {
   "cell_type": "code",
   "execution_count": 260,
   "id": "89982f45",
   "metadata": {},
   "outputs": [
    {
     "data": {
      "text/plain": [
       "{'eight', 'five', 'four', 'one', 'seven', 'six', 'three', 'two'}"
      ]
     },
     "execution_count": 260,
     "metadata": {},
     "output_type": "execute_result"
    }
   ],
   "source": [
    " myset"
   ]
  },
  {
   "cell_type": "code",
   "execution_count": 261,
   "id": "f1061724",
   "metadata": {},
   "outputs": [
    {
     "data": {
      "text/plain": [
       "{'NINE', 'eight', 'five', 'four', 'one', 'seven', 'six', 'three', 'two'}"
      ]
     },
     "execution_count": 261,
     "metadata": {},
     "output_type": "execute_result"
    }
   ],
   "source": [
    "myset.add('NINE') # Add  item to a set using add() methood\n",
    "myset"
   ]
  },
  {
   "cell_type": "code",
   "execution_count": 262,
   "id": "b992a01d",
   "metadata": {},
   "outputs": [
    {
     "data": {
      "text/plain": [
       "{'ELEVEN',\n",
       " 'NINE',\n",
       " 'TEN',\n",
       " 'TWELVE',\n",
       " 'eight',\n",
       " 'five',\n",
       " 'four',\n",
       " 'one',\n",
       " 'seven',\n",
       " 'six',\n",
       " 'three',\n",
       " 'two'}"
      ]
     },
     "execution_count": 262,
     "metadata": {},
     "output_type": "execute_result"
    }
   ],
   "source": [
    "myset.update(['TEN', 'ELEVEN', 'TWELVE']) # Add multiple item to a set using update() methood\n",
    "myset"
   ]
  },
  {
   "cell_type": "code",
   "execution_count": 263,
   "id": "3a11da6c",
   "metadata": {},
   "outputs": [
    {
     "data": {
      "text/plain": [
       "{'ELEVEN',\n",
       " 'TEN',\n",
       " 'TWELVE',\n",
       " 'eight',\n",
       " 'five',\n",
       " 'four',\n",
       " 'one',\n",
       " 'seven',\n",
       " 'six',\n",
       " 'three',\n",
       " 'two'}"
      ]
     },
     "execution_count": 263,
     "metadata": {},
     "output_type": "execute_result"
    }
   ],
   "source": [
    "myset.remove('NINE')   # remove item from a set using remove() method\n",
    "myset"
   ]
  },
  {
   "cell_type": "code",
   "execution_count": 264,
   "id": "fa8e7f58",
   "metadata": {},
   "outputs": [
    {
     "data": {
      "text/plain": [
       "{'ELEVEN',\n",
       " 'TWELVE',\n",
       " 'eight',\n",
       " 'five',\n",
       " 'four',\n",
       " 'one',\n",
       " 'seven',\n",
       " 'six',\n",
       " 'three',\n",
       " 'two'}"
      ]
     },
     "execution_count": 264,
     "metadata": {},
     "output_type": "execute_result"
    }
   ],
   "source": [
    "myset.discard('TEN') # remove item from a set using discard() method\n",
    "myset"
   ]
  },
  {
   "cell_type": "code",
   "execution_count": 265,
   "id": "78827206",
   "metadata": {},
   "outputs": [
    {
     "data": {
      "text/plain": [
       "set()"
      ]
     },
     "execution_count": 265,
     "metadata": {},
     "output_type": "execute_result"
    }
   ],
   "source": [
    "myset.clear()\n",
    "myset"
   ]
  },
  {
   "cell_type": "code",
   "execution_count": 266,
   "id": "ab857457",
   "metadata": {},
   "outputs": [],
   "source": [
    "del myset # Delete all items in a set"
   ]
  },
  {
   "cell_type": "code",
   "execution_count": 267,
   "id": "8d8036c3",
   "metadata": {},
   "outputs": [
    {
     "ename": "NameError",
     "evalue": "name 'myset' is not defined",
     "output_type": "error",
     "traceback": [
      "\u001b[1;31m---------------------------------------------------------------------------\u001b[0m",
      "\u001b[1;31mNameError\u001b[0m                                 Traceback (most recent call last)",
      "\u001b[1;32m~\\AppData\\Local\\Temp/ipykernel_11208/3586822976.py\u001b[0m in \u001b[0;36m<module>\u001b[1;34m\u001b[0m\n\u001b[1;32m----> 1\u001b[1;33m \u001b[0mmyset\u001b[0m\u001b[1;33m\u001b[0m\u001b[1;33m\u001b[0m\u001b[0m\n\u001b[0m",
      "\u001b[1;31mNameError\u001b[0m: name 'myset' is not defined"
     ]
    }
   ],
   "source": [
    "myset"
   ]
  },
  {
   "cell_type": "markdown",
   "id": "efff4f98",
   "metadata": {},
   "source": [
    "# Copy Set"
   ]
  },
  {
   "cell_type": "code",
   "execution_count": 268,
   "id": "901f9ef7",
   "metadata": {},
   "outputs": [
    {
     "data": {
      "text/plain": [
       "{'eight', 'five', 'four', 'one', 'seven', 'six', 'three', 'two'}"
      ]
     },
     "execution_count": 268,
     "metadata": {},
     "output_type": "execute_result"
    }
   ],
   "source": [
    "my_set={'eight', 'five', 'four', 'one', 'seven', 'six', 'three', 'two'}\n",
    "my_set"
   ]
  },
  {
   "cell_type": "code",
   "execution_count": 269,
   "id": "70bb12b1",
   "metadata": {},
   "outputs": [
    {
     "data": {
      "text/plain": [
       "{'eight', 'five', 'four', 'one', 'seven', 'six', 'three', 'two'}"
      ]
     },
     "execution_count": 269,
     "metadata": {},
     "output_type": "execute_result"
    }
   ],
   "source": [
    "myset1=my_set       # Create a new reference \"myset1\"\n",
    "myset1"
   ]
  },
  {
   "cell_type": "code",
   "execution_count": 270,
   "id": "d6859dee",
   "metadata": {},
   "outputs": [
    {
     "data": {
      "text/plain": [
       "(1486540561760, 1486540561760)"
      ]
     },
     "execution_count": 270,
     "metadata": {},
     "output_type": "execute_result"
    }
   ],
   "source": [
    "id(myset1),id(my_set)   # The address of both myset & myset1 will be the same"
   ]
  },
  {
   "cell_type": "code",
   "execution_count": 271,
   "id": "6b08bd10",
   "metadata": {},
   "outputs": [
    {
     "data": {
      "text/plain": [
       "{'eight', 'five', 'four', 'one', 'seven', 'six', 'three', 'two'}"
      ]
     },
     "execution_count": 271,
     "metadata": {},
     "output_type": "execute_result"
    }
   ],
   "source": [
    "my_set2=my_set.copy()   #Create a copy of the list\n",
    "my_set2"
   ]
  },
  {
   "cell_type": "code",
   "execution_count": 272,
   "id": "c7442ce5",
   "metadata": {},
   "outputs": [
    {
     "data": {
      "text/plain": [
       "(1486540559968, 1486540561760)"
      ]
     },
     "execution_count": 272,
     "metadata": {},
     "output_type": "execute_result"
    }
   ],
   "source": [
    "id(my_set2),id(my_set)"
   ]
  },
  {
   "cell_type": "code",
   "execution_count": 273,
   "id": "974d2ff3",
   "metadata": {},
   "outputs": [
    {
     "data": {
      "text/plain": [
       "{'NINE', 'eight', 'five', 'four', 'one', 'seven', 'six', 'three', 'two'}"
      ]
     },
     "execution_count": 273,
     "metadata": {},
     "output_type": "execute_result"
    }
   ],
   "source": [
    "my_set.add('NINE')\n",
    "my_set"
   ]
  },
  {
   "cell_type": "code",
   "execution_count": 274,
   "id": "c20e9245",
   "metadata": {},
   "outputs": [
    {
     "data": {
      "text/plain": [
       "{'NINE', 'eight', 'five', 'four', 'one', 'seven', 'six', 'three', 'two'}"
      ]
     },
     "execution_count": 274,
     "metadata": {},
     "output_type": "execute_result"
    }
   ],
   "source": [
    "myset1"
   ]
  },
  {
   "cell_type": "code",
   "execution_count": 275,
   "id": "f10c1801",
   "metadata": {},
   "outputs": [
    {
     "data": {
      "text/plain": [
       "{'eight', 'five', 'four', 'one', 'seven', 'six', 'three', 'two'}"
      ]
     },
     "execution_count": 275,
     "metadata": {},
     "output_type": "execute_result"
    }
   ],
   "source": [
    "my_set2"
   ]
  },
  {
   "cell_type": "markdown",
   "id": "32f15cbc",
   "metadata": {},
   "source": [
    "# Set Operation"
   ]
  },
  {
   "cell_type": "code",
   "execution_count": 276,
   "id": "7c72627c",
   "metadata": {},
   "outputs": [],
   "source": [
    "A={1,2,3,4,5}\n",
    "B={4,5,6,7,8}\n",
    "C={8,9,10}"
   ]
  },
  {
   "cell_type": "code",
   "execution_count": 277,
   "id": "09b07c04",
   "metadata": {},
   "outputs": [
    {
     "data": {
      "text/plain": [
       "{1, 2, 3, 4, 5, 6, 7, 8}"
      ]
     },
     "execution_count": 277,
     "metadata": {},
     "output_type": "execute_result"
    }
   ],
   "source": [
    "A|B    # Union of A and B (All elements from both sets. NO DUPLICATES)"
   ]
  },
  {
   "cell_type": "code",
   "execution_count": 278,
   "id": "a90d8783",
   "metadata": {},
   "outputs": [
    {
     "data": {
      "text/plain": [
       "{1, 2, 3, 4, 5, 6, 7, 8}"
      ]
     },
     "execution_count": 278,
     "metadata": {},
     "output_type": "execute_result"
    }
   ],
   "source": [
    "A.union(B)     # Union of A and B"
   ]
  },
  {
   "cell_type": "code",
   "execution_count": 279,
   "id": "2958c348",
   "metadata": {},
   "outputs": [
    {
     "data": {
      "text/plain": [
       "{1, 2, 3, 4, 5, 6, 7, 8, 9, 10}"
      ]
     },
     "execution_count": 279,
     "metadata": {},
     "output_type": "execute_result"
    }
   ],
   "source": [
    "A.union(B, C)     # Union of A, B and C"
   ]
  },
  {
   "cell_type": "code",
   "execution_count": 280,
   "id": "b0c9e9bf",
   "metadata": {},
   "outputs": [
    {
     "data": {
      "text/plain": [
       "{1, 2, 3, 4, 5, 6, 7, 8, 9, 10}"
      ]
     },
     "execution_count": 280,
     "metadata": {},
     "output_type": "execute_result"
    }
   ],
   "source": [
    "\"\"\"\n",
    "Updates the set calling the update() method with union of A , B & C.\n",
    "For below example Set A will be updated with union of A,B & C.\n",
    "\"\"\"\n",
    "A.update(B,C)\n",
    "A"
   ]
  },
  {
   "cell_type": "code",
   "execution_count": null,
   "id": "3a46a246",
   "metadata": {},
   "outputs": [],
   "source": []
  },
  {
   "attachments": {
    "image.png": {
     "image/png": "[encoded data removed]"
    }
   },
   "cell_type": "markdown",
   "id": "3ebc9b7a",
   "metadata": {},
   "source": [
    "![image.png](attachment:image.png)"
   ]
  },
  {
   "cell_type": "markdown",
   "id": "d76c40bd",
   "metadata": {},
   "source": [
    "# Intersection"
   ]
  },
  {
   "cell_type": "code",
   "execution_count": 281,
   "id": "3338e8dc",
   "metadata": {},
   "outputs": [],
   "source": [
    "A={1,2,3,4,5}\n",
    "B={4,5,6,7,8}"
   ]
  },
  {
   "cell_type": "code",
   "execution_count": 282,
   "id": "c05b332d",
   "metadata": {},
   "outputs": [
    {
     "data": {
      "text/plain": [
       "{4, 5}"
      ]
     },
     "execution_count": 282,
     "metadata": {},
     "output_type": "execute_result"
    }
   ],
   "source": [
    "A&B                          # Intersection of A and B (Common items in both sets)"
   ]
  },
  {
   "cell_type": "code",
   "execution_count": 283,
   "id": "f23aaeaa",
   "metadata": {},
   "outputs": [
    {
     "data": {
      "text/plain": [
       "{4, 5}"
      ]
     },
     "execution_count": 283,
     "metadata": {},
     "output_type": "execute_result"
    }
   ],
   "source": [
    "A.intersection(B)           # Intersection of A and B (Common items in both sets)"
   ]
  },
  {
   "cell_type": "code",
   "execution_count": 284,
   "id": "3bf11230",
   "metadata": {},
   "outputs": [
    {
     "data": {
      "text/plain": [
       "{4, 5}"
      ]
     },
     "execution_count": 284,
     "metadata": {},
     "output_type": "execute_result"
    }
   ],
   "source": [
    "\"\"\"\n",
    "Updates the set calling the intersection_update() method with the intersection of\n",
    "For below example Set A will be updated with the intersection of A & B.\n",
    "\"\"\"\n",
    "A.intersection_update(B)\n",
    "A"
   ]
  },
  {
   "attachments": {
    "image.png": {
     "image/png": "[encoded data removed]"
    }
   },
   "cell_type": "markdown",
   "id": "ed17d34f",
   "metadata": {},
   "source": [
    "![image.png](attachment:image.png)"
   ]
  },
  {
   "cell_type": "markdown",
   "id": "1d689d5d",
   "metadata": {},
   "source": [
    "# Difference"
   ]
  },
  {
   "cell_type": "code",
   "execution_count": 285,
   "id": "e6b513e2",
   "metadata": {},
   "outputs": [],
   "source": [
    "A={1,2,3,4,5}\n",
    "B={4,5,6,7,8}"
   ]
  },
  {
   "cell_type": "code",
   "execution_count": 286,
   "id": "ac630271",
   "metadata": {},
   "outputs": [
    {
     "data": {
      "text/plain": [
       "{1, 2, 3}"
      ]
     },
     "execution_count": 286,
     "metadata": {},
     "output_type": "execute_result"
    }
   ],
   "source": [
    "A-B                  # set of elements that are only in A but not in B"
   ]
  },
  {
   "cell_type": "code",
   "execution_count": 287,
   "id": "343bec0f",
   "metadata": {},
   "outputs": [
    {
     "data": {
      "text/plain": [
       "{1, 2, 3}"
      ]
     },
     "execution_count": 287,
     "metadata": {},
     "output_type": "execute_result"
    }
   ],
   "source": [
    "A.difference(B)"
   ]
  },
  {
   "cell_type": "code",
   "execution_count": 288,
   "id": "da088bcd",
   "metadata": {},
   "outputs": [
    {
     "data": {
      "text/plain": [
       "{6, 7, 8}"
      ]
     },
     "execution_count": 288,
     "metadata": {},
     "output_type": "execute_result"
    }
   ],
   "source": [
    "B-A"
   ]
  },
  {
   "cell_type": "code",
   "execution_count": 289,
   "id": "d16e09e5",
   "metadata": {},
   "outputs": [
    {
     "data": {
      "text/plain": [
       "{6, 7, 8}"
      ]
     },
     "execution_count": 289,
     "metadata": {},
     "output_type": "execute_result"
    }
   ],
   "source": [
    "B.difference(A)"
   ]
  },
  {
   "cell_type": "code",
   "execution_count": 290,
   "id": "42087dd2",
   "metadata": {},
   "outputs": [],
   "source": [
    "\"\"\"\n",
    "Updates the set calling the difference_update() method with the difference of set\n",
    "For below example Set B will be updated with the difference of B & A\n",
    "\"\"\"\n",
    "A.difference_update(B)"
   ]
  },
  {
   "attachments": {
    "image.png": {
     "image/png": "[encoded data removed]"
    }
   },
   "cell_type": "markdown",
   "id": "7bca506b",
   "metadata": {},
   "source": [
    "![image.png](attachment:image.png)"
   ]
  },
  {
   "cell_type": "markdown",
   "id": "e8f25b0d",
   "metadata": {},
   "source": [
    "# Symmetric Difference"
   ]
  },
  {
   "cell_type": "code",
   "execution_count": 291,
   "id": "b344c8f2",
   "metadata": {},
   "outputs": [],
   "source": [
    "A={1,2,3,4,5}\n",
    "B={4,5,6,7,8}"
   ]
  },
  {
   "cell_type": "code",
   "execution_count": 292,
   "id": "2e1a9756",
   "metadata": {},
   "outputs": [
    {
     "data": {
      "text/plain": [
       "{1, 2, 3, 6, 7, 8}"
      ]
     },
     "execution_count": 292,
     "metadata": {},
     "output_type": "execute_result"
    }
   ],
   "source": [
    "A^B"
   ]
  },
  {
   "cell_type": "code",
   "execution_count": 293,
   "id": "357ad235",
   "metadata": {},
   "outputs": [
    {
     "data": {
      "text/plain": [
       "{1, 2, 3, 6, 7, 8}"
      ]
     },
     "execution_count": 293,
     "metadata": {},
     "output_type": "execute_result"
    }
   ],
   "source": [
    "A.symmetric_difference(B) # Symmetric difference (Set of elements in A and B but there are not common for not in both."
   ]
  },
  {
   "cell_type": "code",
   "execution_count": 294,
   "id": "36ed09bb",
   "metadata": {},
   "outputs": [
    {
     "data": {
      "text/plain": [
       "{1, 2, 3, 6, 7, 8}"
      ]
     },
     "execution_count": 294,
     "metadata": {},
     "output_type": "execute_result"
    }
   ],
   "source": [
    "\"\"\"\n",
    "Updates the set calling the symmetric_difference_update() method with the symmetr\n",
    "For below example Set A will be updated with the symmetric difference of A & B.\n",
    "\"\"\"\n",
    "A.symmetric_difference_update(B)\n",
    "A"
   ]
  },
  {
   "attachments": {
    "image.png": {
     "image/png": "[encoded data removed]"
    }
   },
   "cell_type": "markdown",
   "id": "ea5d7c05",
   "metadata": {},
   "source": [
    "![image.png](attachment:image.png)"
   ]
  },
  {
   "cell_type": "code",
   "execution_count": 295,
   "id": "14bc0ca1",
   "metadata": {},
   "outputs": [],
   "source": [
    "A={1,2,3,4,5,6,7,8,9}\n",
    "B={3,4,5,6,7,8}\n",
    "C={10,20,30,40}"
   ]
  },
  {
   "cell_type": "code",
   "execution_count": 296,
   "id": "891aacff",
   "metadata": {},
   "outputs": [
    {
     "data": {
      "text/plain": [
       "True"
      ]
     },
     "execution_count": 296,
     "metadata": {},
     "output_type": "execute_result"
    }
   ],
   "source": [
    "B.issubset(A)     # Set B is said to be the subset of set A if all elements of B are in A"
   ]
  },
  {
   "cell_type": "code",
   "execution_count": 297,
   "id": "738f2bcf",
   "metadata": {},
   "outputs": [
    {
     "data": {
      "text/plain": [
       "True"
      ]
     },
     "execution_count": 297,
     "metadata": {},
     "output_type": "execute_result"
    }
   ],
   "source": [
    "A.issuperset(B) # Set A is said to be the superset of set B if all elements of B are in AC"
   ]
  },
  {
   "cell_type": "code",
   "execution_count": 298,
   "id": "d38bc694",
   "metadata": {},
   "outputs": [
    {
     "data": {
      "text/plain": [
       "True"
      ]
     },
     "execution_count": 298,
     "metadata": {},
     "output_type": "execute_result"
    }
   ],
   "source": [
    "C.isdisjoint(A)  # Two sets are said to be disjoint sets if they have no common elemets are in C and A"
   ]
  },
  {
   "cell_type": "markdown",
   "id": "a8981347",
   "metadata": {},
   "source": [
    "# Other Builtin functions"
   ]
  },
  {
   "cell_type": "code",
   "execution_count": 299,
   "id": "27e41fde",
   "metadata": {},
   "outputs": [
    {
     "data": {
      "text/plain": [
       "{1, 2, 3, 4, 5, 6, 7, 8, 9}"
      ]
     },
     "execution_count": 299,
     "metadata": {},
     "output_type": "execute_result"
    }
   ],
   "source": [
    "A"
   ]
  },
  {
   "cell_type": "code",
   "execution_count": 300,
   "id": "ec4da08a",
   "metadata": {},
   "outputs": [
    {
     "data": {
      "text/plain": [
       "45"
      ]
     },
     "execution_count": 300,
     "metadata": {},
     "output_type": "execute_result"
    }
   ],
   "source": [
    "sum(A)"
   ]
  },
  {
   "cell_type": "code",
   "execution_count": 301,
   "id": "f583423f",
   "metadata": {},
   "outputs": [
    {
     "data": {
      "text/plain": [
       "9"
      ]
     },
     "execution_count": 301,
     "metadata": {},
     "output_type": "execute_result"
    }
   ],
   "source": [
    "max(A)"
   ]
  },
  {
   "cell_type": "code",
   "execution_count": 302,
   "id": "b47a4e21",
   "metadata": {},
   "outputs": [
    {
     "data": {
      "text/plain": [
       "1"
      ]
     },
     "execution_count": 302,
     "metadata": {},
     "output_type": "execute_result"
    }
   ],
   "source": [
    "min(A)"
   ]
  },
  {
   "cell_type": "code",
   "execution_count": 303,
   "id": "2300f446",
   "metadata": {},
   "outputs": [
    {
     "data": {
      "text/plain": [
       "9"
      ]
     },
     "execution_count": 303,
     "metadata": {},
     "output_type": "execute_result"
    }
   ],
   "source": [
    "len(A)"
   ]
  },
  {
   "cell_type": "code",
   "execution_count": 304,
   "id": "64273a30",
   "metadata": {},
   "outputs": [
    {
     "data": {
      "text/plain": [
       "[(0, 1), (1, 2), (2, 3), (3, 4), (4, 5), (5, 6), (6, 7), (7, 8), (8, 9)]"
      ]
     },
     "execution_count": 304,
     "metadata": {},
     "output_type": "execute_result"
    }
   ],
   "source": [
    "list(enumerate(A))"
   ]
  },
  {
   "cell_type": "code",
   "execution_count": 305,
   "id": "46cca1c1",
   "metadata": {},
   "outputs": [
    {
     "data": {
      "text/plain": [
       "[9, 8, 7, 6, 5, 4, 3, 2, 1]"
      ]
     },
     "execution_count": 305,
     "metadata": {},
     "output_type": "execute_result"
    }
   ],
   "source": [
    "D=sorted(A, reverse=True)\n",
    "D"
   ]
  },
  {
   "cell_type": "code",
   "execution_count": 306,
   "id": "dd83b9fb",
   "metadata": {},
   "outputs": [
    {
     "data": {
      "text/plain": [
       "[1, 2, 3, 4, 5, 6, 7, 8, 9]"
      ]
     },
     "execution_count": 306,
     "metadata": {},
     "output_type": "execute_result"
    }
   ],
   "source": [
    "sorted(D)"
   ]
  },
  {
   "cell_type": "markdown",
   "id": "0959b8c6",
   "metadata": {},
   "source": [
    "# Dictionary"
   ]
  },
  {
   "cell_type": "markdown",
   "id": "a5919b02",
   "metadata": {},
   "source": [
    "Dictionary is a mutable data type in Python.\n",
    "\n",
    "A python dictionary is a collection of key and value pairs separated by a colon (:) & enclosedin curly braces {}.\n",
    "\n",
    "Keys must be unique in a dictionary, duplicate values are allowed.\n"
   ]
  },
  {
   "attachments": {
    "image.png": {
     "image/png": "[encoded data removed]"
    }
   },
   "cell_type": "markdown",
   "id": "5b861159",
   "metadata": {},
   "source": [
    "![image.png](attachment:image.png)"
   ]
  },
  {
   "cell_type": "markdown",
   "id": "81aa5652",
   "metadata": {},
   "source": [
    "# Create Dictionary"
   ]
  },
  {
   "cell_type": "code",
   "execution_count": 307,
   "id": "eda601cf",
   "metadata": {},
   "outputs": [
    {
     "data": {
      "text/plain": [
       "{}"
      ]
     },
     "execution_count": 307,
     "metadata": {},
     "output_type": "execute_result"
    }
   ],
   "source": [
    " mydict={}         # empty dictionary\n",
    " mydict"
   ]
  },
  {
   "cell_type": "code",
   "execution_count": 308,
   "id": "d3d1040b",
   "metadata": {},
   "outputs": [
    {
     "data": {
      "text/plain": [
       "{1: 'one', 2: 'two', 3: 'three'}"
      ]
     },
     "execution_count": 308,
     "metadata": {},
     "output_type": "execute_result"
    }
   ],
   "source": [
    "mydict={1:'one', 2:'two', 3:'three'}     #dictionary with integer keys\n",
    "mydict"
   ]
  },
  {
   "cell_type": "code",
   "execution_count": 309,
   "id": "735825bd",
   "metadata": {},
   "outputs": [
    {
     "data": {
      "text/plain": [
       "{1: 'one', 2: 'two', 3: 'three'}"
      ]
     },
     "execution_count": 309,
     "metadata": {},
     "output_type": "execute_result"
    }
   ],
   "source": [
    "mydict=dict({1:'one', 2:'two', 3:'three'})      # Create dictionary using dict()\n",
    "mydict"
   ]
  },
  {
   "cell_type": "code",
   "execution_count": 310,
   "id": "08c601a3",
   "metadata": {},
   "outputs": [
    {
     "data": {
      "text/plain": [
       "{'A': 'one', 'B': 'two', 'C': 'three'}"
      ]
     },
     "execution_count": 310,
     "metadata": {},
     "output_type": "execute_result"
    }
   ],
   "source": [
    "mydict={'A':'one','B':'two','C':'three'}                 # dictionary with character keys\n",
    "mydict"
   ]
  },
  {
   "cell_type": "code",
   "execution_count": 311,
   "id": "e7642dd1",
   "metadata": {},
   "outputs": [
    {
     "data": {
      "text/plain": [
       "{1: 'one', 'B': 'two', 'C': 'three'}"
      ]
     },
     "execution_count": 311,
     "metadata": {},
     "output_type": "execute_result"
    }
   ],
   "source": [
    "mydict={1:'one','B':'two','C':'three'}                 # dictionary with Mixed keys\n",
    "mydict"
   ]
  },
  {
   "cell_type": "code",
   "execution_count": 312,
   "id": "248defcc",
   "metadata": {},
   "outputs": [
    {
     "data": {
      "text/plain": [
       "dict_keys([1, 'B', 'C'])"
      ]
     },
     "execution_count": 312,
     "metadata": {},
     "output_type": "execute_result"
    }
   ],
   "source": [
    "mydict.keys()                                     # Return Dictionary Keys using keys() method"
   ]
  },
  {
   "cell_type": "code",
   "execution_count": 313,
   "id": "5daa291d",
   "metadata": {},
   "outputs": [
    {
     "data": {
      "text/plain": [
       "dict_values(['one', 'two', 'three'])"
      ]
     },
     "execution_count": 313,
     "metadata": {},
     "output_type": "execute_result"
    }
   ],
   "source": [
    "mydict.values()                                      # Return Dictionary Values using values() method"
   ]
  },
  {
   "cell_type": "code",
   "execution_count": 314,
   "id": "0c494553",
   "metadata": {},
   "outputs": [
    {
     "data": {
      "text/plain": [
       "dict_items([(1, 'one'), ('B', 'two'), ('C', 'three')])"
      ]
     },
     "execution_count": 314,
     "metadata": {},
     "output_type": "execute_result"
    }
   ],
   "source": [
    "mydict.items()                           # Access each key-value pair within a dictionary"
   ]
  },
  {
   "cell_type": "code",
   "execution_count": 315,
   "id": "eadcec94",
   "metadata": {},
   "outputs": [
    {
     "data": {
      "text/plain": [
       "{1: 'one', 2: 'two', 'A': ['asif', 'john', 'Maria']}"
      ]
     },
     "execution_count": 315,
     "metadata": {},
     "output_type": "execute_result"
    }
   ],
   "source": [
    "mydict={1:'one',2:'two','A':['asif','john','Maria']}  # dictionary with other sequtial datatypes eg List\n",
    "mydict"
   ]
  },
  {
   "cell_type": "code",
   "execution_count": 316,
   "id": "c5d502ec",
   "metadata": {},
   "outputs": [
    {
     "data": {
      "text/plain": [
       "{'a': 10, 'd': 10, 'c': 10, 'b': 10}"
      ]
     },
     "execution_count": 316,
     "metadata": {},
     "output_type": "execute_result"
    }
   ],
   "source": [
    "keys={'a','b','c','d'}\n",
    "value=10\n",
    "mydict3=dict.fromkeys(keys,value)   # Create a dictionary from a sequence of k\n",
    "mydict3"
   ]
  },
  {
   "cell_type": "code",
   "execution_count": 317,
   "id": "7b7d6efc",
   "metadata": {},
   "outputs": [
    {
     "data": {
      "text/plain": [
       "{'a': [10, 20, 30], 'd': [10, 20, 30], 'c': [10, 20, 30], 'b': [10, 20, 30]}"
      ]
     },
     "execution_count": 317,
     "metadata": {},
     "output_type": "execute_result"
    }
   ],
   "source": [
    "keys={'a','b','c','d'}\n",
    "value=[10,20,30]\n",
    "mydict3=dict.fromkeys(keys,value)    # Create a dictionary from a sequence of k\n",
    "mydict3"
   ]
  },
  {
   "cell_type": "code",
   "execution_count": 318,
   "id": "497dcd69",
   "metadata": {},
   "outputs": [],
   "source": [
    "value.append(40)"
   ]
  },
  {
   "cell_type": "code",
   "execution_count": 319,
   "id": "8c21a62c",
   "metadata": {},
   "outputs": [
    {
     "data": {
      "text/plain": [
       "{'a': [10, 20, 30, 40],\n",
       " 'd': [10, 20, 30, 40],\n",
       " 'c': [10, 20, 30, 40],\n",
       " 'b': [10, 20, 30, 40]}"
      ]
     },
     "execution_count": 319,
     "metadata": {},
     "output_type": "execute_result"
    }
   ],
   "source": [
    "mydict3"
   ]
  },
  {
   "cell_type": "markdown",
   "id": "9edf7963",
   "metadata": {},
   "source": [
    "# Accessing Items"
   ]
  },
  {
   "cell_type": "code",
   "execution_count": 320,
   "id": "29ccfc87",
   "metadata": {},
   "outputs": [
    {
     "data": {
      "text/plain": [
       "{1: 'one', 2: 'two', 3: 'three', 4: 'four'}"
      ]
     },
     "execution_count": 320,
     "metadata": {},
     "output_type": "execute_result"
    }
   ],
   "source": [
    "mydict={1:'one',2:'two',3:'three',4:'four'}\n",
    "mydict"
   ]
  },
  {
   "cell_type": "code",
   "execution_count": 321,
   "id": "ce32e2a0",
   "metadata": {},
   "outputs": [
    {
     "data": {
      "text/plain": [
       "'one'"
      ]
     },
     "execution_count": 321,
     "metadata": {},
     "output_type": "execute_result"
    }
   ],
   "source": [
    "mydict[1]   # Access item using key"
   ]
  },
  {
   "cell_type": "code",
   "execution_count": 322,
   "id": "e38d4059",
   "metadata": {},
   "outputs": [
    {
     "data": {
      "text/plain": [
       "'one'"
      ]
     },
     "execution_count": 322,
     "metadata": {},
     "output_type": "execute_result"
    }
   ],
   "source": [
    "mydict.get(1)  # Access item using get() method"
   ]
  },
  {
   "cell_type": "code",
   "execution_count": 323,
   "id": "711f83ad",
   "metadata": {},
   "outputs": [
    {
     "data": {
      "text/plain": [
       "{'Name': 'Asif', 'ID': 74123, 'DOB': 1991, 'job': 'Analyst'}"
      ]
     },
     "execution_count": 323,
     "metadata": {},
     "output_type": "execute_result"
    }
   ],
   "source": [
    "mydict1={'Name':'Asif','ID':74123,'DOB':1991,'job':'Analyst'}\n",
    "mydict1"
   ]
  },
  {
   "cell_type": "code",
   "execution_count": 324,
   "id": "8ae02eb6",
   "metadata": {},
   "outputs": [
    {
     "data": {
      "text/plain": [
       "'Asif'"
      ]
     },
     "execution_count": 324,
     "metadata": {},
     "output_type": "execute_result"
    }
   ],
   "source": [
    "mydict1['Name']     # Access item using key"
   ]
  },
  {
   "cell_type": "code",
   "execution_count": 325,
   "id": "e00dcbbc",
   "metadata": {},
   "outputs": [
    {
     "data": {
      "text/plain": [
       "'Analyst'"
      ]
     },
     "execution_count": 325,
     "metadata": {},
     "output_type": "execute_result"
    }
   ],
   "source": [
    "mydict1.get('job')   # Access item using get() method"
   ]
  },
  {
   "cell_type": "markdown",
   "id": "daa63772",
   "metadata": {},
   "source": [
    "# Add, Remove & Change Items"
   ]
  },
  {
   "cell_type": "code",
   "execution_count": 349,
   "id": "c958abb1",
   "metadata": {},
   "outputs": [
    {
     "data": {
      "text/plain": [
       "{'Name': 'Asif', 'ID': 74123, 'DOB': 1991, 'Address': 'Helshiki'}"
      ]
     },
     "execution_count": 349,
     "metadata": {},
     "output_type": "execute_result"
    }
   ],
   "source": [
    "mydict1={'Name':'Asif','ID':74123,'DOB':1991,'Address':'Helshiki'}   \n",
    "mydict1"
   ]
  },
  {
   "cell_type": "code",
   "execution_count": 350,
   "id": "aac8ec13",
   "metadata": {},
   "outputs": [
    {
     "data": {
      "text/plain": [
       "{'Name': 'Asif', 'ID': 74123, 'DOB': 1992, 'Address': 'Chennai'}"
      ]
     },
     "execution_count": 350,
     "metadata": {},
     "output_type": "execute_result"
    }
   ],
   "source": [
    "mydict1['DOB'] =1992                                                  # updating items in the dictionary\n",
    "mydict1[\"Address\"]='Chennai'\n",
    "mydict1"
   ]
  },
  {
   "cell_type": "code",
   "execution_count": 351,
   "id": "84620561",
   "metadata": {},
   "outputs": [
    {
     "data": {
      "text/plain": [
       "{'Name': 'Asif', 'ID': 74123, 'DOB': 1995, 'Address': 'Chennai'}"
      ]
     },
     "execution_count": 351,
     "metadata": {},
     "output_type": "execute_result"
    }
   ],
   "source": [
    "mydict1.update({'DOB':1995})\n",
    "mydict1"
   ]
  },
  {
   "cell_type": "code",
   "execution_count": 352,
   "id": "5cde470c",
   "metadata": {},
   "outputs": [
    {
     "data": {
      "text/plain": [
       "{'Name': 'Asif',\n",
       " 'ID': 74123,\n",
       " 'DOB': 1995,\n",
       " 'Address': 'Chennai',\n",
       " 'Job': 'Data Analysist'}"
      ]
     },
     "execution_count": 352,
     "metadata": {},
     "output_type": "execute_result"
    }
   ],
   "source": [
    "mydict1['Job']=\"Data Analysist\"                                      # Adding items in the dictionary\n",
    "mydict1"
   ]
  },
  {
   "cell_type": "code",
   "execution_count": 353,
   "id": "57f1f28c",
   "metadata": {},
   "outputs": [
    {
     "data": {
      "text/plain": [
       "{'Name': 'Asif', 'ID': 74123, 'DOB': 1995, 'Address': 'Chennai'}"
      ]
     },
     "execution_count": 353,
     "metadata": {},
     "output_type": "execute_result"
    }
   ],
   "source": [
    "mydict1.pop('Job') # Removing items in the dictionary using Pop method\n",
    "mydict1"
   ]
  },
  {
   "cell_type": "code",
   "execution_count": 354,
   "id": "55d07f20",
   "metadata": {},
   "outputs": [
    {
     "data": {
      "text/plain": [
       "('Address', 'Chennai')"
      ]
     },
     "execution_count": 354,
     "metadata": {},
     "output_type": "execute_result"
    }
   ],
   "source": [
    "mydict1.popitem()# A last item item is removed"
   ]
  },
  {
   "cell_type": "code",
   "execution_count": 355,
   "id": "53b3433c",
   "metadata": {},
   "outputs": [
    {
     "data": {
      "text/plain": [
       "{'Name': 'Asif', 'DOB': 1995}"
      ]
     },
     "execution_count": 355,
     "metadata": {},
     "output_type": "execute_result"
    }
   ],
   "source": [
    "del mydict1['ID']                  # Removing item using del method\n",
    "mydict1  "
   ]
  },
  {
   "cell_type": "code",
   "execution_count": 357,
   "id": "484d3376",
   "metadata": {},
   "outputs": [
    {
     "data": {
      "text/plain": [
       "{}"
      ]
     },
     "execution_count": 357,
     "metadata": {},
     "output_type": "execute_result"
    }
   ],
   "source": [
    " mydict1.clear()\n",
    "mydict1"
   ]
  },
  {
   "cell_type": "code",
   "execution_count": 358,
   "id": "794275b6",
   "metadata": {},
   "outputs": [
    {
     "ename": "NameError",
     "evalue": "name 'mydict1' is not defined",
     "output_type": "error",
     "traceback": [
      "\u001b[1;31m---------------------------------------------------------------------------\u001b[0m",
      "\u001b[1;31mNameError\u001b[0m                                 Traceback (most recent call last)",
      "\u001b[1;32m~\\AppData\\Local\\Temp/ipykernel_11208/1059459225.py\u001b[0m in \u001b[0;36m<module>\u001b[1;34m\u001b[0m\n\u001b[0;32m      1\u001b[0m \u001b[1;32mdel\u001b[0m \u001b[0mmydict1\u001b[0m\u001b[1;33m\u001b[0m\u001b[1;33m\u001b[0m\u001b[0m\n\u001b[1;32m----> 2\u001b[1;33m \u001b[0mmydict1\u001b[0m\u001b[1;33m\u001b[0m\u001b[1;33m\u001b[0m\u001b[0m\n\u001b[0m",
      "\u001b[1;31mNameError\u001b[0m: name 'mydict1' is not defined"
     ]
    }
   ],
   "source": [
    "del mydict1\n",
    "mydict1"
   ]
  },
  {
   "cell_type": "markdown",
   "id": "1e604b3b",
   "metadata": {},
   "source": [
    "# Copy Dictionary"
   ]
  },
  {
   "cell_type": "code",
   "execution_count": 1,
   "id": "a4b09e5a",
   "metadata": {},
   "outputs": [
    {
     "data": {
      "text/plain": [
       "{'Name': 'Asif', 'ID': 74123, 'DOB': 1991, 'Address': 'Helshiki'}"
      ]
     },
     "execution_count": 1,
     "metadata": {},
     "output_type": "execute_result"
    }
   ],
   "source": [
    "mydict={'Name':'Asif','ID':74123,'DOB':1991,'Address':'Helshiki'}   \n",
    "mydict"
   ]
  },
  {
   "cell_type": "code",
   "execution_count": 2,
   "id": "9cfe0543",
   "metadata": {},
   "outputs": [
    {
     "data": {
      "text/plain": [
       "{'Name': 'Asif', 'ID': 74123, 'DOB': 1991, 'Address': 'Helshiki'}"
      ]
     },
     "execution_count": 2,
     "metadata": {},
     "output_type": "execute_result"
    }
   ],
   "source": [
    "mydict1=mydict                         # Create a new reference \"mydict1\"\n",
    "mydict1"
   ]
  },
  {
   "cell_type": "code",
   "execution_count": 3,
   "id": "3c3fded2",
   "metadata": {},
   "outputs": [
    {
     "data": {
      "text/plain": [
       "(1869566571264, 1869566571264)"
      ]
     },
     "execution_count": 3,
     "metadata": {},
     "output_type": "execute_result"
    }
   ],
   "source": [
    "id(mydict), id(mydict1)               # The address of both mydict & mydict1 will be the same"
   ]
  },
  {
   "cell_type": "code",
   "execution_count": 4,
   "id": "e354de25",
   "metadata": {},
   "outputs": [],
   "source": [
    "mydict2=mydict1.copy()               # Create a copy of the dictionary"
   ]
  },
  {
   "cell_type": "code",
   "execution_count": 5,
   "id": "22dea78e",
   "metadata": {},
   "outputs": [
    {
     "data": {
      "text/plain": [
       "(1869566571264, 1869566571264, 1869600672384)"
      ]
     },
     "execution_count": 5,
     "metadata": {},
     "output_type": "execute_result"
    }
   ],
   "source": [
    "id(mydict), id(mydict1),id(mydict2)  # The address of mydict2 will be different from mydict because mydict2 \n",
    "                                     #   is not refrence"
   ]
  },
  {
   "cell_type": "code",
   "execution_count": 6,
   "id": "fa1e27c0",
   "metadata": {},
   "outputs": [
    {
     "data": {
      "text/plain": [
       "{'Name': 'Asif', 'ID': 74123, 'DOB': 1991, 'Address': 'Helshiki'}"
      ]
     },
     "execution_count": 6,
     "metadata": {},
     "output_type": "execute_result"
    }
   ],
   "source": [
    "mydict"
   ]
  },
  {
   "cell_type": "code",
   "execution_count": 7,
   "id": "7e20e36e",
   "metadata": {},
   "outputs": [
    {
     "data": {
      "text/plain": [
       "{'Name': 'Asif', 'ID': 74123, 'DOB': 1991, 'Address': 'Mumbai'}"
      ]
     },
     "execution_count": 7,
     "metadata": {},
     "output_type": "execute_result"
    }
   ],
   "source": [
    "mydict['Address']='Mumbai'\n",
    "mydict"
   ]
  },
  {
   "cell_type": "code",
   "execution_count": 8,
   "id": "e43bf540",
   "metadata": {},
   "outputs": [
    {
     "data": {
      "text/plain": [
       "{'Name': 'Asif', 'ID': 74123, 'DOB': 1991, 'Address': 'Mumbai'}"
      ]
     },
     "execution_count": 8,
     "metadata": {},
     "output_type": "execute_result"
    }
   ],
   "source": [
    "mydict1  # mydict1 will be also impacted as it is pointing to the same dictionary"
   ]
  },
  {
   "cell_type": "code",
   "execution_count": 9,
   "id": "41b624af",
   "metadata": {},
   "outputs": [
    {
     "data": {
      "text/plain": [
       "{'Name': 'Asif', 'ID': 74123, 'DOB': 1991, 'Address': 'Helshiki'}"
      ]
     },
     "execution_count": 9,
     "metadata": {},
     "output_type": "execute_result"
    }
   ],
   "source": [
    "mydict2  # Copy of dictonary won't be impacted due to the changes made in the original"
   ]
  },
  {
   "cell_type": "markdown",
   "id": "752aed0d",
   "metadata": {},
   "source": [
    "# Loop through a Dictionary"
   ]
  },
  {
   "cell_type": "code",
   "execution_count": 12,
   "id": "68b419e3",
   "metadata": {},
   "outputs": [
    {
     "data": {
      "text/plain": [
       "{'Name': 'Asif',\n",
       " 'ID': 12345,\n",
       " 'DOB': 1991,\n",
       " 'Address': 'Hilsinki',\n",
       " 'Job': 'Analyst'}"
      ]
     },
     "execution_count": 12,
     "metadata": {},
     "output_type": "execute_result"
    }
   ],
   "source": [
    "mydict1={'Name':'Asif', 'ID':12345, 'DOB':1991, 'Address':'Hilsinki', 'Job': 'Analyst'}\n",
    "mydict1"
   ]
  },
  {
   "cell_type": "code",
   "execution_count": 15,
   "id": "1da3fe96",
   "metadata": {},
   "outputs": [
    {
     "name": "stdout",
     "output_type": "stream",
     "text": [
      "Name : Asif\n",
      "ID : 12345\n",
      "DOB : 1991\n",
      "Address : Hilsinki\n",
      "Job : Analyst\n"
     ]
    }
   ],
   "source": [
    "for i in mydict1:\n",
    "    print(i, ':',mydict1[i])   # Key & value pair"
   ]
  },
  {
   "cell_type": "code",
   "execution_count": 16,
   "id": "6da26f5e",
   "metadata": {},
   "outputs": [
    {
     "name": "stdout",
     "output_type": "stream",
     "text": [
      "Asif\n",
      "12345\n",
      "1991\n",
      "Hilsinki\n",
      "Analyst\n"
     ]
    }
   ],
   "source": [
    "for i in mydict1:\n",
    "    print(mydict1[i]) # only  items"
   ]
  },
  {
   "cell_type": "markdown",
   "id": "8bef5397",
   "metadata": {},
   "source": [
    "# Dictionary Membership"
   ]
  },
  {
   "cell_type": "code",
   "execution_count": 17,
   "id": "c6d63a69",
   "metadata": {},
   "outputs": [
    {
     "data": {
      "text/plain": [
       "{'Name': 'Asif',\n",
       " 'ID': 12345,\n",
       " 'DOB': 1991,\n",
       " 'Address': 'Hilsinki',\n",
       " 'Job': 'Analyst'}"
      ]
     },
     "execution_count": 17,
     "metadata": {},
     "output_type": "execute_result"
    }
   ],
   "source": [
    "mydict1={'Name':'Asif', 'ID':12345, 'DOB':1991, 'Address':'Hilsinki', 'Job': 'Analyst'}\n",
    "mydict1"
   ]
  },
  {
   "cell_type": "code",
   "execution_count": 18,
   "id": "cd23f8cc",
   "metadata": {},
   "outputs": [
    {
     "data": {
      "text/plain": [
       "True"
      ]
     },
     "execution_count": 18,
     "metadata": {},
     "output_type": "execute_result"
    }
   ],
   "source": [
    "'Name' in mydict1             #Test if a key is in a dictionary or not."
   ]
  },
  {
   "cell_type": "code",
   "execution_count": 20,
   "id": "06ce2fa1",
   "metadata": {},
   "outputs": [
    {
     "data": {
      "text/plain": [
       "False"
      ]
     },
     "execution_count": 20,
     "metadata": {},
     "output_type": "execute_result"
    }
   ],
   "source": [
    "'Asif'  in mydict1          # Membership test can be only done for keys."
   ]
  },
  {
   "cell_type": "code",
   "execution_count": 22,
   "id": "d51c3249",
   "metadata": {},
   "outputs": [
    {
     "data": {
      "text/plain": [
       "True"
      ]
     },
     "execution_count": 22,
     "metadata": {},
     "output_type": "execute_result"
    }
   ],
   "source": [
    "'ID'  in mydict1"
   ]
  },
  {
   "cell_type": "code",
   "execution_count": 23,
   "id": "c5a97783",
   "metadata": {},
   "outputs": [
    {
     "data": {
      "text/plain": [
       "True"
      ]
     },
     "execution_count": 23,
     "metadata": {},
     "output_type": "execute_result"
    }
   ],
   "source": [
    "'Address'  in mydict1"
   ]
  },
  {
   "cell_type": "markdown",
   "id": "cc0b6b78",
   "metadata": {},
   "source": [
    "# All / Any\n",
    "The\n",
    "all()\n",
    "method returns:\n",
    "True\n",
    "- If all all keys of the dictionary are true\n",
    "False\n",
    "- If any key of the dictionary is false\n",
    "The\n",
    "any()\n",
    "function returns True if any key of the dictionary is True. If not, any() returns False."
   ]
  },
  {
   "cell_type": "code",
   "execution_count": 24,
   "id": "73cdcad4",
   "metadata": {},
   "outputs": [
    {
     "data": {
      "text/plain": [
       "{'Name': 'Asif',\n",
       " 'ID': 12345,\n",
       " 'DOB': 1991,\n",
       " 'Address': 'Hilsinki',\n",
       " 'Job': 'Analyst'}"
      ]
     },
     "execution_count": 24,
     "metadata": {},
     "output_type": "execute_result"
    }
   ],
   "source": [
    "mydict1={'Name':'Asif', 'ID':12345, 'DOB':1991, 'Address':'Hilsinki', 'Job': 'Analyst'}\n",
    "mydict1"
   ]
  },
  {
   "cell_type": "code",
   "execution_count": 25,
   "id": "2fe081b8",
   "metadata": {},
   "outputs": [
    {
     "data": {
      "text/plain": [
       "True"
      ]
     },
     "execution_count": 25,
     "metadata": {},
     "output_type": "execute_result"
    }
   ],
   "source": [
    "all(mydict1)"
   ]
  },
  {
   "cell_type": "code",
   "execution_count": 26,
   "id": "8202f462",
   "metadata": {},
   "outputs": [
    {
     "data": {
      "text/plain": [
       "True"
      ]
     },
     "execution_count": 26,
     "metadata": {},
     "output_type": "execute_result"
    }
   ],
   "source": [
    "any(mydict1)"
   ]
  },
  {
   "cell_type": "code",
   "execution_count": 27,
   "id": "f39546c9",
   "metadata": {},
   "outputs": [
    {
     "data": {
      "text/plain": [
       "{'Name': 'Asif',\n",
       " 'ID': 12345,\n",
       " 'DOB': 1991,\n",
       " 'Address': 'Hilsinki',\n",
       " 'Job': 'Analyst',\n",
       " 0: 'test'}"
      ]
     },
     "execution_count": 27,
     "metadata": {},
     "output_type": "execute_result"
    }
   ],
   "source": [
    "mydict1[0]='test'\n",
    "mydict1"
   ]
  },
  {
   "cell_type": "code",
   "execution_count": 28,
   "id": "2513540e",
   "metadata": {},
   "outputs": [
    {
     "data": {
      "text/plain": [
       "False"
      ]
     },
     "execution_count": 28,
     "metadata": {},
     "output_type": "execute_result"
    }
   ],
   "source": [
    "all(mydict1)"
   ]
  },
  {
   "cell_type": "code",
   "execution_count": 31,
   "id": "9487e869",
   "metadata": {},
   "outputs": [
    {
     "data": {
      "text/plain": [
       "True"
      ]
     },
     "execution_count": 31,
     "metadata": {},
     "output_type": "execute_result"
    }
   ],
   "source": [
    "any(mydict1)"
   ]
  },
  {
   "cell_type": "code",
   "execution_count": 35,
   "id": "ffa10c86",
   "metadata": {},
   "outputs": [
    {
     "data": {
      "text/plain": [
       "{0: 'test', 1: 'test1', 2: 'test3'}"
      ]
     },
     "execution_count": 35,
     "metadata": {},
     "output_type": "execute_result"
    }
   ],
   "source": [
    "mydict1={ 0:'test', 1:'test1', 2:'test3'}\n",
    "mydict1"
   ]
  },
  {
   "cell_type": "code",
   "execution_count": 36,
   "id": "c093b959",
   "metadata": {},
   "outputs": [
    {
     "data": {
      "text/plain": [
       "False"
      ]
     },
     "execution_count": 36,
     "metadata": {},
     "output_type": "execute_result"
    }
   ],
   "source": [
    "all(mydict1)"
   ]
  },
  {
   "cell_type": "code",
   "execution_count": 37,
   "id": "87a97782",
   "metadata": {},
   "outputs": [
    {
     "data": {
      "text/plain": [
       "True"
      ]
     },
     "execution_count": 37,
     "metadata": {},
     "output_type": "execute_result"
    }
   ],
   "source": [
    "any(mydict1)"
   ]
  },
  {
   "cell_type": "markdown",
   "id": "2d414c06",
   "metadata": {},
   "source": [
    "# Dictionary Comprehension"
   ]
  },
  {
   "cell_type": "code",
   "execution_count": 39,
   "id": "90fde3e0",
   "metadata": {},
   "outputs": [
    {
     "data": {
      "text/plain": [
       "{0: 0, 1: 2, 2: 4, 3: 6, 4: 8, 5: 10, 6: 12, 7: 14, 8: 16, 9: 18}"
      ]
     },
     "execution_count": 39,
     "metadata": {},
     "output_type": "execute_result"
    }
   ],
   "source": [
    "double={i:i*2 for i in range(10)}\n",
    "double"
   ]
  },
  {
   "cell_type": "code",
   "execution_count": 41,
   "id": "2cac5746",
   "metadata": {},
   "outputs": [
    {
     "data": {
      "text/plain": [
       "{0: 0, 1: 1, 2: 4, 3: 9, 4: 16, 5: 25, 6: 36, 7: 49, 8: 64, 9: 81}"
      ]
     },
     "execution_count": 41,
     "metadata": {},
     "output_type": "execute_result"
    }
   ],
   "source": [
    "squre={i:i**2 for i in range(10)}\n",
    "squre "
   ]
  },
  {
   "attachments": {
    "image.png": {
     "image/png": "[encoded data removed]"
    }
   },
   "cell_type": "markdown",
   "id": "379a5feb",
   "metadata": {},
   "source": [
    "# ![image.png](attachment:image.png)"
   ]
  },
  {
   "cell_type": "code",
   "execution_count": 42,
   "id": "4da530a4",
   "metadata": {},
   "outputs": [],
   "source": [
    "key=['one', 'two', 'three', 'four']\n",
    "value=[1,2,3,4,5]"
   ]
  },
  {
   "cell_type": "code",
   "execution_count": 50,
   "id": "a66d4829",
   "metadata": {},
   "outputs": [
    {
     "data": {
      "text/plain": [
       "{'one': 1, 'two': 2, 'three': 3, 'four': 4}"
      ]
     },
     "execution_count": 50,
     "metadata": {},
     "output_type": "execute_result"
    }
   ],
   "source": [
    "mydict={k:v for k,v in zip(key,value)}\n",
    "mydict"
   ]
  },
  {
   "cell_type": "code",
   "execution_count": 55,
   "id": "f9a4951f",
   "metadata": {},
   "outputs": [
    {
     "data": {
      "text/plain": [
       "{'one': 0.1, 'two': 0.2, 'three': 0.3, 'four': 0.4}"
      ]
     },
     "execution_count": 55,
     "metadata": {},
     "output_type": "execute_result"
    }
   ],
   "source": [
    "mydict1={ k:v/10 for k,v in mydict.items()}\n",
    "mydict1"
   ]
  },
  {
   "cell_type": "code",
   "execution_count": 1,
   "id": "0058cdeb",
   "metadata": {},
   "outputs": [
    {
     "data": {
      "text/plain": [
       "{0: 'N',\n",
       " 1: 'a',\n",
       " 2: 't',\n",
       " 3: 'u',\n",
       " 4: 'r',\n",
       " 5: 'a',\n",
       " 6: 'l',\n",
       " 7: ' ',\n",
       " 8: 'L',\n",
       " 9: 'a',\n",
       " 10: 'n',\n",
       " 11: 'g',\n",
       " 12: 'u',\n",
       " 13: 'a',\n",
       " 14: 'g',\n",
       " 15: 'e',\n",
       " 16: ' ',\n",
       " 17: 'P',\n",
       " 18: 'r',\n",
       " 19: 'o',\n",
       " 20: 'c',\n",
       " 21: 'e',\n",
       " 22: 's',\n",
       " 23: 's',\n",
       " 24: 'i',\n",
       " 25: 'n',\n",
       " 26: 'g'}"
      ]
     },
     "execution_count": 1,
     "metadata": {},
     "output_type": "execute_result"
    }
   ],
   "source": [
    "str1=\"Natural Language Processing\"\n",
    "\n",
    "mydict1={ k:v for k,v in enumerate(str1)} # Store enumerated values in a dictionary\n",
    "mydict1\n"
   ]
  },
  {
   "cell_type": "code",
   "execution_count": 5,
   "id": "dcdcdd77",
   "metadata": {},
   "outputs": [
    {
     "data": {
      "text/plain": [
       "{'a': 'A',\n",
       " 'b': 'B',\n",
       " 'c': 'C',\n",
       " 'd': 'D',\n",
       " 'e': 'E',\n",
       " 'f': 'F',\n",
       " 'g': 'G',\n",
       " 'h': 'H',\n",
       " 'i': 'I',\n",
       " 'j': 'J',\n",
       " 'k': 'K',\n",
       " 'l': 'L',\n",
       " 'm': 'M',\n",
       " 'n': 'N',\n",
       " 'o': 'O',\n",
       " 'p': 'P',\n",
       " 'q': 'Q',\n",
       " 'r': 'R',\n",
       " 's': 'S',\n",
       " 't': 'T',\n",
       " 'u': 'U',\n",
       " 'v': 'V',\n",
       " 'w': 'W',\n",
       " 'x': 'X',\n",
       " 'y': 'Y',\n",
       " 'z': 'Z'}"
      ]
     },
     "execution_count": 5,
     "metadata": {},
     "output_type": "execute_result"
    }
   ],
   "source": [
    "str1=\"abcdefghijklmnopqrstuvwxyz\"\n",
    "\n",
    "mydict1={ i:i.upper() for i in str1} # Lowercase to UPPER case\n",
    "mydict1"
   ]
  },
  {
   "cell_type": "markdown",
   "id": "91621658",
   "metadata": {},
   "source": [
    "# Word Frequency using dictionary"
   ]
  },
  {
   "cell_type": "code",
   "execution_count": 6,
   "id": "38e0f16f",
   "metadata": {},
   "outputs": [],
   "source": [
    "mystr4=\"one two three four one two three four one two two three five five six seven six seven\""
   ]
  },
  {
   "cell_type": "code",
   "execution_count": 7,
   "id": "3f15cba3",
   "metadata": {},
   "outputs": [
    {
     "data": {
      "text/plain": [
       "['one',\n",
       " 'two',\n",
       " 'three',\n",
       " 'four',\n",
       " 'one',\n",
       " 'two',\n",
       " 'three',\n",
       " 'four',\n",
       " 'one',\n",
       " 'two',\n",
       " 'two',\n",
       " 'three',\n",
       " 'five',\n",
       " 'five',\n",
       " 'six',\n",
       " 'seven',\n",
       " 'six',\n",
       " 'seven']"
      ]
     },
     "execution_count": 7,
     "metadata": {},
     "output_type": "execute_result"
    }
   ],
   "source": [
    "mylist=mystr4.split()       # Split String into substrings\n",
    "mylist"
   ]
  },
  {
   "cell_type": "code",
   "execution_count": 8,
   "id": "489d274b",
   "metadata": {},
   "outputs": [
    {
     "data": {
      "text/plain": [
       "['one', 'four', 'six', 'five', 'two', 'seven', 'three']"
      ]
     },
     "execution_count": 8,
     "metadata": {},
     "output_type": "execute_result"
    }
   ],
   "source": [
    "mylist1=set(mylist)               # Unique values in a list\n",
    "mylist1=list(mylist1)\n",
    "mylist1"
   ]
  },
  {
   "cell_type": "code",
   "execution_count": 10,
   "id": "c4eb2857",
   "metadata": {},
   "outputs": [
    {
     "name": "stdout",
     "output_type": "stream",
     "text": [
      "one: 3\n",
      "four: 2\n",
      "six: 2\n",
      "five: 2\n",
      "two: 4\n",
      "seven: 2\n",
      "three: 3\n"
     ]
    }
   ],
   "source": [
    "for i in mylist1:\n",
    "   print(f\"{i}: {mylist.count(i)}\")\n"
   ]
  },
  {
   "cell_type": "code",
   "execution_count": 11,
   "id": "8dad30a0",
   "metadata": {},
   "outputs": [
    {
     "data": {
      "text/plain": [
       "{'one': 3, 'four': 2, 'six': 2, 'five': 2, 'two': 4, 'seven': 2, 'three': 3}"
      ]
     },
     "execution_count": 11,
     "metadata": {},
     "output_type": "execute_result"
    }
   ],
   "source": [
    "{i:mylist.count(i) for i in mylist1 }"
   ]
  },
  {
   "cell_type": "markdown",
   "id": "d6c82466",
   "metadata": {},
   "source": [
    "# Operators"
   ]
  },
  {
   "cell_type": "markdown",
   "id": "6f56ca98",
   "metadata": {},
   "source": [
    "Operators are special symbols in Python which are used to perform operations onvariables/values."
   ]
  },
  {
   "cell_type": "markdown",
   "id": "727544a3",
   "metadata": {},
   "source": [
    "# Arithmetic Operators"
   ]
  },
  {
   "cell_type": "code",
   "execution_count": 8,
   "id": "a965bb7d",
   "metadata": {},
   "outputs": [
    {
     "name": "stdout",
     "output_type": "stream",
     "text": [
      "Addition of  a as 5 and b as  2 will give (a + b) as  :- 7\n",
      "\n",
      "Concatenate string  x as Asif and y as Bhat using '+' operaotr for concdinate and give  :- AsifBhat\n",
      "\n",
      "Subtracting a as 5 and b as  2 will give (a - b) as  :- 3\n",
      "\n",
      "Multiplying a as 5 and b as  2 will give (a * b) as  :- 10\n",
      "\n",
      "Dividing a as 5 and b as  2 will give (a / b) as  :- 2.5\n",
      "\n",
      "Modulo of a as  5 , b as 2 will give :- 1\n",
      "\n",
      "a as 5 raised to the power b as 2 will give :- 25\n",
      "\n",
      "Floor division of a as 5 by b as 2 will give :- 2\n",
      "\n"
     ]
    }
   ],
   "source": [
    "a = 5\n",
    "b = 2\n",
    "x = 'Asif'\n",
    "y = 'Bhat'\n",
    "# Addition\n",
    "c = a + b\n",
    "print(f\"Addition of  a as {a} and b as  {b} will give (a + b) as  :- {c}\\n\")\n",
    "#Concatenate string using plus operator\n",
    "z = x+y\n",
    "print (f\"Concatenate string  x as {x} and y as {y} using \\'+\\' operaotr for concdinate and give  :- {z}\\n\")\n",
    "\n",
    "# Subtraction\n",
    "c = a - b\n",
    "print(f\"Subtracting a as {a} and b as  {b} will give (a - b) as  :- {c}\\n\")\n",
    "\n",
    "# Multiplication\n",
    "c = a * b\n",
    "print(f\"Multiplying a as {a} and b as  {b} will give (a * b) as  :- {c}\\n\")\n",
    "\n",
    "# Division\n",
    "c = a / b\n",
    "print(f\"Dividing a as {a} and b as  {b} will give (a / b) as  :- {c}\\n\")\n",
    "\n",
    "# Modulo of both number\n",
    "c = a % b\n",
    "print(f\"Modulo of a as  {a} , b as {b} will give :- {c}\\n\")\n",
    "\n",
    "# Power\n",
    "c = a ** b\n",
    "print(f\"a as {a} raised to the power b as {b} will give :- {c}\\n\")\n",
    "# Division(floor)\n",
    "c = a // b\n",
    "print(f\"Floor division of a as {a} by b as {b} will give :- {c}\\n\")"
   ]
  },
  {
   "cell_type": "markdown",
   "id": "1cff96c7",
   "metadata": {},
   "source": [
    "# Comparison Operators\n",
    "Comparison operators are used to compare values."
   ]
  },
  {
   "cell_type": "code",
   "execution_count": 5,
   "id": "12862560",
   "metadata": {},
   "outputs": [
    {
     "name": "stdout",
     "output_type": "stream",
     "text": [
      "Is x greater than y :-  False\n",
      "\n",
      "Is x less than y :-  True\n",
      "\n",
      "Is x equal to y :-  False\n",
      "\n",
      "Is x not equal to y :-  True\n",
      "\n",
      "Is x greater than or equal to y :-  False\n",
      "\n",
      "Is x less than or equal to y :-  True\n"
     ]
    }
   ],
   "source": [
    "x = 20\n",
    "y = 30\n",
    "print('Is x greater than y :- ',x>y)\n",
    "print('\\nIs x less than y :- ',x<y)\n",
    "print('\\nIs x equal to y :- ',x==y)\n",
    "print('\\nIs x not equal to y :- ',x!=y)\n",
    "print('\\nIs x greater than or equal to y :- ',x>=y)\n",
    "print('\\nIs x less than or equal to y :- ',x<=y)"
   ]
  },
  {
   "cell_type": "code",
   "execution_count": 9,
   "id": "a0917e06",
   "metadata": {},
   "outputs": [
    {
     "data": {
      "text/plain": [
       "(False, True, True)"
      ]
     },
     "execution_count": 9,
     "metadata": {},
     "output_type": "execute_result"
    }
   ],
   "source": [
    "a = 'Asif'\n",
    "b = 'Bhat'\n",
    "c = 'Asif'\n",
    "a == b , a ==c , a != b # Comparison operators on string"
   ]
  },
  {
   "cell_type": "markdown",
   "id": "544bdd20",
   "metadata": {},
   "source": [
    "# Logical Operators"
   ]
  },
  {
   "cell_type": "code",
   "execution_count": 10,
   "id": "78112eca",
   "metadata": {},
   "outputs": [
    {
     "name": "stdout",
     "output_type": "stream",
     "text": [
      "Logical AND operation :-  False\n",
      "Logical OR operation :-  True\n",
      "NOT operation :-  False\n"
     ]
    }
   ],
   "source": [
    "x = True\n",
    "y = False\n",
    "print('Logical AND operation :- ',x and y) # True if both values are true\n",
    "print('Logical OR operation :- ',x or y) # True if either of the values is true\n",
    "print('NOT operation :- ',not x ) # True if operand is false\n"
   ]
  },
  {
   "cell_type": "markdown",
   "id": "29448827",
   "metadata": {},
   "source": [
    "# Bitwise operators"
   ]
  },
  {
   "cell_type": "markdown",
   "id": "0f9f3062",
   "metadata": {},
   "source": [
    "# Bitwise operators act on bits and performs bit by bit operation."
   ]
  },
  {
   "cell_type": "code",
   "execution_count": 13,
   "id": "35ec5143",
   "metadata": {},
   "outputs": [
    {
     "name": "stdout",
     "output_type": "stream",
     "text": [
      "Bitwise AND operation - 2 0b10\n",
      "Bitwise OR operation - 22 0b10110\n",
      "Bitwise XOR operation - 20 0b10100\n",
      "Bitwise NOT operation - -19 -0b10011\n",
      "Bitwise right shift operation - 4 0b100\n",
      "Bitwise left shift operation - 72 0b1001000\n"
     ]
    }
   ],
   "source": [
    "x = 18 # binary form 10010\n",
    "y = 6 # binary form 00110\n",
    "print('Bitwise AND operation - {}'.format(x&y), bin(x&y))\n",
    "print('Bitwise OR operation - {}'.format(x|y), bin(x|y))\n",
    "print('Bitwise XOR operation - {}'.format(x^y),bin(x^y))\n",
    "print('Bitwise NOT operation - {}'.format(~x),bin(~x))\n",
    "print('Bitwise right shift operation - {}'.format(x>>2),bin(x>>2))\n",
    "print('Bitwise left shift operation - {}'.format(x<<2),bin(x<<2))"
   ]
  },
  {
   "cell_type": "markdown",
   "id": "5fbb016b",
   "metadata": {},
   "source": [
    "# Assignment Operators"
   ]
  },
  {
   "cell_type": "code",
   "execution_count": 2,
   "id": "eee6a3e7",
   "metadata": {},
   "outputs": [
    {
     "name": "stdout",
     "output_type": "stream",
     "text": [
      "Initialize x with value 10 (x=10)) :-  10\n",
      "Add 20 to x :-  30\n",
      "subtract 20 from x :-  10\n",
      "Divide x by 10 :-  1.0\n",
      "Multiply x by 10 :-  10.0\n",
      "x raised to the power 2 :-  100\n",
      "Modulo Division :-  0\n",
      "Floor Division :-  6\n",
      "Bitwise AND :-  2\n",
      "Bitwise OR :-  2\n",
      "Bitwise XOR :-  0\n",
      "Bitwise left shift operation 40\n",
      "Bitwise right shift operation 10\n"
     ]
    }
   ],
   "source": [
    "x = 10\n",
    "print('Initialize x with value 10 (x=10)) :- ',x)\n",
    "\n",
    "x+=20 # x = x+20\n",
    "print ('Add 20 to x :- ',x)\n",
    "\n",
    "x-=20 # x = x-20\n",
    "print ('subtract 20 from x :- ',x)\n",
    "\n",
    "x/=10 # x = x/10\n",
    "print ('Divide x by 10 :- ',x)\n",
    "\n",
    "x*=10 # x = x/10\n",
    "print ('Multiply x by 10 :- ',x)\n",
    "\n",
    "x = int(x)\n",
    "x**=2 # x = x/10\n",
    "print ('x raised to the power 2 :- ',x)\n",
    "\n",
    "x%=2\n",
    "print ('Modulo Division :- ',x)\n",
    "\n",
    "x = 20\n",
    "x//=3\n",
    "print ('Floor Division :- ',x)\n",
    "\n",
    "x&=2\n",
    "print('Bitwise AND :- ',x)\n",
    "\n",
    "x|=2\n",
    "print('Bitwise OR :- ',x)\n",
    "\n",
    "x^=2\n",
    "print('Bitwise XOR :- ',x)\n",
    "\n",
    "x = 10\n",
    "x<<=2\n",
    "print('Bitwise left shift operation',x)\n",
    "\n",
    "x>>=2\n",
    "print('Bitwise right shift operation',x)"
   ]
  },
  {
   "cell_type": "markdown",
   "id": "abf6793e",
   "metadata": {},
   "source": [
    "# Membership Operators\n",
    "\n"
   ]
  },
  {
   "cell_type": "markdown",
   "id": "79b9b5cd",
   "metadata": {},
   "source": [
    "# Membership Operators are used to test whether a value / variable is present in a sequence."
   ]
  },
  {
   "cell_type": "code",
   "execution_count": 3,
   "id": "7cf29c5c",
   "metadata": {},
   "outputs": [
    {
     "data": {
      "text/plain": [
       "(True, False)"
      ]
     },
     "execution_count": 3,
     "metadata": {},
     "output_type": "execute_result"
    }
   ],
   "source": [
    "mystr = 'Asif Ali Bhat'\n",
    "'Asif' in mystr , 'John' in mystr"
   ]
  },
  {
   "cell_type": "code",
   "execution_count": 4,
   "id": "0848593d",
   "metadata": {},
   "outputs": [
    {
     "data": {
      "text/plain": [
       "(False, True)"
      ]
     },
     "execution_count": 4,
     "metadata": {},
     "output_type": "execute_result"
    }
   ],
   "source": [
    "mystr = 'Asif Ali Bhat'\n",
    "'Asif' not in mystr , 'John' not in mystr"
   ]
  },
  {
   "cell_type": "markdown",
   "id": "8e4b5d0c",
   "metadata": {},
   "source": [
    "# Functions\n"
   ]
  },
  {
   "cell_type": "markdown",
   "id": "ce41ebde",
   "metadata": {},
   "source": [
    "A function is a block of organized code written to carry out a specified task.\n",
    "\n",
    "Functions help break our program into smaller and modular chunks for better readability.\n",
    "\n",
    "Information can be passed into a function as arguments.\n",
    "\n",
    "Parameters are specified after the function name inside the parentheses.\n",
    "\n",
    "We can add as many parameters as we want. Parameters must be separated with a comma.\n",
    "\n",
    "A function may or may not return data.\n",
    "\n",
    "In Python a function is defined using the def keyword"
   ]
  },
  {
   "cell_type": "code",
   "execution_count": null,
   "id": "09555b47",
   "metadata": {},
   "outputs": [],
   "source": []
  },
  {
   "cell_type": "code",
   "execution_count": null,
   "id": "d69248ff",
   "metadata": {},
   "outputs": [],
   "source": []
  }
 ],
 "metadata": {
  "kernelspec": {
   "display_name": "Python 3 (ipykernel)",
   "language": "python",
   "name": "python3"
  },
  "language_info": {
   "codemirror_mode": {
    "name": "ipython",
    "version": 3
   },
   "file_extension": ".py",
   "mimetype": "text/x-python",
   "name": "python",
   "nbconvert_exporter": "python",
   "pygments_lexer": "ipython3",
   "version": "3.9.13"
  }
 },
 "nbformat": 4,
 "nbformat_minor": 5
}
