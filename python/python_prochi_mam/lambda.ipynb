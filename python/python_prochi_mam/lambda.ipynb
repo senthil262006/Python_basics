{
 "cells": [
  {
   "cell_type": "markdown",
   "id": "13c3e4a3",
   "metadata": {},
   "source": [
    "<img src=\"lambda.png\">"
   ]
  },
  {
   "cell_type": "markdown",
   "id": "7c0b9f13",
   "metadata": {},
   "source": [
    "<img src=\"lambda1.png\">"
   ]
  },
  {
   "cell_type": "markdown",
   "id": "ef86a38f",
   "metadata": {},
   "source": [
    "<img src = \"https://editor.analyticsvidhya.com/uploads/49106Untitled2.gif\">"
   ]
  },
  {
   "cell_type": "markdown",
   "id": "19b76d65",
   "metadata": {},
   "source": [
    "<h1>Need for Lambda function</h1>\n",
    "To reduce the number of lines needed to specify functionality. \n",
    "\n",
    "This function is utilized because it is straightforward.\n",
    "\n",
    "Unlike the def function, we may call this lambda function right away (can be called but not immediately).\n",
    "\n",
    "\n",
    "Another important consideration is when a function is only required sometimes rather than on a regular basis."
   ]
  },
  {
   "cell_type": "markdown",
   "id": "34199f20",
   "metadata": {},
   "source": [
    "<img src=\"difference.png\">"
   ]
  },
  {
   "cell_type": "code",
   "execution_count": 12,
   "id": "50148d72",
   "metadata": {},
   "outputs": [],
   "source": [
    "def add(a,b):\n",
    "    return a+b"
   ]
  },
  {
   "cell_type": "code",
   "execution_count": 13,
   "id": "1fadb53e",
   "metadata": {},
   "outputs": [
    {
     "data": {
      "text/plain": [
       "10"
      ]
     },
     "execution_count": 13,
     "metadata": {},
     "output_type": "execute_result"
    }
   ],
   "source": [
    "add(4,6)"
   ]
  },
  {
   "cell_type": "code",
   "execution_count": null,
   "id": "61697e37",
   "metadata": {},
   "outputs": [],
   "source": [
    "lambda arguments : Expression"
   ]
  },
  {
   "cell_type": "code",
   "execution_count": 18,
   "id": "c4a5c85e",
   "metadata": {},
   "outputs": [],
   "source": [
    "func = lambda a,b : a+b"
   ]
  },
  {
   "cell_type": "code",
   "execution_count": 19,
   "id": "d14923c9",
   "metadata": {},
   "outputs": [
    {
     "data": {
      "text/plain": [
       "10"
      ]
     },
     "execution_count": 19,
     "metadata": {},
     "output_type": "execute_result"
    }
   ],
   "source": [
    "func(4,6)"
   ]
  },
  {
   "cell_type": "code",
   "execution_count": 20,
   "id": "cd8fe283",
   "metadata": {},
   "outputs": [],
   "source": [
    "def hello():\n",
    "    return \"Hello World\""
   ]
  },
  {
   "cell_type": "code",
   "execution_count": 21,
   "id": "e78889e6",
   "metadata": {},
   "outputs": [
    {
     "data": {
      "text/plain": [
       "'Hello World'"
      ]
     },
     "execution_count": 21,
     "metadata": {},
     "output_type": "execute_result"
    }
   ],
   "source": [
    "hello()"
   ]
  },
  {
   "cell_type": "code",
   "execution_count": 22,
   "id": "1796850d",
   "metadata": {},
   "outputs": [],
   "source": [
    "hello = lambda : \"hello world!\""
   ]
  },
  {
   "cell_type": "code",
   "execution_count": 23,
   "id": "be09b546",
   "metadata": {},
   "outputs": [
    {
     "data": {
      "text/plain": [
       "'hello world!'"
      ]
     },
     "execution_count": 23,
     "metadata": {},
     "output_type": "execute_result"
    }
   ],
   "source": [
    "hello()"
   ]
  },
  {
   "cell_type": "code",
   "execution_count": 7,
   "id": "e748f85f",
   "metadata": {},
   "outputs": [
    {
     "name": "stdout",
     "output_type": "stream",
     "text": [
      "53\n"
     ]
    }
   ],
   "source": [
    "##by def\n",
    "def adds(a,b):\n",
    "    return a+b\n",
    "print(adds(10,43))\n"
   ]
  },
  {
   "cell_type": "code",
   "execution_count": 8,
   "id": "918cbfb9",
   "metadata": {},
   "outputs": [
    {
     "name": "stdout",
     "output_type": "stream",
     "text": [
      "53\n"
     ]
    }
   ],
   "source": [
    "#by lambda\n",
    "adds = lambda a,b: a+b\n",
    "print(adds(10,43))"
   ]
  },
  {
   "cell_type": "code",
   "execution_count": 26,
   "id": "fda055c4",
   "metadata": {},
   "outputs": [],
   "source": [
    "cube = lambda num : num**3"
   ]
  },
  {
   "cell_type": "code",
   "execution_count": 29,
   "id": "7e8875dc",
   "metadata": {},
   "outputs": [
    {
     "data": {
      "text/plain": [
       "512"
      ]
     },
     "execution_count": 29,
     "metadata": {},
     "output_type": "execute_result"
    }
   ],
   "source": [
    "cube(8)"
   ]
  },
  {
   "cell_type": "code",
   "execution_count": 30,
   "id": "b067ba26",
   "metadata": {},
   "outputs": [
    {
     "data": {
      "text/plain": [
       "729"
      ]
     },
     "execution_count": 30,
     "metadata": {},
     "output_type": "execute_result"
    }
   ],
   "source": [
    "cube(9)"
   ]
  },
  {
   "cell_type": "code",
   "execution_count": 31,
   "id": "4edab7e0",
   "metadata": {},
   "outputs": [
    {
     "data": {
      "text/plain": [
       "1728"
      ]
     },
     "execution_count": 31,
     "metadata": {},
     "output_type": "execute_result"
    }
   ],
   "source": [
    "cube(12)"
   ]
  },
  {
   "cell_type": "code",
   "execution_count": 32,
   "id": "bd886ce7",
   "metadata": {},
   "outputs": [
    {
     "data": {
      "text/plain": [
       "343"
      ]
     },
     "execution_count": 32,
     "metadata": {},
     "output_type": "execute_result"
    }
   ],
   "source": [
    "cube(7)"
   ]
  },
  {
   "cell_type": "code",
   "execution_count": null,
   "id": "61d2fdb6",
   "metadata": {},
   "outputs": [],
   "source": []
  },
  {
   "cell_type": "markdown",
   "id": "66905ef2",
   "metadata": {},
   "source": [
    "<h1>Where to use the Lambda function?</h1>\n",
    "\n",
    "If you need to employ a function but don’t want to use a def or a nameless condition, \n",
    "\n",
    "lambda is the way to go. Temporary or occasional use is the second essential use. \n",
    "\n",
    "This function may be used with other higher-order functions like map(), apply(), reduce(), and so on."
   ]
  },
  {
   "cell_type": "code",
   "execution_count": 10,
   "id": "a6164b57",
   "metadata": {},
   "outputs": [
    {
     "name": "stdout",
     "output_type": "stream",
     "text": [
      "hello world!\n"
     ]
    }
   ],
   "source": [
    "a = lambda : \"hello world!\"\n",
    "print(a())\n"
   ]
  },
  {
   "cell_type": "code",
   "execution_count": 11,
   "id": "ac8f7352",
   "metadata": {},
   "outputs": [
    {
     "name": "stdout",
     "output_type": "stream",
     "text": [
      "Calculating cubes by using lambda:  125\n"
     ]
    }
   ],
   "source": [
    "# calculate cubes using lambda\n",
    "cubes = lambda a: a*a*a\n",
    "print('Calculating cubes by using lambda: ', cubes(5))"
   ]
  },
  {
   "cell_type": "markdown",
   "id": "402fc4d1",
   "metadata": {},
   "source": [
    "<h2>Advantages of Lambda function</h2>\n",
    "\n",
    "Ease of creating the function\n",
    "\n",
    "Variables with few options\n",
    "\n",
    "<h2>Disadvantages of Lambda function</h2>\n",
    "\n",
    "Despite Python’s popularity as the world’s most popular programming language, the Lambda is not user-friendly.\n",
    "\n",
    "The Lambda function will be a problem if we need to build a complex function.\n",
    "\n",
    "Strictly limited to a single expression\n",
    "\n",
    "Although it cannot access a global variable, it can access the lone local variable."
   ]
  },
  {
   "cell_type": "raw",
   "id": "bf10e802",
   "metadata": {},
   "source": [
    "Create a Python programme that includes a user-defined function called print_even_numbers(). The function should prompt the user to set a range limit before printing all even numbers up to that limit."
   ]
  },
  {
   "cell_type": "code",
   "execution_count": 33,
   "id": "1e386e37",
   "metadata": {},
   "outputs": [],
   "source": [
    "evn_odd = lambda x: 'even' if x%2==0 else 'odd'"
   ]
  },
  {
   "cell_type": "code",
   "execution_count": 34,
   "id": "14c3fcdb",
   "metadata": {},
   "outputs": [
    {
     "data": {
      "text/plain": [
       "'even'"
      ]
     },
     "execution_count": 34,
     "metadata": {},
     "output_type": "execute_result"
    }
   ],
   "source": [
    "evn_odd(7888)"
   ]
  },
  {
   "cell_type": "code",
   "execution_count": 35,
   "id": "c556826f",
   "metadata": {},
   "outputs": [
    {
     "data": {
      "text/plain": [
       "'odd'"
      ]
     },
     "execution_count": 35,
     "metadata": {},
     "output_type": "execute_result"
    }
   ],
   "source": [
    "evn_odd(89)"
   ]
  },
  {
   "cell_type": "code",
   "execution_count": 38,
   "id": "ac02b457",
   "metadata": {},
   "outputs": [],
   "source": [
    "max_num = lambda x,y : x if x>y else y"
   ]
  },
  {
   "cell_type": "code",
   "execution_count": 39,
   "id": "ff05d90a",
   "metadata": {},
   "outputs": [
    {
     "data": {
      "text/plain": [
       "7"
      ]
     },
     "execution_count": 39,
     "metadata": {},
     "output_type": "execute_result"
    }
   ],
   "source": [
    "max_num(6,7)"
   ]
  },
  {
   "cell_type": "code",
   "execution_count": 7,
   "id": "32a966fa",
   "metadata": {},
   "outputs": [
    {
     "name": "stdout",
     "output_type": "stream",
     "text": [
      "Enter first number : 3\n",
      "Enter second number : 4\n",
      "7\n"
     ]
    }
   ],
   "source": [
    "add = lambda a,b : a+b\n",
    "\n",
    "num1 = int(input(\"Enter first number : \"))\n",
    "\n",
    "num2 = int(input(\"Enter second number : \"))\n",
    "\n",
    "print(add(num1,num2))\n"
   ]
  },
  {
   "cell_type": "code",
   "execution_count": 2,
   "id": "8dab0fa5",
   "metadata": {},
   "outputs": [],
   "source": [
    "add1 = lambda : int(input(\"Enter first number : \")) + int(input(\"Enter second number : \"))"
   ]
  },
  {
   "cell_type": "code",
   "execution_count": 4,
   "id": "64901207",
   "metadata": {},
   "outputs": [
    {
     "name": "stdout",
     "output_type": "stream",
     "text": [
      "Enter first number : 12\n",
      "Enter second number : 3\n"
     ]
    },
    {
     "data": {
      "text/plain": [
       "15"
      ]
     },
     "execution_count": 4,
     "metadata": {},
     "output_type": "execute_result"
    }
   ],
   "source": [
    "add1()"
   ]
  },
  {
   "cell_type": "code",
   "execution_count": 5,
   "id": "fed328e0",
   "metadata": {},
   "outputs": [
    {
     "data": {
      "text/plain": [
       "7"
      ]
     },
     "execution_count": 5,
     "metadata": {},
     "output_type": "execute_result"
    }
   ],
   "source": [
    "add = lambda a,b:a+b\n",
    "add(3,4)"
   ]
  },
  {
   "cell_type": "code",
   "execution_count": 10,
   "id": "e66ae75e",
   "metadata": {},
   "outputs": [
    {
     "name": "stdout",
     "output_type": "stream",
     "text": [
      "Enter first number : 12\n",
      "Enter second number : 3\n"
     ]
    }
   ],
   "source": [
    "def add(a,b):\n",
    "\n",
    "    return a+b\n",
    "\n",
    "num1 = int(input(\"Enter first number : \"))\n",
    "num2 = int(input(\"Enter second number : \"))\n",
    "    "
   ]
  },
  {
   "cell_type": "code",
   "execution_count": 11,
   "id": "c4f2b0a6",
   "metadata": {},
   "outputs": [
    {
     "data": {
      "text/plain": [
       "15"
      ]
     },
     "execution_count": 11,
     "metadata": {},
     "output_type": "execute_result"
    }
   ],
   "source": [
    "add(num1,num2)"
   ]
  },
  {
   "cell_type": "code",
   "execution_count": 16,
   "id": "df977e81",
   "metadata": {},
   "outputs": [
    {
     "name": "stdout",
     "output_type": "stream",
     "text": [
      "1\n",
      "4\n",
      "9\n",
      "16\n",
      "25\n"
     ]
    }
   ],
   "source": [
    "l=[1,2,3,4,5]\n",
    "for i in l:\n",
    "    print(i**2)\n",
    "    \n",
    "\n",
    "    "
   ]
  },
  {
   "cell_type": "code",
   "execution_count": 19,
   "id": "e97f2d0f",
   "metadata": {},
   "outputs": [],
   "source": [
    "sq_lambda = lambda x : [i**2 for i in x]"
   ]
  },
  {
   "cell_type": "code",
   "execution_count": 20,
   "id": "c3c078ee",
   "metadata": {},
   "outputs": [
    {
     "data": {
      "text/plain": [
       "[1, 4, 9, 16, 25]"
      ]
     },
     "execution_count": 20,
     "metadata": {},
     "output_type": "execute_result"
    }
   ],
   "source": [
    "sq_lambda([1,2,3,4,5])"
   ]
  },
  {
   "cell_type": "code",
   "execution_count": 26,
   "id": "951573c4",
   "metadata": {},
   "outputs": [],
   "source": [
    "products = [\n",
    "    \n",
    "    {\"name\":\"Product1\",\"price\":1000},\n",
    "    {\"name\":\"Product2\",\"price\":60},\n",
    "    {\"name\":\"Product3\",\"price\":70},\n",
    "    {\"name\":\"Product4\",\"price\":800}\n",
    "]\n"
   ]
  },
  {
   "cell_type": "code",
   "execution_count": 31,
   "id": "97de0a79",
   "metadata": {},
   "outputs": [],
   "source": [
    "sorted_products = sorted(products,key=lambda ['price']:)\n"
   ]
  },
  {
   "cell_type": "code",
   "execution_count": 28,
   "id": "05189808",
   "metadata": {},
   "outputs": [],
   "source": [
    "key1 = lambda y : y['price']"
   ]
  },
  {
   "cell_type": "code",
   "execution_count": 30,
   "id": "f055e002",
   "metadata": {},
   "outputs": [
    {
     "data": {
      "text/plain": [
       "[{'name': 'Product2', 'price': 60},\n",
       " {'name': 'Product3', 'price': 70},\n",
       " {'name': 'Product4', 'price': 800},\n",
       " {'name': 'Product1', 'price': 1000}]"
      ]
     },
     "execution_count": 30,
     "metadata": {},
     "output_type": "execute_result"
    }
   ],
   "source": [
    "sorted_products"
   ]
  },
  {
   "cell_type": "code",
   "execution_count": 32,
   "id": "a440a0aa",
   "metadata": {},
   "outputs": [
    {
     "name": "stdout",
     "output_type": "stream",
     "text": [
      "{'name': 'Product2', 'price': 60}\n",
      "{'name': 'Product3', 'price': 70}\n",
      "{'name': 'Product4', 'price': 800}\n",
      "{'name': 'Product1', 'price': 1000}\n"
     ]
    }
   ],
   "source": [
    "for i in sorted_products:\n",
    "    print(i)"
   ]
  },
  {
   "cell_type": "code",
   "execution_count": 33,
   "id": "a928de87",
   "metadata": {},
   "outputs": [],
   "source": [
    "l=[1,32,4,5,6]"
   ]
  },
  {
   "cell_type": "code",
   "execution_count": 34,
   "id": "b0e91b84",
   "metadata": {},
   "outputs": [
    {
     "name": "stdout",
     "output_type": "stream",
     "text": [
      "1\n",
      "32\n",
      "4\n",
      "5\n",
      "6\n"
     ]
    }
   ],
   "source": [
    "for i in l:\n",
    "    print(i)"
   ]
  },
  {
   "cell_type": "code",
   "execution_count": null,
   "id": "b5b4e0b3",
   "metadata": {},
   "outputs": [],
   "source": [
    "user defined function factorial_n"
   ]
  },
  {
   "cell_type": "code",
   "execution_count": 35,
   "id": "cf8911a4",
   "metadata": {},
   "outputs": [
    {
     "name": "stdout",
     "output_type": "stream",
     "text": [
      "Enter any number3\n",
      "6\n"
     ]
    }
   ],
   "source": [
    "import math\n",
    "\n",
    "num = int(input(\"Enter any number\"))\n",
    "fact = math.factorial(num)\n",
    "print(fact)"
   ]
  },
  {
   "cell_type": "code",
   "execution_count": 18,
   "id": "ee5f65cd",
   "metadata": {},
   "outputs": [
    {
     "name": "stdout",
     "output_type": "stream",
     "text": [
      "number likho bhai-8\n",
      "Yeah lei answer 1\n"
     ]
    }
   ],
   "source": [
    "def factorial(n):\n",
    "    result = 1\n",
    "    for i in range(1, n + 1):\n",
    "        result = result*i\n",
    "    return (result)\n",
    "\n",
    "number = int(input('number likho bhai'))\n",
    "print(\"Yeah lei answer\", factorial(number))"
   ]
  },
  {
   "cell_type": "code",
   "execution_count": 2,
   "id": "0053bd07",
   "metadata": {},
   "outputs": [],
   "source": [
    "def factorial(n):\n",
    "    if n == 0:\n",
    "        return 1\n",
    "    else:\n",
    "        return n * factorial(n - 1)"
   ]
  },
  {
   "cell_type": "code",
   "execution_count": 3,
   "id": "452cbd40",
   "metadata": {},
   "outputs": [
    {
     "data": {
      "text/plain": [
       "6"
      ]
     },
     "execution_count": 3,
     "metadata": {},
     "output_type": "execute_result"
    }
   ],
   "source": [
    "factorial(3)"
   ]
  },
  {
   "cell_type": "markdown",
   "id": "592b7a9b",
   "metadata": {},
   "source": [
    "# Recursion"
   ]
  },
  {
   "cell_type": "code",
   "execution_count": 4,
   "id": "8009b498",
   "metadata": {},
   "outputs": [],
   "source": [
    "def recursive_sum(n):\n",
    "    if n==1:\n",
    "        return 1\n",
    "    else:\n",
    "        return n +recursive_sum(n-1)"
   ]
  },
  {
   "cell_type": "code",
   "execution_count": 20,
   "id": "2254f422",
   "metadata": {},
   "outputs": [
    {
     "data": {
      "text/plain": [
       "15"
      ]
     },
     "execution_count": 20,
     "metadata": {},
     "output_type": "execute_result"
    }
   ],
   "source": [
    "recursive_sum(5) #1 - sum 1, 2 + 1 = 3"
   ]
  },
  {
   "cell_type": "code",
   "execution_count": 21,
   "id": "7cdddfca",
   "metadata": {},
   "outputs": [
    {
     "data": {
      "text/plain": [
       "15"
      ]
     },
     "execution_count": 21,
     "metadata": {},
     "output_type": "execute_result"
    }
   ],
   "source": [
    "5+4+3+2+1"
   ]
  },
  {
   "cell_type": "code",
   "execution_count": 6,
   "id": "b41eb39c",
   "metadata": {},
   "outputs": [
    {
     "data": {
      "text/plain": [
       "3"
      ]
     },
     "execution_count": 6,
     "metadata": {},
     "output_type": "execute_result"
    }
   ],
   "source": [
    "2 + 1"
   ]
  },
  {
   "cell_type": "code",
   "execution_count": 15,
   "id": "82417403",
   "metadata": {},
   "outputs": [],
   "source": [
    "def fact (j):\n",
    "    n = 1\n",
    "    for i in range (1, j+1):\n",
    "         n = n*i\n",
    "         i = i -1\n",
    "    return n"
   ]
  },
  {
   "cell_type": "code",
   "execution_count": 16,
   "id": "46e0716f",
   "metadata": {},
   "outputs": [
    {
     "data": {
      "text/plain": [
       "1"
      ]
     },
     "execution_count": 16,
     "metadata": {},
     "output_type": "execute_result"
    }
   ],
   "source": [
    "fact(-7)"
   ]
  },
  {
   "cell_type": "code",
   "execution_count": 24,
   "id": "30993ea2",
   "metadata": {},
   "outputs": [],
   "source": [
    "def fact_n(n):\n",
    "    if n==1:\n",
    "        return 1\n",
    "    else:\n",
    "        return n *fact_n(n-1)\n",
    "    "
   ]
  },
  {
   "cell_type": "code",
   "execution_count": 25,
   "id": "349cfb4e",
   "metadata": {},
   "outputs": [
    {
     "data": {
      "text/plain": [
       "120"
      ]
     },
     "execution_count": 25,
     "metadata": {},
     "output_type": "execute_result"
    }
   ],
   "source": [
    "fact_n(5)"
   ]
  },
  {
   "cell_type": "code",
   "execution_count": null,
   "id": "02e1e6f3",
   "metadata": {},
   "outputs": [],
   "source": [
    "0+1=1, 1+1=2,1+2=3,5,8"
   ]
  },
  {
   "cell_type": "code",
   "execution_count": 26,
   "id": "6ca50bb4",
   "metadata": {},
   "outputs": [],
   "source": [
    "def fib_n(n):\n",
    "    a,b=0,1\n",
    "    for i in range(n):\n",
    "        print(a)\n",
    "        a,b=b,a+b"
   ]
  },
  {
   "cell_type": "code",
   "execution_count": 27,
   "id": "03fb9887",
   "metadata": {},
   "outputs": [
    {
     "name": "stdout",
     "output_type": "stream",
     "text": [
      "0\n",
      "1\n",
      "1\n",
      "2\n",
      "3\n",
      "5\n",
      "8\n",
      "13\n",
      "21\n",
      "34\n"
     ]
    }
   ],
   "source": [
    "fib_n(10)"
   ]
  },
  {
   "cell_type": "code",
   "execution_count": 28,
   "id": "8d4d7eca",
   "metadata": {},
   "outputs": [
    {
     "name": "stdout",
     "output_type": "stream",
     "text": [
      "0\n",
      "1\n",
      "1\n"
     ]
    }
   ],
   "source": [
    "fib_n(3)"
   ]
  },
  {
   "cell_type": "code",
   "execution_count": null,
   "id": "8b3ea385",
   "metadata": {},
   "outputs": [],
   "source": []
  }
 ],
 "metadata": {
  "kernelspec": {
   "display_name": "Python 3 (ipykernel)",
   "language": "python",
   "name": "python3"
  },
  "language_info": {
   "codemirror_mode": {
    "name": "ipython",
    "version": 3
   },
   "file_extension": ".py",
   "mimetype": "text/x-python",
   "name": "python",
   "nbconvert_exporter": "python",
   "pygments_lexer": "ipython3",
   "version": "3.11.5"
  }
 },
 "nbformat": 4,
 "nbformat_minor": 5
}
