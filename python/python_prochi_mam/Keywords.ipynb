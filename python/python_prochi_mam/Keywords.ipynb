{
 "cells": [
  {
   "cell_type": "code",
   "execution_count": 1,
   "id": "000d9ae0-3e62-44c7-b83b-876752457d8e",
   "metadata": {},
   "outputs": [
    {
     "name": "stdout",
     "output_type": "stream",
     "text": [
      "\n",
      "Here is a list of the Python keywords.  Enter any keyword to get more help.\n",
      "\n",
      "False               class               from                or\n",
      "None                continue            global              pass\n",
      "True                def                 if                  raise\n",
      "and                 del                 import              return\n",
      "as                  elif                in                  try\n",
      "assert              else                is                  while\n",
      "async               except              lambda              with\n",
      "await               finally             nonlocal            yield\n",
      "break               for                 not                 \n",
      "\n"
     ]
    }
   ],
   "source": [
    "help(\"keywords\")"
   ]
  },
  {
   "cell_type": "code",
   "execution_count": 2,
   "id": "325ad0b4-c34f-4f4e-9946-23f3858b8014",
   "metadata": {},
   "outputs": [
    {
     "ename": "SyntaxError",
     "evalue": "invalid syntax (3317599183.py, line 1)",
     "output_type": "error",
     "traceback": [
      "\u001b[1;36m  Cell \u001b[1;32mIn[2], line 1\u001b[1;36m\u001b[0m\n\u001b[1;33m    def = \"prachi\"\u001b[0m\n\u001b[1;37m        ^\u001b[0m\n\u001b[1;31mSyntaxError\u001b[0m\u001b[1;31m:\u001b[0m invalid syntax\n"
     ]
    }
   ],
   "source": [
    "def = \"prachi\""
   ]
  },
  {
   "cell_type": "code",
   "execution_count": 3,
   "id": "1395e09d-ef1b-4b6c-8fb5-cb4ebc632d79",
   "metadata": {},
   "outputs": [],
   "source": [
    "my_string= \"This is my string\""
   ]
  },
  {
   "cell_type": "code",
   "execution_count": 4,
   "id": "2899f617-47d6-4c52-81b3-3cd8f5c4b741",
   "metadata": {},
   "outputs": [
    {
     "ename": "TypeError",
     "evalue": "'str' object does not support item assignment",
     "output_type": "error",
     "traceback": [
      "\u001b[1;31m---------------------------------------------------------------------------\u001b[0m",
      "\u001b[1;31mTypeError\u001b[0m                                 Traceback (most recent call last)",
      "Cell \u001b[1;32mIn[4], line 1\u001b[0m\n\u001b[1;32m----> 1\u001b[0m my_string[\u001b[38;5;241m0\u001b[39m]\u001b[38;5;241m=\u001b[39m\u001b[38;5;124m'\u001b[39m\u001b[38;5;124mp\u001b[39m\u001b[38;5;124m'\u001b[39m\n",
      "\u001b[1;31mTypeError\u001b[0m: 'str' object does not support item assignment"
     ]
    }
   ],
   "source": [
    "my_string[0]='p'"
   ]
  },
  {
   "cell_type": "code",
   "execution_count": 11,
   "id": "5829a32f-2228-4026-927b-fc957d5ec1b4",
   "metadata": {},
   "outputs": [
    {
     "name": "stdout",
     "output_type": "stream",
     "text": [
      "pThis is my string\n"
     ]
    }
   ],
   "source": [
    "# You can assign some different value to the string variable but its currently assigned value can not be changed\n",
    "my_string= \"This is my string\"\n",
    "first_chr ='p'\n",
    "\n",
    "my_new_string = first_chr + my_string[0:]\n",
    "\n",
    "print(my_new_string)\n",
    "\n",
    " \n",
    "\n"
   ]
  },
  {
   "cell_type": "code",
   "execution_count": 7,
   "id": "6c5ef242-b49e-4221-acce-3bf9891a0e40",
   "metadata": {},
   "outputs": [],
   "source": [
    "s='Analytics'"
   ]
  },
  {
   "cell_type": "code",
   "execution_count": 8,
   "id": "e646fbcf-a11b-455d-9b1f-6c98e727912a",
   "metadata": {},
   "outputs": [
    {
     "data": {
      "text/plain": [
       "str"
      ]
     },
     "execution_count": 8,
     "metadata": {},
     "output_type": "execute_result"
    }
   ],
   "source": [
    "type(s)"
   ]
  },
  {
   "cell_type": "code",
   "execution_count": 9,
   "id": "0bbaebd2-ed99-42a2-8776-c399f42c3b04",
   "metadata": {},
   "outputs": [],
   "source": [
    "my_string= \"This is my string\""
   ]
  },
  {
   "cell_type": "code",
   "execution_count": 10,
   "id": "27ae091d-26c4-4fb9-a12d-273fc3e74dfb",
   "metadata": {},
   "outputs": [
    {
     "data": {
      "text/plain": [
       "'T'"
      ]
     },
     "execution_count": 10,
     "metadata": {},
     "output_type": "execute_result"
    }
   ],
   "source": [
    "my_string[0]"
   ]
  },
  {
   "cell_type": "code",
   "execution_count": 12,
   "id": "ef502ad2-f7f3-4a4d-8b35-fd422440d570",
   "metadata": {},
   "outputs": [
    {
     "data": {
      "text/plain": [
       "17"
      ]
     },
     "execution_count": 12,
     "metadata": {},
     "output_type": "execute_result"
    }
   ],
   "source": [
    "len(my_string)"
   ]
  },
  {
   "cell_type": "code",
   "execution_count": 14,
   "id": "336394c0-ebbc-4338-b021-eeeacfe043a7",
   "metadata": {},
   "outputs": [
    {
     "data": {
      "text/plain": [
       "'g'"
      ]
     },
     "execution_count": 14,
     "metadata": {},
     "output_type": "execute_result"
    }
   ],
   "source": [
    "my_string[16]"
   ]
  },
  {
   "cell_type": "code",
   "execution_count": 15,
   "id": "51b11cfd-2ccb-4090-b442-1cf194390d5d",
   "metadata": {},
   "outputs": [
    {
     "data": {
      "text/plain": [
       "'g'"
      ]
     },
     "execution_count": 15,
     "metadata": {},
     "output_type": "execute_result"
    }
   ],
   "source": [
    "my_string[-1]"
   ]
  },
  {
   "cell_type": "code",
   "execution_count": 16,
   "id": "bc5c8b0b-f0bd-40d8-8d51-4e14c5064b6a",
   "metadata": {},
   "outputs": [
    {
     "ename": "SyntaxError",
     "evalue": "unterminated string literal (detected at line 1) (1177764991.py, line 1)",
     "output_type": "error",
     "traceback": [
      "\u001b[1;36m  Cell \u001b[1;32mIn[16], line 1\u001b[1;36m\u001b[0m\n\u001b[1;33m    s1='This is my very first programming class's'\u001b[0m\n\u001b[1;37m                                                 ^\u001b[0m\n\u001b[1;31mSyntaxError\u001b[0m\u001b[1;31m:\u001b[0m unterminated string literal (detected at line 1)\n"
     ]
    }
   ],
   "source": [
    "s1='This is my very first programming class's'"
   ]
  },
  {
   "cell_type": "code",
   "execution_count": 18,
   "id": "827f13bb-c038-44f2-88bd-6f2e53163b3e",
   "metadata": {},
   "outputs": [],
   "source": [
    "s1=\"This is my very first programming class's\""
   ]
  },
  {
   "cell_type": "code",
   "execution_count": 20,
   "id": "e1bca5c1-45b6-46ba-b50c-965ae9176b98",
   "metadata": {},
   "outputs": [
    {
     "data": {
      "text/plain": [
       "'Ti'"
      ]
     },
     "execution_count": 20,
     "metadata": {},
     "output_type": "execute_result"
    }
   ],
   "source": [
    "s1[0:4:2]"
   ]
  },
  {
   "cell_type": "code",
   "execution_count": 21,
   "id": "2148b2e0-318a-47f2-b4c5-53748b28e89e",
   "metadata": {},
   "outputs": [],
   "source": [
    "#s1[start:end:step]"
   ]
  },
  {
   "cell_type": "code",
   "execution_count": 22,
   "id": "c6379d23-7a38-49f6-ad5c-00062bd2470d",
   "metadata": {},
   "outputs": [
    {
     "data": {
      "text/plain": [
       "'sm eyfrtporm'"
      ]
     },
     "execution_count": 22,
     "metadata": {},
     "output_type": "execute_result"
    }
   ],
   "source": [
    "s1[6:30:2]"
   ]
  },
  {
   "cell_type": "code",
   "execution_count": 23,
   "id": "43eef5bd-27e8-45f6-b30c-e18d3aeddfcb",
   "metadata": {},
   "outputs": [
    {
     "data": {
      "text/plain": [
       "41"
      ]
     },
     "execution_count": 23,
     "metadata": {},
     "output_type": "execute_result"
    }
   ],
   "source": [
    "len(s1)"
   ]
  },
  {
   "cell_type": "code",
   "execution_count": 24,
   "id": "db84e861-d3b5-4879-a2b1-70d9df52a517",
   "metadata": {},
   "outputs": [
    {
     "data": {
      "text/plain": [
       "\"s is my very first programming class's\""
      ]
     },
     "execution_count": 24,
     "metadata": {},
     "output_type": "execute_result"
    }
   ],
   "source": [
    "s1[3:]"
   ]
  },
  {
   "cell_type": "code",
   "execution_count": 25,
   "id": "c7504e71-78ae-43e0-bb96-6902f62297d9",
   "metadata": {},
   "outputs": [
    {
     "data": {
      "text/plain": [
       "'This is my'"
      ]
     },
     "execution_count": 25,
     "metadata": {},
     "output_type": "execute_result"
    }
   ],
   "source": [
    "s1[:10]"
   ]
  },
  {
   "cell_type": "code",
   "execution_count": 26,
   "id": "1ec0a64c-c24e-43ff-8e55-3b40e11790f9",
   "metadata": {},
   "outputs": [
    {
     "data": {
      "text/plain": [
       "''"
      ]
     },
     "execution_count": 26,
     "metadata": {},
     "output_type": "execute_result"
    }
   ],
   "source": [
    "#s1[-1:-30]"
   ]
  },
  {
   "cell_type": "code",
   "execution_count": 27,
   "id": "77ab99c3-421c-49ea-ab88-f085afb5bc43",
   "metadata": {},
   "outputs": [
    {
     "data": {
      "text/plain": [
       "''"
      ]
     },
     "execution_count": 27,
     "metadata": {},
     "output_type": "execute_result"
    }
   ],
   "source": [
    "s1[0:8:-1]"
   ]
  },
  {
   "cell_type": "code",
   "execution_count": 28,
   "id": "009ff699-bf89-46b9-b7cf-844bf611e25b",
   "metadata": {},
   "outputs": [
    {
     "data": {
      "text/plain": [
       "\"This is my very first programming class's\""
      ]
     },
     "execution_count": 28,
     "metadata": {},
     "output_type": "execute_result"
    }
   ],
   "source": [
    "s1[::1]"
   ]
  },
  {
   "cell_type": "code",
   "execution_count": 29,
   "id": "3bdb661e-3bc4-4571-a65c-f448439ebee4",
   "metadata": {},
   "outputs": [
    {
     "data": {
      "text/plain": [
       "'Ti sm eyfrtpormigcass'"
      ]
     },
     "execution_count": 29,
     "metadata": {},
     "output_type": "execute_result"
    }
   ],
   "source": [
    "s1[::2]"
   ]
  },
  {
   "cell_type": "code",
   "execution_count": 30,
   "id": "dafc7eb8-2fcc-4841-9bff-79d79aa8516a",
   "metadata": {},
   "outputs": [
    {
     "data": {
      "text/plain": [
       "\"s is my very first programming class's\""
      ]
     },
     "execution_count": 30,
     "metadata": {},
     "output_type": "execute_result"
    }
   ],
   "source": [
    "s1[3:]"
   ]
  },
  {
   "cell_type": "code",
   "execution_count": 31,
   "id": "2ca75adf-f5c9-407f-a5c3-b479cf7a5782",
   "metadata": {},
   "outputs": [
    {
     "data": {
      "text/plain": [
       "'This is m'"
      ]
     },
     "execution_count": 31,
     "metadata": {},
     "output_type": "execute_result"
    }
   ],
   "source": [
    "s1[:9]"
   ]
  },
  {
   "cell_type": "code",
   "execution_count": 33,
   "id": "51d38780-68da-493e-b90d-c50cc44ce7aa",
   "metadata": {},
   "outputs": [
    {
     "data": {
      "text/plain": [
       "\"Tssye r oai a'\""
      ]
     },
     "execution_count": 33,
     "metadata": {},
     "output_type": "execute_result"
    }
   ],
   "source": [
    "s1[::3]"
   ]
  },
  {
   "cell_type": "code",
   "execution_count": 34,
   "id": "d1ecf8d1-fef3-411a-842c-0370bd3ea667",
   "metadata": {},
   "outputs": [],
   "source": [
    "s='prachi'"
   ]
  },
  {
   "cell_type": "code",
   "execution_count": 36,
   "id": "3c05ecd4-022c-4a6b-9c9d-7d64c90b1dd2",
   "metadata": {},
   "outputs": [
    {
     "data": {
      "text/plain": [
       "'pah'"
      ]
     },
     "execution_count": 36,
     "metadata": {},
     "output_type": "execute_result"
    }
   ],
   "source": [
    "s[0:7:2]"
   ]
  },
  {
   "cell_type": "code",
   "execution_count": 37,
   "id": "6e31adae-a2a2-4284-8b6a-211f9e83eee6",
   "metadata": {},
   "outputs": [
    {
     "data": {
      "text/plain": [
       "\"s'ssalc gnimmargorp tsrif yrev ym si sihT\""
      ]
     },
     "execution_count": 37,
     "metadata": {},
     "output_type": "execute_result"
    }
   ],
   "source": [
    "s1[::-1]"
   ]
  },
  {
   "cell_type": "code",
   "execution_count": 38,
   "id": "38bdb522-dcb2-4f26-9c7b-d713b45e6150",
   "metadata": {},
   "outputs": [
    {
     "data": {
      "text/plain": [
       "\"This is my very first programming class's\""
      ]
     },
     "execution_count": 38,
     "metadata": {},
     "output_type": "execute_result"
    }
   ],
   "source": [
    "s1"
   ]
  },
  {
   "cell_type": "code",
   "execution_count": 39,
   "id": "9526e7cd-4311-41bc-b516-cd1dc0515746",
   "metadata": {},
   "outputs": [
    {
     "data": {
      "text/plain": [
       "'s'"
      ]
     },
     "execution_count": 39,
     "metadata": {},
     "output_type": "execute_result"
    }
   ],
   "source": [
    "s1[-1:]"
   ]
  },
  {
   "cell_type": "code",
   "execution_count": 40,
   "id": "50df67a5-4790-4752-8e4e-6aa81afd8abc",
   "metadata": {},
   "outputs": [
    {
     "data": {
      "text/plain": [
       "'prachi'"
      ]
     },
     "execution_count": 40,
     "metadata": {},
     "output_type": "execute_result"
    }
   ],
   "source": [
    "s"
   ]
  },
  {
   "cell_type": "code",
   "execution_count": 41,
   "id": "bb487df9-d792-43d5-a10f-f8925f1708a3",
   "metadata": {},
   "outputs": [
    {
     "data": {
      "text/plain": [
       "'prachikabra'"
      ]
     },
     "execution_count": 41,
     "metadata": {},
     "output_type": "execute_result"
    }
   ],
   "source": [
    "s+'kabra'"
   ]
  },
  {
   "cell_type": "code",
   "execution_count": 42,
   "id": "f0664dcf-c324-4ede-b027-3c33fd8d136b",
   "metadata": {},
   "outputs": [
    {
     "ename": "TypeError",
     "evalue": "can only concatenate str (not \"int\") to str",
     "output_type": "error",
     "traceback": [
      "\u001b[1;31m---------------------------------------------------------------------------\u001b[0m",
      "\u001b[1;31mTypeError\u001b[0m                                 Traceback (most recent call last)",
      "Cell \u001b[1;32mIn[42], line 1\u001b[0m\n\u001b[1;32m----> 1\u001b[0m s\u001b[38;5;241m+\u001b[39m\u001b[38;5;241m1\u001b[39m\n",
      "\u001b[1;31mTypeError\u001b[0m: can only concatenate str (not \"int\") to str"
     ]
    }
   ],
   "source": [
    "s+1"
   ]
  },
  {
   "cell_type": "code",
   "execution_count": 43,
   "id": "9aab4961-9c56-45e5-b043-941a544b33be",
   "metadata": {},
   "outputs": [
    {
     "data": {
      "text/plain": [
       "'prachi1'"
      ]
     },
     "execution_count": 43,
     "metadata": {},
     "output_type": "execute_result"
    }
   ],
   "source": [
    "s+str(1)"
   ]
  },
  {
   "cell_type": "code",
   "execution_count": 44,
   "id": "22c0db5b-88b6-4bab-b02c-7925a2e8935f",
   "metadata": {},
   "outputs": [
    {
     "data": {
      "text/plain": [
       "'prachiprachiprachiprachi'"
      ]
     },
     "execution_count": 44,
     "metadata": {},
     "output_type": "execute_result"
    }
   ],
   "source": [
    "s*4"
   ]
  },
  {
   "cell_type": "code",
   "execution_count": 45,
   "id": "d6740738-5674-48f6-bc8f-3f0a7a93f501",
   "metadata": {},
   "outputs": [
    {
     "data": {
      "text/plain": [
       "'prachi'"
      ]
     },
     "execution_count": 45,
     "metadata": {},
     "output_type": "execute_result"
    }
   ],
   "source": [
    "s"
   ]
  },
  {
   "cell_type": "code",
   "execution_count": 46,
   "id": "b0f298f9-e6ed-4c79-b590-d1850f34f66e",
   "metadata": {},
   "outputs": [
    {
     "data": {
      "text/plain": [
       "'i'"
      ]
     },
     "execution_count": 46,
     "metadata": {},
     "output_type": "execute_result"
    }
   ],
   "source": [
    "s[-1]"
   ]
  },
  {
   "cell_type": "code",
   "execution_count": 47,
   "id": "eb6ce157-6277-4b83-87dc-d8c5503f5dba",
   "metadata": {},
   "outputs": [],
   "source": [
    "s=\"prachikabra\""
   ]
  },
  {
   "cell_type": "code",
   "execution_count": 48,
   "id": "35438433-035e-4e95-868f-7aca42420083",
   "metadata": {},
   "outputs": [
    {
     "data": {
      "text/plain": [
       "''"
      ]
     },
     "execution_count": 48,
     "metadata": {},
     "output_type": "execute_result"
    }
   ],
   "source": [
    "s[0:8:-1]"
   ]
  },
  {
   "cell_type": "code",
   "execution_count": 49,
   "id": "96453f70-f12f-4c61-a9e6-872ef97dd8fb",
   "metadata": {},
   "outputs": [
    {
     "data": {
      "text/plain": [
       "'prachika'"
      ]
     },
     "execution_count": 49,
     "metadata": {},
     "output_type": "execute_result"
    }
   ],
   "source": [
    "s[:-3]"
   ]
  },
  {
   "cell_type": "code",
   "execution_count": 50,
   "id": "8c826b34-8657-4242-8662-d59eace1bd1b",
   "metadata": {},
   "outputs": [
    {
     "data": {
      "text/plain": [
       "\"This is my very first programming class's\""
      ]
     },
     "execution_count": 50,
     "metadata": {},
     "output_type": "execute_result"
    }
   ],
   "source": [
    "s1"
   ]
  },
  {
   "cell_type": "code",
   "execution_count": 53,
   "id": "6617c494-0ed7-4b82-9603-bc1f7cde74fc",
   "metadata": {},
   "outputs": [
    {
     "data": {
      "text/plain": [
       "\"s's\""
      ]
     },
     "execution_count": 53,
     "metadata": {},
     "output_type": "execute_result"
    }
   ],
   "source": [
    "s1[-3:]"
   ]
  },
  {
   "cell_type": "code",
   "execution_count": 56,
   "id": "198bc7c4-1ac4-48bf-92e4-fa64a3ba570b",
   "metadata": {},
   "outputs": [],
   "source": [
    "my_string=\"Python is bEautiful!\""
   ]
  },
  {
   "cell_type": "code",
   "execution_count": 62,
   "id": "e8bb1a29-dc92-4a9f-a9d4-eda5b48a0ede",
   "metadata": {},
   "outputs": [
    {
     "data": {
      "text/plain": [
       "'python is beautiful!'"
      ]
     },
     "execution_count": 62,
     "metadata": {},
     "output_type": "execute_result"
    }
   ],
   "source": [
    "my_string.lower()"
   ]
  },
  {
   "cell_type": "code",
   "execution_count": 59,
   "id": "70aed7d7-b3d9-4dbd-a218-8e72c044e7e4",
   "metadata": {},
   "outputs": [
    {
     "data": {
      "text/plain": [
       "'python is beautiful!'"
      ]
     },
     "execution_count": 59,
     "metadata": {},
     "output_type": "execute_result"
    }
   ],
   "source": [
    "new_string"
   ]
  },
  {
   "cell_type": "code",
   "execution_count": 60,
   "id": "d328fb7f-4397-4b7b-a4a9-bd72945b0cd5",
   "metadata": {},
   "outputs": [
    {
     "data": {
      "text/plain": [
       "'PYTHON IS BEAUTIFUL!'"
      ]
     },
     "execution_count": 60,
     "metadata": {},
     "output_type": "execute_result"
    }
   ],
   "source": [
    "my_string.upper()"
   ]
  },
  {
   "cell_type": "code",
   "execution_count": 61,
   "id": "dd2a4ba0-a505-419a-ac4b-de7ceb21ce0a",
   "metadata": {},
   "outputs": [
    {
     "data": {
      "text/plain": [
       "'Python is bEautiful!'"
      ]
     },
     "execution_count": 61,
     "metadata": {},
     "output_type": "execute_result"
    }
   ],
   "source": [
    "my_string"
   ]
  },
  {
   "cell_type": "code",
   "execution_count": 63,
   "id": "316f5cf0-dfdc-432a-a2c8-b52d38745266",
   "metadata": {},
   "outputs": [
    {
     "data": {
      "text/plain": [
       "'Python is bEautiful!'"
      ]
     },
     "execution_count": 63,
     "metadata": {},
     "output_type": "execute_result"
    }
   ],
   "source": [
    "my_string"
   ]
  },
  {
   "cell_type": "code",
   "execution_count": 67,
   "id": "99bc24d3-2b47-4d77-a53b-22607a0e08c2",
   "metadata": {},
   "outputs": [
    {
     "data": {
      "text/plain": [
       "2"
      ]
     },
     "execution_count": 67,
     "metadata": {},
     "output_type": "execute_result"
    }
   ],
   "source": [
    "my_string.count('u')"
   ]
  },
  {
   "cell_type": "code",
   "execution_count": 68,
   "id": "de089b50-ff9c-4610-91a4-cb5dd9eccf09",
   "metadata": {},
   "outputs": [
    {
     "data": {
      "text/plain": [
       "1"
      ]
     },
     "execution_count": 68,
     "metadata": {},
     "output_type": "execute_result"
    }
   ],
   "source": [
    "my_string.count('fu')"
   ]
  },
  {
   "cell_type": "code",
   "execution_count": 69,
   "id": "7efa3890-ed5b-4669-b835-ca73a6b3004f",
   "metadata": {},
   "outputs": [
    {
     "data": {
      "text/plain": [
       "['prachikabra']"
      ]
     },
     "execution_count": 69,
     "metadata": {},
     "output_type": "execute_result"
    }
   ],
   "source": [
    "s.split()"
   ]
  },
  {
   "cell_type": "code",
   "execution_count": 70,
   "id": "490d8430-ddad-413a-a40b-69b23a801bf8",
   "metadata": {},
   "outputs": [
    {
     "data": {
      "text/plain": [
       "['pr', 'chik', 'br', '']"
      ]
     },
     "execution_count": 70,
     "metadata": {},
     "output_type": "execute_result"
    }
   ],
   "source": [
    "s.split('a')"
   ]
  },
  {
   "cell_type": "code",
   "execution_count": 71,
   "id": "326adc68-c389-48b5-8268-2c5c01550ff0",
   "metadata": {},
   "outputs": [
    {
     "data": {
      "text/plain": [
       "['prachikabra']"
      ]
     },
     "execution_count": 71,
     "metadata": {},
     "output_type": "execute_result"
    }
   ],
   "source": [
    "s.split(' ')"
   ]
  },
  {
   "cell_type": "code",
   "execution_count": 72,
   "id": "9252f70c-e775-4920-819e-c42fe07829a4",
   "metadata": {},
   "outputs": [
    {
     "data": {
      "text/plain": [
       "'Python is bEautiful!'"
      ]
     },
     "execution_count": 72,
     "metadata": {},
     "output_type": "execute_result"
    }
   ],
   "source": [
    "my_string"
   ]
  },
  {
   "cell_type": "code",
   "execution_count": 73,
   "id": "b0c2df15-66a5-4e11-a4f5-c63e93bffbec",
   "metadata": {},
   "outputs": [
    {
     "data": {
      "text/plain": [
       "['Python', 'is', 'bEautiful!']"
      ]
     },
     "execution_count": 73,
     "metadata": {},
     "output_type": "execute_result"
    }
   ],
   "source": [
    "my_string.split(' ')"
   ]
  },
  {
   "cell_type": "code",
   "execution_count": 74,
   "id": "2b29b3ba-914d-4b2b-8538-f345c3fa5943",
   "metadata": {},
   "outputs": [],
   "source": [
    "sw= \"Guido van Rossum began working on Python in the late 1980s as a successor to the ABC programming language and first released it in 1991 as Python 0.9.0.[34] Python 2.0 was released in 2000. Python 3.0, released in 2008, was a major revision not completely backward-compatible with earlier versions. Python 2.7.18, released in 2020, was the last release of Python 2.[35]\""
   ]
  },
  {
   "cell_type": "code",
   "execution_count": 160,
   "id": "53c0a28e-8744-43e0-9ca7-cd5b77c41e09",
   "metadata": {},
   "outputs": [
    {
     "data": {
      "text/plain": [
       "6"
      ]
     },
     "execution_count": 160,
     "metadata": {},
     "output_type": "execute_result"
    }
   ],
   "source": [
    "sw.count('Python')"
   ]
  },
  {
   "cell_type": "code",
   "execution_count": 75,
   "id": "d8d57896-a7b7-4295-a30b-ac17a500e451",
   "metadata": {},
   "outputs": [
    {
     "data": {
      "text/plain": [
       "'Guido van Rossum began working on Python in the late 1980s as a successor to the ABC programming language and first released it in 1991 as Python 0.9.0.[34] Python 2.0 was released in 2000. Python 3.0, released in 2008, was a major revision not completely backward-compatible with earlier versions. Python 2.7.18, released in 2020, was the last release of Python 2.[35]'"
      ]
     },
     "execution_count": 75,
     "metadata": {},
     "output_type": "execute_result"
    }
   ],
   "source": [
    "sw"
   ]
  },
  {
   "cell_type": "code",
   "execution_count": 114,
   "id": "3933c692-5f13-42ba-8927-ab80bdd44a33",
   "metadata": {},
   "outputs": [
    {
     "data": {
      "text/plain": [
       "'Gauaiadaoa avaaana aRaoasasauama abaeagaaana awaoarakaianaga aoana aPayatahaoana aiana atahaea alaaataea a1a9a8a0asa aaasa aaa asauacacaeasasaoara ataoa atahaea aAaBaCa aparaoagaraaamamaianaga alaaanagauaaagaea aaanada afaiarasata araealaeaaasaeada aiata aiana a1a9a9a1a aaasa aPayatahaoana a0a.a9a.a0a.a[a3a4a]a aPayatahaoana a2a.a0a awaaasa araealaeaaasaeada aiana a2a0a0a0a.a aPayatahaoana a3a.a0a,a araealaeaaasaeada aiana a2a0a0a8a,a awaaasa aaa amaaajaoara araeavaiasaiaoana anaoata acaoamapalaeataealaya abaaacakawaaarada-acaoamapaaataiabalaea awaiataha aeaaaralaiaeara avaearasaiaoanasa.a aPayatahaoana a2a.a7a.a1a8a,a araealaeaaasaeada aiana a2a0a2a0a,a awaaasa atahaea alaaasata araealaeaaasaea aoafa aPayatahaoana a2a.a[a3a5a]'"
      ]
     },
     "execution_count": 114,
     "metadata": {},
     "output_type": "execute_result"
    }
   ],
   "source": [
    "\"a\".join(sw)"
   ]
  },
  {
   "cell_type": "code",
   "execution_count": null,
   "id": "756fd0ed-58a3-405a-8878-d014f36f9d64",
   "metadata": {},
   "outputs": [],
   "source": [
    "#want to count all the spaces from above string"
   ]
  },
  {
   "cell_type": "code",
   "execution_count": 84,
   "id": "3022c066-e832-4f63-a8b4-88a5591b8cf0",
   "metadata": {},
   "outputs": [],
   "source": [
    "my_list=sw.split(' ')"
   ]
  },
  {
   "cell_type": "code",
   "execution_count": 91,
   "id": "b05e8c6d-18e0-48b9-b54e-f8a700c09d6e",
   "metadata": {},
   "outputs": [
    {
     "data": {
      "text/plain": [
       "'Guido van rossum began working on python in the late 1980s as a successor to the abc programming language and first released it in 1991 as python 0.9.0.[34] python 2.0 was released in 2000. python 3.0, released in 2008, was a major revision not completely backward-compatible with earlier versions. python 2.7.18, released in 2020, was the last release of python 2.[35]'"
      ]
     },
     "execution_count": 91,
     "metadata": {},
     "output_type": "execute_result"
    }
   ],
   "source": [
    "sw.capitalize()"
   ]
  },
  {
   "cell_type": "code",
   "execution_count": 93,
   "id": "63658558-7376-4e0a-af56-ad15dada1fa2",
   "metadata": {},
   "outputs": [
    {
     "data": {
      "text/plain": [
       "'guido van rossum began working on python in the late 1980s as a successor to the abc programming language and first released it in 1991 as python 0.9.0.[34] python 2.0 was released in 2000. python 3.0, released in 2008, was a major revision not completely backward-compatible with earlier versions. python 2.7.18, released in 2020, was the last release of python 2.[35]'"
      ]
     },
     "execution_count": 93,
     "metadata": {},
     "output_type": "execute_result"
    }
   ],
   "source": [
    "sw.lower()"
   ]
  },
  {
   "cell_type": "code",
   "execution_count": 94,
   "id": "2544a9fb-1406-422f-978e-72b3661c38e8",
   "metadata": {},
   "outputs": [
    {
     "data": {
      "text/plain": [
       "'Guido Van Rossum Began Working On Python In The Late 1980S As A Successor To The Abc Programming Language And First Released It In 1991 As Python 0.9.0.[34] Python 2.0 Was Released In 2000. Python 3.0, Released In 2008, Was A Major Revision Not Completely Backward-Compatible With Earlier Versions. Python 2.7.18, Released In 2020, Was The Last Release Of Python 2.[35]'"
      ]
     },
     "execution_count": 94,
     "metadata": {},
     "output_type": "execute_result"
    }
   ],
   "source": [
    "sw.title()"
   ]
  },
  {
   "cell_type": "code",
   "execution_count": 98,
   "id": "8e174982-627c-4068-8a84-654f9f9c45d0",
   "metadata": {},
   "outputs": [
    {
     "data": {
      "text/plain": [
       "-1"
      ]
     },
     "execution_count": 98,
     "metadata": {},
     "output_type": "execute_result"
    }
   ],
   "source": [
    "sw.find('python')"
   ]
  },
  {
   "cell_type": "code",
   "execution_count": 97,
   "id": "88c12d84-b3a0-4e3f-b263-976e1ec78845",
   "metadata": {},
   "outputs": [
    {
     "ename": "AttributeError",
     "evalue": "'str' object has no attribute 'findAll'",
     "output_type": "error",
     "traceback": [
      "\u001b[1;31m---------------------------------------------------------------------------\u001b[0m",
      "\u001b[1;31mAttributeError\u001b[0m                            Traceback (most recent call last)",
      "Cell \u001b[1;32mIn[97], line 1\u001b[0m\n\u001b[1;32m----> 1\u001b[0m sw\u001b[38;5;241m.\u001b[39mfindAll(\u001b[38;5;124m'\u001b[39m\u001b[38;5;124mon\u001b[39m\u001b[38;5;124m'\u001b[39m)\n",
      "\u001b[1;31mAttributeError\u001b[0m: 'str' object has no attribute 'findAll'"
     ]
    }
   ],
   "source": [
    "sw."
   ]
  },
  {
   "cell_type": "code",
   "execution_count": 92,
   "id": "3e26c4fa-213e-48c8-aca4-967b3071f15b",
   "metadata": {},
   "outputs": [
    {
     "data": {
      "text/plain": [
       "'GUIDO VAN ROSSUM BEGAN WORKING ON PYTHON IN THE LATE 1980S AS A SUCCESSOR TO THE ABC PROGRAMMING LANGUAGE AND FIRST RELEASED IT IN 1991 AS PYTHON 0.9.0.[34] PYTHON 2.0 WAS RELEASED IN 2000. PYTHON 3.0, RELEASED IN 2008, WAS A MAJOR REVISION NOT COMPLETELY BACKWARD-COMPATIBLE WITH EARLIER VERSIONS. PYTHON 2.7.18, RELEASED IN 2020, WAS THE LAST RELEASE OF PYTHON 2.[35]'"
      ]
     },
     "execution_count": 92,
     "metadata": {},
     "output_type": "execute_result"
    }
   ],
   "source": [
    "sw.upper()"
   ]
  },
  {
   "cell_type": "code",
   "execution_count": 85,
   "id": "dd8a2c1c-e941-48d0-ac91-9ced9366836d",
   "metadata": {},
   "outputs": [
    {
     "data": {
      "text/plain": [
       "['Guido',\n",
       " 'van',\n",
       " 'Rossum',\n",
       " 'began',\n",
       " 'working',\n",
       " 'on',\n",
       " 'Python',\n",
       " 'in',\n",
       " 'the',\n",
       " 'late',\n",
       " '1980s',\n",
       " 'as',\n",
       " 'a',\n",
       " 'successor',\n",
       " 'to',\n",
       " 'the',\n",
       " 'ABC',\n",
       " 'programming',\n",
       " 'language',\n",
       " 'and',\n",
       " 'first',\n",
       " 'released',\n",
       " 'it',\n",
       " 'in',\n",
       " '1991',\n",
       " 'as',\n",
       " 'Python',\n",
       " '0.9.0.[34]',\n",
       " 'Python',\n",
       " '2.0',\n",
       " 'was',\n",
       " 'released',\n",
       " 'in',\n",
       " '2000.',\n",
       " 'Python',\n",
       " '3.0,',\n",
       " 'released',\n",
       " 'in',\n",
       " '2008,',\n",
       " 'was',\n",
       " 'a',\n",
       " 'major',\n",
       " 'revision',\n",
       " 'not',\n",
       " 'completely',\n",
       " 'backward-compatible',\n",
       " 'with',\n",
       " 'earlier',\n",
       " 'versions.',\n",
       " 'Python',\n",
       " '2.7.18,',\n",
       " 'released',\n",
       " 'in',\n",
       " '2020,',\n",
       " 'was',\n",
       " 'the',\n",
       " 'last',\n",
       " 'release',\n",
       " 'of',\n",
       " 'Python',\n",
       " '2.[35]']"
      ]
     },
     "execution_count": 85,
     "metadata": {},
     "output_type": "execute_result"
    }
   ],
   "source": [
    "my_list"
   ]
  },
  {
   "cell_type": "code",
   "execution_count": 90,
   "id": "2e6abffb-42eb-40b4-a35b-c906ae88a577",
   "metadata": {},
   "outputs": [],
   "source": [
    "\n",
    "s=\"'Generation Service Charge'\\n,'Distribution Charges'\"\n",
    "\n"
   ]
  },
  {
   "cell_type": "code",
   "execution_count": 99,
   "id": "66031b32-5bab-4faf-b011-0831d6906aed",
   "metadata": {},
   "outputs": [
    {
     "data": {
      "text/plain": [
       "']'"
      ]
     },
     "execution_count": 99,
     "metadata": {},
     "output_type": "execute_result"
    }
   ],
   "source": [
    "sw[-1]"
   ]
  },
  {
   "cell_type": "code",
   "execution_count": 102,
   "id": "d56ced2d-7fa5-405c-9302-7a90999253cb",
   "metadata": {},
   "outputs": [
    {
     "data": {
      "text/plain": [
       "'pRachI'"
      ]
     },
     "execution_count": 102,
     "metadata": {},
     "output_type": "execute_result"
    }
   ],
   "source": [
    "s=\"pRachI KAbra\"\n",
    "s[0:6]"
   ]
  },
  {
   "cell_type": "code",
   "execution_count": 103,
   "id": "f957e23e-f48e-4182-953f-858249af0248",
   "metadata": {},
   "outputs": [
    {
     "data": {
      "text/plain": [
       "'PrACHi kaBRA'"
      ]
     },
     "execution_count": 103,
     "metadata": {},
     "output_type": "execute_result"
    }
   ],
   "source": [
    "s.swapcase()"
   ]
  },
  {
   "cell_type": "code",
   "execution_count": 105,
   "id": "07148273-2969-4b38-9663-60ee3035522e",
   "metadata": {},
   "outputs": [
    {
     "data": {
      "text/plain": [
       "<reversed at 0x2a92dadbac0>"
      ]
     },
     "execution_count": 105,
     "metadata": {},
     "output_type": "execute_result"
    }
   ],
   "source": [
    "reversed(s)"
   ]
  },
  {
   "cell_type": "code",
   "execution_count": 106,
   "id": "d2dd15cd-c5cd-4424-8baa-d9791ea850d5",
   "metadata": {},
   "outputs": [
    {
     "data": {
      "text/plain": [
       "'arbAK IhcaRp'"
      ]
     },
     "execution_count": 106,
     "metadata": {},
     "output_type": "execute_result"
    }
   ],
   "source": [
    "''.join(reversed(s))"
   ]
  },
  {
   "cell_type": "code",
   "execution_count": 107,
   "id": "e0875835-e51c-499e-bdef-99a623f0f959",
   "metadata": {},
   "outputs": [
    {
     "data": {
      "text/plain": [
       "'arbAK IhcaRp'"
      ]
     },
     "execution_count": 107,
     "metadata": {},
     "output_type": "execute_result"
    }
   ],
   "source": [
    "s[::-1]"
   ]
  },
  {
   "cell_type": "code",
   "execution_count": 108,
   "id": "3dca21ef-f4ca-4682-a521-0d634170b293",
   "metadata": {},
   "outputs": [],
   "source": [
    "s1='  prachi  '"
   ]
  },
  {
   "cell_type": "code",
   "execution_count": 109,
   "id": "bf4a5b8d-5098-4a46-bc75-50320edd5aba",
   "metadata": {},
   "outputs": [
    {
     "data": {
      "text/plain": [
       "'prachi'"
      ]
     },
     "execution_count": 109,
     "metadata": {},
     "output_type": "execute_result"
    }
   ],
   "source": [
    "s1.strip()"
   ]
  },
  {
   "cell_type": "code",
   "execution_count": 110,
   "id": "ac07d6f7-3d8c-4973-a05d-c9018a4410b8",
   "metadata": {},
   "outputs": [
    {
     "data": {
      "text/plain": [
       "'prachi  '"
      ]
     },
     "execution_count": 110,
     "metadata": {},
     "output_type": "execute_result"
    }
   ],
   "source": [
    "s1.lstrip()"
   ]
  },
  {
   "cell_type": "code",
   "execution_count": 111,
   "id": "d970e188-0de2-4183-a830-a82242bce9aa",
   "metadata": {},
   "outputs": [
    {
     "data": {
      "text/plain": [
       "'  prachi'"
      ]
     },
     "execution_count": 111,
     "metadata": {},
     "output_type": "execute_result"
    }
   ],
   "source": [
    "s1.rstrip()"
   ]
  },
  {
   "cell_type": "code",
   "execution_count": 115,
   "id": "b0088a14-d469-43c2-97e5-1fbaaa5a96ca",
   "metadata": {},
   "outputs": [
    {
     "data": {
      "text/plain": [
       "'p_r_a_c_h_i'"
      ]
     },
     "execution_count": 115,
     "metadata": {},
     "output_type": "execute_result"
    }
   ],
   "source": [
    "\"_\".join('prachi')"
   ]
  },
  {
   "cell_type": "code",
   "execution_count": 116,
   "id": "ae564c4e-5b24-40af-962b-80d6704b6961",
   "metadata": {},
   "outputs": [
    {
     "data": {
      "text/plain": [
       "'  prachi  '"
      ]
     },
     "execution_count": 116,
     "metadata": {},
     "output_type": "execute_result"
    }
   ],
   "source": [
    "s1"
   ]
  },
  {
   "cell_type": "code",
   "execution_count": 123,
   "id": "072c0ce9-1ac7-4d9a-abd3-d92beda49133",
   "metadata": {},
   "outputs": [
    {
     "data": {
      "text/plain": [
       "'#####  prachi  #####'"
      ]
     },
     "execution_count": 123,
     "metadata": {},
     "output_type": "execute_result"
    }
   ],
   "source": [
    "s1.center(20,'#')"
   ]
  },
  {
   "cell_type": "code",
   "execution_count": 124,
   "id": "17186764-e497-4908-8155-fb741d219e74",
   "metadata": {},
   "outputs": [],
   "source": [
    "s2='Anlytics'"
   ]
  },
  {
   "cell_type": "code",
   "execution_count": 126,
   "id": "5d288fe0-c452-4dc7-91b5-1e206cc20a9c",
   "metadata": {},
   "outputs": [
    {
     "data": {
      "text/plain": [
       "False"
      ]
     },
     "execution_count": 126,
     "metadata": {},
     "output_type": "execute_result"
    }
   ],
   "source": [
    "s2.isupper()"
   ]
  },
  {
   "cell_type": "code",
   "execution_count": 127,
   "id": "f880740d-db81-419b-b457-bebca90a0539",
   "metadata": {},
   "outputs": [],
   "source": [
    "s3=s2.upper()"
   ]
  },
  {
   "cell_type": "code",
   "execution_count": 128,
   "id": "1c59a420-522f-48d5-be73-5d596e76b669",
   "metadata": {},
   "outputs": [
    {
     "data": {
      "text/plain": [
       "True"
      ]
     },
     "execution_count": 128,
     "metadata": {},
     "output_type": "execute_result"
    }
   ],
   "source": [
    "s3.isupper()"
   ]
  },
  {
   "cell_type": "code",
   "execution_count": 129,
   "id": "69bdfe50-4233-4ad4-9030-2d3dbd9b5903",
   "metadata": {},
   "outputs": [],
   "source": [
    "s4='prachi'"
   ]
  },
  {
   "cell_type": "code",
   "execution_count": 130,
   "id": "6c37e152-0f85-4a1d-b3e3-77d233e9f02f",
   "metadata": {},
   "outputs": [
    {
     "data": {
      "text/plain": [
       "True"
      ]
     },
     "execution_count": 130,
     "metadata": {},
     "output_type": "execute_result"
    }
   ],
   "source": [
    "s4.islower()"
   ]
  },
  {
   "cell_type": "code",
   "execution_count": 131,
   "id": "c065219b-0a53-485c-91f1-2e0eff623564",
   "metadata": {},
   "outputs": [],
   "source": [
    "s='welcome to indore'"
   ]
  },
  {
   "cell_type": "code",
   "execution_count": 132,
   "id": "4ae110bc-5c08-494b-b000-4f4b96f0d28f",
   "metadata": {},
   "outputs": [
    {
     "data": {
      "text/plain": [
       "False"
      ]
     },
     "execution_count": 132,
     "metadata": {},
     "output_type": "execute_result"
    }
   ],
   "source": [
    "s.isspace()"
   ]
  },
  {
   "cell_type": "code",
   "execution_count": 133,
   "id": "0cf0fc8a-de53-4b5d-a091-84b4395b6cdc",
   "metadata": {},
   "outputs": [],
   "source": [
    "s3='1234'"
   ]
  },
  {
   "cell_type": "code",
   "execution_count": 134,
   "id": "c61f4df3-0053-440f-925a-ad65dcd936a6",
   "metadata": {},
   "outputs": [
    {
     "data": {
      "text/plain": [
       "True"
      ]
     },
     "execution_count": 134,
     "metadata": {},
     "output_type": "execute_result"
    }
   ],
   "source": [
    "s3.isdigit()"
   ]
  },
  {
   "cell_type": "code",
   "execution_count": 145,
   "id": "71422095-70e3-4634-aee7-2c818438447f",
   "metadata": {},
   "outputs": [],
   "source": [
    "s4='prachi1234@'"
   ]
  },
  {
   "cell_type": "code",
   "execution_count": 146,
   "id": "7919be42-ee9f-4b09-867b-a7a07b00eaad",
   "metadata": {},
   "outputs": [
    {
     "data": {
      "text/plain": [
       "False"
      ]
     },
     "execution_count": 146,
     "metadata": {},
     "output_type": "execute_result"
    }
   ],
   "source": [
    "s4.isdigit()"
   ]
  },
  {
   "cell_type": "code",
   "execution_count": 147,
   "id": "0d41f030-166f-4025-93ba-87d2762f10e1",
   "metadata": {},
   "outputs": [
    {
     "data": {
      "text/plain": [
       "False"
      ]
     },
     "execution_count": 147,
     "metadata": {},
     "output_type": "execute_result"
    }
   ],
   "source": [
    "s4.isalnum()"
   ]
  },
  {
   "cell_type": "code",
   "execution_count": 138,
   "id": "d84a84a0-0c0b-46f3-9d55-3c9f78ddd3e7",
   "metadata": {},
   "outputs": [],
   "source": [
    "s5='kabir123@'"
   ]
  },
  {
   "cell_type": "code",
   "execution_count": 139,
   "id": "dcf6b832-6423-4cd6-9e2e-f5863c91eed7",
   "metadata": {},
   "outputs": [
    {
     "data": {
      "text/plain": [
       "False"
      ]
     },
     "execution_count": 139,
     "metadata": {},
     "output_type": "execute_result"
    }
   ],
   "source": [
    "s5.isalnum()"
   ]
  },
  {
   "cell_type": "code",
   "execution_count": 140,
   "id": "cec5c4d0-39b0-44c6-a418-f5994038b5d9",
   "metadata": {},
   "outputs": [
    {
     "data": {
      "text/plain": [
       "'1234'"
      ]
     },
     "execution_count": 140,
     "metadata": {},
     "output_type": "execute_result"
    }
   ],
   "source": [
    "s3"
   ]
  },
  {
   "cell_type": "code",
   "execution_count": 141,
   "id": "79f774b9-9c33-41a1-b465-7c7c8533993d",
   "metadata": {},
   "outputs": [
    {
     "data": {
      "text/plain": [
       "True"
      ]
     },
     "execution_count": 141,
     "metadata": {},
     "output_type": "execute_result"
    }
   ],
   "source": [
    "s3.isalnum()"
   ]
  },
  {
   "cell_type": "code",
   "execution_count": 142,
   "id": "9400a2a4-9f23-478f-902a-839353388cd9",
   "metadata": {},
   "outputs": [],
   "source": [
    "s='prachi'"
   ]
  },
  {
   "cell_type": "code",
   "execution_count": 143,
   "id": "f9415ff3-f040-481d-b456-f897ebbadca6",
   "metadata": {},
   "outputs": [
    {
     "data": {
      "text/plain": [
       "True"
      ]
     },
     "execution_count": 143,
     "metadata": {},
     "output_type": "execute_result"
    }
   ],
   "source": [
    "s.isalnum()"
   ]
  },
  {
   "cell_type": "code",
   "execution_count": 144,
   "id": "1dbec123-87fb-429c-84d3-d2f4fe52f8de",
   "metadata": {},
   "outputs": [
    {
     "data": {
      "text/plain": [
       "True"
      ]
     },
     "execution_count": 144,
     "metadata": {},
     "output_type": "execute_result"
    }
   ],
   "source": [
    "s.isalpha()"
   ]
  },
  {
   "cell_type": "code",
   "execution_count": 148,
   "id": "a2249fa1-011d-4e32-80b8-cfe8ada1ffec",
   "metadata": {},
   "outputs": [],
   "source": [
    "s='1234'"
   ]
  },
  {
   "cell_type": "code",
   "execution_count": 149,
   "id": "9b0daedc-251b-421b-a9f6-185f8117d757",
   "metadata": {},
   "outputs": [
    {
     "data": {
      "text/plain": [
       "False"
      ]
     },
     "execution_count": 149,
     "metadata": {},
     "output_type": "execute_result"
    }
   ],
   "source": [
    "s.isalpha()"
   ]
  },
  {
   "cell_type": "code",
   "execution_count": 151,
   "id": "74973fd3-3ec5-47ca-9074-710372422cd9",
   "metadata": {},
   "outputs": [],
   "source": [
    "s='taj mahal'"
   ]
  },
  {
   "cell_type": "code",
   "execution_count": 152,
   "id": "a79711d0-e507-4702-bf31-ca7d1964a9d7",
   "metadata": {},
   "outputs": [
    {
     "data": {
      "text/plain": [
       "True"
      ]
     },
     "execution_count": 152,
     "metadata": {},
     "output_type": "execute_result"
    }
   ],
   "source": [
    "s.startswith('t')"
   ]
  },
  {
   "cell_type": "code",
   "execution_count": 156,
   "id": "33916a59-7f48-4966-8391-c7b29fec56f3",
   "metadata": {},
   "outputs": [
    {
     "data": {
      "text/plain": [
       "False"
      ]
     },
     "execution_count": 156,
     "metadata": {},
     "output_type": "execute_result"
    }
   ],
   "source": [
    "s.startswith('m')"
   ]
  },
  {
   "cell_type": "code",
   "execution_count": 154,
   "id": "4a5c76fe-3c72-43c2-b33e-2cc47d12d7dc",
   "metadata": {},
   "outputs": [
    {
     "data": {
      "text/plain": [
       "True"
      ]
     },
     "execution_count": 154,
     "metadata": {},
     "output_type": "execute_result"
    }
   ],
   "source": [
    "s.endswith('l')"
   ]
  },
  {
   "cell_type": "code",
   "execution_count": 155,
   "id": "dad60100-2aa6-48e3-a04b-5e66e1becc8e",
   "metadata": {},
   "outputs": [
    {
     "data": {
      "text/plain": [
       "False"
      ]
     },
     "execution_count": 155,
     "metadata": {},
     "output_type": "execute_result"
    }
   ],
   "source": [
    "s.endswith('y')"
   ]
  },
  {
   "cell_type": "code",
   "execution_count": 158,
   "id": "48881df1-1cb9-4252-bdae-daaba8d32723",
   "metadata": {},
   "outputs": [
    {
     "data": {
      "text/plain": [
       "9"
      ]
     },
     "execution_count": 158,
     "metadata": {},
     "output_type": "execute_result"
    }
   ],
   "source": [
    "len(s)"
   ]
  },
  {
   "cell_type": "code",
   "execution_count": null,
   "id": "301bfa5c-1a27-4326-b118-c8085bbcbab8",
   "metadata": {},
   "outputs": [],
   "source": []
  }
 ],
 "metadata": {
  "kernelspec": {
   "display_name": "Python 3 (ipykernel)",
   "language": "python",
   "name": "python3"
  },
  "language_info": {
   "codemirror_mode": {
    "name": "ipython",
    "version": 3
   },
   "file_extension": ".py",
   "mimetype": "text/x-python",
   "name": "python",
   "nbconvert_exporter": "python",
   "pygments_lexer": "ipython3",
   "version": "3.11.7"
  }
 },
 "nbformat": 4,
 "nbformat_minor": 5
}
