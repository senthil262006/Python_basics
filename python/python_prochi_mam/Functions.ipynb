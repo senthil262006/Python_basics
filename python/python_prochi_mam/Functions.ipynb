{
 "cells": [
  {
   "cell_type": "code",
   "execution_count": 1,
   "id": "bed54ca6",
   "metadata": {},
   "outputs": [],
   "source": [
    "def add():\n",
    "    a=5\n",
    "    b=2\n",
    "    print(a+b)"
   ]
  },
  {
   "cell_type": "code",
   "execution_count": 2,
   "id": "96119476",
   "metadata": {},
   "outputs": [
    {
     "name": "stdout",
     "output_type": "stream",
     "text": [
      "7\n"
     ]
    }
   ],
   "source": [
    "add()"
   ]
  },
  {
   "cell_type": "code",
   "execution_count": 3,
   "id": "88a562bd",
   "metadata": {},
   "outputs": [],
   "source": [
    "def add(a,b):\n",
    "    print(a+b)"
   ]
  },
  {
   "cell_type": "code",
   "execution_count": 4,
   "id": "78bb9f8d",
   "metadata": {},
   "outputs": [
    {
     "name": "stdout",
     "output_type": "stream",
     "text": [
      "9\n"
     ]
    }
   ],
   "source": [
    "add(7,2)"
   ]
  },
  {
   "cell_type": "code",
   "execution_count": 5,
   "id": "b727e406",
   "metadata": {},
   "outputs": [],
   "source": [
    "def indroduction():\n",
    "    print(\"Hello this is my first function\")"
   ]
  },
  {
   "cell_type": "code",
   "execution_count": 6,
   "id": "d0b33574",
   "metadata": {},
   "outputs": [
    {
     "name": "stdout",
     "output_type": "stream",
     "text": [
      "Hello this is my first function\n"
     ]
    }
   ],
   "source": [
    "indroduction()"
   ]
  },
  {
   "cell_type": "code",
   "execution_count": 9,
   "id": "7df8cb10",
   "metadata": {},
   "outputs": [],
   "source": [
    "def indroduction(fname):\n",
    "    print(fname + \" is my first name\")"
   ]
  },
  {
   "cell_type": "code",
   "execution_count": 10,
   "id": "a0dd3d43",
   "metadata": {},
   "outputs": [
    {
     "name": "stdout",
     "output_type": "stream",
     "text": [
      "prachi is my first name\n"
     ]
    }
   ],
   "source": [
    "indroduction('prachi')"
   ]
  },
  {
   "cell_type": "code",
   "execution_count": 11,
   "id": "dfdaf4d5",
   "metadata": {},
   "outputs": [
    {
     "ename": "TypeError",
     "evalue": "indroduction() takes 1 positional argument but 2 were given",
     "output_type": "error",
     "traceback": [
      "\u001b[1;31m---------------------------------------------------------------------------\u001b[0m",
      "\u001b[1;31mTypeError\u001b[0m                                 Traceback (most recent call last)",
      "Cell \u001b[1;32mIn[11], line 1\u001b[0m\n\u001b[1;32m----> 1\u001b[0m indroduction(\u001b[38;5;124m'\u001b[39m\u001b[38;5;124mprachi\u001b[39m\u001b[38;5;124m'\u001b[39m,\u001b[38;5;124m'\u001b[39m\u001b[38;5;124mKabra\u001b[39m\u001b[38;5;124m'\u001b[39m)\n",
      "\u001b[1;31mTypeError\u001b[0m: indroduction() takes 1 positional argument but 2 were given"
     ]
    }
   ],
   "source": [
    "indroduction('prachi','Kabra')"
   ]
  },
  {
   "cell_type": "code",
   "execution_count": 23,
   "id": "330e218a",
   "metadata": {},
   "outputs": [],
   "source": [
    "def indroduction(fname,lname =''):\n",
    "    print(fname + \" \"+ lname + \" is my first name\")"
   ]
  },
  {
   "cell_type": "code",
   "execution_count": 24,
   "id": "9230fd69",
   "metadata": {},
   "outputs": [
    {
     "ename": "TypeError",
     "evalue": "can only concatenate str (not \"int\") to str",
     "output_type": "error",
     "traceback": [
      "\u001b[1;31m---------------------------------------------------------------------------\u001b[0m",
      "\u001b[1;31mTypeError\u001b[0m                                 Traceback (most recent call last)",
      "Cell \u001b[1;32mIn[24], line 1\u001b[0m\n\u001b[1;32m----> 1\u001b[0m indroduction(\u001b[38;5;124m'\u001b[39m\u001b[38;5;124mJohn\u001b[39m\u001b[38;5;124m'\u001b[39m)\n",
      "Cell \u001b[1;32mIn[23], line 2\u001b[0m, in \u001b[0;36mindroduction\u001b[1;34m(fname, lname)\u001b[0m\n\u001b[0;32m      1\u001b[0m \u001b[38;5;28;01mdef\u001b[39;00m \u001b[38;5;21mindroduction\u001b[39m(fname,lname \u001b[38;5;241m=\u001b[39m\u001b[38;5;241m8\u001b[39m):\n\u001b[1;32m----> 2\u001b[0m     \u001b[38;5;28mprint\u001b[39m(fname \u001b[38;5;241m+\u001b[39m \u001b[38;5;124m\"\u001b[39m\u001b[38;5;124m \u001b[39m\u001b[38;5;124m\"\u001b[39m\u001b[38;5;241m+\u001b[39m lname \u001b[38;5;241m+\u001b[39m \u001b[38;5;124m\"\u001b[39m\u001b[38;5;124m is my first name\u001b[39m\u001b[38;5;124m\"\u001b[39m)\n",
      "\u001b[1;31mTypeError\u001b[0m: can only concatenate str (not \"int\") to str"
     ]
    }
   ],
   "source": [
    "indroduction('John')"
   ]
  },
  {
   "cell_type": "code",
   "execution_count": 14,
   "id": "148a49b6",
   "metadata": {},
   "outputs": [
    {
     "name": "stdout",
     "output_type": "stream",
     "text": [
      "John kalra is my first name\n"
     ]
    }
   ],
   "source": [
    "indroduction('John','kalra')"
   ]
  },
  {
   "cell_type": "code",
   "execution_count": 40,
   "id": "40d9a1fa",
   "metadata": {},
   "outputs": [],
   "source": [
    "def add(num1=9,num2=5,num3=7):\n",
    "    print(num1+num2+num3)"
   ]
  },
  {
   "cell_type": "code",
   "execution_count": 39,
   "id": "7b0f3960",
   "metadata": {},
   "outputs": [
    {
     "name": "stdout",
     "output_type": "stream",
     "text": [
      "20\n"
     ]
    }
   ],
   "source": [
    "add(8)"
   ]
  },
  {
   "cell_type": "code",
   "execution_count": 41,
   "id": "840fed9c",
   "metadata": {},
   "outputs": [
    {
     "name": "stdout",
     "output_type": "stream",
     "text": [
      "25\n"
     ]
    }
   ],
   "source": [
    "add(8,10)"
   ]
  },
  {
   "cell_type": "code",
   "execution_count": 30,
   "id": "b346a7f2",
   "metadata": {},
   "outputs": [
    {
     "name": "stdout",
     "output_type": "stream",
     "text": [
      "sum of two numbers None\n"
     ]
    }
   ],
   "source": [
    "def add_numbers(num1,num2):\n",
    "    sum = num1 +num2\n",
    "\n",
    "result = add_numbers(2,3)\n",
    "print(\"sum of two numbers\",result)"
   ]
  },
  {
   "cell_type": "code",
   "execution_count": 42,
   "id": "d9a25b0d",
   "metadata": {},
   "outputs": [
    {
     "name": "stdout",
     "output_type": "stream",
     "text": [
      "sum of two numbers <built-in function sum>\n"
     ]
    }
   ],
   "source": [
    "def add_numbers(num1,num2):\n",
    "    sum = num1 +num2\n",
    "\n",
    "result = add_numbers(2,3)\n",
    "print(\"sum of two numbers\",sum)"
   ]
  },
  {
   "cell_type": "code",
   "execution_count": 31,
   "id": "b9a32a1a",
   "metadata": {},
   "outputs": [
    {
     "name": "stdout",
     "output_type": "stream",
     "text": [
      "sum of two numbers 5\n"
     ]
    }
   ],
   "source": [
    "def add_numbers(num1,num2):\n",
    "    sum = num1 +num2\n",
    "    return sum\n",
    "\n",
    "result = add_numbers(2,3)\n",
    "print(\"sum of two numbers\",result)"
   ]
  },
  {
   "cell_type": "raw",
   "id": "78abd223",
   "metadata": {},
   "source": [
    "without the return statement the function would not produce any output that can be used outside of the function"
   ]
  },
  {
   "cell_type": "code",
   "execution_count": 36,
   "id": "e0b53466",
   "metadata": {},
   "outputs": [],
   "source": [
    "def add_numbers(num1,num2):\n",
    "    sum =num1 +num2\n",
    "    return sum\n",
    "\n",
    "\n"
   ]
  },
  {
   "cell_type": "code",
   "execution_count": 37,
   "id": "6505a042",
   "metadata": {},
   "outputs": [
    {
     "data": {
      "text/plain": [
       "5"
      ]
     },
     "execution_count": 37,
     "metadata": {},
     "output_type": "execute_result"
    }
   ],
   "source": [
    "add_numbers(2,3)"
   ]
  },
  {
   "cell_type": "code",
   "execution_count": 44,
   "id": "5ef3482c",
   "metadata": {},
   "outputs": [
    {
     "ename": "SyntaxError",
     "evalue": "'return' outside function (437775470.py, line 5)",
     "output_type": "error",
     "traceback": [
      "\u001b[1;36m  Cell \u001b[1;32mIn[44], line 5\u001b[1;36m\u001b[0m\n\u001b[1;33m    return add(10,15,20)\u001b[0m\n\u001b[1;37m    ^\u001b[0m\n\u001b[1;31mSyntaxError\u001b[0m\u001b[1;31m:\u001b[0m 'return' outside function\n"
     ]
    }
   ],
   "source": [
    "def add(a,b,c=10):\n",
    "    d = a+b+c\n",
    "    print(d)\n",
    "    \n",
    "return add(10,15,20)"
   ]
  },
  {
   "cell_type": "code",
   "execution_count": 63,
   "id": "50c407b6",
   "metadata": {},
   "outputs": [],
   "source": [
    "#Mini Calculator\n",
    "\n",
    "def Mini_cal(num1,num2,choice):\n",
    "    \n",
    "    if choice == 'add':\n",
    "        add = num1 + num2\n",
    "        return add\n",
    "    elif choice == 'minus':\n",
    "        minus = num1 - num2\n",
    "        return minus\n",
    "    elif choice == 'mul':\n",
    "        mul = num1*num2\n",
    "        return mul\n",
    "    elif choice == 'div':\n",
    "        div = num1 / num2\n",
    "        return div\n",
    "    \n"
   ]
  },
  {
   "cell_type": "code",
   "execution_count": 64,
   "id": "d5a31e64",
   "metadata": {},
   "outputs": [
    {
     "name": "stdout",
     "output_type": "stream",
     "text": [
      "result of two numbers as per your choice is : 5\n"
     ]
    }
   ],
   "source": [
    "result = Mini_cal(2,3,'add')\n",
    "print(\"result of two numbers as per your choice is :\", result)"
   ]
  },
  {
   "cell_type": "code",
   "execution_count": 65,
   "id": "6a97b9a1",
   "metadata": {},
   "outputs": [
    {
     "name": "stdout",
     "output_type": "stream",
     "text": [
      "result of two numbers as per your choice is : 6\n"
     ]
    }
   ],
   "source": [
    "result = Mini_cal(2,3,'mul')\n",
    "print(\"result of two numbers as per your choice is :\", result)"
   ]
  },
  {
   "cell_type": "code",
   "execution_count": 73,
   "id": "d658d3b9",
   "metadata": {},
   "outputs": [
    {
     "name": "stdout",
     "output_type": "stream",
     "text": [
      "35\n"
     ]
    }
   ],
   "source": [
    "def add(a=5,b=10,c=10):\n",
    "    d = a+b+c\n",
    "    print(d)\n",
    "\n",
    "add(15)"
   ]
  },
  {
   "cell_type": "code",
   "execution_count": 74,
   "id": "21974126",
   "metadata": {},
   "outputs": [
    {
     "ename": "SyntaxError",
     "evalue": "non-default argument follows default argument (3333024434.py, line 1)",
     "output_type": "error",
     "traceback": [
      "\u001b[1;36m  Cell \u001b[1;32mIn[74], line 1\u001b[1;36m\u001b[0m\n\u001b[1;33m    def add(a=5,b,c=10):\u001b[0m\n\u001b[1;37m                ^\u001b[0m\n\u001b[1;31mSyntaxError\u001b[0m\u001b[1;31m:\u001b[0m non-default argument follows default argument\n"
     ]
    }
   ],
   "source": [
    "def add(a=5,b,c=10):\n",
    "    d = a+b+c\n",
    "    print(d)\n",
    "\n",
    "add(15)\n",
    "\n"
   ]
  },
  {
   "cell_type": "code",
   "execution_count": 77,
   "id": "23508195",
   "metadata": {},
   "outputs": [
    {
     "name": "stdout",
     "output_type": "stream",
     "text": [
      "40\n"
     ]
    }
   ],
   "source": [
    "def add(a=5,b=10,c=9):\n",
    "    d = a+b+c\n",
    "    print(d)\n",
    "\n",
    "add(15,12,13)"
   ]
  },
  {
   "cell_type": "code",
   "execution_count": 76,
   "id": "1597103c",
   "metadata": {},
   "outputs": [
    {
     "name": "stdout",
     "output_type": "stream",
     "text": [
      "35\n"
     ]
    }
   ],
   "source": [
    "def add(a,b=10,c=10):\n",
    "    d = a+b+c\n",
    "    print(d)\n",
    "\n",
    "add(15)"
   ]
  },
  {
   "cell_type": "code",
   "execution_count": 1,
   "id": "8cce61ea",
   "metadata": {},
   "outputs": [],
   "source": [
    "def format_name():\n",
    "    fname = input(\"Enter your name: \")\n",
    "    lname = input(\"Enter your name: \")\n",
    "    \n",
    "    formatted_fname = fname.capitalize()\n",
    "    formatted_lname = lname.capitalize()\n",
    "    \n",
    "    print(\"candidates name is \",formatted_fname, formatted_lname)"
   ]
  },
  {
   "cell_type": "code",
   "execution_count": 2,
   "id": "f1d54a87",
   "metadata": {},
   "outputs": [
    {
     "name": "stdout",
     "output_type": "stream",
     "text": [
      "Enter your name: prachi\n",
      "Enter your name: kabra\n",
      "candidates name is  Prachi Kabra\n"
     ]
    }
   ],
   "source": [
    "format_name()"
   ]
  },
  {
   "cell_type": "raw",
   "id": "0dad3975",
   "metadata": {},
   "source": [
    "Create a Python programme that includes a user-defined function called print_even_numbers(). \n",
    "The function should prompt the user to set a range limit before printing all even numbers up to that limit."
   ]
  },
  {
   "cell_type": "code",
   "execution_count": 4,
   "id": "535737e1",
   "metadata": {},
   "outputs": [
    {
     "data": {
      "text/plain": [
       "[0, 1, 2, 3, 4]"
      ]
     },
     "execution_count": 4,
     "metadata": {},
     "output_type": "execute_result"
    }
   ],
   "source": [
    "list(range(5))"
   ]
  },
  {
   "cell_type": "code",
   "execution_count": null,
   "id": "2e6625ac",
   "metadata": {},
   "outputs": [],
   "source": []
  }
 ],
 "metadata": {
  "kernelspec": {
   "display_name": "Python 3 (ipykernel)",
   "language": "python",
   "name": "python3"
  },
  "language_info": {
   "codemirror_mode": {
    "name": "ipython",
    "version": 3
   },
   "file_extension": ".py",
   "mimetype": "text/x-python",
   "name": "python",
   "nbconvert_exporter": "python",
   "pygments_lexer": "ipython3",
   "version": "3.11.5"
  }
 },
 "nbformat": 4,
 "nbformat_minor": 5
}
