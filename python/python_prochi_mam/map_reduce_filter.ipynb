{
 "cells": [
  {
   "cell_type": "code",
   "execution_count": 1,
   "id": "5e295869",
   "metadata": {},
   "outputs": [],
   "source": [
    "#map(),reduce(),filter()"
   ]
  },
  {
   "cell_type": "code",
   "execution_count": 2,
   "id": "3e62896d",
   "metadata": {},
   "outputs": [],
   "source": [
    "l=[2,3,4,5,6,7,8]"
   ]
  },
  {
   "cell_type": "code",
   "execution_count": 3,
   "id": "85f3cced",
   "metadata": {},
   "outputs": [],
   "source": [
    "l1=[]\n",
    "for i in l:\n",
    "    l1.append(i**2)"
   ]
  },
  {
   "cell_type": "code",
   "execution_count": 4,
   "id": "93e4ead5",
   "metadata": {},
   "outputs": [
    {
     "data": {
      "text/plain": [
       "[4, 9, 16, 25, 36, 49, 64]"
      ]
     },
     "execution_count": 4,
     "metadata": {},
     "output_type": "execute_result"
    }
   ],
   "source": [
    "l1"
   ]
  },
  {
   "cell_type": "code",
   "execution_count": 6,
   "id": "eec29d95",
   "metadata": {},
   "outputs": [],
   "source": [
    "def sq_n(n):\n",
    "    return n**2"
   ]
  },
  {
   "cell_type": "code",
   "execution_count": 7,
   "id": "78b1af92",
   "metadata": {},
   "outputs": [
    {
     "data": {
      "text/plain": [
       "<map at 0x1bc2a4120e0>"
      ]
     },
     "execution_count": 7,
     "metadata": {},
     "output_type": "execute_result"
    }
   ],
   "source": [
    "map(sq_n,l)"
   ]
  },
  {
   "cell_type": "code",
   "execution_count": 8,
   "id": "bb0a6070",
   "metadata": {},
   "outputs": [
    {
     "data": {
      "text/plain": [
       "[4, 9, 16, 25, 36, 49, 64]"
      ]
     },
     "execution_count": 8,
     "metadata": {},
     "output_type": "execute_result"
    }
   ],
   "source": [
    "list(map(sq_n,l))"
   ]
  },
  {
   "cell_type": "code",
   "execution_count": 9,
   "id": "2d1e136c",
   "metadata": {},
   "outputs": [
    {
     "data": {
      "text/plain": [
       "[4, 9, 16, 25, 36, 49, 64]"
      ]
     },
     "execution_count": 9,
     "metadata": {},
     "output_type": "execute_result"
    }
   ],
   "source": [
    "list(map(lambda x: x**2,l))"
   ]
  },
  {
   "cell_type": "code",
   "execution_count": 10,
   "id": "eb2fc049",
   "metadata": {},
   "outputs": [
    {
     "data": {
      "text/plain": [
       "[2, 3, 4, 5, 6, 7, 8]"
      ]
     },
     "execution_count": 10,
     "metadata": {},
     "output_type": "execute_result"
    }
   ],
   "source": [
    "l"
   ]
  },
  {
   "cell_type": "code",
   "execution_count": 11,
   "id": "d5593277",
   "metadata": {},
   "outputs": [
    {
     "data": {
      "text/plain": [
       "['2', '3', '4', '5', '6', '7', '8']"
      ]
     },
     "execution_count": 11,
     "metadata": {},
     "output_type": "execute_result"
    }
   ],
   "source": [
    "list(map(lambda x:str(x),l))"
   ]
  },
  {
   "cell_type": "code",
   "execution_count": 13,
   "id": "6e1f2689",
   "metadata": {},
   "outputs": [
    {
     "data": {
      "text/plain": [
       "['2', '3', '4', '5', '6', '7', '8']"
      ]
     },
     "execution_count": 13,
     "metadata": {},
     "output_type": "execute_result"
    }
   ],
   "source": [
    "list(map(str,l)) #str is a inbuilt function"
   ]
  },
  {
   "cell_type": "code",
   "execution_count": 14,
   "id": "c94f1bb4",
   "metadata": {},
   "outputs": [],
   "source": [
    "#reduce\n",
    "from functools import reduce"
   ]
  },
  {
   "cell_type": "code",
   "execution_count": 15,
   "id": "656cd468",
   "metadata": {},
   "outputs": [],
   "source": [
    "l=[2,3,4,5,6,7]"
   ]
  },
  {
   "cell_type": "code",
   "execution_count": 16,
   "id": "8a9eccaa",
   "metadata": {},
   "outputs": [
    {
     "data": {
      "text/plain": [
       "27"
      ]
     },
     "execution_count": 16,
     "metadata": {},
     "output_type": "execute_result"
    }
   ],
   "source": [
    "sum(l)"
   ]
  },
  {
   "cell_type": "code",
   "execution_count": 20,
   "id": "2e89dfc7",
   "metadata": {},
   "outputs": [
    {
     "ename": "TypeError",
     "evalue": "<lambda>() missing 4 required positional arguments: 'c', 'd', 'e', and 'f'",
     "output_type": "error",
     "traceback": [
      "\u001b[1;31m---------------------------------------------------------------------------\u001b[0m",
      "\u001b[1;31mTypeError\u001b[0m                                 Traceback (most recent call last)",
      "Cell \u001b[1;32mIn[20], line 1\u001b[0m\n\u001b[1;32m----> 1\u001b[0m reduce(\u001b[38;5;28;01mlambda\u001b[39;00m a,b,c,d,e,f:a\u001b[38;5;241m+\u001b[39mb\u001b[38;5;241m+\u001b[39mc\u001b[38;5;241m+\u001b[39md\u001b[38;5;241m+\u001b[39me\u001b[38;5;241m+\u001b[39mf,l )\n",
      "\u001b[1;31mTypeError\u001b[0m: <lambda>() missing 4 required positional arguments: 'c', 'd', 'e', and 'f'"
     ]
    }
   ],
   "source": [
    "reduce(lambda a,b,c,d,e,f:a+b+c+d+e+f,l )"
   ]
  },
  {
   "cell_type": "code",
   "execution_count": 18,
   "id": "5be05811",
   "metadata": {},
   "outputs": [],
   "source": [
    "def sum_n(a,b):\n",
    "    return a+b"
   ]
  },
  {
   "cell_type": "code",
   "execution_count": 19,
   "id": "b6ad7ebb",
   "metadata": {},
   "outputs": [
    {
     "data": {
      "text/plain": [
       "27"
      ]
     },
     "execution_count": 19,
     "metadata": {},
     "output_type": "execute_result"
    }
   ],
   "source": [
    "reduce(sum_n,l )"
   ]
  },
  {
   "cell_type": "code",
   "execution_count": null,
   "id": "41152804",
   "metadata": {},
   "outputs": [],
   "source": [
    "a=2,b=3 --->a+b-->5-->a,b=4--->9-->a,b=5--->14-->a,b=6--->20,a,b=7--->27"
   ]
  },
  {
   "cell_type": "code",
   "execution_count": 23,
   "id": "5405975c",
   "metadata": {},
   "outputs": [
    {
     "name": "stdout",
     "output_type": "stream",
     "text": [
      "4\n",
      "9\n",
      "16\n",
      "25\n"
     ]
    }
   ],
   "source": [
    "l=[2,3,4,5]\n",
    "\n",
    "for i in l:\n",
    "    print(i*i)\n"
   ]
  },
  {
   "cell_type": "code",
   "execution_count": 22,
   "id": "13a8f78c",
   "metadata": {},
   "outputs": [
    {
     "data": {
      "text/plain": [
       "120"
      ]
     },
     "execution_count": 22,
     "metadata": {},
     "output_type": "execute_result"
    }
   ],
   "source": [
    "reduce(lambda a,b:a*b,l)"
   ]
  },
  {
   "cell_type": "code",
   "execution_count": 24,
   "id": "5b36dc64",
   "metadata": {},
   "outputs": [],
   "source": [
    "l=lambda a,b:a+b\n",
    "\n"
   ]
  },
  {
   "cell_type": "code",
   "execution_count": 25,
   "id": "bfca4636",
   "metadata": {},
   "outputs": [
    {
     "data": {
      "text/plain": [
       "5"
      ]
     },
     "execution_count": 25,
     "metadata": {},
     "output_type": "execute_result"
    }
   ],
   "source": [
    "l(2,3)"
   ]
  },
  {
   "cell_type": "code",
   "execution_count": 26,
   "id": "9677291d",
   "metadata": {},
   "outputs": [
    {
     "ename": "TypeError",
     "evalue": "<lambda>() missing 1 required positional argument: 'b'",
     "output_type": "error",
     "traceback": [
      "\u001b[1;31m---------------------------------------------------------------------------\u001b[0m",
      "\u001b[1;31mTypeError\u001b[0m                                 Traceback (most recent call last)",
      "Cell \u001b[1;32mIn[26], line 1\u001b[0m\n\u001b[1;32m----> 1\u001b[0m l([\u001b[38;5;241m1\u001b[39m,\u001b[38;5;241m2\u001b[39m,\u001b[38;5;241m3\u001b[39m])\n",
      "\u001b[1;31mTypeError\u001b[0m: <lambda>() missing 1 required positional argument: 'b'"
     ]
    }
   ],
   "source": [
    "l([1,2,3])"
   ]
  },
  {
   "cell_type": "code",
   "execution_count": 30,
   "id": "0b3dc166",
   "metadata": {},
   "outputs": [],
   "source": [
    "#try to filter out all the all the even elements and store them inside a  list\n",
    "l=[23,45,67,89,12,23,10]\n",
    "l1=[]\n",
    "\n",
    "for i in l:\n",
    "    if i%2==0:\n",
    "        l1.append(i)"
   ]
  },
  {
   "cell_type": "code",
   "execution_count": 28,
   "id": "09937a6f",
   "metadata": {},
   "outputs": [
    {
     "data": {
      "text/plain": [
       "[12, 10]"
      ]
     },
     "execution_count": 28,
     "metadata": {},
     "output_type": "execute_result"
    }
   ],
   "source": [
    "l1"
   ]
  },
  {
   "cell_type": "code",
   "execution_count": 36,
   "id": "1a8e47a3",
   "metadata": {},
   "outputs": [],
   "source": [
    "l=[23,45,67,89,12,23,10]"
   ]
  },
  {
   "cell_type": "code",
   "execution_count": 39,
   "id": "b4f228b3",
   "metadata": {},
   "outputs": [
    {
     "data": {
      "text/plain": [
       "[12, 10]"
      ]
     },
     "execution_count": 39,
     "metadata": {},
     "output_type": "execute_result"
    }
   ],
   "source": [
    "list(filter(lambda x: x%2==0,l))"
   ]
  },
  {
   "cell_type": "code",
   "execution_count": 34,
   "id": "666213bb",
   "metadata": {},
   "outputs": [
    {
     "data": {
      "text/plain": [
       "True"
      ]
     },
     "execution_count": 34,
     "metadata": {},
     "output_type": "execute_result"
    }
   ],
   "source": [
    "l1(12)"
   ]
  },
  {
   "cell_type": "code",
   "execution_count": 40,
   "id": "f8cbcac2",
   "metadata": {},
   "outputs": [],
   "source": [
    "l2=[12,34,56,79,11,23,47,800]"
   ]
  },
  {
   "cell_type": "code",
   "execution_count": 44,
   "id": "5ebb29e8",
   "metadata": {},
   "outputs": [
    {
     "data": {
      "text/plain": [
       "[79, 11, 23, 47]"
      ]
     },
     "execution_count": 44,
     "metadata": {},
     "output_type": "execute_result"
    }
   ],
   "source": [
    "list(filter(lambda x: x%2!=0,l2))"
   ]
  },
  {
   "cell_type": "code",
   "execution_count": 43,
   "id": "2874c542",
   "metadata": {},
   "outputs": [
    {
     "data": {
      "text/plain": [
       "[79, 11, 23, 47]"
      ]
     },
     "execution_count": 43,
     "metadata": {},
     "output_type": "execute_result"
    }
   ],
   "source": [
    "list(filter(lambda x: x%2!=0,l2))"
   ]
  },
  {
   "cell_type": "code",
   "execution_count": 45,
   "id": "6be1c0d2",
   "metadata": {},
   "outputs": [],
   "source": [
    "def check_evn(n):\n",
    "    if n%2 ==0:\n",
    "        return True"
   ]
  },
  {
   "cell_type": "code",
   "execution_count": 46,
   "id": "aa2709b3",
   "metadata": {},
   "outputs": [
    {
     "data": {
      "text/plain": [
       "[12, 10]"
      ]
     },
     "execution_count": 46,
     "metadata": {},
     "output_type": "execute_result"
    }
   ],
   "source": [
    "list(filter(check_evn,l))"
   ]
  },
  {
   "cell_type": "code",
   "execution_count": null,
   "id": "8a2fd263",
   "metadata": {},
   "outputs": [],
   "source": [
    "map,reduce,filter\n",
    "\n"
   ]
  },
  {
   "cell_type": "code",
   "execution_count": 47,
   "id": "644f8083",
   "metadata": {},
   "outputs": [],
   "source": [
    "#Recursion\n",
    "def factorial(x):\n",
    "    if x==1:\n",
    "        return 1\n",
    "    else:\n",
    "        return (x* factorial(x-1))\n"
   ]
  },
  {
   "cell_type": "code",
   "execution_count": 48,
   "id": "db3b85f3",
   "metadata": {},
   "outputs": [
    {
     "data": {
      "text/plain": [
       "24"
      ]
     },
     "execution_count": 48,
     "metadata": {},
     "output_type": "execute_result"
    }
   ],
   "source": [
    "factorial(4)--->4*3*2*1"
   ]
  },
  {
   "cell_type": "code",
   "execution_count": null,
   "id": "6284b53b",
   "metadata": {},
   "outputs": [],
   "source": [
    "---->x* factorial(x-1)--->4*factorial(3)--->3*factorial(2)--->2*factorial(1)---->1--->terminate"
   ]
  },
  {
   "cell_type": "code",
   "execution_count": 49,
   "id": "9114e0b7",
   "metadata": {},
   "outputs": [],
   "source": [
    "def countdown(n):\n",
    "    print(n)\n",
    "    if n>0:\n",
    "        countdown(n-1)"
   ]
  },
  {
   "cell_type": "code",
   "execution_count": 50,
   "id": "6d508047",
   "metadata": {
    "collapsed": true
   },
   "outputs": [
    {
     "name": "stdout",
     "output_type": "stream",
     "text": [
      "10\n",
      "9\n",
      "8\n",
      "7\n",
      "6\n",
      "5\n",
      "4\n",
      "3\n",
      "2\n",
      "1\n",
      "0\n"
     ]
    }
   ],
   "source": [
    "countdown(10)"
   ]
  },
  {
   "cell_type": "code",
   "execution_count": null,
   "id": "a7d28cba",
   "metadata": {},
   "outputs": [],
   "source": []
  },
  {
   "cell_type": "code",
   "execution_count": null,
   "id": "87d6973d",
   "metadata": {},
   "outputs": [],
   "source": [
    "10-->countdown(9)-->9--->countdown(8)---->8--->"
   ]
  },
  {
   "cell_type": "code",
   "execution_count": 58,
   "id": "154ca146",
   "metadata": {},
   "outputs": [],
   "source": [
    "l=[12,'prachi',\"anand\",\"analystics\",12,17,'a',\"Vaibhav\",19,'12','sumit']\n",
    "\n",
    "string_list = list(filter(lambda x: isinstance(x, list), l))\n"
   ]
  },
  {
   "cell_type": "code",
   "execution_count": 59,
   "id": "7b704ec6",
   "metadata": {},
   "outputs": [
    {
     "data": {
      "text/plain": [
       "[]"
      ]
     },
     "execution_count": 59,
     "metadata": {},
     "output_type": "execute_result"
    }
   ],
   "source": [
    "string_list"
   ]
  },
  {
   "cell_type": "code",
   "execution_count": 53,
   "id": "cc989799",
   "metadata": {},
   "outputs": [],
   "source": [
    "string_list = list(filter(lambda x: type(x) == str, l))"
   ]
  },
  {
   "cell_type": "code",
   "execution_count": 54,
   "id": "af0a9e6e",
   "metadata": {},
   "outputs": [
    {
     "data": {
      "text/plain": [
       "['prachi', 'anand', 'analystics', 'a', 'Vaibhav', '12', 'sumit']"
      ]
     },
     "execution_count": 54,
     "metadata": {},
     "output_type": "execute_result"
    }
   ],
   "source": [
    "string_list"
   ]
  },
  {
   "cell_type": "code",
   "execution_count": 69,
   "id": "bde88b90",
   "metadata": {},
   "outputs": [],
   "source": [
    "l = [[1,2,3,4] , (2,3,4,5,6) , (3,4,5,6,7) , set([23,4,5,45,4,4,5,45,45,4,5]) , {'k1' :\"prachi\" , \"k2\" : \"Anannd\",\"k3\":\n",
    "            \"analytics\" , 3:6 , 7:8} , [\"Anand\" , \"data analysis\"]]"
   ]
  },
  {
   "cell_type": "code",
   "execution_count": null,
   "id": "9999ebe2",
   "metadata": {},
   "outputs": [],
   "source": []
  },
  {
   "cell_type": "code",
   "execution_count": null,
   "id": "28313447",
   "metadata": {},
   "outputs": [],
   "source": [
    "1.Try to extract all the list entity \n",
    "2.extract all the dict enteties\n",
    "3.extract all the dict tuples"
   ]
  },
  {
   "cell_type": "code",
   "execution_count": 56,
   "id": "c46f82c4",
   "metadata": {},
   "outputs": [
    {
     "data": {
      "text/plain": [
       "[[1, 2, 3, 4], ['Anand', 'data analysis']]"
      ]
     },
     "execution_count": 56,
     "metadata": {},
     "output_type": "execute_result"
    }
   ],
   "source": [
    "list(filter(lambda x: type(x) == list, l))"
   ]
  },
  {
   "cell_type": "code",
   "execution_count": 57,
   "id": "84cf34c3",
   "metadata": {},
   "outputs": [
    {
     "data": {
      "text/plain": [
       "[{'k1': 'prachi', 'k2': 'Anannd', 'k3': 'analytics', 3: 6, 7: 8}]"
      ]
     },
     "execution_count": 57,
     "metadata": {},
     "output_type": "execute_result"
    }
   ],
   "source": [
    "list(filter(lambda x: type(x) == dict, l))"
   ]
  },
  {
   "cell_type": "code",
   "execution_count": 70,
   "id": "46e9e823",
   "metadata": {},
   "outputs": [
    {
     "name": "stdout",
     "output_type": "stream",
     "text": [
      "(2, 3, 4, 5, 6)\n",
      "(3, 4, 5, 6, 7)\n"
     ]
    }
   ],
   "source": [
    "\n",
    "for i in l:\n",
    "    if type(i)==tuple:\n",
    "        print(i)\n",
    "        "
   ]
  },
  {
   "cell_type": "code",
   "execution_count": 85,
   "id": "a19afbb5",
   "metadata": {},
   "outputs": [
    {
     "data": {
      "text/plain": [
       "[0]"
      ]
     },
     "execution_count": 85,
     "metadata": {},
     "output_type": "execute_result"
    }
   ],
   "source": [
    "l = [[1,2,3,4] , (2,3,4,5,6) , (3,4,5,6,7) , set([23,4,5,45,4,4,5,45,45,4,5]) , {'k1' :\"prachi\" , \"k2\" : \"Anannd\",\"k3\":\n",
    "            \"analytics\" , 3:6 , 7:8} , [\"Anand\" , \"data analysis\"],0,False]\n",
    "list(filter(lambda x: type(x) == int, l))"
   ]
  },
  {
   "cell_type": "code",
   "execution_count": 75,
   "id": "afcb9c24",
   "metadata": {},
   "outputs": [],
   "source": [
    "string_list = list(filter(lambda x: isinstance(x, set), l))"
   ]
  },
  {
   "cell_type": "code",
   "execution_count": 76,
   "id": "597a8408",
   "metadata": {},
   "outputs": [
    {
     "data": {
      "text/plain": [
       "[{4, 5, 23, 45}]"
      ]
     },
     "execution_count": 76,
     "metadata": {},
     "output_type": "execute_result"
    }
   ],
   "source": [
    "string_list"
   ]
  },
  {
   "cell_type": "code",
   "execution_count": 91,
   "id": "72f44179",
   "metadata": {},
   "outputs": [],
   "source": [
    "#Try to extract all the numerical data it may b a part of dict key and values\n"
   ]
  },
  {
   "cell_type": "code",
   "execution_count": 104,
   "id": "19cf0ba9",
   "metadata": {},
   "outputs": [],
   "source": [
    "def check_num(l):\n",
    "    l1=[]\n",
    "    l2=[]\n",
    "    for i in l:\n",
    "        if type(i)==list or type(i)==tuple or type(i)==set:\n",
    "            for j in i:\n",
    "                if type(j)==int:\n",
    "                    l1.append(j)\n",
    "                else:\n",
    "                    l2.append(j)\n",
    "                    \n",
    "        if type(i)==dict:\n",
    "            for k in i.items():\n",
    "                for g in k:\n",
    "                    if type(g)==int:\n",
    "                        l1.append(g)\n",
    "                    else:\n",
    "                        l2.append(g)\n",
    "    return l1,l2\n",
    "        \n",
    "    \n",
    "    "
   ]
  },
  {
   "cell_type": "code",
   "execution_count": 105,
   "id": "04176d2c",
   "metadata": {},
   "outputs": [
    {
     "data": {
      "text/plain": [
       "([1, 2, 3, 4, 2, 3, 4, 5, 6, 3, 4, 5, 6, 7, 45, 4, 5, 23, 3, 6, 7, 8],\n",
       " ['k1', 'prachi', 'k2', 'Anannd', 'k3', 'analytics', 'Anand', 'data analysis'])"
      ]
     },
     "execution_count": 105,
     "metadata": {},
     "output_type": "execute_result"
    }
   ],
   "source": [
    "l = [[1,2,3,4] , (2,3,4,5,6) , (3,4,5,6,7) , set([23,4,5,45,4,4,5,45,45,4,5]) , {'k1' :\"prachi\" , \"k2\" : \"Anannd\",\"k3\":\n",
    "            \"analytics\" , 3:6 , 7:8} , [\"Anand\" , \"data analysis\"],0,False]\n",
    "check_num(l)"
   ]
  },
  {
   "cell_type": "code",
   "execution_count": 106,
   "id": "50c54f4c",
   "metadata": {},
   "outputs": [
    {
     "data": {
      "text/plain": [
       "['k1', 'prachi', 'k2', 'Anannd', 'k3', 'analytics', 'Anand', 'data analysis']"
      ]
     },
     "execution_count": 106,
     "metadata": {},
     "output_type": "execute_result"
    }
   ],
   "source": [
    "l2"
   ]
  },
  {
   "cell_type": "code",
   "execution_count": null,
   "id": "33e2096f",
   "metadata": {},
   "outputs": [],
   "source": []
  },
  {
   "cell_type": "code",
   "execution_count": 107,
   "id": "1da9beb4",
   "metadata": {},
   "outputs": [
    {
     "data": {
      "text/plain": [
       "[1, 2, 3, 4, 2, 3, 4, 5, 6, 3, 4, 5, 6, 7, 45, 4, 5, 23, 3, 6, 7, 8]"
      ]
     },
     "execution_count": 107,
     "metadata": {},
     "output_type": "execute_result"
    }
   ],
   "source": [
    "l1"
   ]
  },
  {
   "cell_type": "code",
   "execution_count": 108,
   "id": "5dde1091",
   "metadata": {},
   "outputs": [
    {
     "data": {
      "text/plain": [
       "['k1', 'prachi', 'k2', 'Anannd', 'k3', 'analytics', 'Anand', 'data analysis']"
      ]
     },
     "execution_count": 108,
     "metadata": {},
     "output_type": "execute_result"
    }
   ],
   "source": [
    "l2"
   ]
  },
  {
   "cell_type": "code",
   "execution_count": 102,
   "id": "87821ec7",
   "metadata": {},
   "outputs": [
    {
     "data": {
      "text/plain": [
       "list"
      ]
     },
     "execution_count": 102,
     "metadata": {},
     "output_type": "execute_result"
    }
   ],
   "source": [
    "type(l1)"
   ]
  },
  {
   "cell_type": "code",
   "execution_count": 113,
   "id": "dd11f2ab",
   "metadata": {},
   "outputs": [
    {
     "data": {
      "text/plain": [
       "156"
      ]
     },
     "execution_count": 113,
     "metadata": {},
     "output_type": "execute_result"
    }
   ],
   "source": [
    "#Try to give summation of all the numeric datareduce(sum,l1))\n",
    "from functools import reduce\n",
    "reduce(lambda a,b:a+b,l1)"
   ]
  },
  {
   "cell_type": "code",
   "execution_count": 114,
   "id": "858719c8",
   "metadata": {},
   "outputs": [
    {
     "data": {
      "text/plain": [
       "908605071360000"
      ]
     },
     "execution_count": 114,
     "metadata": {},
     "output_type": "execute_result"
    }
   ],
   "source": [
    "reduce(lambda a,b:a*b,l1)"
   ]
  },
  {
   "cell_type": "code",
   "execution_count": 116,
   "id": "83f95358",
   "metadata": {},
   "outputs": [
    {
     "data": {
      "text/plain": [
       "'k1prachik2Ananndk3analyticsAnanddata analysis'"
      ]
     },
     "execution_count": 116,
     "metadata": {},
     "output_type": "execute_result"
    }
   ],
   "source": [
    "reduce(lambda a,b:a+b,l2)"
   ]
  },
  {
   "cell_type": "code",
   "execution_count": 117,
   "id": "33d27f3a",
   "metadata": {},
   "outputs": [],
   "source": [
    "#filter out all the odd values out all numeric data which is a part of a list\n",
    "#extract \"analytics\" from the given list\n",
    "#"
   ]
  },
  {
   "cell_type": "code",
   "execution_count": 120,
   "id": "6660db92",
   "metadata": {},
   "outputs": [],
   "source": [
    "a=6 #global variable\n",
    "def summ(b):\n",
    "    return a+b"
   ]
  },
  {
   "cell_type": "code",
   "execution_count": 119,
   "id": "eb8a3898",
   "metadata": {},
   "outputs": [
    {
     "data": {
      "text/plain": [
       "13"
      ]
     },
     "execution_count": 119,
     "metadata": {},
     "output_type": "execute_result"
    }
   ],
   "source": [
    "summ(7)"
   ]
  },
  {
   "cell_type": "code",
   "execution_count": 121,
   "id": "a51df652",
   "metadata": {},
   "outputs": [],
   "source": [
    "def summ():\n",
    "    a=9\n",
    "    b=7\n",
    "    return a+b\n"
   ]
  },
  {
   "cell_type": "code",
   "execution_count": 122,
   "id": "b1a9aac0",
   "metadata": {},
   "outputs": [
    {
     "data": {
      "text/plain": [
       "16"
      ]
     },
     "execution_count": 122,
     "metadata": {},
     "output_type": "execute_result"
    }
   ],
   "source": [
    "summ()"
   ]
  },
  {
   "cell_type": "code",
   "execution_count": 126,
   "id": "cc9a0436",
   "metadata": {},
   "outputs": [],
   "source": [
    "a=6 #global variable\n",
    "def summ(b):\n",
    "    a=9\n",
    "    return a+b"
   ]
  },
  {
   "cell_type": "code",
   "execution_count": 124,
   "id": "fa1c0d01",
   "metadata": {},
   "outputs": [
    {
     "data": {
      "text/plain": [
       "19"
      ]
     },
     "execution_count": 124,
     "metadata": {},
     "output_type": "execute_result"
    }
   ],
   "source": [
    "summ(10)"
   ]
  },
  {
   "cell_type": "code",
   "execution_count": 127,
   "id": "5012cb03",
   "metadata": {},
   "outputs": [],
   "source": [
    "a = 9\n",
    "def fun():\n",
    "    b=10\n",
    "    return a,b"
   ]
  },
  {
   "cell_type": "code",
   "execution_count": 128,
   "id": "0e7d044b",
   "metadata": {},
   "outputs": [
    {
     "data": {
      "text/plain": [
       "(9, 10)"
      ]
     },
     "execution_count": 128,
     "metadata": {},
     "output_type": "execute_result"
    }
   ],
   "source": [
    "fun()"
   ]
  },
  {
   "cell_type": "code",
   "execution_count": null,
   "id": "4635b74f",
   "metadata": {},
   "outputs": [],
   "source": []
  }
 ],
 "metadata": {
  "kernelspec": {
   "display_name": "Python 3 (ipykernel)",
   "language": "python",
   "name": "python3"
  },
  "language_info": {
   "codemirror_mode": {
    "name": "ipython",
    "version": 3
   },
   "file_extension": ".py",
   "mimetype": "text/x-python",
   "name": "python",
   "nbconvert_exporter": "python",
   "pygments_lexer": "ipython3",
   "version": "3.11.5"
  }
 },
 "nbformat": 4,
 "nbformat_minor": 5
}
