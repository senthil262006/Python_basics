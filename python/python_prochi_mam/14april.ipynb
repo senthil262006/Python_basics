{
 "cells": [
  {
   "cell_type": "code",
   "execution_count": 1,
   "id": "09d57bd1",
   "metadata": {},
   "outputs": [],
   "source": [
    "#map,  reduce, filter"
   ]
  },
  {
   "cell_type": "code",
   "execution_count": 2,
   "id": "55294b45",
   "metadata": {},
   "outputs": [],
   "source": [
    "l = [2,4,5,6,7,8]\n",
    "#do one thing try to find out square of each and every number and then give me a output in a list "
   ]
  },
  {
   "cell_type": "code",
   "execution_count": 3,
   "id": "c24f848c",
   "metadata": {},
   "outputs": [],
   "source": [
    "l1=[]\n",
    "for i in l:\n",
    "    l1.append(i**2)\n",
    "    "
   ]
  },
  {
   "cell_type": "code",
   "execution_count": 4,
   "id": "8a59476e",
   "metadata": {},
   "outputs": [
    {
     "data": {
      "text/plain": [
       "[4, 16, 25, 36, 49, 64]"
      ]
     },
     "execution_count": 4,
     "metadata": {},
     "output_type": "execute_result"
    }
   ],
   "source": [
    "l1"
   ]
  },
  {
   "cell_type": "raw",
   "id": "00306f0d",
   "metadata": {},
   "source": [
    "#lets try to solve the same problem using map() function\n",
    "\n",
    "map()-inbuilt function inside a python\n",
    "what actually map() do?\n",
    "\n",
    "basically take two arguments --- function and second one is iterable(check shift+tab to check)\n"
   ]
  },
  {
   "cell_type": "code",
   "execution_count": 5,
   "id": "c04acdeb",
   "metadata": {},
   "outputs": [],
   "source": [
    "def sq(n):\n",
    "    return n**2"
   ]
  },
  {
   "cell_type": "code",
   "execution_count": 8,
   "id": "bb64625b",
   "metadata": {},
   "outputs": [
    {
     "data": {
      "text/plain": [
       "<map at 0x16f1a700910>"
      ]
     },
     "execution_count": 8,
     "metadata": {},
     "output_type": "execute_result"
    }
   ],
   "source": [
    "map(sq,l)"
   ]
  },
  {
   "cell_type": "code",
   "execution_count": 9,
   "id": "4426f9ab",
   "metadata": {},
   "outputs": [
    {
     "data": {
      "text/plain": [
       "[4, 16, 25, 36, 49, 64]"
      ]
     },
     "execution_count": 9,
     "metadata": {},
     "output_type": "execute_result"
    }
   ],
   "source": [
    "list(map(sq,l))"
   ]
  },
  {
   "cell_type": "raw",
   "id": "0424ad68",
   "metadata": {},
   "source": [
    "--->map always map a perticular function with each and every element present inside your iterable"
   ]
  },
  {
   "cell_type": "raw",
   "id": "ce95591c",
   "metadata": {},
   "source": [
    "--->map always consider a function as a first argument\n",
    "---->I can pass any complex function in a map just as a parameter"
   ]
  },
  {
   "cell_type": "code",
   "execution_count": 10,
   "id": "65884cc9",
   "metadata": {},
   "outputs": [],
   "source": [
    "#write lambda function in map()"
   ]
  },
  {
   "cell_type": "code",
   "execution_count": 11,
   "id": "ee595088",
   "metadata": {},
   "outputs": [
    {
     "data": {
      "text/plain": [
       "<map at 0x16f1a701270>"
      ]
     },
     "execution_count": 11,
     "metadata": {},
     "output_type": "execute_result"
    }
   ],
   "source": [
    "map(lambda x : x**2,l)"
   ]
  },
  {
   "cell_type": "code",
   "execution_count": 12,
   "id": "c8cdf053",
   "metadata": {},
   "outputs": [
    {
     "data": {
      "text/plain": [
       "[4, 16, 25, 36, 49, 64]"
      ]
     },
     "execution_count": 12,
     "metadata": {},
     "output_type": "execute_result"
    }
   ],
   "source": [
    "list(map(lambda x : x**2,l))"
   ]
  },
  {
   "cell_type": "raw",
   "id": "c344290b",
   "metadata": {},
   "source": [
    "---->if we have two arguments we cannot use map beacuse it is not able to map"
   ]
  },
  {
   "cell_type": "code",
   "execution_count": 13,
   "id": "381d8526",
   "metadata": {},
   "outputs": [],
   "source": [
    "l = [2,4,5,6,7,8]"
   ]
  },
  {
   "cell_type": "code",
   "execution_count": 14,
   "id": "62cc3f5d",
   "metadata": {},
   "outputs": [
    {
     "data": {
      "text/plain": [
       "<map at 0x16f1a701e10>"
      ]
     },
     "execution_count": 14,
     "metadata": {},
     "output_type": "execute_result"
    }
   ],
   "source": [
    "#try to convert each element present in a list to a string\n",
    "map(lambda x : str(x),l)"
   ]
  },
  {
   "cell_type": "code",
   "execution_count": 15,
   "id": "f1ad80b2",
   "metadata": {},
   "outputs": [
    {
     "data": {
      "text/plain": [
       "['2', '4', '5', '6', '7', '8']"
      ]
     },
     "execution_count": 15,
     "metadata": {},
     "output_type": "execute_result"
    }
   ],
   "source": [
    "list(map(lambda x : str(x),l))"
   ]
  },
  {
   "cell_type": "code",
   "execution_count": 16,
   "id": "568986fd",
   "metadata": {},
   "outputs": [],
   "source": [
    "def str_c(n):\n",
    "    return str(n)"
   ]
  },
  {
   "cell_type": "code",
   "execution_count": 17,
   "id": "9fd20b74",
   "metadata": {},
   "outputs": [
    {
     "data": {
      "text/plain": [
       "['2', '4', '5', '6', '7', '8']"
      ]
     },
     "execution_count": 17,
     "metadata": {},
     "output_type": "execute_result"
    }
   ],
   "source": [
    "list(map(str_c,l))"
   ]
  },
  {
   "cell_type": "code",
   "execution_count": 20,
   "id": "a3f2c834",
   "metadata": {},
   "outputs": [
    {
     "data": {
      "text/plain": [
       "['2', '4', '5', '6', '7', '8']"
      ]
     },
     "execution_count": 20,
     "metadata": {},
     "output_type": "execute_result"
    }
   ],
   "source": [
    "list(map(str,l))   #str is a inbuilt function"
   ]
  },
  {
   "cell_type": "raw",
   "id": "df0ed203",
   "metadata": {},
   "source": [
    "#reduce\n",
    "--->inbuilt function\n",
    "but we have to import it"
   ]
  },
  {
   "cell_type": "code",
   "execution_count": 22,
   "id": "81eca1b4",
   "metadata": {},
   "outputs": [],
   "source": [
    "from functools import reduce\n",
    "\n",
    "#by default reduce is not available\n",
    "#it is available in a package called functool\n",
    "#so from this package we have import reduce"
   ]
  },
  {
   "cell_type": "code",
   "execution_count": 23,
   "id": "2d231cfb",
   "metadata": {},
   "outputs": [],
   "source": [
    "#Now lets understand how reduce works or how it is going to give output"
   ]
  },
  {
   "cell_type": "code",
   "execution_count": 36,
   "id": "7b625bcb",
   "metadata": {},
   "outputs": [],
   "source": [
    "l = [2,4,5,6,7,8,9,12]\n",
    "\n",
    "#can you plaese give me summation of each and every element present in a list"
   ]
  },
  {
   "cell_type": "code",
   "execution_count": 37,
   "id": "eb352fa1",
   "metadata": {},
   "outputs": [
    {
     "data": {
      "text/plain": [
       "53"
      ]
     },
     "execution_count": 37,
     "metadata": {},
     "output_type": "execute_result"
    }
   ],
   "source": [
    "sum(l)"
   ]
  },
  {
   "cell_type": "code",
   "execution_count": 38,
   "id": "7fcce2e7",
   "metadata": {},
   "outputs": [],
   "source": [
    "#multiplication --you can do using loops or functions \n",
    "#same thing can be done using rerduce function\n",
    "# areguments ---function, iterable\n"
   ]
  },
  {
   "cell_type": "code",
   "execution_count": 39,
   "id": "f5e7e700",
   "metadata": {},
   "outputs": [
    {
     "data": {
      "text/plain": [
       "53"
      ]
     },
     "execution_count": 39,
     "metadata": {},
     "output_type": "execute_result"
    }
   ],
   "source": [
    "reduce(lambda a,b : a+b,l)"
   ]
  },
  {
   "cell_type": "code",
   "execution_count": 40,
   "id": "c0053a0a",
   "metadata": {},
   "outputs": [
    {
     "data": {
      "text/plain": [
       "1451520"
      ]
     },
     "execution_count": 40,
     "metadata": {},
     "output_type": "execute_result"
    }
   ],
   "source": [
    "reduce(lambda a,b : a*b,l)"
   ]
  },
  {
   "cell_type": "raw",
   "id": "4a2844c4",
   "metadata": {},
   "source": [
    "#Filter()\n",
    "--->As it's name suggest it is filtering the records or data set\n",
    "--->argument--function or None, iterable\n",
    "--->filter always looks for true whenever condiotion is true it is gonna give a true output\n",
    "\n"
   ]
  },
  {
   "cell_type": "code",
   "execution_count": 44,
   "id": "4223299e",
   "metadata": {},
   "outputs": [],
   "source": [
    "l = [2,4,5,6,7,8,9,12]"
   ]
  },
  {
   "cell_type": "code",
   "execution_count": 45,
   "id": "8b871f08",
   "metadata": {},
   "outputs": [],
   "source": [
    "#can you try to filter the data which is even number"
   ]
  },
  {
   "cell_type": "code",
   "execution_count": 51,
   "id": "a42b03ce",
   "metadata": {},
   "outputs": [
    {
     "data": {
      "text/plain": [
       "<filter at 0x16f1a703310>"
      ]
     },
     "execution_count": 51,
     "metadata": {},
     "output_type": "execute_result"
    }
   ],
   "source": [
    "filter(lambda x : x%2==0,l)"
   ]
  },
  {
   "cell_type": "code",
   "execution_count": 52,
   "id": "c35e5aa6",
   "metadata": {},
   "outputs": [
    {
     "data": {
      "text/plain": [
       "[2, 4, 6, 8, 12]"
      ]
     },
     "execution_count": 52,
     "metadata": {},
     "output_type": "execute_result"
    }
   ],
   "source": [
    "list(filter(lambda x : x%2==0,l))"
   ]
  },
  {
   "cell_type": "code",
   "execution_count": 53,
   "id": "5538fe57",
   "metadata": {},
   "outputs": [
    {
     "data": {
      "text/plain": [
       "[5, 7, 9]"
      ]
     },
     "execution_count": 53,
     "metadata": {},
     "output_type": "execute_result"
    }
   ],
   "source": [
    "#odd\n",
    "list(filter(lambda x : x%2!=0,l))"
   ]
  },
  {
   "cell_type": "code",
   "execution_count": 54,
   "id": "024c7f2e",
   "metadata": {},
   "outputs": [],
   "source": [
    "def check_evn(n):\n",
    "    if n%2 == 0:\n",
    "        return True"
   ]
  },
  {
   "cell_type": "code",
   "execution_count": 55,
   "id": "703b9ba7",
   "metadata": {},
   "outputs": [
    {
     "data": {
      "text/plain": [
       "[2, 4, 6, 8, 12]"
      ]
     },
     "execution_count": 55,
     "metadata": {},
     "output_type": "execute_result"
    }
   ],
   "source": [
    "list(filter(check_evn,l))"
   ]
  },
  {
   "cell_type": "markdown",
   "id": "5765751a",
   "metadata": {},
   "source": [
    "# Recursion"
   ]
  },
  {
   "cell_type": "raw",
   "id": "835b6042",
   "metadata": {},
   "source": [
    "---->The term Recursion can be defined as the process of defining something in terms of itself. In simple words, it is a process in which a function calls itself directly or indirectly. "
   ]
  },
  {
   "cell_type": "raw",
   "id": "5c26d037",
   "metadata": {},
   "source": [
    "Advantages of using recursion\n",
    "\n",
    "-->A complicated function can be split down into smaller sub-problems utilizing recursion.\n",
    "-->Sequence creation is simpler through recursion than utilizing any nested iteration.\n",
    "-->Recursive functions render the code look simple and effective."
   ]
  },
  {
   "cell_type": "raw",
   "id": "9fb95927",
   "metadata": {},
   "source": [
    "Disadvantages of using recursion\n",
    "\n",
    "-->A lot of memory and time is taken through recursive calls which makes it expensive for use.\n",
    "-->Recursive functions are challenging to debug.\n",
    "-->The reasoning behind recursion can sometimes be tough to think through."
   ]
  },
  {
   "cell_type": "code",
   "execution_count": 56,
   "id": "a71b18ec",
   "metadata": {},
   "outputs": [
    {
     "name": "stdout",
     "output_type": "stream",
     "text": [
      "24\n"
     ]
    }
   ],
   "source": [
    "def factorial(x):\n",
    "    if x == 1: # This is the base case\n",
    "        return 1\n",
    "\n",
    "    else: # This is the recursive case\n",
    "        return(x * factorial(x-1))\n",
    "\n",
    "print(factorial(4))"
   ]
  },
  {
   "cell_type": "raw",
   "id": "b086f820",
   "metadata": {},
   "source": [
    "-->Now let's analyse what is going on in the above recursive function.\n",
    "\n",
    "-->First, when we pass the integer 4 into the function, it goes to the recursive case return(x * factorial(x-1)) which will give us return(4 * factorial(3)).\n",
    " \n",
    "-->Next, the function will call factorial(3) which will give us return(3 * factorial(2)) and it goes on until we have x == 1 (the base case) and then the recursion will terminate. This means that if we do not have a base case to stop the recursion, the function will continue to call itself indefinitely.\n",
    " \n",
    "-->At the end we will have return(4 * 3 * 2 * 1)\n"
   ]
  },
  {
   "cell_type": "code",
   "execution_count": 57,
   "id": "6ba7f4e4",
   "metadata": {},
   "outputs": [],
   "source": [
    "def countdown(n):\n",
    "    print(n)\n",
    "    if n > 0:\n",
    "        countdown(n - 1)"
   ]
  },
  {
   "cell_type": "code",
   "execution_count": 58,
   "id": "1d71d5be",
   "metadata": {},
   "outputs": [
    {
     "name": "stdout",
     "output_type": "stream",
     "text": [
      "5\n",
      "4\n",
      "3\n",
      "2\n",
      "1\n",
      "0\n"
     ]
    }
   ],
   "source": [
    "countdown(5)"
   ]
  },
  {
   "cell_type": "code",
   "execution_count": 59,
   "id": "b7e1d519",
   "metadata": {},
   "outputs": [],
   "source": [
    "def countdown(n):\n",
    "    while n >= 0:\n",
    "        print(n)\n",
    "        n -= 1"
   ]
  },
  {
   "cell_type": "code",
   "execution_count": 60,
   "id": "bb3b874f",
   "metadata": {},
   "outputs": [
    {
     "name": "stdout",
     "output_type": "stream",
     "text": [
      "5\n",
      "4\n",
      "3\n",
      "2\n",
      "1\n",
      "0\n"
     ]
    }
   ],
   "source": [
    "countdown(5)"
   ]
  },
  {
   "cell_type": "code",
   "execution_count": null,
   "id": "d26222c3",
   "metadata": {},
   "outputs": [],
   "source": [
    "Q1.find a perticular element in a list using a function\n",
    "Q2.q1 : Try to print this by using while loop \n",
    "* \n",
    "* * \n",
    "* * * \n",
    "* * * * \n",
    "* * * * * \n",
    "* * * * * * \n",
    "* * * * * * * \n",
    "* * * * * * * * \n",
    "* * * * * * * * * \n",
    "\n",
    "q2 : try to print below by using while loop : \n",
    "        \n",
    "A\n",
    "B H \n",
    "C I N\n",
    "D J o S\n",
    "E K p T W\n",
    "F L Q U X z\n",
    "G M R V Y \n",
    "\n",
    "q3 : Try to print all the number divisible by 3 in between a range of 40 - 400\n",
    "3 : Try to print all the number divisible by 3 in between a range of 40 - 400\n",
    "    \n",
    "q4 : Try to filter out all the vowels form below text by using while loop : \n",
    " \"\"\"Python is a high-level, interpreted, general-purpose programming language. Its design philosophy emphasizes code readability with the use of significant indentation.[32]\n",
    "\n",
    "Python is dynamically-typed and garbage-collected. It supports multiple programming paradigms, including structured (particularly procedural), object-oriented and functional programming. It is often described as a \"batteries included\" language due to its comprehensive standard library.[33][34]\n",
    "\n",
    "Guido van Rossum began working on Python in the late 1980s as a successor to the ABC programming language and first released it in 1991 as Python 0.9.0.[35] Python 2.0 was released in 2000 and introduced new features such as list comprehensions, cycle-detecting garbage collection, reference counting, and Unicode support. Python 3.0, released in 2008, was a major revision that is not completely backward-compatible with earlier versions. Python 2 was discontinued with version 2.7.18 in 2020.[36]\n",
    "\n",
    "Python consistently ranks as one of the most popular programming languagesc\"\"\" \n",
    "\n",
    "\n",
    "q5 : Try to generate all the even number between 1- 1000\n",
    "\n",
    "q6 : Define a function for all the above problem statememnt  . \n",
    "    \n",
    "q7 : write a code to get a time of your system \n",
    "\n",
    "q8 : Write a code to fetch date form your system \n",
    "\n",
    "q9 : Write a code to send a mail to your friend \n",
    "\n",
    "q10 : write a code to trigger alarm for you at scheduled time \n",
    "\n",
    "q11 : write a code to check ip address of your system \n",
    "q12 : Write a code to check a perticular installation in your system\n",
    "\n",
    "q13 : Write a code to convert any text in to voice \n",
    "\n",
    "q14 : you have to write a fun which will take string and return a len of \n",
    "it without using a inbuilt fun len\n",
    "\n",
    "q15 :write a fun which will be able to print an index of all premitive element which you will pass \n",
    "\n",
    "q16 : Write a fun which will take input as a dict and give me out as a list of all the values \n",
    "even in case of 2 level nesting it should work . \n",
    "\n",
    "q17 : write a function whihc will take multiple list as a input and give me concatnation of all the element as \n",
    "and output\n",
    "\n",
    "q18 : Write a function which will whould return list of all the file name from a directory .\n",
    "q19 : write a function whihc will be able to read a image file and show it to you .\n",
    "    \n",
    "q20 : write a function by which you will be able to append two PDF files . \n",
    "    \n",
    "q21 : write a function which can help you to filter only word file from a directory . \n",
    "    \n",
    "q22 : write a function which can read video file and play for you . \n",
    "    \n",
    "q23 : write a function which will be able to shutdonw your system . \n",
    "\n",
    "q24 : Write a function which will whould return list of all the file name from a directory . \n",
    "\n",
    "q25 : write a function whihc will be able to access your mail . \n",
    "        "
   ]
  },
  {
   "cell_type": "code",
   "execution_count": null,
   "id": "386b8154",
   "metadata": {},
   "outputs": [],
   "source": [
    "q1 :\n",
    "ineruon \n",
    "ineruon ineruon \n",
    "ineruon ineruon ineruon\n",
    "ineruon ineruon ineruon ineruon\n",
    "\n",
    "q2 - \n",
    "\n",
    "          ineruon\n",
    "    ineruon      ineruon\n",
    "ineruon\t\tineruon \tineruon\n",
    "\tineruon\t\t ineruon\n",
    "\t\t  ineruon\n",
    "\n",
    "l = [[1,2,3,4] , (2,3,4,5,6) , (3,4,5,6,7) , set([23,4,5,45,4,4,5,45,45,4,5]) , {'k1' :\"sudh\" , \"k2\" : \"ineuron\",\"k3\":\n",
    "            \"kumar\" , 3:6 , 7:8} , [\"ineuron\" , \"data science \"]]\n",
    "\n",
    "q3 : Try to extract all the list entity \n",
    "q4 : Try to extract all the dict enteties\n",
    "q5 : Try to extract all the tuples entities\n",
    "q6 : Try to extract all the numerical data it may b a part of dict key and values \n",
    "q7 : Try to give summation of all the numeric data \n",
    "q8 : Try to filter out all the odd values out all numeric data which is a part of a list \n",
    "q9 : Try to extract \"ineruon\" out of this data\n",
    "q10 : Try to find out a number of occurances of all the data \n",
    "q11 : Try to find out number of keys in dict element\n",
    "q12 : Try to filter out all the string data \n",
    "q13 : Try to Find  out alphanum in data\n",
    "q14 : Try to find out multiplication of all numeric value in the individual collection inside dataset"
   ]
  },
  {
   "cell_type": "code",
   "execution_count": 62,
   "id": "cafae4a5",
   "metadata": {},
   "outputs": [
    {
     "name": "stdout",
     "output_type": "stream",
     "text": [
      "Please enter how many rows you want to print: 4\n",
      "\n",
      "prachi \n",
      "prachi prachi \n",
      "prachi prachi prachi \n",
      "prachi prachi prachi prachi \n"
     ]
    }
   ],
   "source": [
    "#q1\n",
    "row = int(input(\"Please enter how many rows you want to print: \"))\n",
    "print()\n",
    "for i in range(row):\n",
    "    print(\"prachi \"*(i+1))"
   ]
  },
  {
   "cell_type": "code",
   "execution_count": 63,
   "id": "ccf61b33",
   "metadata": {},
   "outputs": [
    {
     "name": "stdout",
     "output_type": "stream",
     "text": [
      "                              \n",
      "           prachi             \n",
      "        prachi prachi         \n",
      "    prachi prachi prachi      \n",
      "        prachi prachi         \n",
      "           prachi             \n"
     ]
    }
   ],
   "source": [
    "for i in range(6):\n",
    "    if i <= 3:\n",
    "        n = i\n",
    "    else:\n",
    "        n = 6 - i\n",
    "    print((\"prachi \"*n).center(30,' '))"
   ]
  },
  {
   "cell_type": "code",
   "execution_count": 64,
   "id": "424eec34",
   "metadata": {},
   "outputs": [],
   "source": [
    "l = [[1,2,3,4] , (2,3,4,5,6) , (3,4,5,6,7) , set([23,4,5,45,4,4,5,45,45,4,5]) , {'k1' :\"prachi\" , \"k2\" : \"Anannd\",\"k3\":\n",
    "            \"analytics\" , 3:6 , 7:8} , [\"Anand\" , \"data analysis\"]]"
   ]
  },
  {
   "cell_type": "code",
   "execution_count": 65,
   "id": "b947ed88",
   "metadata": {},
   "outputs": [
    {
     "name": "stdout",
     "output_type": "stream",
     "text": [
      "[1, 2, 3, 4]\n",
      "['Anand', 'data analysis']\n"
     ]
    }
   ],
   "source": [
    "for i in l :\n",
    "    if type(i) == list :\n",
    "        print(i)"
   ]
  },
  {
   "cell_type": "code",
   "execution_count": 66,
   "id": "3abca2d1",
   "metadata": {},
   "outputs": [
    {
     "name": "stdout",
     "output_type": "stream",
     "text": [
      "{'k1': 'prachi', 'k2': 'Anannd', 'k3': 'analytics', 3: 6, 7: 8}\n"
     ]
    }
   ],
   "source": [
    "for i in l :\n",
    "    if type(i) == dict :\n",
    "        print(i)"
   ]
  },
  {
   "cell_type": "code",
   "execution_count": 67,
   "id": "ff9365db",
   "metadata": {},
   "outputs": [
    {
     "name": "stdout",
     "output_type": "stream",
     "text": [
      "(2, 3, 4, 5, 6)\n",
      "(3, 4, 5, 6, 7)\n"
     ]
    }
   ],
   "source": [
    "for i in l :\n",
    "    if type(i) == tuple:\n",
    "        print(i)"
   ]
  },
  {
   "cell_type": "code",
   "execution_count": 70,
   "id": "945c56aa",
   "metadata": {},
   "outputs": [],
   "source": [
    "l1 = []\n",
    "for i in l:\n",
    "    if type(i) == list or type(i) == tuple or type(i) == set :\n",
    "        for j in i :\n",
    "            if type(j) == int :\n",
    "                l1.append(j)\n",
    "    if type(i) == dict :\n",
    "        for k in i.items() : \n",
    "            for g in k :\n",
    "                if type(g) == int :\n",
    "                    l1.append(g)\n",
    "            "
   ]
  },
  {
   "cell_type": "code",
   "execution_count": 71,
   "id": "14fe311c",
   "metadata": {},
   "outputs": [
    {
     "data": {
      "text/plain": [
       "[1, 2, 3, 4, 2, 3, 4, 5, 6, 3, 4, 5, 6, 7, 45, 4, 5, 23, 3, 6, 7, 8]"
      ]
     },
     "execution_count": 71,
     "metadata": {},
     "output_type": "execute_result"
    }
   ],
   "source": [
    "l1"
   ]
  },
  {
   "cell_type": "code",
   "execution_count": 82,
   "id": "4d2e3274",
   "metadata": {},
   "outputs": [
    {
     "ename": "SyntaxError",
     "evalue": "invalid syntax (789639791.py, line 2)",
     "output_type": "error",
     "traceback": [
      "\u001b[1;36m  Cell \u001b[1;32mIn[82], line 2\u001b[1;36m\u001b[0m\n\u001b[1;33m    l_1 = []\u001b[0m\n\u001b[1;37m    ^\u001b[0m\n\u001b[1;31mSyntaxError\u001b[0m\u001b[1;31m:\u001b[0m invalid syntax\n"
     ]
    }
   ],
   "source": [
    "l=[12,'prachi',\"anand\",\"analystics\",12,17,'a',\"Vaibhav\",19,'12','sumit']\\\n",
    "l_1 = []"
   ]
  },
  {
   "cell_type": "code",
   "execution_count": 78,
   "id": "90fb7a32",
   "metadata": {},
   "outputs": [
    {
     "ename": "SyntaxError",
     "evalue": "expected 'else' after 'if' expression (337744901.py, line 1)",
     "output_type": "error",
     "traceback": [
      "\u001b[1;36m  Cell \u001b[1;32mIn[78], line 1\u001b[1;36m\u001b[0m\n\u001b[1;33m    list(filter(lambda x:[x if type(x)==str],l))\u001b[0m\n\u001b[1;37m                          ^\u001b[0m\n\u001b[1;31mSyntaxError\u001b[0m\u001b[1;31m:\u001b[0m expected 'else' after 'if' expression\n"
     ]
    }
   ],
   "source": [
    "\n",
    "def check_str(n):\n",
    "    for i in n:ch\n",
    "        if type(i)==str:\n",
    "            l1.append(i)"
   ]
  },
  {
   "cell_type": "code",
   "execution_count": null,
   "id": "31e122ba",
   "metadata": {},
   "outputs": [],
   "source": []
  }
 ],
 "metadata": {
  "kernelspec": {
   "display_name": "Python 3 (ipykernel)",
   "language": "python",
   "name": "python3"
  },
  "language_info": {
   "codemirror_mode": {
    "name": "ipython",
    "version": 3
   },
   "file_extension": ".py",
   "mimetype": "text/x-python",
   "name": "python",
   "nbconvert_exporter": "python",
   "pygments_lexer": "ipython3",
   "version": "3.11.5"
  }
 },
 "nbformat": 4,
 "nbformat_minor": 5
}
