{
 "cells": [
  {
   "cell_type": "code",
   "execution_count": 1,
   "id": "2958221e",
   "metadata": {},
   "outputs": [
    {
     "data": {
      "text/plain": [
       "'Hello, ABC!'"
      ]
     },
     "execution_count": 1,
     "metadata": {},
     "output_type": "execute_result"
    }
   ],
   "source": [
    "def greet(name): \n",
    "    return\"Hello, %s!\" % name \n",
    "\n",
    "greet(\"ABC\") "
   ]
  },
  {
   "cell_type": "raw",
   "id": "f2b0992e",
   "metadata": {},
   "source": [
    "Functions\n",
    "\n",
    "Built-in Functions\n",
    "User Defined Functions\n",
    "User Defined Functions is a block of reusable code that performs a specific task. You define a function using the def keyword, followed by the function name, parentheses (), and a colon :. Inside the parentheses, you can specify any parameters your function will take. The function's code block is indented under the function definition."
   ]
  },
  {
   "cell_type": "raw",
   "id": "0f125457",
   "metadata": {},
   "source": [
    "A user-defined function in Python is a code block that performs a specific task and is defined by the programmer. Here are the key points about user-defined functions:\n",
    "\n",
    "Definition: User-defined functions are created with the def keyword followed by a function name of your choosing.\n",
    "\n",
    "Parameters: Functions can take parameters, which are values you supply to the function so it can perform a computation with them. These parameters are placed inside parentheses after the function name.\n",
    "\n",
    "Body: After the parameters, you write a colon : and indent the next line to begin the function's body, which contains the statements that will be executed when the function is called.\n",
    "\n",
    "Return: Functions can optionally return a value using the return statement. The value that's returned can be used in other parts of your program. If no return statement is specified, the function will return None.\n",
    "\n",
    "Calling: After defining a function, you can \"call\" it by writing its name followed by parentheses (). If the function takes parameters, you can supply them inside these parentheses."
   ]
  },
  {
   "cell_type": "code",
   "execution_count": 5,
   "id": "94cd3637",
   "metadata": {},
   "outputs": [
    {
     "name": "stdout",
     "output_type": "stream",
     "text": [
      "Hello, this is my first function\n"
     ]
    }
   ],
   "source": [
    "def introduction():\n",
    "  print(\"Hello, this is my first function\")\n",
    "\n",
    "# Call function\n",
    "introduction()"
   ]
  },
  {
   "cell_type": "code",
   "execution_count": 6,
   "id": "16f5dfe8",
   "metadata": {},
   "outputs": [
    {
     "name": "stdout",
     "output_type": "stream",
     "text": [
      "John is my first name\n"
     ]
    }
   ],
   "source": [
    "# Single argument \n",
    "def introduction(fname):\n",
    "  print(fname + \" is my first name\")\n",
    "\n",
    "introduction(\"John\")"
   ]
  },
  {
   "cell_type": "code",
   "execution_count": 7,
   "id": "a085ee67",
   "metadata": {},
   "outputs": [
    {
     "name": "stdout",
     "output_type": "stream",
     "text": [
      "My first name is John and my last name is Alter\n"
     ]
    }
   ],
   "source": [
    "def introduction(fname, lname):\n",
    "  print(\"My first name is \" + fname + \" and my last name is \" + lname)\n",
    "\n",
    "introduction(\"John\", \"Alter\")"
   ]
  },
  {
   "cell_type": "code",
   "execution_count": null,
   "id": "436e0999",
   "metadata": {},
   "outputs": [],
   "source": []
  },
  {
   "cell_type": "code",
   "execution_count": 2,
   "id": "47fe44bd",
   "metadata": {},
   "outputs": [
    {
     "name": "stdout",
     "output_type": "stream",
     "text": [
      "Hello, ABC!\n"
     ]
    }
   ],
   "source": [
    "def greet(name): \n",
    "    print(\"Hello, %s!\" % name) \n",
    "\n",
    "greet(\"ABC\") "
   ]
  },
  {
   "cell_type": "code",
   "execution_count": null,
   "id": "f35118d3",
   "metadata": {},
   "outputs": [],
   "source": []
  },
  {
   "cell_type": "markdown",
   "id": "5be57677",
   "metadata": {},
   "source": [
    "# Difference between return and print"
   ]
  },
  {
   "cell_type": "raw",
   "id": "4b90475d",
   "metadata": {},
   "source": [
    "-Python return statement is used to exit the function and return a value. \n",
    "-The return keyword is used to specify a value that a function should return when a function is called."
   ]
  },
  {
   "cell_type": "raw",
   "id": "b7cc83cb",
   "metadata": {},
   "source": [
    "In this example, we can see that when the ‘add_number’ function is called, \n",
    "it returns the sum of ‘a’ and ‘b’, which is stored in the result variable. \n",
    "Then using the print statement, the result is printed on the console."
   ]
  },
  {
   "cell_type": "code",
   "execution_count": 3,
   "id": "7ac6903f",
   "metadata": {},
   "outputs": [
    {
     "name": "stdout",
     "output_type": "stream",
     "text": [
      "16\n"
     ]
    }
   ],
   "source": [
    "def add_numbers(a, b): \n",
    "\treturn a + b \n",
    "\n",
    "result = add_numbers(7, 9) \n",
    "print(result) \n"
   ]
  },
  {
   "cell_type": "raw",
   "id": "6d472597",
   "metadata": {},
   "source": [
    "Print Statement in Python\n",
    "-The print statement is a built-in function in Python that is used to display output to the\n",
    "console or terminal.\n"
   ]
  },
  {
   "cell_type": "raw",
   "id": "b4f8d8da",
   "metadata": {},
   "source": [
    "A return statement is used to end the execution of the function call and “returns” the result (value of the expression following the return keyword) to the caller. The statements after the return statements are not executed. If the return statement is without any expression, then the special value None is returned. A return statement is overall used to invoke a function so that the passed statements can be executed.\n",
    "\n",
    "Note: Return statement can not be used outside the function."
   ]
  },
  {
   "cell_type": "code",
   "execution_count": null,
   "id": "4f5ce4f5",
   "metadata": {},
   "outputs": [],
   "source": []
  }
 ],
 "metadata": {
  "kernelspec": {
   "display_name": "Python 3 (ipykernel)",
   "language": "python",
   "name": "python3"
  },
  "language_info": {
   "codemirror_mode": {
    "name": "ipython",
    "version": 3
   },
   "file_extension": ".py",
   "mimetype": "text/x-python",
   "name": "python",
   "nbconvert_exporter": "python",
   "pygments_lexer": "ipython3",
   "version": "3.11.5"
  }
 },
 "nbformat": 4,
 "nbformat_minor": 5
}
