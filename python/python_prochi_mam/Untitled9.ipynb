{
 "cells": [
  {
   "cell_type": "code",
   "execution_count": 2,
   "id": "48aa9dcc",
   "metadata": {},
   "outputs": [],
   "source": [
    "#Tuple \n",
    "tuple1 = ()"
   ]
  },
  {
   "cell_type": "code",
   "execution_count": 3,
   "id": "c9ce4d65",
   "metadata": {},
   "outputs": [
    {
     "data": {
      "text/plain": [
       "tuple"
      ]
     },
     "execution_count": 3,
     "metadata": {},
     "output_type": "execute_result"
    }
   ],
   "source": [
    "type(tuple1)"
   ]
  },
  {
   "cell_type": "code",
   "execution_count": 5,
   "id": "021e16d7",
   "metadata": {},
   "outputs": [],
   "source": [
    "tuple2=('a','b','c')"
   ]
  },
  {
   "cell_type": "code",
   "execution_count": 6,
   "id": "7ba4e944",
   "metadata": {},
   "outputs": [
    {
     "data": {
      "text/plain": [
       "('a', 'b', 'c')"
      ]
     },
     "execution_count": 6,
     "metadata": {},
     "output_type": "execute_result"
    }
   ],
   "source": [
    "tuple2"
   ]
  },
  {
   "cell_type": "code",
   "execution_count": 7,
   "id": "6f0148c4",
   "metadata": {},
   "outputs": [],
   "source": [
    "tuple3=('a', 1, 1.1, True)"
   ]
  },
  {
   "cell_type": "code",
   "execution_count": 8,
   "id": "949ab1a5",
   "metadata": {},
   "outputs": [
    {
     "data": {
      "text/plain": [
       "('a', 1, 1.1, True)"
      ]
     },
     "execution_count": 8,
     "metadata": {},
     "output_type": "execute_result"
    }
   ],
   "source": [
    "tuple3"
   ]
  },
  {
   "cell_type": "code",
   "execution_count": 9,
   "id": "8e105db5",
   "metadata": {},
   "outputs": [
    {
     "data": {
      "text/plain": [
       "'a'"
      ]
     },
     "execution_count": 9,
     "metadata": {},
     "output_type": "execute_result"
    }
   ],
   "source": [
    "tuple3[0]"
   ]
  },
  {
   "cell_type": "code",
   "execution_count": 10,
   "id": "c0e4a579",
   "metadata": {},
   "outputs": [
    {
     "data": {
      "text/plain": [
       "str"
      ]
     },
     "execution_count": 10,
     "metadata": {},
     "output_type": "execute_result"
    }
   ],
   "source": [
    "type(tuple3[0])"
   ]
  },
  {
   "cell_type": "code",
   "execution_count": 11,
   "id": "81c4b920",
   "metadata": {},
   "outputs": [
    {
     "data": {
      "text/plain": [
       "bool"
      ]
     },
     "execution_count": 11,
     "metadata": {},
     "output_type": "execute_result"
    }
   ],
   "source": [
    "type(tuple3[3])"
   ]
  },
  {
   "cell_type": "code",
   "execution_count": 12,
   "id": "0fceef86",
   "metadata": {},
   "outputs": [
    {
     "data": {
      "text/plain": [
       "4"
      ]
     },
     "execution_count": 12,
     "metadata": {},
     "output_type": "execute_result"
    }
   ],
   "source": [
    "len(tuple3)"
   ]
  },
  {
   "cell_type": "code",
   "execution_count": 13,
   "id": "5369c234",
   "metadata": {},
   "outputs": [
    {
     "data": {
      "text/plain": [
       "True"
      ]
     },
     "execution_count": 13,
     "metadata": {},
     "output_type": "execute_result"
    }
   ],
   "source": [
    "tuple3[-1]"
   ]
  },
  {
   "cell_type": "code",
   "execution_count": 14,
   "id": "29fc4ed5",
   "metadata": {},
   "outputs": [
    {
     "data": {
      "text/plain": [
       "1"
      ]
     },
     "execution_count": 14,
     "metadata": {},
     "output_type": "execute_result"
    }
   ],
   "source": [
    "tuple3[-3]"
   ]
  },
  {
   "cell_type": "code",
   "execution_count": 15,
   "id": "16dc72af",
   "metadata": {},
   "outputs": [
    {
     "data": {
      "text/plain": [
       "'a'"
      ]
     },
     "execution_count": 15,
     "metadata": {},
     "output_type": "execute_result"
    }
   ],
   "source": [
    "tuple3[-4]"
   ]
  },
  {
   "cell_type": "code",
   "execution_count": 16,
   "id": "22e14a9d",
   "metadata": {},
   "outputs": [
    {
     "name": "stdout",
     "output_type": "stream",
     "text": [
      "a ----> <class 'str'>\n"
     ]
    }
   ],
   "source": [
    "print(tuple3[0],'---->',type(tuple3[0]))"
   ]
  },
  {
   "cell_type": "code",
   "execution_count": 17,
   "id": "11918cee",
   "metadata": {},
   "outputs": [],
   "source": [
    "#slicing\n",
    "tuple4=(1,2,3,4,5,6,7)\n"
   ]
  },
  {
   "cell_type": "code",
   "execution_count": 18,
   "id": "277fb5fc",
   "metadata": {},
   "outputs": [
    {
     "data": {
      "text/plain": [
       "(2, 3, 4, 5, 6, 7)"
      ]
     },
     "execution_count": 18,
     "metadata": {},
     "output_type": "execute_result"
    }
   ],
   "source": [
    "tuple4[1:]"
   ]
  },
  {
   "cell_type": "code",
   "execution_count": 19,
   "id": "11ea43b3",
   "metadata": {},
   "outputs": [
    {
     "data": {
      "text/plain": [
       "(3, 4)"
      ]
     },
     "execution_count": 19,
     "metadata": {},
     "output_type": "execute_result"
    }
   ],
   "source": [
    "tuple4[2:4]"
   ]
  },
  {
   "cell_type": "code",
   "execution_count": 20,
   "id": "188a028c",
   "metadata": {},
   "outputs": [
    {
     "data": {
      "text/plain": [
       "(1, 2)"
      ]
     },
     "execution_count": 20,
     "metadata": {},
     "output_type": "execute_result"
    }
   ],
   "source": [
    "tuple4[0:2]"
   ]
  },
  {
   "cell_type": "code",
   "execution_count": 22,
   "id": "880395bd",
   "metadata": {},
   "outputs": [
    {
     "data": {
      "text/plain": [
       "(1, 2, 3)"
      ]
     },
     "execution_count": 22,
     "metadata": {},
     "output_type": "execute_result"
    }
   ],
   "source": [
    "tuple4[:3]"
   ]
  },
  {
   "cell_type": "code",
   "execution_count": 23,
   "id": "eaf88108",
   "metadata": {},
   "outputs": [
    {
     "data": {
      "text/plain": [
       "(1, 3, 5, 7)"
      ]
     },
     "execution_count": 23,
     "metadata": {},
     "output_type": "execute_result"
    }
   ],
   "source": [
    "tuple4[0::2]"
   ]
  },
  {
   "cell_type": "code",
   "execution_count": 24,
   "id": "2e55137b",
   "metadata": {},
   "outputs": [
    {
     "data": {
      "text/plain": [
       "(7, 6, 5, 4, 3, 2, 1)"
      ]
     },
     "execution_count": 24,
     "metadata": {},
     "output_type": "execute_result"
    }
   ],
   "source": [
    "tuple4[::-1]"
   ]
  },
  {
   "cell_type": "code",
   "execution_count": 25,
   "id": "0874410c",
   "metadata": {},
   "outputs": [
    {
     "data": {
      "text/plain": [
       "(7, 5, 3, 1)"
      ]
     },
     "execution_count": 25,
     "metadata": {},
     "output_type": "execute_result"
    }
   ],
   "source": [
    "tuple4[::-2]"
   ]
  },
  {
   "cell_type": "code",
   "execution_count": 26,
   "id": "918cc812",
   "metadata": {},
   "outputs": [
    {
     "data": {
      "text/plain": [
       "(7, 4, 1)"
      ]
     },
     "execution_count": 26,
     "metadata": {},
     "output_type": "execute_result"
    }
   ],
   "source": [
    "tuple4[::-3]"
   ]
  },
  {
   "cell_type": "code",
   "execution_count": 27,
   "id": "eb500c1b",
   "metadata": {},
   "outputs": [],
   "source": [
    "tup1= ('a','b','c')\n",
    "tup2 = ('d','e','f','g')"
   ]
  },
  {
   "cell_type": "code",
   "execution_count": 29,
   "id": "35129b1f",
   "metadata": {},
   "outputs": [],
   "source": [
    "tup3 = tup1 + tup2"
   ]
  },
  {
   "cell_type": "code",
   "execution_count": 30,
   "id": "bb8badd1",
   "metadata": {},
   "outputs": [
    {
     "data": {
      "text/plain": [
       "('a', 'b', 'c', 'd', 'e', 'f', 'g')"
      ]
     },
     "execution_count": 30,
     "metadata": {},
     "output_type": "execute_result"
    }
   ],
   "source": [
    "tup3"
   ]
  },
  {
   "cell_type": "code",
   "execution_count": 31,
   "id": "6a4f3cc8",
   "metadata": {},
   "outputs": [],
   "source": [
    "tup4 = ('d','e','f','g')\n",
    "new_tup = tup4 +('h','i')"
   ]
  },
  {
   "cell_type": "code",
   "execution_count": 33,
   "id": "3b5ff921",
   "metadata": {},
   "outputs": [
    {
     "data": {
      "text/plain": [
       "('d', 'e', 'f', 'g', 'h', 'i')"
      ]
     },
     "execution_count": 33,
     "metadata": {},
     "output_type": "execute_result"
    }
   ],
   "source": [
    "new_tup"
   ]
  },
  {
   "cell_type": "code",
   "execution_count": 35,
   "id": "45fe48d9",
   "metadata": {},
   "outputs": [
    {
     "data": {
      "text/plain": [
       "('a', 'b', 'a', 'b', 'a', 'b')"
      ]
     },
     "execution_count": 35,
     "metadata": {},
     "output_type": "execute_result"
    }
   ],
   "source": [
    "('a','b')*3"
   ]
  },
  {
   "cell_type": "code",
   "execution_count": 43,
   "id": "4b444762",
   "metadata": {},
   "outputs": [],
   "source": [
    "#immutable\n",
    "my_tuple  = ('a', 'b', 'c', 'd', 'e')\n"
   ]
  },
  {
   "cell_type": "code",
   "execution_count": 44,
   "id": "2f5af9bd",
   "metadata": {},
   "outputs": [
    {
     "ename": "TypeError",
     "evalue": "'tuple' object does not support item assignment",
     "output_type": "error",
     "traceback": [
      "\u001b[1;31m---------------------------------------------------------------------------\u001b[0m",
      "\u001b[1;31mTypeError\u001b[0m                                 Traceback (most recent call last)",
      "Cell \u001b[1;32mIn[44], line 1\u001b[0m\n\u001b[1;32m----> 1\u001b[0m my_tuple[\u001b[38;5;241m0\u001b[39m]\u001b[38;5;241m=\u001b[39m\u001b[38;5;124m'\u001b[39m\u001b[38;5;124mp\u001b[39m\u001b[38;5;124m'\u001b[39m\n",
      "\u001b[1;31mTypeError\u001b[0m: 'tuple' object does not support item assignment"
     ]
    }
   ],
   "source": [
    "my_tuple[0]='p'"
   ]
  },
  {
   "cell_type": "code",
   "execution_count": 45,
   "id": "8dbb8227",
   "metadata": {},
   "outputs": [],
   "source": [
    "l=[1,2,3,4]"
   ]
  },
  {
   "cell_type": "code",
   "execution_count": 46,
   "id": "c40bf2fc",
   "metadata": {},
   "outputs": [],
   "source": [
    "l[0]=9"
   ]
  },
  {
   "cell_type": "code",
   "execution_count": 47,
   "id": "635f2056",
   "metadata": {},
   "outputs": [
    {
     "data": {
      "text/plain": [
       "[9, 2, 3, 4]"
      ]
     },
     "execution_count": 47,
     "metadata": {},
     "output_type": "execute_result"
    }
   ],
   "source": [
    "l"
   ]
  },
  {
   "cell_type": "code",
   "execution_count": 48,
   "id": "3f792693",
   "metadata": {},
   "outputs": [
    {
     "ename": "AttributeError",
     "evalue": "'tuple' object has no attribute 'append'",
     "output_type": "error",
     "traceback": [
      "\u001b[1;31m---------------------------------------------------------------------------\u001b[0m",
      "\u001b[1;31mAttributeError\u001b[0m                            Traceback (most recent call last)",
      "Cell \u001b[1;32mIn[48], line 1\u001b[0m\n\u001b[1;32m----> 1\u001b[0m my_tuple\u001b[38;5;241m.\u001b[39mappend(\u001b[38;5;124m'\u001b[39m\u001b[38;5;124mf\u001b[39m\u001b[38;5;124m'\u001b[39m)\n",
      "\u001b[1;31mAttributeError\u001b[0m: 'tuple' object has no attribute 'append'"
     ]
    }
   ],
   "source": [
    "my_tuple.append('f')"
   ]
  },
  {
   "cell_type": "code",
   "execution_count": 49,
   "id": "47b612eb",
   "metadata": {},
   "outputs": [
    {
     "ename": "AttributeError",
     "evalue": "'tuple' object has no attribute 'remove'",
     "output_type": "error",
     "traceback": [
      "\u001b[1;31m---------------------------------------------------------------------------\u001b[0m",
      "\u001b[1;31mAttributeError\u001b[0m                            Traceback (most recent call last)",
      "Cell \u001b[1;32mIn[49], line 1\u001b[0m\n\u001b[1;32m----> 1\u001b[0m my_tuple\u001b[38;5;241m.\u001b[39mremove(\u001b[38;5;241m0\u001b[39m)\n",
      "\u001b[1;31mAttributeError\u001b[0m: 'tuple' object has no attribute 'remove'"
     ]
    }
   ],
   "source": [
    "my_tuple.remove(0)"
   ]
  },
  {
   "cell_type": "code",
   "execution_count": 50,
   "id": "161a7f55",
   "metadata": {},
   "outputs": [
    {
     "data": {
      "text/plain": [
       "('a', 'b', 'c', 'd', 'e')"
      ]
     },
     "execution_count": 50,
     "metadata": {},
     "output_type": "execute_result"
    }
   ],
   "source": [
    "my_tuple"
   ]
  },
  {
   "cell_type": "code",
   "execution_count": 51,
   "id": "3e5254f4",
   "metadata": {},
   "outputs": [],
   "source": [
    "new_tuple= my_tuple"
   ]
  },
  {
   "cell_type": "code",
   "execution_count": 52,
   "id": "d22c1e5a",
   "metadata": {},
   "outputs": [
    {
     "data": {
      "text/plain": [
       "('a', 'b', 'c', 'd', 'e')"
      ]
     },
     "execution_count": 52,
     "metadata": {},
     "output_type": "execute_result"
    }
   ],
   "source": [
    "new_tuple"
   ]
  },
  {
   "cell_type": "code",
   "execution_count": 54,
   "id": "29e5c03f",
   "metadata": {},
   "outputs": [
    {
     "data": {
      "text/plain": [
       "4"
      ]
     },
     "execution_count": 54,
     "metadata": {},
     "output_type": "execute_result"
    }
   ],
   "source": [
    "my_tuple.index('e')"
   ]
  },
  {
   "cell_type": "code",
   "execution_count": 55,
   "id": "6cbe5cba",
   "metadata": {},
   "outputs": [
    {
     "data": {
      "text/plain": [
       "1"
      ]
     },
     "execution_count": 55,
     "metadata": {},
     "output_type": "execute_result"
    }
   ],
   "source": [
    "my_tuple.count('a')"
   ]
  },
  {
   "cell_type": "code",
   "execution_count": 77,
   "id": "7ca651af",
   "metadata": {},
   "outputs": [],
   "source": [
    "t1= (1,2,3,4,5,6,66,7,9,1,3)\n",
    "\n",
    "t2 =(6,7,8,9,4)"
   ]
  },
  {
   "cell_type": "code",
   "execution_count": 78,
   "id": "fef5080a",
   "metadata": {},
   "outputs": [],
   "source": [
    "t3= t1 + t2"
   ]
  },
  {
   "cell_type": "code",
   "execution_count": 79,
   "id": "513d0736",
   "metadata": {},
   "outputs": [
    {
     "data": {
      "text/plain": [
       "(1, 2, 3, 4, 5, 6, 66, 7, 9, 1, 3, 6, 7, 8, 9, 4)"
      ]
     },
     "execution_count": 79,
     "metadata": {},
     "output_type": "execute_result"
    }
   ],
   "source": [
    "t3"
   ]
  },
  {
   "cell_type": "code",
   "execution_count": 59,
   "id": "50aaa73b",
   "metadata": {},
   "outputs": [],
   "source": [
    "list_t3 = list(t3)"
   ]
  },
  {
   "cell_type": "code",
   "execution_count": 60,
   "id": "3a81b2d2",
   "metadata": {},
   "outputs": [
    {
     "data": {
      "text/plain": [
       "[1, 2, 3, 4, 5, 6, 66, 7, 9, 1, 3, 6, 7, 8, 9, 4]"
      ]
     },
     "execution_count": 60,
     "metadata": {},
     "output_type": "execute_result"
    }
   ],
   "source": [
    "list_t3"
   ]
  },
  {
   "cell_type": "code",
   "execution_count": 68,
   "id": "aaf88703",
   "metadata": {},
   "outputs": [
    {
     "data": {
      "text/plain": [
       "[66, 9, 9, 8, 7, 7, 6, 6, 5, 4, 4, 3, 3, 2, 1, 1]"
      ]
     },
     "execution_count": 68,
     "metadata": {},
     "output_type": "execute_result"
    }
   ],
   "source": [
    "sorted(t3,reverse=True)"
   ]
  },
  {
   "cell_type": "code",
   "execution_count": 62,
   "id": "7d78d461",
   "metadata": {},
   "outputs": [
    {
     "name": "stdout",
     "output_type": "stream",
     "text": [
      "(1, 2, 3, 4, 5, 6, 66, 7, 9, 1, 3, 6, 7, 8, 9, 4)\n",
      "(1, 2, 3, 4, 5, 6, 66, 7, 9, 1, 3, 6, 7, 8, 9, 4)\n",
      "(1, 2, 3, 4, 5, 6, 66, 7, 9, 1, 3, 6, 7, 8, 9, 4)\n",
      "(1, 2, 3, 4, 5, 6, 66, 7, 9, 1, 3, 6, 7, 8, 9, 4)\n",
      "(1, 2, 3, 4, 5, 6, 66, 7, 9, 1, 3, 6, 7, 8, 9, 4)\n",
      "(1, 2, 3, 4, 5, 6, 66, 7, 9, 1, 3, 6, 7, 8, 9, 4)\n",
      "(1, 2, 3, 4, 5, 6, 66, 7, 9, 1, 3, 6, 7, 8, 9, 4)\n",
      "(1, 2, 3, 4, 5, 6, 66, 7, 9, 1, 3, 6, 7, 8, 9, 4)\n",
      "(1, 2, 3, 4, 5, 6, 66, 7, 9, 1, 3, 6, 7, 8, 9, 4)\n",
      "(1, 2, 3, 4, 5, 6, 66, 7, 9, 1, 3, 6, 7, 8, 9, 4)\n",
      "(1, 2, 3, 4, 5, 6, 66, 7, 9, 1, 3, 6, 7, 8, 9, 4)\n",
      "(1, 2, 3, 4, 5, 6, 66, 7, 9, 1, 3, 6, 7, 8, 9, 4)\n",
      "(1, 2, 3, 4, 5, 6, 66, 7, 9, 1, 3, 6, 7, 8, 9, 4)\n",
      "(1, 2, 3, 4, 5, 6, 66, 7, 9, 1, 3, 6, 7, 8, 9, 4)\n",
      "(1, 2, 3, 4, 5, 6, 66, 7, 9, 1, 3, 6, 7, 8, 9, 4)\n",
      "(1, 2, 3, 4, 5, 6, 66, 7, 9, 1, 3, 6, 7, 8, 9, 4)\n"
     ]
    }
   ],
   "source": [
    "for i in t3:\n",
    "    print(t3)"
   ]
  },
  {
   "cell_type": "code",
   "execution_count": 63,
   "id": "49646f73",
   "metadata": {},
   "outputs": [
    {
     "name": "stdout",
     "output_type": "stream",
     "text": [
      "1\n",
      "2\n",
      "3\n",
      "4\n",
      "5\n",
      "6\n",
      "66\n",
      "7\n",
      "9\n",
      "1\n",
      "3\n",
      "6\n",
      "7\n",
      "8\n",
      "9\n",
      "4\n"
     ]
    }
   ],
   "source": [
    "for i in t3:\n",
    "    print(i)"
   ]
  },
  {
   "cell_type": "code",
   "execution_count": 65,
   "id": "5379feb4",
   "metadata": {},
   "outputs": [
    {
     "name": "stdout",
     "output_type": "stream",
     "text": [
      "0 1\n",
      "1 2\n",
      "2 3\n",
      "3 4\n",
      "4 5\n",
      "5 6\n",
      "6 66\n",
      "7 7\n",
      "8 9\n",
      "9 1\n",
      "10 3\n",
      "11 6\n",
      "12 7\n",
      "13 8\n",
      "14 9\n",
      "15 4\n"
     ]
    }
   ],
   "source": [
    "for i in range(len(t3)):\n",
    "    print(i,t3[i])"
   ]
  },
  {
   "cell_type": "code",
   "execution_count": 66,
   "id": "9686ab8e",
   "metadata": {},
   "outputs": [
    {
     "name": "stdout",
     "output_type": "stream",
     "text": [
      "(1, 2, 3, 4, 5, 6, 66, 7, 9, 1, 3, 6, 7, 8, 9, 4)\n",
      "(1, 2, 3, 4, 5, 6, 66, 7, 9, 1, 3, 6, 7, 8, 9, 4)\n",
      "(1, 2, 3, 4, 5, 6, 66, 7, 9, 1, 3, 6, 7, 8, 9, 4)\n",
      "(1, 2, 3, 4, 5, 6, 66, 7, 9, 1, 3, 6, 7, 8, 9, 4)\n",
      "(1, 2, 3, 4, 5, 6, 66, 7, 9, 1, 3, 6, 7, 8, 9, 4)\n",
      "(1, 2, 3, 4, 5, 6, 66, 7, 9, 1, 3, 6, 7, 8, 9, 4)\n",
      "(1, 2, 3, 4, 5, 6, 66, 7, 9, 1, 3, 6, 7, 8, 9, 4)\n",
      "(1, 2, 3, 4, 5, 6, 66, 7, 9, 1, 3, 6, 7, 8, 9, 4)\n",
      "(1, 2, 3, 4, 5, 6, 66, 7, 9, 1, 3, 6, 7, 8, 9, 4)\n",
      "(1, 2, 3, 4, 5, 6, 66, 7, 9, 1, 3, 6, 7, 8, 9, 4)\n",
      "(1, 2, 3, 4, 5, 6, 66, 7, 9, 1, 3, 6, 7, 8, 9, 4)\n",
      "(1, 2, 3, 4, 5, 6, 66, 7, 9, 1, 3, 6, 7, 8, 9, 4)\n",
      "(1, 2, 3, 4, 5, 6, 66, 7, 9, 1, 3, 6, 7, 8, 9, 4)\n",
      "(1, 2, 3, 4, 5, 6, 66, 7, 9, 1, 3, 6, 7, 8, 9, 4)\n",
      "(1, 2, 3, 4, 5, 6, 66, 7, 9, 1, 3, 6, 7, 8, 9, 4)\n",
      "(1, 2, 3, 4, 5, 6, 66, 7, 9, 1, 3, 6, 7, 8, 9, 4)\n"
     ]
    }
   ],
   "source": [
    "for i in range(len(t3)):\n",
    "    print(t3)"
   ]
  },
  {
   "cell_type": "code",
   "execution_count": 87,
   "id": "8d8ec7da",
   "metadata": {},
   "outputs": [],
   "source": [
    "t3=(1, 2, 3, 4, 5, 6, 66, 7, 9, 1, 3, 6, 7, 8, 9, 4)"
   ]
  },
  {
   "cell_type": "code",
   "execution_count": 90,
   "id": "e3bb0068",
   "metadata": {},
   "outputs": [],
   "source": [
    "list_t4= list(t3)"
   ]
  },
  {
   "cell_type": "code",
   "execution_count": 94,
   "id": "f5d68915",
   "metadata": {},
   "outputs": [
    {
     "data": {
      "text/plain": [
       "[2, 4, 5, 6, 66, 7, 9, 1, 3, 6, 7, 8, 9, 4]"
      ]
     },
     "execution_count": 94,
     "metadata": {},
     "output_type": "execute_result"
    }
   ],
   "source": [
    "list_t4"
   ]
  },
  {
   "cell_type": "code",
   "execution_count": 97,
   "id": "3116c003",
   "metadata": {},
   "outputs": [
    {
     "data": {
      "text/plain": [
       "7"
      ]
     },
     "execution_count": 97,
     "metadata": {},
     "output_type": "execute_result"
    }
   ],
   "source": [
    "list_t4.pop(5)"
   ]
  },
  {
   "cell_type": "code",
   "execution_count": 100,
   "id": "395899c1",
   "metadata": {},
   "outputs": [
    {
     "name": "stdout",
     "output_type": "stream",
     "text": [
      "\f",
      "\n"
     ]
    }
   ],
   "source": [
    "clear(list_t4)"
   ]
  },
  {
   "cell_type": "code",
   "execution_count": 101,
   "id": "458eeb54",
   "metadata": {},
   "outputs": [
    {
     "data": {
      "text/plain": [
       "[2, 4, 5, 6, 66, 9, 1, 3, 6, 7, 8, 9, 4]"
      ]
     },
     "execution_count": 101,
     "metadata": {},
     "output_type": "execute_result"
    }
   ],
   "source": [
    "list_t4"
   ]
  },
  {
   "cell_type": "code",
   "execution_count": null,
   "id": "90ab6ab7",
   "metadata": {},
   "outputs": [],
   "source": []
  },
  {
   "cell_type": "code",
   "execution_count": 72,
   "id": "51635ac8",
   "metadata": {},
   "outputs": [],
   "source": [
    "t4=()\n"
   ]
  },
  {
   "cell_type": "code",
   "execution_count": 73,
   "id": "67a70705",
   "metadata": {},
   "outputs": [
    {
     "data": {
      "text/plain": [
       "()"
      ]
     },
     "execution_count": 73,
     "metadata": {},
     "output_type": "execute_result"
    }
   ],
   "source": [
    "t4"
   ]
  },
  {
   "cell_type": "code",
   "execution_count": 74,
   "id": "1c4ee67f",
   "metadata": {},
   "outputs": [
    {
     "data": {
      "text/plain": [
       "tuple"
      ]
     },
     "execution_count": 74,
     "metadata": {},
     "output_type": "execute_result"
    }
   ],
   "source": [
    "type(t4)"
   ]
  },
  {
   "cell_type": "code",
   "execution_count": 85,
   "id": "539f231b",
   "metadata": {},
   "outputs": [
    {
     "ename": "SyntaxError",
     "evalue": "invalid syntax (3198574127.py, line 2)",
     "output_type": "error",
     "traceback": [
      "\u001b[1;36m  Cell \u001b[1;32mIn[85], line 2\u001b[1;36m\u001b[0m\n\u001b[1;33m    print(del(t3[i]))\u001b[0m\n\u001b[1;37m          ^\u001b[0m\n\u001b[1;31mSyntaxError\u001b[0m\u001b[1;31m:\u001b[0m invalid syntax\n"
     ]
    }
   ],
   "source": [
    "for i in range(len(t3)):\n",
    "    print(del(t3[i]))\n",
    "    "
   ]
  },
  {
   "cell_type": "code",
   "execution_count": 98,
   "id": "8bae7246",
   "metadata": {},
   "outputs": [
    {
     "name": "stdout",
     "output_type": "stream",
     "text": [
      "\f",
      "\n"
     ]
    }
   ],
   "source": [
    "%clear(t4)"
   ]
  },
  {
   "cell_type": "code",
   "execution_count": 99,
   "id": "e15fc6e0",
   "metadata": {},
   "outputs": [
    {
     "data": {
      "text/plain": [
       "()"
      ]
     },
     "execution_count": 99,
     "metadata": {},
     "output_type": "execute_result"
    }
   ],
   "source": [
    "t4"
   ]
  },
  {
   "cell_type": "code",
   "execution_count": 103,
   "id": "4f3640dc",
   "metadata": {},
   "outputs": [],
   "source": [
    "t5=[2, 4, 5, 6, 66, 9, 1, 3, 6, 7, 8, 9, 4]"
   ]
  },
  {
   "cell_type": "code",
   "execution_count": 104,
   "id": "9b74be6e",
   "metadata": {},
   "outputs": [
    {
     "name": "stdout",
     "output_type": "stream",
     "text": [
      "\f",
      "\n"
     ]
    }
   ],
   "source": [
    "clear(t5)"
   ]
  },
  {
   "cell_type": "code",
   "execution_count": 105,
   "id": "118b3a30",
   "metadata": {},
   "outputs": [
    {
     "data": {
      "text/plain": [
       "[2, 4, 5, 6, 66, 9, 1, 3, 6, 7, 8, 9, 4]"
      ]
     },
     "execution_count": 105,
     "metadata": {},
     "output_type": "execute_result"
    }
   ],
   "source": [
    "t5"
   ]
  },
  {
   "cell_type": "code",
   "execution_count": 106,
   "id": "62e9e263",
   "metadata": {},
   "outputs": [],
   "source": [
    "t5.clear()"
   ]
  },
  {
   "cell_type": "code",
   "execution_count": 107,
   "id": "f4893850",
   "metadata": {},
   "outputs": [
    {
     "data": {
      "text/plain": [
       "[]"
      ]
     },
     "execution_count": 107,
     "metadata": {},
     "output_type": "execute_result"
    }
   ],
   "source": [
    "t5"
   ]
  },
  {
   "cell_type": "code",
   "execution_count": 108,
   "id": "a3efbc95",
   "metadata": {},
   "outputs": [],
   "source": [
    "t5=(2, 4, 5, 6, 66, 9, 1, 3, 6, 7, 8, 9, 4)"
   ]
  },
  {
   "cell_type": "code",
   "execution_count": 109,
   "id": "2a9bdf40",
   "metadata": {},
   "outputs": [
    {
     "ename": "AttributeError",
     "evalue": "'tuple' object has no attribute 'clear'",
     "output_type": "error",
     "traceback": [
      "\u001b[1;31m---------------------------------------------------------------------------\u001b[0m",
      "\u001b[1;31mAttributeError\u001b[0m                            Traceback (most recent call last)",
      "Cell \u001b[1;32mIn[109], line 1\u001b[0m\n\u001b[1;32m----> 1\u001b[0m t5\u001b[38;5;241m.\u001b[39mclear()\n",
      "\u001b[1;31mAttributeError\u001b[0m: 'tuple' object has no attribute 'clear'"
     ]
    }
   ],
   "source": [
    "t5.clear()"
   ]
  },
  {
   "cell_type": "code",
   "execution_count": 110,
   "id": "050f12b3",
   "metadata": {},
   "outputs": [
    {
     "name": "stdout",
     "output_type": "stream",
     "text": [
      "\f",
      "\n"
     ]
    }
   ],
   "source": [
    "clear(t5)"
   ]
  },
  {
   "cell_type": "code",
   "execution_count": 111,
   "id": "2b03a356",
   "metadata": {},
   "outputs": [
    {
     "data": {
      "text/plain": [
       "(2, 4, 5, 6, 66, 9, 1, 3, 6, 7, 8, 9, 4)"
      ]
     },
     "execution_count": 111,
     "metadata": {},
     "output_type": "execute_result"
    }
   ],
   "source": [
    "t5"
   ]
  },
  {
   "cell_type": "code",
   "execution_count": 115,
   "id": "4f9e69a1",
   "metadata": {},
   "outputs": [],
   "source": [
    "#Sets\n",
    "set1 = {}\n"
   ]
  },
  {
   "cell_type": "code",
   "execution_count": 116,
   "id": "95ec8ab8",
   "metadata": {},
   "outputs": [
    {
     "data": {
      "text/plain": [
       "dict"
      ]
     },
     "execution_count": 116,
     "metadata": {},
     "output_type": "execute_result"
    }
   ],
   "source": [
    "type(set1)"
   ]
  },
  {
   "cell_type": "code",
   "execution_count": 117,
   "id": "b236da2a",
   "metadata": {},
   "outputs": [],
   "source": [
    "set2={5}"
   ]
  },
  {
   "cell_type": "code",
   "execution_count": 118,
   "id": "7cb02464",
   "metadata": {},
   "outputs": [
    {
     "data": {
      "text/plain": [
       "set"
      ]
     },
     "execution_count": 118,
     "metadata": {},
     "output_type": "execute_result"
    }
   ],
   "source": [
    "type(set2)"
   ]
  },
  {
   "cell_type": "code",
   "execution_count": 119,
   "id": "e5d0a161",
   "metadata": {},
   "outputs": [],
   "source": [
    "set3={4,5,6,7,3,4,7,5,4,1,2,0}"
   ]
  },
  {
   "cell_type": "code",
   "execution_count": 120,
   "id": "75b6fd9f",
   "metadata": {},
   "outputs": [
    {
     "data": {
      "text/plain": [
       "{0, 1, 2, 3, 4, 5, 6, 7}"
      ]
     },
     "execution_count": 120,
     "metadata": {},
     "output_type": "execute_result"
    }
   ],
   "source": [
    "set3"
   ]
  },
  {
   "cell_type": "code",
   "execution_count": 121,
   "id": "9a87d6af",
   "metadata": {},
   "outputs": [
    {
     "data": {
      "text/plain": [
       "8"
      ]
     },
     "execution_count": 121,
     "metadata": {},
     "output_type": "execute_result"
    }
   ],
   "source": [
    "len(set3)"
   ]
  },
  {
   "cell_type": "code",
   "execution_count": 122,
   "id": "fe9b8045",
   "metadata": {},
   "outputs": [],
   "source": [
    "set4 = {'Anand','Prachi','Vaibhav','Neha','Sourabh'}"
   ]
  },
  {
   "cell_type": "code",
   "execution_count": 123,
   "id": "d68ed0db",
   "metadata": {},
   "outputs": [
    {
     "data": {
      "text/plain": [
       "{'Anand', 'Neha', 'Prachi', 'Sourabh', 'Vaibhav'}"
      ]
     },
     "execution_count": 123,
     "metadata": {},
     "output_type": "execute_result"
    }
   ],
   "source": [
    "set4"
   ]
  },
  {
   "cell_type": "code",
   "execution_count": 125,
   "id": "b5d5b7ad",
   "metadata": {},
   "outputs": [],
   "source": [
    "set5={'Anand',1,'Prachi',3,'Vaibhav',7,8,9,0,4,8,3,'Neha',4,7,4,2,1,'Sourabh',0}"
   ]
  },
  {
   "cell_type": "code",
   "execution_count": 126,
   "id": "d199330f",
   "metadata": {},
   "outputs": [
    {
     "data": {
      "text/plain": [
       "{0, 1, 2, 3, 4, 7, 8, 9, 'Anand', 'Neha', 'Prachi', 'Sourabh', 'Vaibhav'}"
      ]
     },
     "execution_count": 126,
     "metadata": {},
     "output_type": "execute_result"
    }
   ],
   "source": [
    "set5"
   ]
  },
  {
   "cell_type": "code",
   "execution_count": 129,
   "id": "4a79e8ef",
   "metadata": {},
   "outputs": [],
   "source": [
    "set6 = {1, '1', 2, '2', 3, '3', '3', 1.1, True,'2.2',2.236,3.2,3.8,8.9,'prachi','vaibhav',False,0,True} "
   ]
  },
  {
   "cell_type": "code",
   "execution_count": 130,
   "id": "6e7d928f",
   "metadata": {},
   "outputs": [
    {
     "data": {
      "text/plain": [
       "{1,\n",
       " '1',\n",
       " 1.1,\n",
       " 2,\n",
       " '2',\n",
       " '2.2',\n",
       " 2.236,\n",
       " 3,\n",
       " '3',\n",
       " 3.2,\n",
       " 3.8,\n",
       " 8.9,\n",
       " False,\n",
       " 'prachi',\n",
       " 'vaibhav'}"
      ]
     },
     "execution_count": 130,
     "metadata": {},
     "output_type": "execute_result"
    }
   ],
   "source": [
    "set6"
   ]
  },
  {
   "cell_type": "code",
   "execution_count": 136,
   "id": "e222a131",
   "metadata": {},
   "outputs": [],
   "source": [
    "set7 = {4,5,6,7,3,4,7,5,4,1,2,0,56,5656,4564,234,234,2342,'abc','abzc','prachi','anand','@#','#@',True,False,False,0,12,1,1211,\n",
    "        '!','!!','!!@','!@#','!#@'\n",
    "       }"
   ]
  },
  {
   "cell_type": "code",
   "execution_count": 137,
   "id": "eb995015",
   "metadata": {},
   "outputs": [
    {
     "data": {
      "text/plain": [
       "{'!',\n",
       " '!!',\n",
       " '!!@',\n",
       " '!#@',\n",
       " '!@#',\n",
       " '#@',\n",
       " 0,\n",
       " 1,\n",
       " 12,\n",
       " 1211,\n",
       " 2,\n",
       " 234,\n",
       " 2342,\n",
       " 3,\n",
       " 4,\n",
       " 4564,\n",
       " 5,\n",
       " 56,\n",
       " 5656,\n",
       " 6,\n",
       " 7,\n",
       " '@#',\n",
       " 'abc',\n",
       " 'abzc',\n",
       " 'anand',\n",
       " 'prachi'}"
      ]
     },
     "execution_count": 137,
     "metadata": {},
     "output_type": "execute_result"
    }
   ],
   "source": [
    "set7"
   ]
  },
  {
   "cell_type": "code",
   "execution_count": 139,
   "id": "e679c9ff",
   "metadata": {},
   "outputs": [
    {
     "name": "stdout",
     "output_type": "stream",
     "text": [
      "0\n",
      "1\n",
      "2\n",
      "3\n",
      "4\n",
      "5\n",
      "6\n",
      "7\n",
      "abc\n",
      "anand\n",
      "#@\n",
      "!#@\n",
      "12\n",
      "!@#\n",
      "4564\n",
      "!!@\n",
      "@#\n",
      "5656\n",
      "2342\n",
      "!\n",
      "234\n",
      "abzc\n",
      "!!\n",
      "56\n",
      "1211\n",
      "prachi\n"
     ]
    }
   ],
   "source": [
    "for i in set7:\n",
    "    print(i)"
   ]
  },
  {
   "cell_type": "code",
   "execution_count": 141,
   "id": "5613ff9f",
   "metadata": {},
   "outputs": [],
   "source": [
    "my_list = list(set7)"
   ]
  },
  {
   "cell_type": "code",
   "execution_count": 142,
   "id": "4d423110",
   "metadata": {},
   "outputs": [
    {
     "data": {
      "text/plain": [
       "[0,\n",
       " 1,\n",
       " 2,\n",
       " 3,\n",
       " 4,\n",
       " 5,\n",
       " 6,\n",
       " 7,\n",
       " 'abc',\n",
       " 'anand',\n",
       " '#@',\n",
       " '!#@',\n",
       " 12,\n",
       " '!@#',\n",
       " 4564,\n",
       " '!!@',\n",
       " '@#',\n",
       " 5656,\n",
       " 2342,\n",
       " '!',\n",
       " 234,\n",
       " 'abzc',\n",
       " '!!',\n",
       " 56,\n",
       " 1211,\n",
       " 'prachi']"
      ]
     },
     "execution_count": 142,
     "metadata": {},
     "output_type": "execute_result"
    }
   ],
   "source": [
    "my_list"
   ]
  },
  {
   "cell_type": "code",
   "execution_count": 143,
   "id": "9580b26e",
   "metadata": {},
   "outputs": [
    {
     "data": {
      "text/plain": [
       "{'!',\n",
       " '!!',\n",
       " '!!@',\n",
       " '!#@',\n",
       " '!@#',\n",
       " '#@',\n",
       " 0,\n",
       " 1,\n",
       " 12,\n",
       " 1211,\n",
       " 2,\n",
       " 234,\n",
       " 2342,\n",
       " 3,\n",
       " 4,\n",
       " 4564,\n",
       " 5,\n",
       " 56,\n",
       " 5656,\n",
       " 6,\n",
       " 7,\n",
       " '@#',\n",
       " 'abc',\n",
       " 'abzc',\n",
       " 'anand',\n",
       " 'prachi'}"
      ]
     },
     "execution_count": 143,
     "metadata": {},
     "output_type": "execute_result"
    }
   ],
   "source": [
    "set7"
   ]
  },
  {
   "cell_type": "code",
   "execution_count": 144,
   "id": "278d2520",
   "metadata": {},
   "outputs": [],
   "source": [
    "set8 ={\"India\", \"US\", \"US\", \"India\"}"
   ]
  },
  {
   "cell_type": "code",
   "execution_count": 145,
   "id": "620c1623",
   "metadata": {},
   "outputs": [
    {
     "data": {
      "text/plain": [
       "{'India', 'US'}"
      ]
     },
     "execution_count": 145,
     "metadata": {},
     "output_type": "execute_result"
    }
   ],
   "source": [
    "set8"
   ]
  },
  {
   "cell_type": "code",
   "execution_count": 146,
   "id": "6c0b5107",
   "metadata": {},
   "outputs": [],
   "source": [
    "set8.add('UK')"
   ]
  },
  {
   "cell_type": "code",
   "execution_count": 147,
   "id": "e1d698d6",
   "metadata": {},
   "outputs": [
    {
     "data": {
      "text/plain": [
       "{'India', 'UK', 'US'}"
      ]
     },
     "execution_count": 147,
     "metadata": {},
     "output_type": "execute_result"
    }
   ],
   "source": [
    "set8"
   ]
  },
  {
   "cell_type": "code",
   "execution_count": 148,
   "id": "c13e5052",
   "metadata": {},
   "outputs": [],
   "source": [
    "set8.add('US')"
   ]
  },
  {
   "cell_type": "code",
   "execution_count": 149,
   "id": "48dde280",
   "metadata": {},
   "outputs": [
    {
     "data": {
      "text/plain": [
       "{'India', 'UK', 'US'}"
      ]
     },
     "execution_count": 149,
     "metadata": {},
     "output_type": "execute_result"
    }
   ],
   "source": [
    "set8"
   ]
  },
  {
   "cell_type": "code",
   "execution_count": 150,
   "id": "e9e99310",
   "metadata": {},
   "outputs": [],
   "source": [
    "set8.remove('US')"
   ]
  },
  {
   "cell_type": "code",
   "execution_count": 151,
   "id": "2502997b",
   "metadata": {},
   "outputs": [
    {
     "data": {
      "text/plain": [
       "{'India', 'UK'}"
      ]
     },
     "execution_count": 151,
     "metadata": {},
     "output_type": "execute_result"
    }
   ],
   "source": [
    "set8"
   ]
  },
  {
   "cell_type": "code",
   "execution_count": 152,
   "id": "3b672534",
   "metadata": {},
   "outputs": [
    {
     "ename": "KeyError",
     "evalue": "'china'",
     "output_type": "error",
     "traceback": [
      "\u001b[1;31m---------------------------------------------------------------------------\u001b[0m",
      "\u001b[1;31mKeyError\u001b[0m                                  Traceback (most recent call last)",
      "Cell \u001b[1;32mIn[152], line 1\u001b[0m\n\u001b[1;32m----> 1\u001b[0m set8\u001b[38;5;241m.\u001b[39mremove(\u001b[38;5;124m'\u001b[39m\u001b[38;5;124mchina\u001b[39m\u001b[38;5;124m'\u001b[39m)\n",
      "\u001b[1;31mKeyError\u001b[0m: 'china'"
     ]
    }
   ],
   "source": [
    "set8.remove('china')"
   ]
  },
  {
   "cell_type": "code",
   "execution_count": 153,
   "id": "6039def5",
   "metadata": {},
   "outputs": [],
   "source": [
    "set8.discard('china')"
   ]
  },
  {
   "cell_type": "code",
   "execution_count": 154,
   "id": "6cfbaf1c",
   "metadata": {},
   "outputs": [
    {
     "data": {
      "text/plain": [
       "{'India', 'UK'}"
      ]
     },
     "execution_count": 154,
     "metadata": {},
     "output_type": "execute_result"
    }
   ],
   "source": [
    "set8"
   ]
  },
  {
   "cell_type": "code",
   "execution_count": 161,
   "id": "d20de0c2",
   "metadata": {},
   "outputs": [],
   "source": [
    "set9= {1,2,3,4,5,6}"
   ]
  },
  {
   "cell_type": "code",
   "execution_count": 156,
   "id": "9410e617",
   "metadata": {},
   "outputs": [
    {
     "data": {
      "text/plain": [
       "1"
      ]
     },
     "execution_count": 156,
     "metadata": {},
     "output_type": "execute_result"
    }
   ],
   "source": [
    "set9.pop()"
   ]
  },
  {
   "cell_type": "code",
   "execution_count": 158,
   "id": "3d9f8c9b",
   "metadata": {},
   "outputs": [
    {
     "data": {
      "text/plain": [
       "2"
      ]
     },
     "execution_count": 158,
     "metadata": {},
     "output_type": "execute_result"
    }
   ],
   "source": [
    "set9.pop()"
   ]
  },
  {
   "cell_type": "code",
   "execution_count": 159,
   "id": "587ce18f",
   "metadata": {},
   "outputs": [],
   "source": [
    "set8.clear()"
   ]
  },
  {
   "cell_type": "code",
   "execution_count": 160,
   "id": "509bd45c",
   "metadata": {},
   "outputs": [
    {
     "data": {
      "text/plain": [
       "set()"
      ]
     },
     "execution_count": 160,
     "metadata": {},
     "output_type": "execute_result"
    }
   ],
   "source": [
    "set8"
   ]
  },
  {
   "cell_type": "code",
   "execution_count": 162,
   "id": "e845b2c9",
   "metadata": {},
   "outputs": [
    {
     "data": {
      "text/plain": [
       "{1, 2, 3, 4, 5, 6}"
      ]
     },
     "execution_count": 162,
     "metadata": {},
     "output_type": "execute_result"
    }
   ],
   "source": [
    "set9"
   ]
  },
  {
   "cell_type": "code",
   "execution_count": 163,
   "id": "bbec6363",
   "metadata": {},
   "outputs": [
    {
     "data": {
      "text/plain": [
       "True"
      ]
     },
     "execution_count": 163,
     "metadata": {},
     "output_type": "execute_result"
    }
   ],
   "source": [
    "5 in set9"
   ]
  },
  {
   "cell_type": "code",
   "execution_count": 164,
   "id": "65ba6d3f",
   "metadata": {},
   "outputs": [
    {
     "data": {
      "text/plain": [
       "False"
      ]
     },
     "execution_count": 164,
     "metadata": {},
     "output_type": "execute_result"
    }
   ],
   "source": [
    "9 in  set9"
   ]
  },
  {
   "cell_type": "code",
   "execution_count": 165,
   "id": "f14e91ba",
   "metadata": {},
   "outputs": [
    {
     "data": {
      "text/plain": [
       "True"
      ]
     },
     "execution_count": 165,
     "metadata": {},
     "output_type": "execute_result"
    }
   ],
   "source": [
    "9 not in set9"
   ]
  },
  {
   "cell_type": "code",
   "execution_count": 186,
   "id": "aa7661e0",
   "metadata": {},
   "outputs": [],
   "source": [
    "maharashtra_cities = {\"Pune\", \"Mumbai\", \"Nagpur\"}\n",
    "\n",
    "goa_cities = {\"Panjim\", \"Vasco\", \"Madgaon\"}\n",
    "western_region_cities = {\"Panjim\", \"Vasco\", \"Pune\", \"Mumbai\", \"Nagpur\"}"
   ]
  },
  {
   "cell_type": "code",
   "execution_count": 187,
   "id": "35151d53",
   "metadata": {},
   "outputs": [
    {
     "data": {
      "text/plain": [
       "{'Panjim', 'Vasco'}"
      ]
     },
     "execution_count": 187,
     "metadata": {},
     "output_type": "execute_result"
    }
   ],
   "source": [
    "western_region_cities &  goa_cities  "
   ]
  },
  {
   "cell_type": "code",
   "execution_count": 188,
   "id": "1e2d2070",
   "metadata": {},
   "outputs": [
    {
     "data": {
      "text/plain": [
       "{'Panjim', 'Vasco'}"
      ]
     },
     "execution_count": 188,
     "metadata": {},
     "output_type": "execute_result"
    }
   ],
   "source": [
    "western_region_cities.intersection(goa_cities)"
   ]
  },
  {
   "cell_type": "code",
   "execution_count": 189,
   "id": "a03ff353",
   "metadata": {},
   "outputs": [
    {
     "data": {
      "text/plain": [
       "{'Panjim', 'Vasco'}"
      ]
     },
     "execution_count": 189,
     "metadata": {},
     "output_type": "execute_result"
    }
   ],
   "source": [
    "western_region_cities - maharashtra_cities"
   ]
  },
  {
   "cell_type": "code",
   "execution_count": 190,
   "id": "973e371b",
   "metadata": {},
   "outputs": [
    {
     "data": {
      "text/plain": [
       "{'Mumbai', 'Nagpur', 'Pune'}"
      ]
     },
     "execution_count": 190,
     "metadata": {},
     "output_type": "execute_result"
    }
   ],
   "source": [
    "western_region_cities - goa_cities "
   ]
  },
  {
   "cell_type": "code",
   "execution_count": 191,
   "id": "e2d66934",
   "metadata": {},
   "outputs": [
    {
     "data": {
      "text/plain": [
       "{'Mumbai', 'Nagpur', 'Pune'}"
      ]
     },
     "execution_count": 191,
     "metadata": {},
     "output_type": "execute_result"
    }
   ],
   "source": [
    "western_region_cities.difference(goa_cities)"
   ]
  },
  {
   "cell_type": "code",
   "execution_count": 192,
   "id": "baef0c24",
   "metadata": {},
   "outputs": [
    {
     "data": {
      "text/plain": [
       "{'Madgaon', 'Mumbai', 'Nagpur', 'Panjim', 'Pune', 'Vasco'}"
      ]
     },
     "execution_count": 192,
     "metadata": {},
     "output_type": "execute_result"
    }
   ],
   "source": [
    "western_region_cities | goa_cities"
   ]
  },
  {
   "cell_type": "code",
   "execution_count": 193,
   "id": "2d30ce1e",
   "metadata": {},
   "outputs": [
    {
     "data": {
      "text/plain": [
       "{'Madgaon', 'Mumbai', 'Nagpur', 'Panjim', 'Pune', 'Vasco'}"
      ]
     },
     "execution_count": 193,
     "metadata": {},
     "output_type": "execute_result"
    }
   ],
   "source": [
    "maharashtra_cities | goa_cities"
   ]
  },
  {
   "cell_type": "code",
   "execution_count": 194,
   "id": "22430945",
   "metadata": {},
   "outputs": [
    {
     "data": {
      "text/plain": [
       "{'Madgaon', 'Mumbai', 'Nagpur', 'Panjim', 'Pune', 'Vasco'}"
      ]
     },
     "execution_count": 194,
     "metadata": {},
     "output_type": "execute_result"
    }
   ],
   "source": [
    "maharashtra_cities.union(goa_cities)"
   ]
  },
  {
   "cell_type": "code",
   "execution_count": 195,
   "id": "1a5331a3",
   "metadata": {},
   "outputs": [
    {
     "data": {
      "text/plain": [
       "{4, 5}"
      ]
     },
     "execution_count": 195,
     "metadata": {},
     "output_type": "execute_result"
    }
   ],
   "source": [
    "s1 = {1,2,3,4,5}\n",
    "s2={4,5,6,7,8,9}\n",
    "s1&s2"
   ]
  },
  {
   "cell_type": "code",
   "execution_count": 197,
   "id": "7b6971d9",
   "metadata": {},
   "outputs": [
    {
     "data": {
      "text/plain": [
       "{1, 2, 3}"
      ]
     },
     "execution_count": 197,
     "metadata": {},
     "output_type": "execute_result"
    }
   ],
   "source": [
    "s1-s2"
   ]
  },
  {
   "cell_type": "code",
   "execution_count": 198,
   "id": "bdbae144",
   "metadata": {},
   "outputs": [
    {
     "data": {
      "text/plain": [
       "{4, 5}"
      ]
     },
     "execution_count": 198,
     "metadata": {},
     "output_type": "execute_result"
    }
   ],
   "source": [
    "s1.intersection(s2)"
   ]
  },
  {
   "cell_type": "code",
   "execution_count": 199,
   "id": "f4d9a4d5",
   "metadata": {},
   "outputs": [
    {
     "data": {
      "text/plain": [
       "{1, 2, 3, 6, 7, 8, 9}"
      ]
     },
     "execution_count": 199,
     "metadata": {},
     "output_type": "execute_result"
    }
   ],
   "source": [
    "s1.symmetric_difference(s2)"
   ]
  },
  {
   "cell_type": "code",
   "execution_count": 201,
   "id": "d0316c95",
   "metadata": {},
   "outputs": [],
   "source": [
    "languages = {'python', 'java', 'c', 'c++'}\n",
    "ds_languages = {\"python\", 'r'}\n",
    "\n",
    "#(a) What are all programming languages are available?\n",
    "#(b) How many data science languages are available?\n",
    "#(c) List languages which are not data science languages?\n",
    "#(d) List languages which are both programming language and data science languages.\n",
    "#(e) List languges which are only data science languages.\n"
   ]
  },
  {
   "cell_type": "code",
   "execution_count": 202,
   "id": "85bb6b54",
   "metadata": {},
   "outputs": [
    {
     "data": {
      "text/plain": [
       "{'c', 'c++', 'java', 'python', 'r'}"
      ]
     },
     "execution_count": 202,
     "metadata": {},
     "output_type": "execute_result"
    }
   ],
   "source": [
    "languages.union(ds_languages)"
   ]
  },
  {
   "cell_type": "code",
   "execution_count": 203,
   "id": "8a9f1001",
   "metadata": {},
   "outputs": [
    {
     "data": {
      "text/plain": [
       "{'c', 'c++', 'java', 'python', 'r'}"
      ]
     },
     "execution_count": 203,
     "metadata": {},
     "output_type": "execute_result"
    }
   ],
   "source": [
    "languages | ds_languages"
   ]
  },
  {
   "cell_type": "code",
   "execution_count": 204,
   "id": "70f17d20",
   "metadata": {},
   "outputs": [
    {
     "data": {
      "text/plain": [
       "{'c', 'c++', 'java'}"
      ]
     },
     "execution_count": 204,
     "metadata": {},
     "output_type": "execute_result"
    }
   ],
   "source": [
    "languages - ds_languages"
   ]
  },
  {
   "cell_type": "code",
   "execution_count": 217,
   "id": "f69acf32",
   "metadata": {},
   "outputs": [],
   "source": [
    "set_1= {'a','b','c','d','e','f','g'}\n",
    "set_2 = {'b','e','f'}\n",
    "list_3 =[]"
   ]
  },
  {
   "cell_type": "code",
   "execution_count": 218,
   "id": "00c5f812",
   "metadata": {},
   "outputs": [],
   "source": [
    "list_set_1 = list(set_1)\n",
    "list_set_2 = list(set_2)"
   ]
  },
  {
   "cell_type": "code",
   "execution_count": 219,
   "id": "40000c9d",
   "metadata": {},
   "outputs": [],
   "source": [
    "for i in range(len(list_set_1)):\n",
    "    for j in range(len(list_set_2)):\n",
    "        if (list_set_1[i] == list_set_2[j]):\n",
    "            list_3.append(list_set_1[i])\n",
    "            \n",
    "            "
   ]
  },
  {
   "cell_type": "code",
   "execution_count": 220,
   "id": "94129c0a",
   "metadata": {},
   "outputs": [
    {
     "data": {
      "text/plain": [
       "['f', 'e', 'b']"
      ]
     },
     "execution_count": 220,
     "metadata": {},
     "output_type": "execute_result"
    }
   ],
   "source": [
    "list_3"
   ]
  },
  {
   "cell_type": "code",
   "execution_count": 233,
   "id": "9988de69",
   "metadata": {},
   "outputs": [],
   "source": [
    "list_vowel =['a','e','i','o','u']"
   ]
  },
  {
   "cell_type": "code",
   "execution_count": 234,
   "id": "f16194ef",
   "metadata": {},
   "outputs": [],
   "source": [
    "vowel_out=[]\n",
    "new_list =list_set_1+list_set_2"
   ]
  },
  {
   "cell_type": "code",
   "execution_count": 235,
   "id": "0f704d54",
   "metadata": {},
   "outputs": [
    {
     "data": {
      "text/plain": [
       "['a', 'f', 'e', 'd', 'g', 'b', 'c', 'b', 'e', 'f']"
      ]
     },
     "execution_count": 235,
     "metadata": {},
     "output_type": "execute_result"
    }
   ],
   "source": [
    "new_list"
   ]
  },
  {
   "cell_type": "code",
   "execution_count": 236,
   "id": "fb240b2a",
   "metadata": {},
   "outputs": [],
   "source": [
    "for i in new_list:\n",
    "    if i in list_vowel:\n",
    "        vowel_out.append(i)"
   ]
  },
  {
   "cell_type": "code",
   "execution_count": 237,
   "id": "b664e6df",
   "metadata": {},
   "outputs": [],
   "source": [
    "vowel_out_set = set(vowel_out)"
   ]
  },
  {
   "cell_type": "code",
   "execution_count": 238,
   "id": "636a525d",
   "metadata": {},
   "outputs": [
    {
     "data": {
      "text/plain": [
       "{'a', 'e'}"
      ]
     },
     "execution_count": 238,
     "metadata": {},
     "output_type": "execute_result"
    }
   ],
   "source": [
    "vowel_out_set"
   ]
  },
  {
   "cell_type": "code",
   "execution_count": null,
   "id": "9006edb3",
   "metadata": {},
   "outputs": [],
   "source": []
  }
 ],
 "metadata": {
  "kernelspec": {
   "display_name": "Python 3 (ipykernel)",
   "language": "python",
   "name": "python3"
  },
  "language_info": {
   "codemirror_mode": {
    "name": "ipython",
    "version": 3
   },
   "file_extension": ".py",
   "mimetype": "text/x-python",
   "name": "python",
   "nbconvert_exporter": "python",
   "pygments_lexer": "ipython3",
   "version": "3.11.5"
  }
 },
 "nbformat": 4,
 "nbformat_minor": 5
}
