{
 "cells": [
  {
   "cell_type": "markdown",
   "id": "b636abf6-38af-4bfd-ba8a-5ca2afe23fec",
   "metadata": {},
   "source": [
    "<b>Python - Output Statements</b>"
   ]
  },
  {
   "cell_type": "code",
   "execution_count": 36,
   "id": "9106d9a0-6b11-48f8-8596-3d69988a088e",
   "metadata": {},
   "outputs": [
    {
     "name": "stdout",
     "output_type": "stream",
     "text": [
      "Hello World from Python!\n"
     ]
    }
   ],
   "source": [
    "print(\"Hello World from Python!\")"
   ]
  },
  {
   "cell_type": "code",
   "execution_count": 37,
   "id": "ca70acf8-fbcd-4937-89de-daaaa4f430b5",
   "metadata": {},
   "outputs": [
    {
     "data": {
      "text/plain": [
       "builtin_function_or_method"
      ]
     },
     "execution_count": 37,
     "metadata": {},
     "output_type": "execute_result"
    }
   ],
   "source": [
    "type(print)"
   ]
  },
  {
   "cell_type": "raw",
   "id": "8407c0cc-d6c7-41d6-8ce8-c1c7c15ecbb3",
   "metadata": {},
   "source": [
    "Whatever is specified in the print statement gets outputed on the console"
   ]
  },
  {
   "cell_type": "code",
   "execution_count": 38,
   "id": "05ffd09f-a931-4389-afb9-ef4071878553",
   "metadata": {},
   "outputs": [
    {
     "name": "stdout",
     "output_type": "stream",
     "text": [
      "Single quotes also works!\n"
     ]
    }
   ],
   "source": [
    "print('Single quotes also works!')"
   ]
  },
  {
   "cell_type": "code",
   "execution_count": 85,
   "id": "b2d5d7f5-f61f-4496-9100-2c4c41560ab4",
   "metadata": {},
   "outputs": [
    {
     "name": "stdout",
     "output_type": "stream",
     "text": [
      "Multiline output \n",
      " can also be printed.\n"
     ]
    }
   ],
   "source": [
    "print(\"Multiline output \\n can also be printed.\")"
   ]
  },
  {
   "cell_type": "code",
   "execution_count": 40,
   "id": "e6e3d89a-0a41-4803-9d00-bb8e5fa3ec7d",
   "metadata": {},
   "outputs": [
    {
     "name": "stdout",
     "output_type": "stream",
     "text": [
      "String concatenation also works.\n"
     ]
    }
   ],
   "source": [
    "print('String concatenation', 'also', 'works.')"
   ]
  },
  {
   "cell_type": "raw",
   "id": "3da42a35-4121-426a-a835-bdd51e81ade1",
   "metadata": {},
   "source": [
    "print function requires paranthesis around its arguments. Anything within the quotes will be printed as it is. "
   ]
  },
  {
   "cell_type": "code",
   "execution_count": 86,
   "id": "0d383597-faff-4cde-b17c-82c9e95a8388",
   "metadata": {},
   "outputs": [
    {
     "name": "stdout",
     "output_type": "stream",
     "text": [
      "3+4\n"
     ]
    }
   ],
   "source": [
    "print('3+4')   #treats '3+4' as string and outputs as is"
   ]
  },
  {
   "cell_type": "code",
   "execution_count": 87,
   "id": "ab755894-acc1-41d3-a77e-9904eb75c5b1",
   "metadata": {},
   "outputs": [
    {
     "name": "stdout",
     "output_type": "stream",
     "text": [
      "7\n"
     ]
    }
   ],
   "source": [
    "print(3+4)   #evaluates the expression and then prints the outcome"
   ]
  },
  {
   "cell_type": "code",
   "execution_count": 88,
   "id": "05b88906-e7f5-413f-8637-5e3847c7d5f0",
   "metadata": {},
   "outputs": [
    {
     "name": "stdout",
     "output_type": "stream",
     "text": [
      "3 + 4 =  7\n"
     ]
    }
   ],
   "source": [
    "print('3 + 4 = ', (3+4) )  # strings and expressions can be concatenanted in the single print function call"
   ]
  },
  {
   "cell_type": "code",
   "execution_count": 44,
   "id": "0020389c-cf98-44d2-ab71-c29b96929c64",
   "metadata": {},
   "outputs": [
    {
     "name": "stdout",
     "output_type": "stream",
     "text": [
      "age  35 name ABC\n"
     ]
    }
   ],
   "source": [
    "print('age ', 35, 'name', 'ABC')  # strings and numbers can also be concatenated in single statement"
   ]
  },
  {
   "cell_type": "raw",
   "id": "e663708a-7d38-40d8-a6d5-295eb0bdaf1f",
   "metadata": {},
   "source": [
    "The detault separator between two values in print statements is space. "
   ]
  },
  {
   "cell_type": "code",
   "execution_count": 45,
   "id": "216a3865-540c-4eb9-9a0c-329a9d299545",
   "metadata": {},
   "outputs": [
    {
     "name": "stdout",
     "output_type": "stream",
     "text": [
      "This is first line\n"
     ]
    }
   ],
   "source": [
    "print(\"This\", \"is\", \"first\", \"line\")"
   ]
  },
  {
   "cell_type": "raw",
   "id": "a896dc8a-6575-4671-8348-7727df50f43c",
   "metadata": {},
   "source": [
    "Using end"
   ]
  },
  {
   "cell_type": "markdown",
   "id": "d9f505c0-2d99-4243-b6fe-72714a737e71",
   "metadata": {},
   "source": [
    "The default endline character is newline i.e. \\n"
   ]
  },
  {
   "cell_type": "raw",
   "id": "eac05b13-4fe3-4a53-adee-0dff0e3849df",
   "metadata": {},
   "source": [
    "This can be changed by optional parameter 'end' as shown below"
   ]
  },
  {
   "cell_type": "code",
   "execution_count": 47,
   "id": "1bca684a-ea4c-487a-8124-7d055a7c13be",
   "metadata": {},
   "outputs": [
    {
     "name": "stdout",
     "output_type": "stream",
     "text": [
      "this is first line\n",
      "this is second line\n"
     ]
    }
   ],
   "source": [
    "print(\"this is first line\")\n",
    "print(\"this is second line\")"
   ]
  },
  {
   "cell_type": "code",
   "execution_count": 48,
   "id": "6c25e0d2-cfdb-4014-9fb7-424f477818bf",
   "metadata": {},
   "outputs": [
    {
     "name": "stdout",
     "output_type": "stream",
     "text": [
      "this is first line.this is second line\n"
     ]
    }
   ],
   "source": [
    "print(\"this is first line\", end='.')\n",
    "print(\"this is second line\")"
   ]
  },
  {
   "cell_type": "raw",
   "id": "876528ac-c6c2-406b-99b6-e6b5cc2d3745",
   "metadata": {},
   "source": [
    "Interpreter\n",
    "\n",
    "--The interpreter runs slower as the execution occurs simultaneously.\n",
    "\n",
    "--Errors are identified and reported during the given actual runtime.\n",
    "\n",
    "--Interpreted code is more portable as it can run on any machine with the appropriate interpreter.\n",
    "\n",
    "--It requires less memory than compiled ones\n",
    "\n",
    "--Debugging is easier due to the line-by-line execution of a code."
   ]
  },
  {
   "cell_type": "raw",
   "id": "ee9fbc07-2f82-477a-8580-554e00bc6791",
   "metadata": {},
   "source": [
    "Compiler  \n",
    "\n",
    "--The compiler is faster, as conversion occurs before the program executes.\n",
    "\n",
    "--Errors are detected during the compilation phase and displayed before the execution of a program.\n",
    "\n",
    "--Compile code needs to be recompiled to run on different machines.\n",
    "\n",
    "--It requires more memory to translate the whole source code at once.\n",
    "\n"
   ]
  },
  {
   "cell_type": "raw",
   "id": "677fb47c-b944-4dfa-82d1-f30fa0af2285",
   "metadata": {},
   "source": [
    "How Python Internally Works?\n",
    "Code Editor: Code Editor is the first stage of programs where we write our source code. This is human-readable code written according to Python’s syntax rules. It is where the execution of the program starts first.\n",
    "\n",
    "Source code: The code written by a programmer in the code editor is then saved as a .py file in a system. This file of Python is written in human-readable language that contains the instructions for the computer.\n",
    "\n",
    "Compilation Stage: The compilation stage of Python is different from any other programming language. Rather than compiling a source code directly into machine code. python compiles a source code into a byte code. In the compilation stage python compiler also checks for syntax errors. after checking all the syntax errors, if no such error is found then it generates a .pyc file that contains bytecode.\n",
    "\n",
    "Python Virtual Machine(PVM): The bytecode then goes into the main part of the conversion is the Python Virtual Machine(PVM). The PVM is the main runtime engine of Python. It is an interpreter that reads and executes the bytecode file, line by line. Here In the Python Virtual Machine translate the byte code into machine code which is the binary language consisting of 0s and 1s. The machine code is highly optimized for the machine it is running on. This binary language is only understandable by the CPU of a system.\n",
    "\n",
    "Running Program: At last, the CPU executes the given machine code and the main outcome of the program comes as performing task and computation you scripted at the beginning of the stage in your code editor."
   ]
  },
  {
   "cell_type": "code",
   "execution_count": null,
   "id": "49aafc0d-36d6-497b-a526-35c1269066c7",
   "metadata": {},
   "outputs": [],
   "source": [
    "\n"
   ]
  },
  {
   "cell_type": "code",
   "execution_count": null,
   "id": "077f9227-7937-4530-a6a7-9fbf3956d384",
   "metadata": {},
   "outputs": [],
   "source": [
    "\n"
   ]
  },
  {
   "cell_type": "raw",
   "id": "eeb05aeb-e73a-4011-b59b-e58ae8d1dd3d",
   "metadata": {},
   "source": [
    "Variable - it is a entity where you can store a data,which you can process in a run time or hold data\n",
    "\n",
    "Variable Names\n",
    "A variable can have a short name (like x and y) or a more descriptive name (age, carname, total_volume). Rules for Python variables:\n",
    "\n",
    "A variable name must start with a letter or the underscore character\n",
    "A variable name cannot start with a number\n",
    "A variable name can only contain alpha-numeric characters and underscores (A-z, 0-9, and _ )\n",
    "Variable names are case-sensitive (age, Age and AGE are three different variables)\n",
    "A variable name cannot be any of the Python keywords.\n",
    "\n",
    "Legal variable names:\n",
    "\n",
    "myvar = \"John\"\n",
    "my_var = \"John\"\n",
    "_my_var = \"John\"\n",
    "myVar = \"John\"\n",
    "MYVAR = \"John\"\n",
    "myvar2 = \"John\"\n",
    "\n",
    "Illegal variable names:\n",
    "\n",
    "2myvar = \"John\"\n",
    "my-var = \"John\"\n",
    "my var = \"John\""
   ]
  },
  {
   "cell_type": "code",
   "execution_count": 1,
   "id": "9a002d66-8d63-47d5-9204-f624e28c2652",
   "metadata": {},
   "outputs": [],
   "source": [
    "a= 10 # a can be anything my name,city name, country name, product name it copuld be anything"
   ]
  },
  {
   "cell_type": "code",
   "execution_count": 2,
   "id": "eb0ec681-0ec5-4419-acb2-89428b8b5d30",
   "metadata": {},
   "outputs": [],
   "source": [
    "#whenever we write a variable it reserve a memory(ram)"
   ]
  },
  {
   "cell_type": "code",
   "execution_count": 4,
   "id": "10b6c65a-60d0-4824-abf7-c02bf4334d56",
   "metadata": {},
   "outputs": [
    {
     "data": {
      "text/plain": [
       "5"
      ]
     },
     "execution_count": 4,
     "metadata": {},
     "output_type": "execute_result"
    }
   ],
   "source": [
    "a-5"
   ]
  },
  {
   "cell_type": "markdown",
   "id": "a3f6f0d5-f40e-41ee-b102-c3a1be26757f",
   "metadata": {},
   "source": [
    "#in case of other programming languages let's java or c++ we have to defined a variable type in very first place wheather it is int based variable or whatever it is we have defined it but in case of python it is needed \n",
    "ex in case of java int a = 5"
   ]
  },
  {
   "cell_type": "code",
   "execution_count": 5,
   "id": "6566def6-0302-44a1-ae02-30e8199e7fe0",
   "metadata": {},
   "outputs": [],
   "source": [
    "a= 5"
   ]
  },
  {
   "cell_type": "code",
   "execution_count": 6,
   "id": "48e2fee9-a9a4-4894-8f6a-0dd5fe13f3e2",
   "metadata": {},
   "outputs": [
    {
     "data": {
      "text/plain": [
       "5"
      ]
     },
     "execution_count": 6,
     "metadata": {},
     "output_type": "execute_result"
    }
   ],
   "source": [
    "a"
   ]
  },
  {
   "cell_type": "code",
   "execution_count": 7,
   "id": "c5c3ba50-e20c-4157-90cc-ef2dbbba4491",
   "metadata": {},
   "outputs": [
    {
     "data": {
      "text/plain": [
       "int"
      ]
     },
     "execution_count": 7,
     "metadata": {},
     "output_type": "execute_result"
    }
   ],
   "source": [
    "type(a)"
   ]
  },
  {
   "cell_type": "code",
   "execution_count": 8,
   "id": "3c4ce9e5-ccd1-4389-94e4-0f79193ffc39",
   "metadata": {},
   "outputs": [],
   "source": [
    "b=45.08"
   ]
  },
  {
   "cell_type": "code",
   "execution_count": 10,
   "id": "b62a4a07-cda1-4edb-82ad-fe375e0c2c94",
   "metadata": {},
   "outputs": [
    {
     "data": {
      "text/plain": [
       "float"
      ]
     },
     "execution_count": 10,
     "metadata": {},
     "output_type": "execute_result"
    }
   ],
   "source": [
    "type(b) # here it is telling me that it is floating type variable"
   ]
  },
  {
   "cell_type": "code",
   "execution_count": 26,
   "id": "7fda64ae-6cd7-4463-8a16-6e5a1209cbb3",
   "metadata": {},
   "outputs": [],
   "source": [
    "#in case of string we have wrap our whole data in double quotes or a single quotes it can be single word it can be a multiple word or sentance\n",
    "\n",
    "c='this is second class of python by anand analytics' "
   ]
  },
  {
   "cell_type": "code",
   "execution_count": 31,
   "id": "0bec4c5a-f15c-4708-b416-897efccec025",
   "metadata": {},
   "outputs": [
    {
     "data": {
      "text/plain": [
       "'This is second class of python by anand analytics'"
      ]
     },
     "execution_count": 31,
     "metadata": {},
     "output_type": "execute_result"
    }
   ],
   "source": [
    "#whenever i want to perform any operation on string type varible name>type . > hit tab\n",
    "c.capitalize()"
   ]
  },
  {
   "cell_type": "code",
   "execution_count": 32,
   "id": "41cbf1de-c802-4ff3-b476-e1d30343ecb2",
   "metadata": {},
   "outputs": [
    {
     "data": {
      "text/plain": [
       "str"
      ]
     },
     "execution_count": 32,
     "metadata": {},
     "output_type": "execute_result"
    }
   ],
   "source": [
    "#whenever we want to know details about any function just select the fuction and click shift+tab\n",
    "type(c)"
   ]
  },
  {
   "cell_type": "code",
   "execution_count": 19,
   "id": "a4a57e04-9896-4d5c-b7df-0acfdaf3e624",
   "metadata": {
    "scrolled": true
   },
   "outputs": [
    {
     "ename": "NameError",
     "evalue": "name 'ghjghjkjlkjlkmk' is not defined",
     "output_type": "error",
     "traceback": [
      "\u001b[1;31m---------------------------------------------------------------------------\u001b[0m",
      "\u001b[1;31mNameError\u001b[0m                                 Traceback (most recent call last)",
      "Cell \u001b[1;32mIn[19], line 1\u001b[0m\n\u001b[1;32m----> 1\u001b[0m e\u001b[38;5;241m=\u001b[39mghjghjkjlkjlkmk\n",
      "\u001b[1;31mNameError\u001b[0m: name 'ghjghjkjlkjlkmk' is not defined"
     ]
    }
   ],
   "source": [
    "e=ghjghjkjlkjlkmk"
   ]
  },
  {
   "cell_type": "code",
   "execution_count": null,
   "id": "254b31e4-d35c-4e8b-8f46-57b2256b2ecd",
   "metadata": {},
   "outputs": [],
   "source": []
  },
  {
   "cell_type": "code",
   "execution_count": 16,
   "id": "c807945b-68ec-4f71-a2fd-4dc86ffb4a5e",
   "metadata": {},
   "outputs": [
    {
     "data": {
      "text/plain": [
       "str"
      ]
     },
     "execution_count": 16,
     "metadata": {},
     "output_type": "execute_result"
    }
   ],
   "source": [
    "type(c)"
   ]
  },
  {
   "cell_type": "code",
   "execution_count": 17,
   "id": "1b9731a6-b293-4dff-82b8-31262fe01d1a",
   "metadata": {},
   "outputs": [],
   "source": [
    "d='c'"
   ]
  },
  {
   "cell_type": "code",
   "execution_count": 18,
   "id": "fd8a6c9b-e9e1-4c31-b4af-44cfdb67b30b",
   "metadata": {},
   "outputs": [
    {
     "data": {
      "text/plain": [
       "str"
      ]
     },
     "execution_count": 18,
     "metadata": {},
     "output_type": "execute_result"
    }
   ],
   "source": [
    "type(d)"
   ]
  },
  {
   "cell_type": "code",
   "execution_count": 1,
   "id": "bf417929-16e0-490b-ab05-d96374740621",
   "metadata": {},
   "outputs": [],
   "source": [
    "# we have understood int,float and string now there is a another type of data set\n",
    "f=True\n"
   ]
  },
  {
   "cell_type": "code",
   "execution_count": 15,
   "id": "d9268404-ffc7-48d0-8f2b-5007c08942c2",
   "metadata": {},
   "outputs": [],
   "source": [
    "a=True-False # why o/p is 1 bcz internally it is considering True as 1 and False as 0"
   ]
  },
  {
   "cell_type": "code",
   "execution_count": null,
   "id": "ce865b3b-4200-4204-9e9f-b198e99a7b1f",
   "metadata": {},
   "outputs": [],
   "source": []
  },
  {
   "cell_type": "code",
   "execution_count": 17,
   "id": "1d72ff93-538b-4e58-9a44-d560dad73653",
   "metadata": {},
   "outputs": [
    {
     "data": {
      "text/plain": [
       "2"
      ]
     },
     "execution_count": 17,
     "metadata": {},
     "output_type": "execute_result"
    }
   ],
   "source": [
    "True+True"
   ]
  },
  {
   "cell_type": "code",
   "execution_count": 19,
   "id": "faedf3de-9d02-48f6-a753-3b7f191c2c34",
   "metadata": {},
   "outputs": [
    {
     "ename": "ZeroDivisionError",
     "evalue": "division by zero",
     "output_type": "error",
     "traceback": [
      "\u001b[1;31m---------------------------------------------------------------------------\u001b[0m",
      "\u001b[1;31mZeroDivisionError\u001b[0m                         Traceback (most recent call last)",
      "Cell \u001b[1;32mIn[19], line 1\u001b[0m\n\u001b[1;32m----> 1\u001b[0m \u001b[38;5;28;01mTrue\u001b[39;00m\u001b[38;5;241m/\u001b[39m\u001b[38;5;28;01mFalse\u001b[39;00m\n",
      "\u001b[1;31mZeroDivisionError\u001b[0m: division by zero"
     ]
    }
   ],
   "source": [
    "\n",
    "True/False # mathematically it is infinity but in python it is going to give a 'zerodivision error'"
   ]
  },
  {
   "cell_type": "code",
   "execution_count": 16,
   "id": "88e129a4-af4f-448f-a286-aee8e155316e",
   "metadata": {},
   "outputs": [
    {
     "data": {
      "text/plain": [
       "1"
      ]
     },
     "execution_count": 16,
     "metadata": {},
     "output_type": "execute_result"
    }
   ],
   "source": [
    "a"
   ]
  },
  {
   "cell_type": "code",
   "execution_count": 22,
   "id": "05a7da09-17ab-4eb2-85dc-80f6c50af46c",
   "metadata": {},
   "outputs": [],
   "source": [
    "#complex number is combination of real number and the imaginary number\n",
    "x=2+3j #j is reserve word along with a number to denote any complex number"
   ]
  },
  {
   "cell_type": "code",
   "execution_count": 21,
   "id": "2a1465ee-3d69-4c76-8c16-079fb0873402",
   "metadata": {},
   "outputs": [
    {
     "data": {
      "text/plain": [
       "complex"
      ]
     },
     "execution_count": 21,
     "metadata": {},
     "output_type": "execute_result"
    }
   ],
   "source": [
    "type(x)"
   ]
  },
  {
   "cell_type": "code",
   "execution_count": 23,
   "id": "036137d7-75b9-4af9-a111-0e97cbe26ead",
   "metadata": {},
   "outputs": [
    {
     "data": {
      "text/plain": [
       "3.0"
      ]
     },
     "execution_count": 23,
     "metadata": {},
     "output_type": "execute_result"
    }
   ],
   "source": [
    "#whenever i want to separate the imaginary and real number type variable name > click on .> click on tab\n",
    "x.imag\n"
   ]
  },
  {
   "cell_type": "code",
   "execution_count": 25,
   "id": "632cffb7-5779-4b72-945e-c6885737b382",
   "metadata": {},
   "outputs": [
    {
     "data": {
      "text/plain": [
       "<function complex.conjugate()>"
      ]
     },
     "execution_count": 25,
     "metadata": {},
     "output_type": "execute_result"
    }
   ],
   "source": [
    "x.conjugate"
   ]
  },
  {
   "cell_type": "code",
   "execution_count": 24,
   "id": "72e65da3-f142-4a98-b6d7-536b5592ef62",
   "metadata": {},
   "outputs": [
    {
     "data": {
      "text/plain": [
       "2.0"
      ]
     },
     "execution_count": 24,
     "metadata": {},
     "output_type": "execute_result"
    }
   ],
   "source": [
    "x.real"
   ]
  },
  {
   "cell_type": "code",
   "execution_count": 2,
   "id": "5543ebbd-7df2-4eda-a7aa-a7fd26269478",
   "metadata": {},
   "outputs": [
    {
     "data": {
      "text/plain": [
       "bool"
      ]
     },
     "execution_count": 2,
     "metadata": {},
     "output_type": "execute_result"
    }
   ],
   "source": [
    "type(f)"
   ]
  },
  {
   "cell_type": "markdown",
   "id": "f8895df2-56de-474a-ab2b-30c5f6d345a8",
   "metadata": {},
   "source": [
    "#Many Values to Multiple Variables\n",
    "Python allows you to assign values to multiple variables in one line:\n",
    "\n",
    "ExampleGet your own Python Server\n",
    "\n",
    "x, y, z = \"Orange\", \"Banana\", \"Cherry\"\n",
    "\n",
    "print(x)\n",
    "\n",
    "print(y)\n",
    "\n",
    "print(z)"
   ]
  },
  {
   "cell_type": "markdown",
   "id": "53588be9-1646-45ee-96fb-240fc87546f9",
   "metadata": {},
   "source": [
    "One Value to Multiple Variables\n",
    "\n",
    "And you can assign the same value to multiple variables in one line:\n",
    "\n",
    "Example\n",
    "\n",
    "x = y = z = \"Orange\"\n",
    "\n",
    "print(x)\n",
    "\n",
    "print(y)\n",
    "\n",
    "print(z)"
   ]
  },
  {
   "cell_type": "code",
   "execution_count": 5,
   "id": "65b0264e-052e-4ff8-bb33-a7d209f856f7",
   "metadata": {},
   "outputs": [
    {
     "name": "stdout",
     "output_type": "stream",
     "text": [
      "Python is awesome\n"
     ]
    }
   ],
   "source": [
    "#Output Variables\n",
    "#The Python print() function is often used to output variables.\n",
    "\n",
    "x = \"Python is awesome\"\n",
    "print(x)"
   ]
  },
  {
   "cell_type": "code",
   "execution_count": 6,
   "id": "88c9049f-af6e-4985-9da3-5235b0f8df25",
   "metadata": {},
   "outputs": [
    {
     "name": "stdout",
     "output_type": "stream",
     "text": [
      "Python is awesome\n"
     ]
    }
   ],
   "source": [
    "#In the print() function, you output multiple variables, separated by a comma:\n",
    "\n",
    "#Example\n",
    "x = \"Python\"\n",
    "y = \"is\"\n",
    "z = \"awesome\"\n",
    "print(x, y, z)"
   ]
  },
  {
   "cell_type": "code",
   "execution_count": 7,
   "id": "e4e31061-9b22-4677-964a-6175a6cbd6ab",
   "metadata": {},
   "outputs": [
    {
     "name": "stdout",
     "output_type": "stream",
     "text": [
      "Python is awesome\n"
     ]
    }
   ],
   "source": [
    "#You can also use the + operator to output multiple variables:\n",
    "\n",
    "#Example\n",
    "x = \"Python \"\n",
    "y = \"is \"\n",
    "z = \"awesome\"\n",
    "print(x + y + z)"
   ]
  },
  {
   "cell_type": "code",
   "execution_count": 8,
   "id": "88110c04-ffa0-40cd-b112-59783c2a42d6",
   "metadata": {},
   "outputs": [
    {
     "name": "stdout",
     "output_type": "stream",
     "text": [
      "15\n"
     ]
    }
   ],
   "source": [
    "#For numbers, the + character works as a mathematical operator:\n",
    "\n",
    "#Example\n",
    "x = 5\n",
    "y = 10\n",
    "print(x + y)"
   ]
  },
  {
   "cell_type": "code",
   "execution_count": 9,
   "id": "27751a0b-84a2-4fb1-967e-97c22415e997",
   "metadata": {},
   "outputs": [
    {
     "ename": "TypeError",
     "evalue": "unsupported operand type(s) for +: 'int' and 'str'",
     "output_type": "error",
     "traceback": [
      "\u001b[1;31m---------------------------------------------------------------------------\u001b[0m",
      "\u001b[1;31mTypeError\u001b[0m                                 Traceback (most recent call last)",
      "Cell \u001b[1;32mIn[9], line 6\u001b[0m\n\u001b[0;32m      4\u001b[0m x \u001b[38;5;241m=\u001b[39m \u001b[38;5;241m5\u001b[39m\n\u001b[0;32m      5\u001b[0m y \u001b[38;5;241m=\u001b[39m \u001b[38;5;124m\"\u001b[39m\u001b[38;5;124mJohn\u001b[39m\u001b[38;5;124m\"\u001b[39m\n\u001b[1;32m----> 6\u001b[0m \u001b[38;5;28mprint\u001b[39m(x \u001b[38;5;241m+\u001b[39m y)\n",
      "\u001b[1;31mTypeError\u001b[0m: unsupported operand type(s) for +: 'int' and 'str'"
     ]
    }
   ],
   "source": [
    "#In the print() function, when you try to combine a string and a number with the + operator, Python will give you an error:\n",
    "\n",
    "#Example\n",
    "x = 5\n",
    "y = \"John\"\n",
    "print(x + y)"
   ]
  },
  {
   "cell_type": "code",
   "execution_count": 10,
   "id": "91bea8f2-4c59-498c-9423-4e1a0246d2f2",
   "metadata": {},
   "outputs": [
    {
     "name": "stdout",
     "output_type": "stream",
     "text": [
      "5 John\n"
     ]
    }
   ],
   "source": [
    "#The best way to output multiple variables in the print() function is to separate them with commas, which even support different data types:\n",
    "\n",
    "#Example\n",
    "x = 5\n",
    "y = \"John\"\n",
    "print(x, y)"
   ]
  },
  {
   "cell_type": "raw",
   "id": "5e4a5dd5-1d4a-4c92-acdf-860a330a9747",
   "metadata": {},
   "source": [
    "Global Variables\n",
    "Variables that are created outside of a function (as in all of the examples above) are known as global variables.\n",
    "\n",
    "Global variables can be used by everyone, both inside of functions and outside."
   ]
  },
  {
   "cell_type": "code",
   "execution_count": 11,
   "id": "6cc8854e-6ef9-40d4-b33a-bcd77e2bc29a",
   "metadata": {},
   "outputs": [
    {
     "name": "stdout",
     "output_type": "stream",
     "text": [
      "Python is awesome\n"
     ]
    }
   ],
   "source": [
    "#Create a variable outside of a function, and use it inside the function\n",
    "\n",
    "x = \"awesome\"\n",
    "\n",
    "def myfunc():\n",
    "  print(\"Python is \" + x)\n",
    "\n",
    "myfunc()"
   ]
  },
  {
   "cell_type": "raw",
   "id": "84c03544-cb9b-4240-896b-552167827027",
   "metadata": {},
   "source": [
    "If you create a variable with the same name inside a function, this variable will be local, and can only be used inside the function. The global variable with the same name will remain as it was, global and with the original value."
   ]
  },
  {
   "cell_type": "code",
   "execution_count": 12,
   "id": "2d09d352-a796-43ba-a1fa-472a8caa97c1",
   "metadata": {},
   "outputs": [
    {
     "name": "stdout",
     "output_type": "stream",
     "text": [
      "Python is fantastic\n",
      "Python is awesome\n"
     ]
    }
   ],
   "source": [
    "#Create a variable inside a function, with the same name as the global variable\n",
    "\n",
    "x = \"awesome\"\n",
    "\n",
    "def myfunc():\n",
    "  x = \"fantastic\"\n",
    "  print(\"Python is \" + x)\n",
    "\n",
    "myfunc()\n",
    "\n",
    "print(\"Python is \" + x)"
   ]
  },
  {
   "cell_type": "code",
   "execution_count": 13,
   "id": "f381a52f-2213-46df-956a-3b8d17025ee2",
   "metadata": {},
   "outputs": [
    {
     "name": "stdout",
     "output_type": "stream",
     "text": [
      "Python is fantastic\n"
     ]
    }
   ],
   "source": [
    "'''The global Keyword\n",
    "Normally, when you create a variable inside a function, that variable is local, and can only be used inside that function.\n",
    "\n",
    "To create a global variable inside a function, you can use the global keyword.\n",
    "\n",
    "Example\n",
    "If you use the global keyword, the variable belongs to the global scope:'''\n",
    "\n",
    "def myfunc():\n",
    "  global x\n",
    "  x = \"fantastic\"\n",
    "\n",
    "myfunc()\n",
    "\n",
    "print(\"Python is \" + x)\n"
   ]
  },
  {
   "cell_type": "raw",
   "id": "b540a80c-c020-477b-a26d-e55391cc1b74",
   "metadata": {},
   "source": [
    "Python Data Types"
   ]
  },
  {
   "cell_type": "raw",
   "id": "9c1ecff2-f665-4770-b291-589f81e60e51",
   "metadata": {},
   "source": [
    "Variables can store data of different types, and different types can do different things.\n",
    "\n",
    "Python has the following data types built-in by default, in these categories:\n",
    "\n",
    "Text Type:\tstr\n",
    "Numeric Types:\tint, float, complex\n",
    "Sequence Types:\tlist, tuple, range\n",
    "Mapping Type:\tdict\n",
    "Set Types:\tset, frozenset\n",
    "Boolean Type:\tbool\n",
    "Binary Types:\tbytes, bytearray, memoryview\n",
    "None Type:\tNoneType"
   ]
  },
  {
   "cell_type": "code",
   "execution_count": 34,
   "id": "d27d6b77-7591-4e38-9834-a3b054ebbbae",
   "metadata": {},
   "outputs": [
    {
     "name": "stdout",
     "output_type": "stream",
     "text": [
      "<class 'int'>\n"
     ]
    }
   ],
   "source": [
    "x = 5\n",
    "print(type(x))"
   ]
  },
  {
   "cell_type": "code",
   "execution_count": 35,
   "id": "ba6d24d3-a656-4ba7-b1bb-3213616e79e6",
   "metadata": {},
   "outputs": [],
   "source": [
    "x = \"Hello World\"\t#str\t\n",
    "x = 20\t#int\t\n",
    "x = 20.5\t#float\t\n",
    "x = 1j\t#complex\t\n",
    "x = [\"apple\", \"banana\", \"cherry\"]\t#list\t\n",
    "x = (\"apple\", \"banana\", \"cherry\")\t#tuple\t\n",
    "x = range(6)\t#range\t\n",
    "x = {\"name\" : \"John\", \"age\" : 36}\t#dict\t\n",
    "x = {\"apple\", \"banana\", \"cherry\"}\t#set"
   ]
  },
  {
   "cell_type": "raw",
   "id": "85498779-41e6-4507-9a0c-1563254901a1",
   "metadata": {},
   "source": [
    "# Type casting\n",
    "\n",
    "Converting from one object type to a different object type"
   ]
  },
  {
   "cell_type": "code",
   "execution_count": 64,
   "id": "db19b3b5-5d3a-4d61-9f8d-66576aa52bb9",
   "metadata": {},
   "outputs": [
    {
     "data": {
      "text/plain": [
       "int"
      ]
     },
     "execution_count": 64,
     "metadata": {},
     "output_type": "execute_result"
    }
   ],
   "source": [
    "type(int(1.5))"
   ]
  },
  {
   "cell_type": "code",
   "execution_count": 65,
   "id": "31d9b47e-d2ca-4090-a3b4-b0c497d9cc04",
   "metadata": {},
   "outputs": [
    {
     "data": {
      "text/plain": [
       "1"
      ]
     },
     "execution_count": 65,
     "metadata": {},
     "output_type": "execute_result"
    }
   ],
   "source": [
    "int('1') #convert string to integer"
   ]
  },
  {
   "cell_type": "code",
   "execution_count": 66,
   "id": "5d59924e-c99c-4812-a259-785259e5ca8a",
   "metadata": {},
   "outputs": [
    {
     "data": {
      "text/plain": [
       "int"
      ]
     },
     "execution_count": 66,
     "metadata": {},
     "output_type": "execute_result"
    }
   ],
   "source": [
    "type(int('1'))"
   ]
  },
  {
   "cell_type": "markdown",
   "id": "88a5761e-7730-42ec-94f4-2616a8a036ed",
   "metadata": {},
   "source": [
    "<b>Converting integers to floats<b>"
   ]
  },
  {
   "cell_type": "code",
   "execution_count": 67,
   "id": "f8d9fd84-cfd3-4e88-a4e7-b1a246ef0712",
   "metadata": {},
   "outputs": [
    {
     "data": {
      "text/plain": [
       "int"
      ]
     },
     "execution_count": 67,
     "metadata": {},
     "output_type": "execute_result"
    }
   ],
   "source": [
    "type(2)"
   ]
  },
  {
   "cell_type": "code",
   "execution_count": 68,
   "id": "7077c9a6-448f-4489-b178-503c275cc078",
   "metadata": {},
   "outputs": [
    {
     "data": {
      "text/plain": [
       "float"
      ]
     },
     "execution_count": 68,
     "metadata": {},
     "output_type": "execute_result"
    }
   ],
   "source": [
    "type(float(2))"
   ]
  },
  {
   "cell_type": "markdown",
   "id": "c4c9fb7c-c0fe-40d4-90a9-b254a5569a13",
   "metadata": {},
   "source": [
    "<b>Converting from strings to integers or floats<b>"
   ]
  },
  {
   "cell_type": "code",
   "execution_count": 69,
   "id": "0ca82e47-65eb-47ec-9289-29e4871bfc64",
   "metadata": {},
   "outputs": [
    {
     "data": {
      "text/plain": [
       "1"
      ]
     },
     "execution_count": 69,
     "metadata": {},
     "output_type": "execute_result"
    }
   ],
   "source": [
    "int('1')  #Converting from string to int"
   ]
  },
  {
   "cell_type": "code",
   "execution_count": 70,
   "id": "e14a4e1d-1c77-430b-9862-46011ad32048",
   "metadata": {},
   "outputs": [
    {
     "data": {
      "text/plain": [
       "int"
      ]
     },
     "execution_count": 70,
     "metadata": {},
     "output_type": "execute_result"
    }
   ],
   "source": [
    "type(int('1'))"
   ]
  },
  {
   "cell_type": "code",
   "execution_count": 71,
   "id": "3f82263b-cc4b-45d2-a77f-a46b7398ede5",
   "metadata": {},
   "outputs": [
    {
     "data": {
      "text/plain": [
       "1.5"
      ]
     },
     "execution_count": 71,
     "metadata": {},
     "output_type": "execute_result"
    }
   ],
   "source": [
    "float('1.5')  #Converting from string to float"
   ]
  },
  {
   "cell_type": "code",
   "execution_count": 72,
   "id": "4f997cd3-cde8-47ce-baa7-0a5f0e992022",
   "metadata": {},
   "outputs": [
    {
     "data": {
      "text/plain": [
       "float"
      ]
     },
     "execution_count": 72,
     "metadata": {},
     "output_type": "execute_result"
    }
   ],
   "source": [
    "type(float('1.5'))"
   ]
  },
  {
   "cell_type": "code",
   "execution_count": 73,
   "id": "e63706ea-6ccd-43b5-b5cd-5b90ed0d47a6",
   "metadata": {},
   "outputs": [
    {
     "data": {
      "text/plain": [
       "1"
      ]
     },
     "execution_count": 73,
     "metadata": {},
     "output_type": "execute_result"
    }
   ],
   "source": [
    "int(1.5) #covert float to integer, loss of info"
   ]
  },
  {
   "cell_type": "markdown",
   "id": "b0511f49-8440-4ed1-9c1f-20b27766b2f3",
   "metadata": {},
   "source": [
    "<b>Converting numbers to strings<b>"
   ]
  },
  {
   "cell_type": "code",
   "execution_count": 74,
   "id": "0fcb3dba-64ab-44e8-bc6e-81f1292e3fc6",
   "metadata": {},
   "outputs": [
    {
     "data": {
      "text/plain": [
       "'1'"
      ]
     },
     "execution_count": 74,
     "metadata": {},
     "output_type": "execute_result"
    }
   ],
   "source": [
    "str(1)  #Converting  string to int"
   ]
  },
  {
   "cell_type": "code",
   "execution_count": 76,
   "id": "114ed639-3096-43ee-b76f-54e2986804c8",
   "metadata": {},
   "outputs": [
    {
     "data": {
      "text/plain": [
       "str"
      ]
     },
     "execution_count": 76,
     "metadata": {},
     "output_type": "execute_result"
    }
   ],
   "source": [
    "\n",
    "\n",
    "\n",
    "type(str(1))"
   ]
  },
  {
   "cell_type": "code",
   "execution_count": 77,
   "id": "61d1947b-065d-4cd8-b947-65b8347169e9",
   "metadata": {},
   "outputs": [
    {
     "data": {
      "text/plain": [
       "'1.5'"
      ]
     },
     "execution_count": 77,
     "metadata": {},
     "output_type": "execute_result"
    }
   ],
   "source": [
    "str('1.5')#Converting  string to float"
   ]
  },
  {
   "cell_type": "code",
   "execution_count": 78,
   "id": "116d2e9c-eb63-4e57-af70-e51fa819dc98",
   "metadata": {},
   "outputs": [
    {
     "data": {
      "text/plain": [
       "str"
      ]
     },
     "execution_count": 78,
     "metadata": {},
     "output_type": "execute_result"
    }
   ],
   "source": [
    "type(str('1.5'))"
   ]
  },
  {
   "cell_type": "markdown",
   "id": "abd07f1d-8efe-4e08-b41e-388ffc97f671",
   "metadata": {},
   "source": [
    "<b>Converting boolens to integers<b>"
   ]
  },
  {
   "cell_type": "code",
   "execution_count": 79,
   "id": "a73f460c-3bee-4e30-86b5-4496eb6d1ebe",
   "metadata": {},
   "outputs": [
    {
     "data": {
      "text/plain": [
       "1"
      ]
     },
     "execution_count": 79,
     "metadata": {},
     "output_type": "execute_result"
    }
   ],
   "source": [
    "int(True)"
   ]
  },
  {
   "cell_type": "code",
   "execution_count": 80,
   "id": "56bf5697-ff05-4482-a44f-323601e27255",
   "metadata": {},
   "outputs": [
    {
     "data": {
      "text/plain": [
       "1.0"
      ]
     },
     "execution_count": 80,
     "metadata": {},
     "output_type": "execute_result"
    }
   ],
   "source": [
    "float(True)"
   ]
  },
  {
   "cell_type": "markdown",
   "id": "d52d1c29-9eca-4247-813b-531b4b21fa1a",
   "metadata": {},
   "source": [
    "<b>Converting numbers to booleans<b>"
   ]
  },
  {
   "cell_type": "code",
   "execution_count": 81,
   "id": "0ca99b41-99a4-402b-a2e9-b08be816795f",
   "metadata": {},
   "outputs": [
    {
     "data": {
      "text/plain": [
       "True"
      ]
     },
     "execution_count": 81,
     "metadata": {},
     "output_type": "execute_result"
    }
   ],
   "source": [
    "bool(1.5)"
   ]
  },
  {
   "cell_type": "code",
   "execution_count": 82,
   "id": "1108132d-984a-4640-8e9b-2db6a6432b43",
   "metadata": {},
   "outputs": [
    {
     "data": {
      "text/plain": [
       "True"
      ]
     },
     "execution_count": 82,
     "metadata": {},
     "output_type": "execute_result"
    }
   ],
   "source": [
    "bool(1)"
   ]
  },
  {
   "cell_type": "code",
   "execution_count": 83,
   "id": "e89ec3a5-7331-4e65-81df-02c3beaef31c",
   "metadata": {},
   "outputs": [
    {
     "data": {
      "text/plain": [
       "True"
      ]
     },
     "execution_count": 83,
     "metadata": {},
     "output_type": "execute_result"
    }
   ],
   "source": [
    "bool(1.5)"
   ]
  },
  {
   "cell_type": "code",
   "execution_count": 84,
   "id": "86c4d407-6a89-4b9d-979c-d76cee208fc3",
   "metadata": {},
   "outputs": [
    {
     "data": {
      "text/plain": [
       "False"
      ]
     },
     "execution_count": 84,
     "metadata": {},
     "output_type": "execute_result"
    }
   ],
   "source": [
    "bool(0)"
   ]
  },
  {
   "cell_type": "raw",
   "id": "a86d6d66-9646-4656-83b4-56d22e1b9203",
   "metadata": {},
   "source": [
    "Exercise\n",
    "Q1. What will be type of expression ( 5 + 4.5 - 3)\n",
    "\n",
    "Q2. Use type() function to check type of 'one', '1 or 2', '1.4' and '1/2'"
   ]
  },
  {
   "cell_type": "raw",
   "id": "9aeb5cf6-a76a-4ab5-bb9d-f8ab769ade12",
   "metadata": {},
   "source": [
    "Python Operators\n",
    "Operators are used to perform operations on variables and values."
   ]
  },
  {
   "cell_type": "code",
   "execution_count": null,
   "id": "825ff149-1de6-43ce-8d31-5bc0029b2180",
   "metadata": {},
   "outputs": [],
   "source": []
  },
  {
   "cell_type": "raw",
   "id": "04ed880b-1e12-43ee-a520-6a05ef102409",
   "metadata": {},
   "source": [
    "Python divides the operators in the following groups:\n",
    "\n",
    "Arithmetic operators\n",
    "Assignment operators\n",
    "Comparison operators\n",
    "Logical operators\n",
    "Identity operators\n",
    "Membership operators\n",
    "Bitwise operators"
   ]
  },
  {
   "cell_type": "raw",
   "id": "55e9f1c9-e8a7-4973-8453-cfb68218da3b",
   "metadata": {},
   "source": [
    "Python Arithmetic Operators\n",
    "Arithmetic operators are used with numeric values to perform common mathematical operations:\n",
    "\n",
    "+\tAddition\tx + y\t\n",
    "-\tSubtraction\tx - y\t\n",
    "*\tMultiplication\tx * y\t\n",
    "/\tDivision\tx / y\t\n",
    "%\tModulus\tx % y\t\n",
    "**\tExponentiation\tx ** y\t\n",
    "//\tFloor division\tx // y"
   ]
  },
  {
   "cell_type": "raw",
   "id": "f99f146d-d697-4ed6-af23-1ae96548c2bb",
   "metadata": {},
   "source": [
    "Python Assignment Operators\n",
    "Assignment operators are used to assign values to variables:\n",
    "=\tx = 5\tx = 5\t\n",
    "+=\tx += 3\tx = x + 3\t\n",
    "-=\tx -= 3\tx = x - 3\t\n",
    "*=\tx *= 3\tx = x * 3\t\n",
    "/=\tx /= 3\tx = x / 3\t\n",
    "%=\tx %= 3\tx = x % 3\t\n",
    "//=\tx //= 3\tx = x // 3\t\n",
    "**=\tx **= 3\tx = x ** 3\t\n",
    "&=\tx &= 3\tx = x & 3\t\n",
    "|=\tx |= 3\tx = x | 3\t\n",
    "^=\tx ^= 3\tx = x ^ 3\t\n",
    ">>=\tx >>= 3\tx = x >> 3\t\n",
    "<<=\tx <<= 3\tx = x << 3\n",
    "\n"
   ]
  },
  {
   "cell_type": "raw",
   "id": "480672e4-058e-44f8-82f6-40546b56f99a",
   "metadata": {},
   "source": [
    "\n",
    "Python Comparison Operators\n",
    "Comparison operators are used to compare two values:\n",
    "\n",
    "Operator\tName\t\n",
    "==\tEqual\tx == y\t\n",
    "!=\tNot equal\tx != y\t\n",
    ">\tGreater than\tx > y\t\n",
    "<\tLess than\tx < y\t\n",
    ">=\tGreater than or equal to\tx >= y\t\n",
    "<=\tLess than or equal to\tx <= y"
   ]
  },
  {
   "cell_type": "raw",
   "id": "97c19add-2576-42d2-ba9d-6630c1d6e973",
   "metadata": {},
   "source": [
    "Python Logical Operators\n",
    "Logical operators are used to combine conditional statements:\n",
    "\n",
    "and \tReturns True if both statements are true\tx < 5 and  x < 10\t\n",
    "or\tReturns True if one of the statements is true\tx < 5 or x < 4\t\n",
    "not\tReverse the result, returns False if the result is true\tnot(x < 5 and x < 10)\n"
   ]
  },
  {
   "cell_type": "raw",
   "id": "e70ebebe-7f5f-4ddf-8de9-6f7728c87e32",
   "metadata": {},
   "source": [
    "Q. Write a program that prints result of following expression.\n",
    "\n",
    "123 - 282\n",
    "----------\n",
    "47.34 + 23"
   ]
  },
  {
   "cell_type": "code",
   "execution_count": 49,
   "id": "06a51ca7-0f24-4c6d-9ce4-b6750f45b2a9",
   "metadata": {},
   "outputs": [
    {
     "name": "stdout",
     "output_type": "stream",
     "text": [
      "123 - 282 =  -159\n"
     ]
    }
   ],
   "source": [
    "a = 123\n",
    "b = 282\n",
    "\n",
    "print('123 - 282 = ',a-b)"
   ]
  },
  {
   "cell_type": "code",
   "execution_count": 50,
   "id": "cc08cd76-68d9-4215-beeb-f574d917bce0",
   "metadata": {},
   "outputs": [
    {
     "name": "stdout",
     "output_type": "stream",
     "text": [
      "47.34 + 23 =  70.34\n"
     ]
    }
   ],
   "source": [
    "c = 47.34\n",
    "d = 23\n",
    "\n",
    "print('47.34 + 23 = ', c+d)"
   ]
  },
  {
   "cell_type": "raw",
   "id": "affecaa2-138f-4e0f-9de0-20c130e7c862",
   "metadata": {},
   "source": [
    "Python - Input Statements\n",
    "\n",
    "The input function is a simple way to get data from user. Here is example :"
   ]
  },
  {
   "cell_type": "code",
   "execution_count": 51,
   "id": "59cfce02-4e9e-4b38-853d-1019e3f99e7c",
   "metadata": {},
   "outputs": [
    {
     "name": "stdin",
     "output_type": "stream",
     "text": [
      "What is your name? prachi\n"
     ]
    }
   ],
   "source": [
    "a = input('What is your name?')"
   ]
  },
  {
   "cell_type": "code",
   "execution_count": 52,
   "id": "62dfbbdf-f38d-4bec-bfec-a987e02e04d4",
   "metadata": {},
   "outputs": [
    {
     "name": "stdin",
     "output_type": "stream",
     "text": [
      "Enter 1st num 1\n",
      "Enter 2nd num 2\n"
     ]
    },
    {
     "name": "stdout",
     "output_type": "stream",
     "text": [
      "3\n"
     ]
    }
   ],
   "source": [
    "num1 = int(input(\"Enter 1st num\"))\n",
    "num2 = int(input(\"Enter 2nd num\"))\n",
    "\n",
    "print(num1+num2)"
   ]
  },
  {
   "cell_type": "code",
   "execution_count": 53,
   "id": "1b0214b6-2313-4767-b195-31d3b4a042e9",
   "metadata": {},
   "outputs": [
    {
     "data": {
      "text/plain": [
       "str"
      ]
     },
     "execution_count": 53,
     "metadata": {},
     "output_type": "execute_result"
    }
   ],
   "source": [
    "type(a)"
   ]
  },
  {
   "cell_type": "code",
   "execution_count": 54,
   "id": "68f2df2e-1c80-41cc-91c5-4d903fe08e76",
   "metadata": {},
   "outputs": [
    {
     "name": "stdout",
     "output_type": "stream",
     "text": [
      "\n"
     ]
    },
    {
     "data": {
      "text/plain": [
       "NoneType"
      ]
     },
     "execution_count": 54,
     "metadata": {},
     "output_type": "execute_result"
    }
   ],
   "source": [
    "type(print())"
   ]
  },
  {
   "cell_type": "raw",
   "id": "c96045a8-9e5a-48bc-aca7-bed69316e0d5",
   "metadata": {},
   "source": [
    "The string specified in the input fuction serves as message to the user about what needs to be keyed in. Whatever is entered \n",
    "by user is treated as string only. If number is entered by user, still it will be considered as string. For further processing \n",
    "it needs to be type casted to the appropriate data type."
   ]
  },
  {
   "cell_type": "code",
   "execution_count": 55,
   "id": "044aedba-982d-4987-a1ba-64daa1c77afa",
   "metadata": {},
   "outputs": [
    {
     "name": "stdin",
     "output_type": "stream",
     "text": [
      "What is your age? 3\n"
     ]
    },
    {
     "data": {
      "text/plain": [
       "'3'"
      ]
     },
     "execution_count": 55,
     "metadata": {},
     "output_type": "execute_result"
    }
   ],
   "source": [
    "input('What is your age?')"
   ]
  },
  {
   "cell_type": "raw",
   "id": "cb6f4560-5f5b-40d5-9c2d-708033ee3701",
   "metadata": {},
   "source": [
    "The user input can be saved as part of variable. "
   ]
  },
  {
   "cell_type": "code",
   "execution_count": 56,
   "id": "33f7486a-4109-4460-8ec7-022c5f120db0",
   "metadata": {},
   "outputs": [
    {
     "name": "stdin",
     "output_type": "stream",
     "text": [
      "message to the user fdfhhfd\n"
     ]
    }
   ],
   "source": [
    "variable_name = input('message to the user')"
   ]
  },
  {
   "cell_type": "code",
   "execution_count": 57,
   "id": "62a1c10d-8261-409e-a687-91215b6f1d3f",
   "metadata": {},
   "outputs": [
    {
     "name": "stdin",
     "output_type": "stream",
     "text": [
      "What is your name? p\n"
     ]
    },
    {
     "name": "stdout",
     "output_type": "stream",
     "text": [
      "p\n"
     ]
    }
   ],
   "source": [
    "name = input('What is your name?')\n",
    "print(name)"
   ]
  },
  {
   "cell_type": "code",
   "execution_count": 58,
   "id": "c7cb63c4-000c-4425-a511-f23fdf5f7e62",
   "metadata": {},
   "outputs": [
    {
     "name": "stdin",
     "output_type": "stream",
     "text": [
      "What is your name? p\n"
     ]
    },
    {
     "name": "stdout",
     "output_type": "stream",
     "text": [
      "Welcome p\n"
     ]
    }
   ],
   "source": [
    "name = input('What is your name?')\n",
    "print(\"Welcome\", name)"
   ]
  },
  {
   "cell_type": "markdown",
   "id": "6e00a3c4-656c-4ae7-90b9-c66c0fc33fa0",
   "metadata": {},
   "source": [
    "<b> Convert type of input variable <b>"
   ]
  },
  {
   "cell_type": "code",
   "execution_count": 60,
   "id": "6d7b7730-a067-44a4-9e5a-339e031652e3",
   "metadata": {},
   "outputs": [
    {
     "name": "stdin",
     "output_type": "stream",
     "text": [
      "What is your age? 4\n"
     ]
    },
    {
     "name": "stdout",
     "output_type": "stream",
     "text": [
      "You have entered age as  4\n",
      "Type :  <class 'int'>\n"
     ]
    }
   ],
   "source": [
    "age = input('What is your age?')\n",
    "modified_age = int(age)\n",
    "print(\"You have entered age as \", modified_age)\n",
    "print(\"Type : \" , type(modified_age))"
   ]
  },
  {
   "cell_type": "code",
   "execution_count": 62,
   "id": "d7d3a3c8-b4ac-46b4-9280-3923074153c9",
   "metadata": {},
   "outputs": [
    {
     "name": "stdin",
     "output_type": "stream",
     "text": [
      "What is your salary? 4000\n"
     ]
    },
    {
     "name": "stdout",
     "output_type": "stream",
     "text": [
      "You have entered salary as  4000.0\n",
      "Type :  <class 'float'>\n"
     ]
    }
   ],
   "source": [
    "salary = input('What is your salary?')\n",
    "modified_salary = float(salary)\n",
    "print(\"You have entered salary as \", modified_salary)\n",
    "print(\"Type : \" , type(modified_salary))"
   ]
  },
  {
   "cell_type": "code",
   "execution_count": null,
   "id": "b9403f2a-818e-4de7-8eaa-778b108165fd",
   "metadata": {},
   "outputs": [],
   "source": []
  }
 ],
 "metadata": {
  "kernelspec": {
   "display_name": "Python 3 (ipykernel)",
   "language": "python",
   "name": "python3"
  },
  "language_info": {
   "codemirror_mode": {
    "name": "ipython",
    "version": 3
   },
   "file_extension": ".py",
   "mimetype": "text/x-python",
   "name": "python",
   "nbconvert_exporter": "python",
   "pygments_lexer": "ipython3",
   "version": "3.11.7"
  }
 },
 "nbformat": 4,
 "nbformat_minor": 5
}
