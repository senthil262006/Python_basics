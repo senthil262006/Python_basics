{
 "cells": [
  {
   "cell_type": "code",
   "execution_count": 1,
   "id": "b0f291ea-160b-4738-9b76-30e4b77925bf",
   "metadata": {},
   "outputs": [
    {
     "ename": "SyntaxError",
     "evalue": "invalid syntax (578460201.py, line 1)",
     "output_type": "error",
     "traceback": [
      "\u001b[1;36m  Cell \u001b[1;32mIn[1], line 1\u001b[1;36m\u001b[0m\n\u001b[1;33m    Local varible and Global variable\u001b[0m\n\u001b[1;37m          ^\u001b[0m\n\u001b[1;31mSyntaxError\u001b[0m\u001b[1;31m:\u001b[0m invalid syntax\n"
     ]
    }
   ],
   "source": [
    "Local varible and Global variable"
   ]
  },
  {
   "cell_type": "code",
   "execution_count": 2,
   "id": "e800bafb-dcdf-46a4-8cbe-92d16e760705",
   "metadata": {},
   "outputs": [
    {
     "name": "stdout",
     "output_type": "stream",
     "text": [
      "I love python\n"
     ]
    }
   ],
   "source": [
    "def fun():\n",
    "    s= 'I love python'\n",
    "    print(s)\n",
    "fun()"
   ]
  },
  {
   "cell_type": "code",
   "execution_count": 3,
   "id": "3dd2339c-0794-45af-985b-7c84e5058927",
   "metadata": {},
   "outputs": [
    {
     "name": "stdout",
     "output_type": "stream",
     "text": [
      "I love python\n"
     ]
    },
    {
     "ename": "NameError",
     "evalue": "name 's' is not defined",
     "output_type": "error",
     "traceback": [
      "\u001b[1;31m---------------------------------------------------------------------------\u001b[0m",
      "\u001b[1;31mNameError\u001b[0m                                 Traceback (most recent call last)",
      "Cell \u001b[1;32mIn[3], line 5\u001b[0m\n\u001b[0;32m      3\u001b[0m     \u001b[38;5;28mprint\u001b[39m(s)\n\u001b[0;32m      4\u001b[0m fun()\n\u001b[1;32m----> 5\u001b[0m \u001b[38;5;28mprint\u001b[39m(s)\n",
      "\u001b[1;31mNameError\u001b[0m: name 's' is not defined"
     ]
    }
   ],
   "source": [
    "def fun():\n",
    "    s= 'I love python'\n",
    "    print(s)\n",
    "fun()\n",
    "print(s)"
   ]
  },
  {
   "cell_type": "code",
   "execution_count": null,
   "id": "339f8e0e-497d-4fb0-9297-a3948ba4ec8d",
   "metadata": {},
   "outputs": [],
   "source": [
    "Global variable"
   ]
  },
  {
   "cell_type": "code",
   "execution_count": 4,
   "id": "9239417d-91e3-41aa-81e4-1629f757b283",
   "metadata": {},
   "outputs": [
    {
     "name": "stdout",
     "output_type": "stream",
     "text": [
      "I love python\n",
      "I love python\n"
     ]
    }
   ],
   "source": [
    " s= 'I love python'\n",
    "def fun():\n",
    "    print(s)\n",
    "fun()\n",
    "print(s)"
   ]
  },
  {
   "cell_type": "code",
   "execution_count": 5,
   "id": "0c5ee76f-669e-448e-a7ba-a323ea84b4d0",
   "metadata": {},
   "outputs": [
    {
     "name": "stdout",
     "output_type": "stream",
     "text": [
      "Me too\n",
      "I love python\n"
     ]
    }
   ],
   "source": [
    "def fun():\n",
    "    s = \"Me too\"\n",
    "    print(s)\n",
    "fun()\n",
    "s='I love python'\n",
    "print(s)"
   ]
  },
  {
   "cell_type": "code",
   "execution_count": 6,
   "id": "c43866dc-6558-4862-b205-a25e646deedf",
   "metadata": {},
   "outputs": [
    {
     "ename": "UnboundLocalError",
     "evalue": "cannot access local variable 's' where it is not associated with a value",
     "output_type": "error",
     "traceback": [
      "\u001b[1;31m---------------------------------------------------------------------------\u001b[0m",
      "\u001b[1;31mUnboundLocalError\u001b[0m                         Traceback (most recent call last)",
      "Cell \u001b[1;32mIn[6], line 4\u001b[0m\n\u001b[0;32m      2\u001b[0m     s \u001b[38;5;241m+\u001b[39m\u001b[38;5;241m=\u001b[39m \u001b[38;5;124m\"\u001b[39m\u001b[38;5;124mMe too\u001b[39m\u001b[38;5;124m\"\u001b[39m\n\u001b[0;32m      3\u001b[0m     \u001b[38;5;28mprint\u001b[39m(\u001b[38;5;124m'\u001b[39m\u001b[38;5;124minside\u001b[39m\u001b[38;5;124m'\u001b[39m,s)\n\u001b[1;32m----> 4\u001b[0m fun()\n\u001b[0;32m      5\u001b[0m s\u001b[38;5;241m=\u001b[39m\u001b[38;5;124m'\u001b[39m\u001b[38;5;124mI love python\u001b[39m\u001b[38;5;124m'\u001b[39m\n\u001b[0;32m      6\u001b[0m \u001b[38;5;28mprint\u001b[39m(\u001b[38;5;124m'\u001b[39m\u001b[38;5;124moutside\u001b[39m\u001b[38;5;124m'\u001b[39m,s)\n",
      "Cell \u001b[1;32mIn[6], line 2\u001b[0m, in \u001b[0;36mfun\u001b[1;34m()\u001b[0m\n\u001b[0;32m      1\u001b[0m \u001b[38;5;28;01mdef\u001b[39;00m \u001b[38;5;21mfun\u001b[39m():\n\u001b[1;32m----> 2\u001b[0m     s \u001b[38;5;241m+\u001b[39m\u001b[38;5;241m=\u001b[39m \u001b[38;5;124m\"\u001b[39m\u001b[38;5;124mMe too\u001b[39m\u001b[38;5;124m\"\u001b[39m\n\u001b[0;32m      3\u001b[0m     \u001b[38;5;28mprint\u001b[39m(\u001b[38;5;124m'\u001b[39m\u001b[38;5;124minside\u001b[39m\u001b[38;5;124m'\u001b[39m,s)\n",
      "\u001b[1;31mUnboundLocalError\u001b[0m: cannot access local variable 's' where it is not associated with a value"
     ]
    }
   ],
   "source": [
    "def fun():\n",
    "    s += \"Me too\"\n",
    "    print('inside',s)\n",
    "fun()\n",
    "s='I love python'\n",
    "print('outside',s)"
   ]
  },
  {
   "cell_type": "code",
   "execution_count": 7,
   "id": "227385c3-03d9-4045-b4c2-623b0f19f70c",
   "metadata": {},
   "outputs": [
    {
     "name": "stdout",
     "output_type": "stream",
     "text": [
      "I love pythonMe too\n",
      "outside I love python\n"
     ]
    }
   ],
   "source": [
    "def fun():\n",
    "    global s\n",
    "    s += 'Me too'\n",
    "    print(s)\n",
    "fun()\n",
    "s='I love python'\n",
    "print('outside',s)\n"
   ]
  },
  {
   "cell_type": "code",
   "execution_count": 8,
   "id": "a6cca1f1-03c4-46a0-b917-28a6d6359d07",
   "metadata": {},
   "outputs": [],
   "source": [
    "a =1\n",
    "\n",
    "def f():\n",
    "    print(\"inside the f()\",a)"
   ]
  },
  {
   "cell_type": "code",
   "execution_count": 9,
   "id": "2a40166c-b424-4d3f-b8bf-8fb527b52454",
   "metadata": {},
   "outputs": [
    {
     "name": "stdout",
     "output_type": "stream",
     "text": [
      "inside the f() 1\n"
     ]
    }
   ],
   "source": [
    "f()"
   ]
  },
  {
   "cell_type": "code",
   "execution_count": 13,
   "id": "9a12deff-b87e-4bdd-92bd-afacc4528008",
   "metadata": {},
   "outputs": [],
   "source": [
    "def g():\n",
    "    a=2\n",
    "    print(\"inside the g()\",a)"
   ]
  },
  {
   "cell_type": "code",
   "execution_count": 14,
   "id": "df55c31d-6ef5-4e8e-b25e-f1c731543278",
   "metadata": {},
   "outputs": [
    {
     "name": "stdout",
     "output_type": "stream",
     "text": [
      "inside the g() 2\n"
     ]
    }
   ],
   "source": [
    "g()"
   ]
  },
  {
   "cell_type": "code",
   "execution_count": 15,
   "id": "7a6be9ec-a62e-4e9b-bf9c-a571d72a8864",
   "metadata": {},
   "outputs": [],
   "source": [
    "def h():\n",
    "    global a\n",
    "    a=3\n",
    "    print(\"inside the h()\",a)"
   ]
  },
  {
   "cell_type": "code",
   "execution_count": 16,
   "id": "2a8241f5-c970-4a3a-a848-d1d84aecd9f4",
   "metadata": {},
   "outputs": [
    {
     "name": "stdout",
     "output_type": "stream",
     "text": [
      "inside the h() 3\n"
     ]
    }
   ],
   "source": [
    "h()"
   ]
  },
  {
   "cell_type": "code",
   "execution_count": 17,
   "id": "17ad7f79-4e44-4163-bf2f-1bf390572088",
   "metadata": {},
   "outputs": [],
   "source": [
    "a =1\n",
    "\n",
    "def f():\n",
    "    print(\"inside the f()\",a)\n",
    "def g():\n",
    "    a=2\n",
    "    print(\"inside the g()\",a)\n",
    "def h():\n",
    "    global a\n",
    "    a=3\n",
    "    print(\"inside the h()\",a)"
   ]
  },
  {
   "cell_type": "code",
   "execution_count": 18,
   "id": "9a7e949e-67ae-4d74-b311-998f2a863eb3",
   "metadata": {},
   "outputs": [
    {
     "name": "stdout",
     "output_type": "stream",
     "text": [
      "global : 1\n",
      "inside the f() 1\n",
      "global : 1\n",
      "inside the g() 2\n",
      "global : 1\n",
      "inside the h() 3\n"
     ]
    }
   ],
   "source": [
    "print(\"global :\",a)\n",
    "f()\n",
    "print(\"global :\",a)\n",
    "g()\n",
    "print(\"global :\",a)\n",
    "h()"
   ]
  },
  {
   "cell_type": "code",
   "execution_count": 30,
   "id": "7d4e610b-3d7b-4805-829e-a985c69e752c",
   "metadata": {},
   "outputs": [
    {
     "data": {
      "text/plain": [
       "3"
      ]
     },
     "execution_count": 30,
     "metadata": {},
     "output_type": "execute_result"
    }
   ],
   "source": [
    "a=1\n",
    "def add1():\n",
    "    b=2\n",
    "    return a+b\n",
    "\n",
    "add1()\n"
   ]
  },
  {
   "cell_type": "code",
   "execution_count": 25,
   "id": "f07c43f0-4579-4043-9a5d-e942be4a83b4",
   "metadata": {},
   "outputs": [
    {
     "name": "stdout",
     "output_type": "stream",
     "text": [
      "1 2\n"
     ]
    }
   ],
   "source": []
  },
  {
   "cell_type": "code",
   "execution_count": 21,
   "id": "30343b2b-b518-4db1-9f11-be437109640e",
   "metadata": {},
   "outputs": [],
   "source": [
    "a=1\n",
    "b=2\n",
    "def add():\n",
    "    return a+b\n"
   ]
  },
  {
   "cell_type": "code",
   "execution_count": 22,
   "id": "e4724499-7f35-4a92-8810-24d8bf7662f4",
   "metadata": {},
   "outputs": [
    {
     "data": {
      "text/plain": [
       "3"
      ]
     },
     "execution_count": 22,
     "metadata": {},
     "output_type": "execute_result"
    }
   ],
   "source": [
    "add()"
   ]
  },
  {
   "cell_type": "code",
   "execution_count": 23,
   "id": "cf34f861-45c5-43d2-808c-1bd4812d4d47",
   "metadata": {},
   "outputs": [],
   "source": [
    "def add():\n",
    "    a=1\n",
    "    b=2\n",
    "    return a+b"
   ]
  },
  {
   "cell_type": "code",
   "execution_count": 24,
   "id": "7a211f9a-c81c-46bb-82f8-f2d06c7f246a",
   "metadata": {},
   "outputs": [
    {
     "data": {
      "text/plain": [
       "3"
      ]
     },
     "execution_count": 24,
     "metadata": {},
     "output_type": "execute_result"
    }
   ],
   "source": [
    "add()"
   ]
  },
  {
   "cell_type": "markdown",
   "id": "b74bfffe-0a4b-4243-8627-72018d36bc88",
   "metadata": {},
   "source": [
    "<img src=\"diff_g%26L.png\">"
   ]
  },
  {
   "cell_type": "code",
   "execution_count": 1,
   "id": "19886a62-5aec-445b-8ffb-d632534431f9",
   "metadata": {},
   "outputs": [
    {
     "name": "stdout",
     "output_type": "stream",
     "text": [
      "3\n"
     ]
    },
    {
     "ename": "NameError",
     "evalue": "name 'b' is not defined",
     "output_type": "error",
     "traceback": [
      "\u001b[1;31m---------------------------------------------------------------------------\u001b[0m",
      "\u001b[1;31mNameError\u001b[0m                                 Traceback (most recent call last)",
      "Cell \u001b[1;32mIn[1], line 6\u001b[0m\n\u001b[0;32m      4\u001b[0m     \u001b[38;5;28mprint\u001b[39m(a\u001b[38;5;241m+\u001b[39mb)\n\u001b[0;32m      5\u001b[0m f()\n\u001b[1;32m----> 6\u001b[0m \u001b[38;5;28mprint\u001b[39m(b)\n",
      "\u001b[1;31mNameError\u001b[0m: name 'b' is not defined"
     ]
    }
   ],
   "source": [
    "a=1\n",
    "def f():\n",
    "    b=2\n",
    "    print(a+b)\n",
    "f()\n",
    "print(b)"
   ]
  },
  {
   "cell_type": "code",
   "execution_count": 2,
   "id": "14a31225-896d-4f97-b87a-4311525a77ab",
   "metadata": {},
   "outputs": [
    {
     "name": "stdout",
     "output_type": "stream",
     "text": [
      "3\n"
     ]
    },
    {
     "ename": "NameError",
     "evalue": "name 'b' is not defined",
     "output_type": "error",
     "traceback": [
      "\u001b[1;31m---------------------------------------------------------------------------\u001b[0m",
      "\u001b[1;31mNameError\u001b[0m                                 Traceback (most recent call last)",
      "Cell \u001b[1;32mIn[2], line 2\u001b[0m\n\u001b[0;32m      1\u001b[0m f()\n\u001b[1;32m----> 2\u001b[0m \u001b[38;5;28mprint\u001b[39m(b)\n",
      "\u001b[1;31mNameError\u001b[0m: name 'b' is not defined"
     ]
    }
   ],
   "source": [
    "f()\n",
    "print(b)"
   ]
  },
  {
   "cell_type": "code",
   "execution_count": 35,
   "id": "e810ff58-7b00-447b-a5b1-04951afe806f",
   "metadata": {},
   "outputs": [],
   "source": [
    "##Deep copy and copy shallow "
   ]
  },
  {
   "cell_type": "code",
   "execution_count": 37,
   "id": "355ae3e9-6b0c-493c-9d59-dcb98c988a90",
   "metadata": {},
   "outputs": [],
   "source": [
    "list_1 =[1,2,3,4]\n",
    "list_2 = list_1"
   ]
  },
  {
   "cell_type": "code",
   "execution_count": 38,
   "id": "1f3ac890-a486-46e1-95bb-1cd8f71de369",
   "metadata": {},
   "outputs": [
    {
     "name": "stdout",
     "output_type": "stream",
     "text": [
      "[1, 2, 3, 4]\n",
      "2414832141632\n"
     ]
    }
   ],
   "source": [
    "print(list_1)\n",
    "print(id(list_1))"
   ]
  },
  {
   "cell_type": "code",
   "execution_count": 39,
   "id": "f5888f0e-7ad8-4257-aaf8-2e71995416b5",
   "metadata": {},
   "outputs": [
    {
     "name": "stdout",
     "output_type": "stream",
     "text": [
      "[1, 2, 3, 4]\n",
      "2414832141632\n"
     ]
    }
   ],
   "source": [
    "print(list_2)\n",
    "print(id(list_2))"
   ]
  },
  {
   "cell_type": "code",
   "execution_count": 40,
   "id": "d0eff7ac-292b-4707-8034-56ade1009bc0",
   "metadata": {},
   "outputs": [],
   "source": [
    "list_1[2] = 9"
   ]
  },
  {
   "cell_type": "code",
   "execution_count": 41,
   "id": "117534ff-7d7d-4580-a8a6-e8673930eec5",
   "metadata": {},
   "outputs": [
    {
     "data": {
      "text/plain": [
       "[1, 2, 9, 4]"
      ]
     },
     "execution_count": 41,
     "metadata": {},
     "output_type": "execute_result"
    }
   ],
   "source": [
    "list_1"
   ]
  },
  {
   "cell_type": "code",
   "execution_count": 42,
   "id": "e8e23fb9-8f0c-44e2-9bb7-55dbb1081e1b",
   "metadata": {},
   "outputs": [
    {
     "data": {
      "text/plain": [
       "[1, 2, 9, 4]"
      ]
     },
     "execution_count": 42,
     "metadata": {},
     "output_type": "execute_result"
    }
   ],
   "source": [
    "list_2"
   ]
  },
  {
   "cell_type": "code",
   "execution_count": 44,
   "id": "956171da-03e4-43dd-9ad9-214ae3752fac",
   "metadata": {},
   "outputs": [],
   "source": [
    "#shallow copy\n",
    "import copy\n",
    "x= [1,2,3,4,5]\n",
    "y=copy.copy(x)"
   ]
  },
  {
   "cell_type": "code",
   "execution_count": 47,
   "id": "eec03832-06df-4093-9e7a-329a965dc186",
   "metadata": {},
   "outputs": [
    {
     "data": {
      "text/plain": [
       "2414832355776"
      ]
     },
     "execution_count": 47,
     "metadata": {},
     "output_type": "execute_result"
    }
   ],
   "source": [
    "id(y)"
   ]
  },
  {
   "cell_type": "code",
   "execution_count": 48,
   "id": "81efe290-45c2-44c0-9ea7-94576d4af0ad",
   "metadata": {},
   "outputs": [
    {
     "data": {
      "text/plain": [
       "2414832364736"
      ]
     },
     "execution_count": 48,
     "metadata": {},
     "output_type": "execute_result"
    }
   ],
   "source": [
    "id(x)"
   ]
  },
  {
   "cell_type": "code",
   "execution_count": 49,
   "id": "bd707949-26ce-4690-87e8-afbc2ed98fb2",
   "metadata": {},
   "outputs": [],
   "source": [
    "x[2]=9"
   ]
  },
  {
   "cell_type": "code",
   "execution_count": 50,
   "id": "b666a054-5e33-4193-a8d8-ac782d99ec04",
   "metadata": {},
   "outputs": [
    {
     "data": {
      "text/plain": [
       "[1, 2, 9, 4, 5]"
      ]
     },
     "execution_count": 50,
     "metadata": {},
     "output_type": "execute_result"
    }
   ],
   "source": [
    "x"
   ]
  },
  {
   "cell_type": "code",
   "execution_count": 51,
   "id": "12da85d3-ad5a-4807-88f5-363afc5173d3",
   "metadata": {},
   "outputs": [
    {
     "data": {
      "text/plain": [
       "[1, 2, 3, 4, 5]"
      ]
     },
     "execution_count": 51,
     "metadata": {},
     "output_type": "execute_result"
    }
   ],
   "source": [
    "y"
   ]
  },
  {
   "cell_type": "code",
   "execution_count": 59,
   "id": "de491870-75c0-42a2-bd23-1a0baeb1fca5",
   "metadata": {},
   "outputs": [],
   "source": [
    "old_list = [[1, 2, 3], [4, 5, 6], [7, 8, 9]]\n",
    "new_list = copy.copy(old_list)"
   ]
  },
  {
   "cell_type": "code",
   "execution_count": 60,
   "id": "d593604f-4014-4894-bc2c-da56a1632aa0",
   "metadata": {},
   "outputs": [
    {
     "data": {
      "text/plain": [
       "[[1, 2, 3], [4, 5, 6], [7, 8, 9]]"
      ]
     },
     "execution_count": 60,
     "metadata": {},
     "output_type": "execute_result"
    }
   ],
   "source": [
    "old_list"
   ]
  },
  {
   "cell_type": "code",
   "execution_count": 61,
   "id": "7dbc8912-7a76-4a81-8d7b-ee221c13dd62",
   "metadata": {},
   "outputs": [
    {
     "data": {
      "text/plain": [
       "[[1, 2, 3], [4, 5, 6], [7, 8, 9]]"
      ]
     },
     "execution_count": 61,
     "metadata": {},
     "output_type": "execute_result"
    }
   ],
   "source": [
    "new_list"
   ]
  },
  {
   "cell_type": "code",
   "execution_count": 55,
   "id": "ce42c976-f8ef-4058-a156-ccea296cc753",
   "metadata": {},
   "outputs": [],
   "source": [
    "old_list.append([2,3,5])"
   ]
  },
  {
   "cell_type": "code",
   "execution_count": 56,
   "id": "bdbe3d4b-ca7e-4e11-9127-c1298728cdf3",
   "metadata": {},
   "outputs": [
    {
     "data": {
      "text/plain": [
       "[[1, 2, 3], [4, 5, 6], [7, 8, 9], [2, 3, 5]]"
      ]
     },
     "execution_count": 56,
     "metadata": {},
     "output_type": "execute_result"
    }
   ],
   "source": [
    "old_list"
   ]
  },
  {
   "cell_type": "code",
   "execution_count": 57,
   "id": "a6071278-f895-41f9-bc22-5440aad43e74",
   "metadata": {},
   "outputs": [
    {
     "data": {
      "text/plain": [
       "[[1, 2, 3], [4, 5, 6], [7, 8, 9]]"
      ]
     },
     "execution_count": 57,
     "metadata": {},
     "output_type": "execute_result"
    }
   ],
   "source": [
    "new_list"
   ]
  },
  {
   "cell_type": "code",
   "execution_count": 62,
   "id": "8fb68d59-1d28-4b94-8f01-916bce553f32",
   "metadata": {},
   "outputs": [],
   "source": [
    "old_list[1][1]='AA'"
   ]
  },
  {
   "cell_type": "code",
   "execution_count": 63,
   "id": "728a2548-8a84-40be-a234-4b487d0cfcbe",
   "metadata": {},
   "outputs": [
    {
     "data": {
      "text/plain": [
       "[[1, 2, 3], [4, 'AA', 6], [7, 8, 9]]"
      ]
     },
     "execution_count": 63,
     "metadata": {},
     "output_type": "execute_result"
    }
   ],
   "source": [
    "old_list"
   ]
  },
  {
   "cell_type": "code",
   "execution_count": 64,
   "id": "f3a7e6e5-4849-4fba-a395-dcae9bfd5c9f",
   "metadata": {},
   "outputs": [
    {
     "data": {
      "text/plain": [
       "[[1, 2, 3], [4, 'AA', 6], [7, 8, 9]]"
      ]
     },
     "execution_count": 64,
     "metadata": {},
     "output_type": "execute_result"
    }
   ],
   "source": [
    "new_list"
   ]
  },
  {
   "cell_type": "code",
   "execution_count": 65,
   "id": "b47f75f8-83a9-405a-b21d-f284820930f4",
   "metadata": {},
   "outputs": [],
   "source": [
    "#deep copy\n",
    "old_list = [[1, 2, 3], [4, 5, 6], [7, 8, 9]]\n",
    "new_list = copy.deepcopy(old_list)"
   ]
  },
  {
   "cell_type": "code",
   "execution_count": 66,
   "id": "15527e48-3935-46ba-ba30-c95c85ac2228",
   "metadata": {},
   "outputs": [],
   "source": [
    "old_list.append([2,3,5])"
   ]
  },
  {
   "cell_type": "code",
   "execution_count": 67,
   "id": "44b7ff88-f6a7-4c54-8b49-b7cd6a71ef8e",
   "metadata": {},
   "outputs": [
    {
     "data": {
      "text/plain": [
       "[[1, 2, 3], [4, 5, 6], [7, 8, 9], [2, 3, 5]]"
      ]
     },
     "execution_count": 67,
     "metadata": {},
     "output_type": "execute_result"
    }
   ],
   "source": [
    "old_list"
   ]
  },
  {
   "cell_type": "code",
   "execution_count": 68,
   "id": "2b92aeaf-de04-4a53-90bf-342f0706ee8e",
   "metadata": {},
   "outputs": [
    {
     "data": {
      "text/plain": [
       "[[1, 2, 3], [4, 5, 6], [7, 8, 9]]"
      ]
     },
     "execution_count": 68,
     "metadata": {},
     "output_type": "execute_result"
    }
   ],
   "source": [
    "new_list"
   ]
  },
  {
   "cell_type": "code",
   "execution_count": 69,
   "id": "3e741e7b-e48c-4f6b-ad89-8cc772f8665a",
   "metadata": {},
   "outputs": [],
   "source": [
    "old_list[1][1]='AA'"
   ]
  },
  {
   "cell_type": "code",
   "execution_count": 70,
   "id": "cdb3fe06-3c56-40ff-950b-168f2b174191",
   "metadata": {},
   "outputs": [
    {
     "data": {
      "text/plain": [
       "[[1, 2, 3], [4, 'AA', 6], [7, 8, 9], [2, 3, 5]]"
      ]
     },
     "execution_count": 70,
     "metadata": {},
     "output_type": "execute_result"
    }
   ],
   "source": [
    "old_list"
   ]
  },
  {
   "cell_type": "code",
   "execution_count": 71,
   "id": "974d0c21-47ba-46f4-9a58-64886f53e07b",
   "metadata": {},
   "outputs": [
    {
     "data": {
      "text/plain": [
       "[[1, 2, 3], [4, 5, 6], [7, 8, 9]]"
      ]
     },
     "execution_count": 71,
     "metadata": {},
     "output_type": "execute_result"
    }
   ],
   "source": [
    "new_list"
   ]
  },
  {
   "cell_type": "markdown",
   "id": "9dd13c01-98d0-4702-ae50-bffb91cc3ee5",
   "metadata": {},
   "source": [
    "<img src=\"copy1.png\">"
   ]
  },
  {
   "cell_type": "code",
   "execution_count": 96,
   "id": "de6b476a-bfc4-4897-94ef-adbf706fbee2",
   "metadata": {},
   "outputs": [],
   "source": [
    "#Deep copy\n",
    "\n",
    "list1 = [[1,2,3],[2,3,4],[5,6,7]]\n",
    "\n",
    "list2 = copy.deepcopy(list1)\n",
    "\n"
   ]
  },
  {
   "cell_type": "code",
   "execution_count": 97,
   "id": "41fa18eb-f959-4be1-8251-b56890f781d5",
   "metadata": {},
   "outputs": [],
   "source": [
    "list1.append([9,10,11])"
   ]
  },
  {
   "cell_type": "code",
   "execution_count": 98,
   "id": "277cdd9e-1bd0-40c2-9f31-3fa92657e203",
   "metadata": {},
   "outputs": [
    {
     "data": {
      "text/plain": [
       "[[1, 2, 3], [2, 3, 4], [5, 6, 7], [9, 10, 11]]"
      ]
     },
     "execution_count": 98,
     "metadata": {},
     "output_type": "execute_result"
    }
   ],
   "source": [
    "list1"
   ]
  },
  {
   "cell_type": "code",
   "execution_count": 99,
   "id": "5d4c2a58-ec60-44e1-a448-9921bf43c861",
   "metadata": {},
   "outputs": [
    {
     "data": {
      "text/plain": [
       "2414832576576"
      ]
     },
     "execution_count": 99,
     "metadata": {},
     "output_type": "execute_result"
    }
   ],
   "source": [
    "id(list1)"
   ]
  },
  {
   "cell_type": "code",
   "execution_count": 100,
   "id": "420a3aaf-37c8-40c5-b772-aa42a2acac9b",
   "metadata": {},
   "outputs": [],
   "source": [
    "list1[1][2]=89"
   ]
  },
  {
   "cell_type": "code",
   "execution_count": 93,
   "id": "bf081ef2-1cbf-409d-ac49-b6cf3c4e8020",
   "metadata": {},
   "outputs": [
    {
     "data": {
      "text/plain": [
       "[[1, 2, 3], [2, 3, 4], [5, 6, 7], [9, 10, 11]]"
      ]
     },
     "execution_count": 93,
     "metadata": {},
     "output_type": "execute_result"
    }
   ],
   "source": [
    "list1"
   ]
  },
  {
   "cell_type": "code",
   "execution_count": 95,
   "id": "581a1b24-e95c-449b-ae41-760698db5207",
   "metadata": {},
   "outputs": [
    {
     "data": {
      "text/plain": [
       "[[1, 2, 3], [2, 3, 4], [5, 6, 7]]"
      ]
     },
     "execution_count": 95,
     "metadata": {},
     "output_type": "execute_result"
    }
   ],
   "source": [
    "list2"
   ]
  },
  {
   "cell_type": "code",
   "execution_count": null,
   "id": "7c7d0602-68b2-464a-b68e-aca31f230d05",
   "metadata": {},
   "outputs": [],
   "source": []
  },
  {
   "cell_type": "code",
   "execution_count": 84,
   "id": "6ecd3f23-9d97-4710-974c-03809dfeb8ef",
   "metadata": {},
   "outputs": [],
   "source": [
    "list3 = [[1,2,3],[2,3,4],[5,6,7]]\n",
    "\n",
    "list4 = copy.copy(list1)"
   ]
  },
  {
   "cell_type": "code",
   "execution_count": 85,
   "id": "d6bccf3b-ebcc-460a-8da8-7af38290d16b",
   "metadata": {},
   "outputs": [],
   "source": [
    "list3.append([9,10,11])"
   ]
  },
  {
   "cell_type": "code",
   "execution_count": 86,
   "id": "c3a330c5-c589-4121-a719-f6927fa9b92a",
   "metadata": {},
   "outputs": [
    {
     "data": {
      "text/plain": [
       "[[1, 2, 3], [2, 3, 4], [5, 6, 7], [9, 10, 11]]"
      ]
     },
     "execution_count": 86,
     "metadata": {},
     "output_type": "execute_result"
    }
   ],
   "source": [
    "list3"
   ]
  },
  {
   "cell_type": "code",
   "execution_count": 87,
   "id": "6971cc43-16e6-46d7-914b-d1c29073d15d",
   "metadata": {},
   "outputs": [
    {
     "data": {
      "text/plain": [
       "[[1, 2, 3], [2, 3, 4], [5, 6, 7], [9, 10, 11]]"
      ]
     },
     "execution_count": 87,
     "metadata": {},
     "output_type": "execute_result"
    }
   ],
   "source": [
    "list4"
   ]
  },
  {
   "cell_type": "code",
   "execution_count": 101,
   "id": "e9d6c243-c3d7-4c13-9c33-3165fe6f2cac",
   "metadata": {},
   "outputs": [],
   "source": [
    "#Numpy\n",
    "\n",
    "l = [1,1.8,'s']"
   ]
  },
  {
   "cell_type": "code",
   "execution_count": 102,
   "id": "769e25eb-cebe-4927-b36f-9186c075c52d",
   "metadata": {},
   "outputs": [
    {
     "name": "stdout",
     "output_type": "stream",
     "text": [
      "Requirement already satisfied: numpy in c:\\users\\prach\\anaconda3\\lib\\site-packages (1.26.4)\n"
     ]
    }
   ],
   "source": [
    "!pip install numpy"
   ]
  },
  {
   "cell_type": "code",
   "execution_count": null,
   "id": "5d53bc96-7170-4766-b291-0a94cd2e73f4",
   "metadata": {},
   "outputs": [],
   "source": [
    "conda install -c anaconda numpy"
   ]
  },
  {
   "cell_type": "code",
   "execution_count": 103,
   "id": "087cef62-044a-4074-aa0f-43c3f0dcca39",
   "metadata": {},
   "outputs": [],
   "source": [
    "import numpy\n",
    "\n",
    "arr = numpy.array([1,2,3,4,5])\n",
    "\n"
   ]
  },
  {
   "cell_type": "code",
   "execution_count": 104,
   "id": "8f7e9eeb-11b5-422f-93f6-a1961ce19213",
   "metadata": {},
   "outputs": [
    {
     "name": "stdout",
     "output_type": "stream",
     "text": [
      "[1 2 3 4 5]\n"
     ]
    }
   ],
   "source": [
    "print(arr)"
   ]
  },
  {
   "cell_type": "code",
   "execution_count": 105,
   "id": "d90d8a5a-ec62-4a1a-8356-7f6d20b6e48b",
   "metadata": {},
   "outputs": [],
   "source": [
    "import numpy as np\n",
    "\n",
    "\n",
    "arr = np.array([4,5,6,7,8])"
   ]
  },
  {
   "cell_type": "code",
   "execution_count": 106,
   "id": "89dc9acd-bf4a-45d8-885d-591be5adba46",
   "metadata": {},
   "outputs": [
    {
     "data": {
      "text/plain": [
       "array([4, 5, 6, 7, 8])"
      ]
     },
     "execution_count": 106,
     "metadata": {},
     "output_type": "execute_result"
    }
   ],
   "source": [
    "arr"
   ]
  },
  {
   "cell_type": "code",
   "execution_count": 107,
   "id": "c65366ef-eaf4-4099-aca1-9cb61f45ac7c",
   "metadata": {},
   "outputs": [
    {
     "data": {
      "text/plain": [
       "'1.26.4'"
      ]
     },
     "execution_count": 107,
     "metadata": {},
     "output_type": "execute_result"
    }
   ],
   "source": [
    "np.__version__"
   ]
  },
  {
   "cell_type": "code",
   "execution_count": 108,
   "id": "056d4206-e8bb-491d-86b3-bcc16e45f450",
   "metadata": {},
   "outputs": [
    {
     "data": {
      "text/plain": [
       "numpy.ndarray"
      ]
     },
     "execution_count": 108,
     "metadata": {},
     "output_type": "execute_result"
    }
   ],
   "source": [
    "type(arr)"
   ]
  },
  {
   "cell_type": "code",
   "execution_count": 109,
   "id": "27caeec6-3165-402c-96eb-0746aa153134",
   "metadata": {},
   "outputs": [],
   "source": [
    "arr = np.array((4,5,6,7,8))"
   ]
  },
  {
   "cell_type": "code",
   "execution_count": 110,
   "id": "e3c0d378-10fe-4bd6-acb4-71117ec1bcd6",
   "metadata": {},
   "outputs": [
    {
     "data": {
      "text/plain": [
       "array([4, 5, 6, 7, 8])"
      ]
     },
     "execution_count": 110,
     "metadata": {},
     "output_type": "execute_result"
    }
   ],
   "source": [
    "arr"
   ]
  },
  {
   "cell_type": "code",
   "execution_count": 112,
   "id": "83b6acba-d78a-40d3-8c12-968429d900e8",
   "metadata": {},
   "outputs": [
    {
     "data": {
      "text/plain": [
       "numpy.ndarray"
      ]
     },
     "execution_count": 112,
     "metadata": {},
     "output_type": "execute_result"
    }
   ],
   "source": [
    "type(arr)"
   ]
  },
  {
   "cell_type": "code",
   "execution_count": 113,
   "id": "e07bfdbc-5f6e-414c-bace-818a480f75dc",
   "metadata": {},
   "outputs": [],
   "source": [
    "#0-D array\n",
    "\n",
    "arr1 = np.array(42)"
   ]
  },
  {
   "cell_type": "code",
   "execution_count": 114,
   "id": "55235cc5-de7a-404c-9947-1ae0b2151ab1",
   "metadata": {},
   "outputs": [
    {
     "data": {
      "text/plain": [
       "array(42)"
      ]
     },
     "execution_count": 114,
     "metadata": {},
     "output_type": "execute_result"
    }
   ],
   "source": [
    "arr1"
   ]
  },
  {
   "cell_type": "code",
   "execution_count": 116,
   "id": "0afedc7f-5a84-408f-8303-d9f571bb1adb",
   "metadata": {},
   "outputs": [
    {
     "data": {
      "text/plain": [
       "numpy.ndarray"
      ]
     },
     "execution_count": 116,
     "metadata": {},
     "output_type": "execute_result"
    }
   ],
   "source": [
    "type(arr1)"
   ]
  },
  {
   "cell_type": "code",
   "execution_count": 117,
   "id": "2d9189da-e1da-424d-a224-616ecd699a20",
   "metadata": {},
   "outputs": [
    {
     "data": {
      "text/plain": [
       "0"
      ]
     },
     "execution_count": 117,
     "metadata": {},
     "output_type": "execute_result"
    }
   ],
   "source": [
    "arr1.ndim"
   ]
  },
  {
   "cell_type": "code",
   "execution_count": 118,
   "id": "4b31f16b-5f30-430a-8b6e-50bb99363645",
   "metadata": {},
   "outputs": [],
   "source": [
    "#1 - D array\n",
    "\n",
    "arr2 = np.array([1,2,3,4,5])"
   ]
  },
  {
   "cell_type": "code",
   "execution_count": 119,
   "id": "bb241756-e6c4-4927-840c-0787aa497dfb",
   "metadata": {},
   "outputs": [
    {
     "data": {
      "text/plain": [
       "array([1, 2, 3, 4, 5])"
      ]
     },
     "execution_count": 119,
     "metadata": {},
     "output_type": "execute_result"
    }
   ],
   "source": [
    "arr2"
   ]
  },
  {
   "cell_type": "code",
   "execution_count": 120,
   "id": "7c754e21-6956-4198-addf-d793eda00f1a",
   "metadata": {},
   "outputs": [
    {
     "data": {
      "text/plain": [
       "numpy.ndarray"
      ]
     },
     "execution_count": 120,
     "metadata": {},
     "output_type": "execute_result"
    }
   ],
   "source": [
    "type(arr2)"
   ]
  },
  {
   "cell_type": "code",
   "execution_count": 121,
   "id": "f77faecd-5062-48b9-9f8f-5fe320959a3d",
   "metadata": {},
   "outputs": [
    {
     "data": {
      "text/plain": [
       "1"
      ]
     },
     "execution_count": 121,
     "metadata": {},
     "output_type": "execute_result"
    }
   ],
   "source": [
    "arr2.ndim"
   ]
  },
  {
   "cell_type": "code",
   "execution_count": 122,
   "id": "6c886014-baad-49ac-a600-bf6238bbf62f",
   "metadata": {},
   "outputs": [],
   "source": [
    "#2 D array\n",
    "\n",
    "arr3 = np.array([[1,2,3],[4,5,6]])"
   ]
  },
  {
   "cell_type": "code",
   "execution_count": 125,
   "id": "9d2b037b-6551-498d-82cd-df664a17b252",
   "metadata": {},
   "outputs": [
    {
     "data": {
      "text/plain": [
       "array([[1, 2, 3],\n",
       "       [4, 5, 6]])"
      ]
     },
     "execution_count": 125,
     "metadata": {},
     "output_type": "execute_result"
    }
   ],
   "source": [
    "arr3"
   ]
  },
  {
   "cell_type": "code",
   "execution_count": 123,
   "id": "06782185-794e-4a41-92b3-c55ec0575e03",
   "metadata": {},
   "outputs": [
    {
     "data": {
      "text/plain": [
       "numpy.ndarray"
      ]
     },
     "execution_count": 123,
     "metadata": {},
     "output_type": "execute_result"
    }
   ],
   "source": [
    "type(arr3)"
   ]
  },
  {
   "cell_type": "code",
   "execution_count": 124,
   "id": "727d8e1a-8bd7-487c-bbe6-31168c255668",
   "metadata": {},
   "outputs": [
    {
     "data": {
      "text/plain": [
       "2"
      ]
     },
     "execution_count": 124,
     "metadata": {},
     "output_type": "execute_result"
    }
   ],
   "source": [
    "arr3.ndim"
   ]
  },
  {
   "cell_type": "code",
   "execution_count": 127,
   "id": "6b5d474b-f8f9-4150-9a59-126f6d4f1f7d",
   "metadata": {},
   "outputs": [],
   "source": [
    "arr3 = np.array([[1,2,3],[4,5,6],[1,2,3]])"
   ]
  },
  {
   "cell_type": "code",
   "execution_count": 128,
   "id": "39959030-b7a3-4b4e-8000-d13b880668a0",
   "metadata": {},
   "outputs": [
    {
     "data": {
      "text/plain": [
       "2"
      ]
     },
     "execution_count": 128,
     "metadata": {},
     "output_type": "execute_result"
    }
   ],
   "source": [
    "arr3.ndim"
   ]
  },
  {
   "cell_type": "code",
   "execution_count": 129,
   "id": "40afa915-3c31-4eb3-8df3-2b7d4e8aaf94",
   "metadata": {},
   "outputs": [],
   "source": [
    "arr4= np.array([[[1,2],[3,4]],[[6,7],[8,9]]])"
   ]
  },
  {
   "cell_type": "code",
   "execution_count": 130,
   "id": "f6c28c5a-1c8a-47d6-a803-f06f1047d314",
   "metadata": {},
   "outputs": [
    {
     "data": {
      "text/plain": [
       "array([[[1, 2],\n",
       "        [3, 4]],\n",
       "\n",
       "       [[6, 7],\n",
       "        [8, 9]]])"
      ]
     },
     "execution_count": 130,
     "metadata": {},
     "output_type": "execute_result"
    }
   ],
   "source": [
    "arr4"
   ]
  },
  {
   "cell_type": "code",
   "execution_count": 131,
   "id": "e17b3a2d-7be0-4a4e-b7d5-b270a266c4f9",
   "metadata": {},
   "outputs": [
    {
     "data": {
      "text/plain": [
       "3"
      ]
     },
     "execution_count": 131,
     "metadata": {},
     "output_type": "execute_result"
    }
   ],
   "source": [
    "arr4.ndim"
   ]
  },
  {
   "cell_type": "code",
   "execution_count": 132,
   "id": "dde1010c-9960-4d9e-90fd-29286ffa28cb",
   "metadata": {},
   "outputs": [],
   "source": [
    "arr5= np.array([[[1,2],[3,4]],[[6,7],[8,9]],[[11,12],[13,14]]])"
   ]
  },
  {
   "cell_type": "code",
   "execution_count": 133,
   "id": "0dec52f5-f0fe-47d9-b78f-9c0455b9a77f",
   "metadata": {},
   "outputs": [
    {
     "data": {
      "text/plain": [
       "3"
      ]
     },
     "execution_count": 133,
     "metadata": {},
     "output_type": "execute_result"
    }
   ],
   "source": [
    "arr5.ndim"
   ]
  },
  {
   "cell_type": "code",
   "execution_count": 135,
   "id": "2d5fd536-a95b-4c97-9461-1199f32b0a87",
   "metadata": {},
   "outputs": [],
   "source": [
    "arr = np.array([[1,2,3,4],[5,6,7,8]],ndmin=5)"
   ]
  },
  {
   "cell_type": "code",
   "execution_count": 136,
   "id": "5ce72a30-6091-4df2-827d-dacf5cd5e974",
   "metadata": {},
   "outputs": [
    {
     "data": {
      "text/plain": [
       "5"
      ]
     },
     "execution_count": 136,
     "metadata": {},
     "output_type": "execute_result"
    }
   ],
   "source": [
    "arr.ndim"
   ]
  },
  {
   "cell_type": "code",
   "execution_count": 137,
   "id": "677dbc27-09e1-49a8-81ba-38b380641f54",
   "metadata": {},
   "outputs": [
    {
     "data": {
      "text/plain": [
       "array([[[[[1, 2, 3, 4],\n",
       "          [5, 6, 7, 8]]]]])"
      ]
     },
     "execution_count": 137,
     "metadata": {},
     "output_type": "execute_result"
    }
   ],
   "source": [
    "arr"
   ]
  },
  {
   "cell_type": "code",
   "execution_count": 138,
   "id": "5bc3b02c-5290-40d5-ad64-a526d85ac81c",
   "metadata": {},
   "outputs": [],
   "source": [
    "arr = np.array([1,2,3,4,5])"
   ]
  },
  {
   "cell_type": "code",
   "execution_count": 139,
   "id": "bc54265d-e3d5-4d56-80a9-d443bcfc94f5",
   "metadata": {},
   "outputs": [
    {
     "data": {
      "text/plain": [
       "array([1, 2, 3, 4, 5])"
      ]
     },
     "execution_count": 139,
     "metadata": {},
     "output_type": "execute_result"
    }
   ],
   "source": [
    "arr"
   ]
  },
  {
   "cell_type": "code",
   "execution_count": 140,
   "id": "e3fcea07-cd04-4dec-8bd1-ade6928af7c4",
   "metadata": {},
   "outputs": [
    {
     "data": {
      "text/plain": [
       "1"
      ]
     },
     "execution_count": 140,
     "metadata": {},
     "output_type": "execute_result"
    }
   ],
   "source": [
    "arr.ndim"
   ]
  },
  {
   "cell_type": "code",
   "execution_count": 141,
   "id": "d390df99-22ae-43f5-959b-c9d4e5638db8",
   "metadata": {},
   "outputs": [
    {
     "data": {
      "text/plain": [
       "3"
      ]
     },
     "execution_count": 141,
     "metadata": {},
     "output_type": "execute_result"
    }
   ],
   "source": [
    "arr[2]"
   ]
  },
  {
   "cell_type": "code",
   "execution_count": 150,
   "id": "0ee201ee-e203-4ac1-aa17-3fc9d72b6127",
   "metadata": {},
   "outputs": [],
   "source": [
    "arr1 = np.array([[1,2,3],[4,5,6],[2,3,9]])"
   ]
  },
  {
   "cell_type": "code",
   "execution_count": 151,
   "id": "120c723e-000d-4664-8582-e0f75faef284",
   "metadata": {},
   "outputs": [
    {
     "data": {
      "text/plain": [
       "2"
      ]
     },
     "execution_count": 151,
     "metadata": {},
     "output_type": "execute_result"
    }
   ],
   "source": [
    "arr1.ndim"
   ]
  },
  {
   "cell_type": "code",
   "execution_count": 152,
   "id": "78a953fb-8d50-402d-9e4e-b39305ac4908",
   "metadata": {},
   "outputs": [
    {
     "data": {
      "text/plain": [
       "array([[1, 2, 3],\n",
       "       [4, 5, 6],\n",
       "       [2, 3, 9]])"
      ]
     },
     "execution_count": 152,
     "metadata": {},
     "output_type": "execute_result"
    }
   ],
   "source": [
    "arr1"
   ]
  },
  {
   "cell_type": "code",
   "execution_count": 144,
   "id": "78d2e5cc-a2c8-4fd4-ae27-6655b96af52b",
   "metadata": {},
   "outputs": [
    {
     "data": {
      "text/plain": [
       "5"
      ]
     },
     "execution_count": 144,
     "metadata": {},
     "output_type": "execute_result"
    }
   ],
   "source": [
    "arr1[1][1]"
   ]
  },
  {
   "cell_type": "code",
   "execution_count": 145,
   "id": "fc815e64-9d50-4558-b908-6ca951ee617a",
   "metadata": {},
   "outputs": [
    {
     "data": {
      "text/plain": [
       "5"
      ]
     },
     "execution_count": 145,
     "metadata": {},
     "output_type": "execute_result"
    }
   ],
   "source": [
    "arr1[1,1]"
   ]
  },
  {
   "cell_type": "code",
   "execution_count": 149,
   "id": "82b31af9-0842-4fb3-81ee-8ca87e10b1c7",
   "metadata": {},
   "outputs": [
    {
     "data": {
      "text/plain": [
       "6"
      ]
     },
     "execution_count": 149,
     "metadata": {},
     "output_type": "execute_result"
    }
   ],
   "source": [
    "2*3"
   ]
  },
  {
   "cell_type": "code",
   "execution_count": 154,
   "id": "b19ce168-a503-4a03-83a5-adf0fe7c78df",
   "metadata": {},
   "outputs": [
    {
     "data": {
      "text/plain": [
       "6"
      ]
     },
     "execution_count": 154,
     "metadata": {},
     "output_type": "execute_result"
    }
   ],
   "source": [
    "arr1[2,1] + arr1[0,2]"
   ]
  },
  {
   "cell_type": "code",
   "execution_count": 155,
   "id": "41fb8bf2-7282-4404-ae73-6a4cf9774df6",
   "metadata": {},
   "outputs": [
    {
     "data": {
      "text/plain": [
       "9"
      ]
     },
     "execution_count": 155,
     "metadata": {},
     "output_type": "execute_result"
    }
   ],
   "source": [
    "arr1[2,2]"
   ]
  },
  {
   "cell_type": "code",
   "execution_count": 156,
   "id": "21aeb6d1-09b7-46ac-a363-293e8aa1db5f",
   "metadata": {},
   "outputs": [
    {
     "data": {
      "text/plain": [
       "9"
      ]
     },
     "execution_count": 156,
     "metadata": {},
     "output_type": "execute_result"
    }
   ],
   "source": [
    "arr1[-1,-1]"
   ]
  },
  {
   "cell_type": "code",
   "execution_count": 157,
   "id": "ad929e7e-dc41-4bc1-ae1a-1f55c4c963b1",
   "metadata": {},
   "outputs": [
    {
     "data": {
      "text/plain": [
       "2"
      ]
     },
     "execution_count": 157,
     "metadata": {},
     "output_type": "execute_result"
    }
   ],
   "source": [
    "arr1[-3,-2]"
   ]
  },
  {
   "cell_type": "code",
   "execution_count": 158,
   "id": "71bd59d7-68a7-43b6-85b0-55f4813d5230",
   "metadata": {},
   "outputs": [
    {
     "data": {
      "text/plain": [
       "2"
      ]
     },
     "execution_count": 158,
     "metadata": {},
     "output_type": "execute_result"
    }
   ],
   "source": [
    "arr1[0,-2]"
   ]
  },
  {
   "cell_type": "code",
   "execution_count": 166,
   "id": "e5f64ad3-6054-4eee-9c23-7f607326ffac",
   "metadata": {},
   "outputs": [],
   "source": [
    "arr = np.array([[[1, 2, 3], [4, 5, 6]], [[7, 8, 9], [10, 11, 12]],[[12,13,14],[17,18,19]]])"
   ]
  },
  {
   "cell_type": "code",
   "execution_count": 167,
   "id": "45767657-ad42-4234-beef-7c842320d600",
   "metadata": {},
   "outputs": [
    {
     "data": {
      "text/plain": [
       "3"
      ]
     },
     "execution_count": 167,
     "metadata": {},
     "output_type": "execute_result"
    }
   ],
   "source": [
    "arr.ndim"
   ]
  },
  {
   "cell_type": "code",
   "execution_count": 168,
   "id": "443d2d30-ef28-45a9-a012-7f08b0ec5440",
   "metadata": {},
   "outputs": [
    {
     "data": {
      "text/plain": [
       "array([[[ 1,  2,  3],\n",
       "        [ 4,  5,  6]],\n",
       "\n",
       "       [[ 7,  8,  9],\n",
       "        [10, 11, 12]],\n",
       "\n",
       "       [[12, 13, 14],\n",
       "        [17, 18, 19]]])"
      ]
     },
     "execution_count": 168,
     "metadata": {},
     "output_type": "execute_result"
    }
   ],
   "source": [
    "arr"
   ]
  },
  {
   "cell_type": "code",
   "execution_count": 169,
   "id": "ee60b280-3ab9-475e-8c76-006c3a92bf3d",
   "metadata": {},
   "outputs": [
    {
     "data": {
      "text/plain": [
       "19"
      ]
     },
     "execution_count": 169,
     "metadata": {},
     "output_type": "execute_result"
    }
   ],
   "source": [
    "arr[-1,-1,-1]"
   ]
  },
  {
   "cell_type": "code",
   "execution_count": 170,
   "id": "57e18acc-5fae-4de9-a1d7-089e1dcf7a4f",
   "metadata": {},
   "outputs": [
    {
     "data": {
      "text/plain": [
       "13"
      ]
     },
     "execution_count": 170,
     "metadata": {},
     "output_type": "execute_result"
    }
   ],
   "source": [
    "arr[-1,-2,-2]"
   ]
  },
  {
   "cell_type": "code",
   "execution_count": 172,
   "id": "008af17e-bef9-4f63-b5ea-901873ca191f",
   "metadata": {},
   "outputs": [
    {
     "data": {
      "text/plain": [
       "13"
      ]
     },
     "execution_count": 172,
     "metadata": {},
     "output_type": "execute_result"
    }
   ],
   "source": [
    "arr[2,0,1]"
   ]
  },
  {
   "cell_type": "code",
   "execution_count": 173,
   "id": "89a3b434-593e-4b92-bacb-bac124c27182",
   "metadata": {},
   "outputs": [],
   "source": [
    "arr1 = np.array([1,2,3,4,5])"
   ]
  },
  {
   "cell_type": "code",
   "execution_count": 174,
   "id": "c4c9db4e-cf39-4a91-a9c0-a460c1b09714",
   "metadata": {},
   "outputs": [
    {
     "data": {
      "text/plain": [
       "array([2, 3, 4])"
      ]
     },
     "execution_count": 174,
     "metadata": {},
     "output_type": "execute_result"
    }
   ],
   "source": [
    "arr1[1:4]"
   ]
  },
  {
   "cell_type": "code",
   "execution_count": 175,
   "id": "a5eb7b03-59f4-4019-a7eb-ac194ac79117",
   "metadata": {},
   "outputs": [
    {
     "data": {
      "text/plain": [
       "array([5])"
      ]
     },
     "execution_count": 175,
     "metadata": {},
     "output_type": "execute_result"
    }
   ],
   "source": [
    "arr1[4:]"
   ]
  },
  {
   "cell_type": "code",
   "execution_count": 176,
   "id": "a5c0e068-a496-4c6b-9b15-55f6df353250",
   "metadata": {},
   "outputs": [
    {
     "data": {
      "text/plain": [
       "array([1, 2, 3])"
      ]
     },
     "execution_count": 176,
     "metadata": {},
     "output_type": "execute_result"
    }
   ],
   "source": [
    "arr1[:3]"
   ]
  },
  {
   "cell_type": "code",
   "execution_count": 177,
   "id": "ea460dc7-6b68-4a48-ba9e-ca3e7127be6e",
   "metadata": {},
   "outputs": [
    {
     "data": {
      "text/plain": [
       "array([2, 3])"
      ]
     },
     "execution_count": 177,
     "metadata": {},
     "output_type": "execute_result"
    }
   ],
   "source": [
    "arr1[1:3]"
   ]
  },
  {
   "cell_type": "code",
   "execution_count": 182,
   "id": "cfc3a1e7-7b7d-4db0-a7a4-c119285f36e2",
   "metadata": {},
   "outputs": [
    {
     "data": {
      "text/plain": [
       "array([4])"
      ]
     },
     "execution_count": 182,
     "metadata": {},
     "output_type": "execute_result"
    }
   ],
   "source": [
    "arr1[-2:-1]"
   ]
  },
  {
   "cell_type": "code",
   "execution_count": 183,
   "id": "5b704001-2327-4c18-907a-7f1bf1648f5a",
   "metadata": {},
   "outputs": [],
   "source": [
    "arr1 = np.array([[1, 2, 3, 4, 5], [6, 7, 8, 9, 10]])"
   ]
  },
  {
   "cell_type": "code",
   "execution_count": 184,
   "id": "139fae3c-14dc-40d6-b8c1-0f64301eeaeb",
   "metadata": {},
   "outputs": [
    {
     "data": {
      "text/plain": [
       "array([[ 1,  2,  3,  4,  5],\n",
       "       [ 6,  7,  8,  9, 10]])"
      ]
     },
     "execution_count": 184,
     "metadata": {},
     "output_type": "execute_result"
    }
   ],
   "source": [
    "arr1"
   ]
  },
  {
   "cell_type": "code",
   "execution_count": 185,
   "id": "034e4d0d-c8bf-4bca-bc68-a9e7fa8dbd9f",
   "metadata": {},
   "outputs": [
    {
     "data": {
      "text/plain": [
       "array([7, 8, 9])"
      ]
     },
     "execution_count": 185,
     "metadata": {},
     "output_type": "execute_result"
    }
   ],
   "source": [
    "arr1[1,1:4]"
   ]
  },
  {
   "cell_type": "code",
   "execution_count": 187,
   "id": "227e801a-2132-4fc7-baf4-389106c28705",
   "metadata": {},
   "outputs": [
    {
     "data": {
      "text/plain": [
       "array([7, 8, 9])"
      ]
     },
     "execution_count": 187,
     "metadata": {},
     "output_type": "execute_result"
    }
   ],
   "source": [
    "arr1[-1,-4:-1]"
   ]
  },
  {
   "cell_type": "code",
   "execution_count": 188,
   "id": "a2235952-29b6-4ae3-aa43-f32f76f9bace",
   "metadata": {},
   "outputs": [],
   "source": [
    "arr = np.array([[[1, 2, 3], [4, 5, 6]], [[7, 8, 9], [10, 11, 12]],[[12,13,14],[17,18,19]]])"
   ]
  },
  {
   "cell_type": "code",
   "execution_count": 189,
   "id": "e82d468e-4225-43a8-8b92-76a9ae6a063e",
   "metadata": {},
   "outputs": [
    {
     "data": {
      "text/plain": [
       "array([[[ 1,  2,  3],\n",
       "        [ 4,  5,  6]],\n",
       "\n",
       "       [[ 7,  8,  9],\n",
       "        [10, 11, 12]],\n",
       "\n",
       "       [[12, 13, 14],\n",
       "        [17, 18, 19]]])"
      ]
     },
     "execution_count": 189,
     "metadata": {},
     "output_type": "execute_result"
    }
   ],
   "source": [
    "arr"
   ]
  },
  {
   "cell_type": "code",
   "execution_count": 208,
   "id": "a298afa2-ddfd-48a4-9814-40f1ab017785",
   "metadata": {},
   "outputs": [
    {
     "data": {
      "text/plain": [
       "array([[[11, 12]],\n",
       "\n",
       "       [[18, 19]]])"
      ]
     },
     "execution_count": 208,
     "metadata": {},
     "output_type": "execute_result"
    }
   ],
   "source": [
    "arr[1:3,1:3,1:3]"
   ]
  },
  {
   "cell_type": "code",
   "execution_count": 209,
   "id": "3b9f019f-2d1c-4a3d-b905-202f8b4c2650",
   "metadata": {},
   "outputs": [
    {
     "data": {
      "text/plain": [
       "array([2, 8])"
      ]
     },
     "execution_count": 209,
     "metadata": {},
     "output_type": "execute_result"
    }
   ],
   "source": [
    "arr[0:2,0,1]"
   ]
  },
  {
   "cell_type": "code",
   "execution_count": 194,
   "id": "7a002a1b-81a4-460c-a8df-348043bd609b",
   "metadata": {},
   "outputs": [],
   "source": [
    "arr1=np.array([[1,2,3,4,5],[6,7,8,9,10]])"
   ]
  },
  {
   "cell_type": "code",
   "execution_count": 195,
   "id": "315a32a2-df20-482d-bbaf-a83fd5e344a6",
   "metadata": {},
   "outputs": [
    {
     "data": {
      "text/plain": [
       "array([3, 8])"
      ]
     },
     "execution_count": 195,
     "metadata": {},
     "output_type": "execute_result"
    }
   ],
   "source": [
    "arr1[0:2,2]"
   ]
  },
  {
   "cell_type": "code",
   "execution_count": null,
   "id": "c6f24db3-e40b-49fd-a007-690400df85e1",
   "metadata": {},
   "outputs": [],
   "source": [
    "data-- string, int,float,bool"
   ]
  },
  {
   "cell_type": "code",
   "execution_count": null,
   "id": "c182eff7",
   "metadata": {},
   "outputs": [],
   "source": [
    "interger - i \n",
    "string - s\n",
    "complex - c\n"
   ]
  },
  {
   "cell_type": "code",
   "execution_count": null,
   "id": "7b85dcab",
   "metadata": {},
   "outputs": [],
   "source": [
    "type()"
   ]
  },
  {
   "cell_type": "code",
   "execution_count": 3,
   "id": "d92c26a6",
   "metadata": {},
   "outputs": [
    {
     "ename": "NameError",
     "evalue": "name 'dtype' is not defined",
     "output_type": "error",
     "traceback": [
      "\u001b[1;31m---------------------------------------------------------------------------\u001b[0m",
      "\u001b[1;31mNameError\u001b[0m                                 Traceback (most recent call last)",
      "Cell \u001b[1;32mIn[3], line 1\u001b[0m\n\u001b[1;32m----> 1\u001b[0m dtype()\n",
      "\u001b[1;31mNameError\u001b[0m: name 'dtype' is not defined"
     ]
    }
   ],
   "source": [
    "dtype()"
   ]
  },
  {
   "cell_type": "code",
   "execution_count": 5,
   "id": "d3ba854b",
   "metadata": {},
   "outputs": [],
   "source": [
    "import numpy as np\n",
    "\n",
    "arr = np.array([1,2,3,4])"
   ]
  },
  {
   "cell_type": "code",
   "execution_count": 6,
   "id": "cad64ef3",
   "metadata": {},
   "outputs": [
    {
     "data": {
      "text/plain": [
       "array([1, 2, 3, 4])"
      ]
     },
     "execution_count": 6,
     "metadata": {},
     "output_type": "execute_result"
    }
   ],
   "source": [
    "arr"
   ]
  },
  {
   "cell_type": "code",
   "execution_count": 7,
   "id": "d7327338",
   "metadata": {},
   "outputs": [
    {
     "data": {
      "text/plain": [
       "dtype('int32')"
      ]
     },
     "execution_count": 7,
     "metadata": {},
     "output_type": "execute_result"
    }
   ],
   "source": [
    "arr.dtype"
   ]
  },
  {
   "cell_type": "code",
   "execution_count": 8,
   "id": "f8157f8c",
   "metadata": {},
   "outputs": [],
   "source": [
    "arr1 = np.array(['banana','kiwi','apple'])"
   ]
  },
  {
   "cell_type": "code",
   "execution_count": 9,
   "id": "98f42d62",
   "metadata": {},
   "outputs": [
    {
     "data": {
      "text/plain": [
       "dtype('<U6')"
      ]
     },
     "execution_count": 9,
     "metadata": {},
     "output_type": "execute_result"
    }
   ],
   "source": [
    "arr1.dtype"
   ]
  },
  {
   "cell_type": "code",
   "execution_count": null,
   "id": "7b32886c",
   "metadata": {},
   "outputs": [],
   "source": [
    "Unicode string - U"
   ]
  },
  {
   "cell_type": "code",
   "execution_count": 10,
   "id": "0df45b84",
   "metadata": {},
   "outputs": [],
   "source": [
    "arr = np.array([1,2,3,4],dtype ='S')"
   ]
  },
  {
   "cell_type": "code",
   "execution_count": 11,
   "id": "5d2b10a8",
   "metadata": {},
   "outputs": [
    {
     "data": {
      "text/plain": [
       "array([b'1', b'2', b'3', b'4'], dtype='|S1')"
      ]
     },
     "execution_count": 11,
     "metadata": {},
     "output_type": "execute_result"
    }
   ],
   "source": [
    "arr"
   ]
  },
  {
   "cell_type": "code",
   "execution_count": 12,
   "id": "5d5a8159",
   "metadata": {},
   "outputs": [
    {
     "data": {
      "text/plain": [
       "dtype('S1')"
      ]
     },
     "execution_count": 12,
     "metadata": {},
     "output_type": "execute_result"
    }
   ],
   "source": [
    "arr.dtype"
   ]
  },
  {
   "cell_type": "code",
   "execution_count": 13,
   "id": "746e094b",
   "metadata": {},
   "outputs": [],
   "source": [
    "arr = np.array(['abcd','abcde','ab'])"
   ]
  },
  {
   "cell_type": "code",
   "execution_count": 14,
   "id": "0986e18d",
   "metadata": {},
   "outputs": [
    {
     "data": {
      "text/plain": [
       "dtype('<U5')"
      ]
     },
     "execution_count": 14,
     "metadata": {},
     "output_type": "execute_result"
    }
   ],
   "source": [
    "arr.dtype"
   ]
  },
  {
   "cell_type": "code",
   "execution_count": 22,
   "id": "0b5854a0",
   "metadata": {},
   "outputs": [
    {
     "name": "stdout",
     "output_type": "stream",
     "text": [
      "[1 2 3]\n",
      "int32\n"
     ]
    }
   ],
   "source": [
    "arr = np.array([1,2,3],'i4')\n",
    "print(arr)\n",
    "print(arr.dtype)"
   ]
  },
  {
   "cell_type": "code",
   "execution_count": 19,
   "id": "fca58e01",
   "metadata": {},
   "outputs": [
    {
     "data": {
      "text/plain": [
       "array([1, 2, 3])"
      ]
     },
     "execution_count": 19,
     "metadata": {},
     "output_type": "execute_result"
    }
   ],
   "source": [
    "arr"
   ]
  },
  {
   "cell_type": "code",
   "execution_count": 20,
   "id": "c35ea294",
   "metadata": {},
   "outputs": [
    {
     "data": {
      "text/plain": [
       "dtype('int32')"
      ]
     },
     "execution_count": 20,
     "metadata": {},
     "output_type": "execute_result"
    }
   ],
   "source": [
    "arr.dtype"
   ]
  },
  {
   "cell_type": "code",
   "execution_count": 23,
   "id": "d117ff0f",
   "metadata": {},
   "outputs": [
    {
     "name": "stdout",
     "output_type": "stream",
     "text": [
      "[b'1' b'2' b'3']\n",
      "|S4\n"
     ]
    }
   ],
   "source": [
    "arr = np.array([1,2,3],'S4')\n",
    "print(arr)\n",
    "print(arr.dtype)"
   ]
  },
  {
   "cell_type": "code",
   "execution_count": 25,
   "id": "da5a41c7",
   "metadata": {},
   "outputs": [
    {
     "ename": "ValueError",
     "evalue": "invalid literal for int() with base 10: 'a'",
     "output_type": "error",
     "traceback": [
      "\u001b[1;31m---------------------------------------------------------------------------\u001b[0m",
      "\u001b[1;31mValueError\u001b[0m                                Traceback (most recent call last)",
      "Cell \u001b[1;32mIn[25], line 1\u001b[0m\n\u001b[1;32m----> 1\u001b[0m arr \u001b[38;5;241m=\u001b[39m np\u001b[38;5;241m.\u001b[39marray([\u001b[38;5;124m'\u001b[39m\u001b[38;5;124m1\u001b[39m\u001b[38;5;124m'\u001b[39m,\u001b[38;5;124m'\u001b[39m\u001b[38;5;124ma\u001b[39m\u001b[38;5;124m'\u001b[39m,\u001b[38;5;241m1\u001b[39m,\u001b[38;5;241m1.0\u001b[39m],dtype \u001b[38;5;241m=\u001b[39m \u001b[38;5;124m'\u001b[39m\u001b[38;5;124mi\u001b[39m\u001b[38;5;124m'\u001b[39m)\n",
      "\u001b[1;31mValueError\u001b[0m: invalid literal for int() with base 10: 'a'"
     ]
    }
   ],
   "source": [
    "arr = np.array(['1','a',1,1.0],dtype = 'i')"
   ]
  },
  {
   "cell_type": "code",
   "execution_count": 30,
   "id": "a7d7f458",
   "metadata": {},
   "outputs": [],
   "source": [
    "arr = np.array([1,2,3,4,5],dtype='S')"
   ]
  },
  {
   "cell_type": "code",
   "execution_count": 31,
   "id": "88978311",
   "metadata": {},
   "outputs": [
    {
     "data": {
      "text/plain": [
       "dtype('S1')"
      ]
     },
     "execution_count": 31,
     "metadata": {},
     "output_type": "execute_result"
    }
   ],
   "source": [
    "arr.dtype"
   ]
  },
  {
   "cell_type": "code",
   "execution_count": 32,
   "id": "05710e48",
   "metadata": {},
   "outputs": [
    {
     "data": {
      "text/plain": [
       "array([b'1', b'2', b'3', b'4', b'5'], dtype='|S1')"
      ]
     },
     "execution_count": 32,
     "metadata": {},
     "output_type": "execute_result"
    }
   ],
   "source": [
    "arr"
   ]
  },
  {
   "cell_type": "code",
   "execution_count": null,
   "id": "81fc4a34",
   "metadata": {},
   "outputs": [],
   "source": [
    "i - integer\n",
    "b - boolean\n",
    "u - unsigned integer\n",
    "f - float\n",
    "c - complex float\n",
    "m - timedelta\n",
    "M - datetime\n",
    "O - object\n",
    "S - string\n",
    "U - unicode string\n"
   ]
  },
  {
   "cell_type": "code",
   "execution_count": 33,
   "id": "35756f18",
   "metadata": {},
   "outputs": [],
   "source": [
    "arr = np.array([1.1,2.1,3.1])"
   ]
  },
  {
   "cell_type": "code",
   "execution_count": 34,
   "id": "bbda5042",
   "metadata": {},
   "outputs": [
    {
     "data": {
      "text/plain": [
       "dtype('float64')"
      ]
     },
     "execution_count": 34,
     "metadata": {},
     "output_type": "execute_result"
    }
   ],
   "source": [
    "arr.dtype"
   ]
  },
  {
   "cell_type": "code",
   "execution_count": 35,
   "id": "1323408b",
   "metadata": {},
   "outputs": [],
   "source": [
    "arr_n = arr.astype('i')"
   ]
  },
  {
   "cell_type": "code",
   "execution_count": 36,
   "id": "742e3358",
   "metadata": {},
   "outputs": [
    {
     "data": {
      "text/plain": [
       "array([1, 2, 3], dtype=int32)"
      ]
     },
     "execution_count": 36,
     "metadata": {},
     "output_type": "execute_result"
    }
   ],
   "source": [
    "arr_n"
   ]
  },
  {
   "cell_type": "code",
   "execution_count": 37,
   "id": "08d73f47",
   "metadata": {},
   "outputs": [],
   "source": [
    "arr1 = np.array([1,0,3,4,1])"
   ]
  },
  {
   "cell_type": "code",
   "execution_count": 38,
   "id": "5a7d9101",
   "metadata": {},
   "outputs": [
    {
     "data": {
      "text/plain": [
       "dtype('int32')"
      ]
     },
     "execution_count": 38,
     "metadata": {},
     "output_type": "execute_result"
    }
   ],
   "source": [
    "arr1.dtype"
   ]
  },
  {
   "cell_type": "code",
   "execution_count": 45,
   "id": "f66bd6d1",
   "metadata": {},
   "outputs": [],
   "source": [
    "arr2 = arr1.astype(bool)"
   ]
  },
  {
   "cell_type": "code",
   "execution_count": 46,
   "id": "0a546064",
   "metadata": {},
   "outputs": [
    {
     "data": {
      "text/plain": [
       "array([ True, False,  True,  True,  True])"
      ]
     },
     "execution_count": 46,
     "metadata": {},
     "output_type": "execute_result"
    }
   ],
   "source": [
    "arr2"
   ]
  },
  {
   "cell_type": "code",
   "execution_count": 54,
   "id": "cc863a86",
   "metadata": {},
   "outputs": [],
   "source": [
    "#copy and view\n",
    "\n",
    "array1 = np.array([1,2,3,4,5])\n",
    "\n",
    "array1_copy = array1.copy()\n"
   ]
  },
  {
   "cell_type": "code",
   "execution_count": 55,
   "id": "2662dad3",
   "metadata": {},
   "outputs": [
    {
     "data": {
      "text/plain": [
       "array([1, 2, 3, 4, 5])"
      ]
     },
     "execution_count": 55,
     "metadata": {},
     "output_type": "execute_result"
    }
   ],
   "source": [
    "array1"
   ]
  },
  {
   "cell_type": "code",
   "execution_count": 56,
   "id": "640573e3",
   "metadata": {},
   "outputs": [
    {
     "data": {
      "text/plain": [
       "array([1, 2, 3, 4, 5])"
      ]
     },
     "execution_count": 56,
     "metadata": {},
     "output_type": "execute_result"
    }
   ],
   "source": [
    "array1_copy"
   ]
  },
  {
   "cell_type": "code",
   "execution_count": 57,
   "id": "e781d996",
   "metadata": {},
   "outputs": [],
   "source": [
    "array1[0] = 72"
   ]
  },
  {
   "cell_type": "code",
   "execution_count": 58,
   "id": "10feded5",
   "metadata": {},
   "outputs": [
    {
     "data": {
      "text/plain": [
       "array([72,  2,  3,  4,  5])"
      ]
     },
     "execution_count": 58,
     "metadata": {},
     "output_type": "execute_result"
    }
   ],
   "source": [
    "array1"
   ]
  },
  {
   "cell_type": "code",
   "execution_count": 59,
   "id": "46f1e817",
   "metadata": {},
   "outputs": [
    {
     "data": {
      "text/plain": [
       "array([1, 2, 3, 4, 5])"
      ]
     },
     "execution_count": 59,
     "metadata": {},
     "output_type": "execute_result"
    }
   ],
   "source": [
    "array1_copy"
   ]
  },
  {
   "cell_type": "code",
   "execution_count": 60,
   "id": "56da9274",
   "metadata": {},
   "outputs": [],
   "source": [
    "array2 = np.array([1,2,3,4,5])\n",
    "\n",
    "array2_view = array2.view()"
   ]
  },
  {
   "cell_type": "code",
   "execution_count": 61,
   "id": "d433ac94",
   "metadata": {},
   "outputs": [
    {
     "data": {
      "text/plain": [
       "array([1, 2, 3, 4, 5])"
      ]
     },
     "execution_count": 61,
     "metadata": {},
     "output_type": "execute_result"
    }
   ],
   "source": [
    "array2"
   ]
  },
  {
   "cell_type": "code",
   "execution_count": 62,
   "id": "73afbbfc",
   "metadata": {},
   "outputs": [
    {
     "data": {
      "text/plain": [
       "array([1, 2, 3, 4, 5])"
      ]
     },
     "execution_count": 62,
     "metadata": {},
     "output_type": "execute_result"
    }
   ],
   "source": [
    "array2_view"
   ]
  },
  {
   "cell_type": "code",
   "execution_count": 63,
   "id": "3851e5dd",
   "metadata": {},
   "outputs": [],
   "source": [
    "array2[3]=89"
   ]
  },
  {
   "cell_type": "code",
   "execution_count": 64,
   "id": "70c4b237",
   "metadata": {},
   "outputs": [
    {
     "data": {
      "text/plain": [
       "array([ 1,  2,  3, 89,  5])"
      ]
     },
     "execution_count": 64,
     "metadata": {},
     "output_type": "execute_result"
    }
   ],
   "source": [
    "array2"
   ]
  },
  {
   "cell_type": "code",
   "execution_count": 65,
   "id": "3ca2d869",
   "metadata": {},
   "outputs": [
    {
     "data": {
      "text/plain": [
       "array([ 1,  2,  3, 89,  5])"
      ]
     },
     "execution_count": 65,
     "metadata": {},
     "output_type": "execute_result"
    }
   ],
   "source": [
    "array2_view"
   ]
  },
  {
   "cell_type": "code",
   "execution_count": 66,
   "id": "bb1ee1b5",
   "metadata": {},
   "outputs": [],
   "source": [
    "arr = np.array([1,2,3,4,5])"
   ]
  },
  {
   "cell_type": "code",
   "execution_count": 67,
   "id": "be2e3559",
   "metadata": {},
   "outputs": [],
   "source": [
    "x=arr.copy()\n"
   ]
  },
  {
   "cell_type": "code",
   "execution_count": 68,
   "id": "3c035df5",
   "metadata": {},
   "outputs": [],
   "source": [
    "y=arr.view() "
   ]
  },
  {
   "cell_type": "code",
   "execution_count": 70,
   "id": "cf50ba0d",
   "metadata": {},
   "outputs": [
    {
     "name": "stdout",
     "output_type": "stream",
     "text": [
      "None\n"
     ]
    }
   ],
   "source": [
    "print(x.base)"
   ]
  },
  {
   "cell_type": "code",
   "execution_count": 71,
   "id": "147b3798",
   "metadata": {},
   "outputs": [
    {
     "name": "stdout",
     "output_type": "stream",
     "text": [
      "[1 2 3 4 5]\n"
     ]
    }
   ],
   "source": [
    "print(y.base)"
   ]
  },
  {
   "cell_type": "code",
   "execution_count": 72,
   "id": "79ba3192",
   "metadata": {},
   "outputs": [
    {
     "data": {
      "text/plain": [
       "array([1, 2, 3, 4, 5])"
      ]
     },
     "execution_count": 72,
     "metadata": {},
     "output_type": "execute_result"
    }
   ],
   "source": [
    "#shape of the array\n",
    "arr"
   ]
  },
  {
   "cell_type": "code",
   "execution_count": 73,
   "id": "bd7db39e",
   "metadata": {},
   "outputs": [
    {
     "data": {
      "text/plain": [
       "(5,)"
      ]
     },
     "execution_count": 73,
     "metadata": {},
     "output_type": "execute_result"
    }
   ],
   "source": [
    "arr.shape"
   ]
  },
  {
   "cell_type": "code",
   "execution_count": 74,
   "id": "1444f344",
   "metadata": {},
   "outputs": [],
   "source": [
    "arr1 =np.array([[1,2,3],[4,5,6]])"
   ]
  },
  {
   "cell_type": "code",
   "execution_count": 75,
   "id": "4575bf25",
   "metadata": {},
   "outputs": [
    {
     "data": {
      "text/plain": [
       "(2, 3)"
      ]
     },
     "execution_count": 75,
     "metadata": {},
     "output_type": "execute_result"
    }
   ],
   "source": [
    "arr1.shape"
   ]
  },
  {
   "cell_type": "code",
   "execution_count": 76,
   "id": "d56f6032",
   "metadata": {},
   "outputs": [],
   "source": [
    "arr1 =np.array([[1,2,3,4],[4,5,6,7]])"
   ]
  },
  {
   "cell_type": "code",
   "execution_count": 77,
   "id": "4be4157e",
   "metadata": {},
   "outputs": [
    {
     "data": {
      "text/plain": [
       "(2, 4)"
      ]
     },
     "execution_count": 77,
     "metadata": {},
     "output_type": "execute_result"
    }
   ],
   "source": [
    "arr1.shape"
   ]
  },
  {
   "cell_type": "code",
   "execution_count": 122,
   "id": "c8ae1d45",
   "metadata": {},
   "outputs": [],
   "source": [
    "arr2 = np.array([[1,2,3,4],[5,6,7,8],[9,10,11,12],[13,14,15,16]],ndmin=4)"
   ]
  },
  {
   "cell_type": "code",
   "execution_count": 123,
   "id": "fdaada8e",
   "metadata": {},
   "outputs": [
    {
     "data": {
      "text/plain": [
       "(1, 1, 4, 4)"
      ]
     },
     "execution_count": 123,
     "metadata": {},
     "output_type": "execute_result"
    }
   ],
   "source": [
    "arr2.shape"
   ]
  },
  {
   "cell_type": "code",
   "execution_count": 124,
   "id": "41aecb0a",
   "metadata": {},
   "outputs": [
    {
     "data": {
      "text/plain": [
       "array([[[[ 1,  2,  3,  4],\n",
       "         [ 5,  6,  7,  8],\n",
       "         [ 9, 10, 11, 12],\n",
       "         [13, 14, 15, 16]]]])"
      ]
     },
     "execution_count": 124,
     "metadata": {},
     "output_type": "execute_result"
    }
   ],
   "source": [
    "arr2"
   ]
  },
  {
   "cell_type": "code",
   "execution_count": 105,
   "id": "2a4a103a",
   "metadata": {},
   "outputs": [
    {
     "data": {
      "text/plain": [
       "array([[[[ 1,  2,  3,  4],\n",
       "         [ 5,  6,  7,  8],\n",
       "         [ 9, 10, 11, 12],\n",
       "         [13, 14, 15, 16]]]])"
      ]
     },
     "execution_count": 105,
     "metadata": {},
     "output_type": "execute_result"
    }
   ],
   "source": [
    "arr2"
   ]
  },
  {
   "cell_type": "code",
   "execution_count": 106,
   "id": "254e87e2",
   "metadata": {},
   "outputs": [
    {
     "data": {
      "text/plain": [
       "array([[1, 2, 3, 4],\n",
       "       [4, 5, 6, 7]])"
      ]
     },
     "execution_count": 106,
     "metadata": {},
     "output_type": "execute_result"
    }
   ],
   "source": [
    "arr1"
   ]
  },
  {
   "cell_type": "code",
   "execution_count": 107,
   "id": "55909f41",
   "metadata": {},
   "outputs": [
    {
     "data": {
      "text/plain": [
       "(2, 4)"
      ]
     },
     "execution_count": 107,
     "metadata": {},
     "output_type": "execute_result"
    }
   ],
   "source": [
    "arr1.shape"
   ]
  },
  {
   "cell_type": "code",
   "execution_count": 108,
   "id": "bfe31c98",
   "metadata": {},
   "outputs": [
    {
     "data": {
      "text/plain": [
       "array([[1, 2],\n",
       "       [3, 4],\n",
       "       [4, 5],\n",
       "       [6, 7]])"
      ]
     },
     "execution_count": 108,
     "metadata": {},
     "output_type": "execute_result"
    }
   ],
   "source": [
    "arr1.reshape(4,2)"
   ]
  },
  {
   "cell_type": "code",
   "execution_count": 109,
   "id": "7709ff3c",
   "metadata": {},
   "outputs": [],
   "source": [
    "arr = np.array([1,2,3,4,5,6,7,8,9,10,11,12])"
   ]
  },
  {
   "cell_type": "code",
   "execution_count": 110,
   "id": "3bce4253",
   "metadata": {},
   "outputs": [
    {
     "data": {
      "text/plain": [
       "(12,)"
      ]
     },
     "execution_count": 110,
     "metadata": {},
     "output_type": "execute_result"
    }
   ],
   "source": [
    "arr.shape"
   ]
  },
  {
   "cell_type": "code",
   "execution_count": 111,
   "id": "9e901ec3",
   "metadata": {},
   "outputs": [],
   "source": [
    "arr1=arr.reshape(4,3)"
   ]
  },
  {
   "cell_type": "code",
   "execution_count": 112,
   "id": "a6c161c8",
   "metadata": {},
   "outputs": [
    {
     "data": {
      "text/plain": [
       "array([[ 1,  2,  3],\n",
       "       [ 4,  5,  6],\n",
       "       [ 7,  8,  9],\n",
       "       [10, 11, 12]])"
      ]
     },
     "execution_count": 112,
     "metadata": {},
     "output_type": "execute_result"
    }
   ],
   "source": [
    "arr1"
   ]
  },
  {
   "cell_type": "code",
   "execution_count": 114,
   "id": "bc6eee6d",
   "metadata": {},
   "outputs": [],
   "source": [
    "arr2=arr.reshape(6,2)"
   ]
  },
  {
   "cell_type": "code",
   "execution_count": 115,
   "id": "656d9c45",
   "metadata": {},
   "outputs": [
    {
     "data": {
      "text/plain": [
       "array([[ 1,  2],\n",
       "       [ 3,  4],\n",
       "       [ 5,  6],\n",
       "       [ 7,  8],\n",
       "       [ 9, 10],\n",
       "       [11, 12]])"
      ]
     },
     "execution_count": 115,
     "metadata": {},
     "output_type": "execute_result"
    }
   ],
   "source": [
    "arr2"
   ]
  },
  {
   "cell_type": "code",
   "execution_count": 116,
   "id": "851bc1ea",
   "metadata": {},
   "outputs": [],
   "source": [
    "arr3 = arr.reshape(2,6)"
   ]
  },
  {
   "cell_type": "code",
   "execution_count": 117,
   "id": "936d3c1d",
   "metadata": {},
   "outputs": [
    {
     "data": {
      "text/plain": [
       "array([[ 1,  2,  3,  4,  5,  6],\n",
       "       [ 7,  8,  9, 10, 11, 12]])"
      ]
     },
     "execution_count": 117,
     "metadata": {},
     "output_type": "execute_result"
    }
   ],
   "source": [
    "arr3"
   ]
  },
  {
   "cell_type": "code",
   "execution_count": 118,
   "id": "11259731",
   "metadata": {},
   "outputs": [
    {
     "data": {
      "text/plain": [
       "array([ 1,  2,  3,  4,  5,  6,  7,  8,  9, 10, 11, 12])"
      ]
     },
     "execution_count": 118,
     "metadata": {},
     "output_type": "execute_result"
    }
   ],
   "source": [
    "arr"
   ]
  },
  {
   "cell_type": "code",
   "execution_count": 125,
   "id": "f6a93421",
   "metadata": {},
   "outputs": [],
   "source": [
    "arr3=arr.reshape(2,2,3)"
   ]
  },
  {
   "cell_type": "code",
   "execution_count": 129,
   "id": "ba56e1b6",
   "metadata": {},
   "outputs": [
    {
     "data": {
      "text/plain": [
       "array([[[ 1,  2,  3],\n",
       "        [ 4,  5,  6]],\n",
       "\n",
       "       [[ 7,  8,  9],\n",
       "        [10, 11, 12]]])"
      ]
     },
     "execution_count": 129,
     "metadata": {},
     "output_type": "execute_result"
    }
   ],
   "source": [
    "arr3"
   ]
  },
  {
   "cell_type": "code",
   "execution_count": 130,
   "id": "cce95355",
   "metadata": {},
   "outputs": [
    {
     "data": {
      "text/plain": [
       "(2, 2, 3)"
      ]
     },
     "execution_count": 130,
     "metadata": {},
     "output_type": "execute_result"
    }
   ],
   "source": [
    "arr3.shape"
   ]
  },
  {
   "cell_type": "code",
   "execution_count": 131,
   "id": "2ee51000",
   "metadata": {},
   "outputs": [],
   "source": [
    "arr = np.array([1,2,3,4,5,6,7,8,9,10,11,12,13,14,15,16])"
   ]
  },
  {
   "cell_type": "code",
   "execution_count": 132,
   "id": "b444cf0f",
   "metadata": {},
   "outputs": [
    {
     "data": {
      "text/plain": [
       "(16,)"
      ]
     },
     "execution_count": 132,
     "metadata": {},
     "output_type": "execute_result"
    }
   ],
   "source": [
    "arr.shape"
   ]
  },
  {
   "cell_type": "code",
   "execution_count": 133,
   "id": "14d2fb7c",
   "metadata": {},
   "outputs": [
    {
     "data": {
      "text/plain": [
       "array([[ 1,  2,  3,  4],\n",
       "       [ 5,  6,  7,  8],\n",
       "       [ 9, 10, 11, 12],\n",
       "       [13, 14, 15, 16]])"
      ]
     },
     "execution_count": 133,
     "metadata": {},
     "output_type": "execute_result"
    }
   ],
   "source": [
    "arr.reshape(4,4)"
   ]
  },
  {
   "cell_type": "code",
   "execution_count": 134,
   "id": "1657f9b4",
   "metadata": {},
   "outputs": [
    {
     "data": {
      "text/plain": [
       "array([[ 1,  2],\n",
       "       [ 3,  4],\n",
       "       [ 5,  6],\n",
       "       [ 7,  8],\n",
       "       [ 9, 10],\n",
       "       [11, 12],\n",
       "       [13, 14],\n",
       "       [15, 16]])"
      ]
     },
     "execution_count": 134,
     "metadata": {},
     "output_type": "execute_result"
    }
   ],
   "source": [
    "arr.reshape(8,2)"
   ]
  },
  {
   "cell_type": "markdown",
   "id": "dba65e1b",
   "metadata": {},
   "source": [
    "4X4X1"
   ]
  },
  {
   "cell_type": "code",
   "execution_count": 136,
   "id": "2497574e",
   "metadata": {},
   "outputs": [
    {
     "data": {
      "text/plain": [
       "array([[[[ 1]],\n",
       "\n",
       "        [[ 2]],\n",
       "\n",
       "        [[ 3]],\n",
       "\n",
       "        [[ 4]]],\n",
       "\n",
       "\n",
       "       [[[ 5]],\n",
       "\n",
       "        [[ 6]],\n",
       "\n",
       "        [[ 7]],\n",
       "\n",
       "        [[ 8]]],\n",
       "\n",
       "\n",
       "       [[[ 9]],\n",
       "\n",
       "        [[10]],\n",
       "\n",
       "        [[11]],\n",
       "\n",
       "        [[12]]],\n",
       "\n",
       "\n",
       "       [[[13]],\n",
       "\n",
       "        [[14]],\n",
       "\n",
       "        [[15]],\n",
       "\n",
       "        [[16]]]])"
      ]
     },
     "execution_count": 136,
     "metadata": {},
     "output_type": "execute_result"
    }
   ],
   "source": [
    "arr.reshape(4,4,1,1)"
   ]
  },
  {
   "cell_type": "code",
   "execution_count": 140,
   "id": "18c8dd84",
   "metadata": {},
   "outputs": [],
   "source": [
    "arr1=arr.reshape(2,2,2,2) "
   ]
  },
  {
   "cell_type": "code",
   "execution_count": 141,
   "id": "790aba4d",
   "metadata": {},
   "outputs": [
    {
     "data": {
      "text/plain": [
       "array([[[[ 1,  2],\n",
       "         [ 3,  4]],\n",
       "\n",
       "        [[ 5,  6],\n",
       "         [ 7,  8]]],\n",
       "\n",
       "\n",
       "       [[[ 9, 10],\n",
       "         [11, 12]],\n",
       "\n",
       "        [[13, 14],\n",
       "         [15, 16]]]])"
      ]
     },
     "execution_count": 141,
     "metadata": {},
     "output_type": "execute_result"
    }
   ],
   "source": [
    "arr1"
   ]
  },
  {
   "cell_type": "code",
   "execution_count": 142,
   "id": "98ca3466",
   "metadata": {},
   "outputs": [
    {
     "data": {
      "text/plain": [
       "(2, 2, 2, 2)"
      ]
     },
     "execution_count": 142,
     "metadata": {},
     "output_type": "execute_result"
    }
   ],
   "source": [
    "arr1.shape"
   ]
  },
  {
   "cell_type": "code",
   "execution_count": 143,
   "id": "45496963",
   "metadata": {},
   "outputs": [
    {
     "data": {
      "text/plain": [
       "4"
      ]
     },
     "execution_count": 143,
     "metadata": {},
     "output_type": "execute_result"
    }
   ],
   "source": [
    "arr1.ndim"
   ]
  },
  {
   "cell_type": "code",
   "execution_count": 156,
   "id": "981a8add",
   "metadata": {},
   "outputs": [],
   "source": [
    "arr = np.array([[[[1,2,3,4]],[[2,3,4,5]],[[6,7,8,9]]]])"
   ]
  },
  {
   "cell_type": "code",
   "execution_count": 157,
   "id": "2c64073b",
   "metadata": {},
   "outputs": [
    {
     "data": {
      "text/plain": [
       "(1, 3, 1, 4)"
      ]
     },
     "execution_count": 157,
     "metadata": {},
     "output_type": "execute_result"
    }
   ],
   "source": [
    "arr.shape"
   ]
  },
  {
   "cell_type": "code",
   "execution_count": 154,
   "id": "083fa5c1",
   "metadata": {},
   "outputs": [
    {
     "data": {
      "text/plain": [
       "3"
      ]
     },
     "execution_count": 154,
     "metadata": {},
     "output_type": "execute_result"
    }
   ],
   "source": [
    "arr.ndim"
   ]
  },
  {
   "cell_type": "code",
   "execution_count": 158,
   "id": "83e50766",
   "metadata": {},
   "outputs": [],
   "source": [
    "array1 = np.array([1,2,3,4,5,6,7,8])"
   ]
  },
  {
   "cell_type": "code",
   "execution_count": 160,
   "id": "1defc8a5",
   "metadata": {},
   "outputs": [],
   "source": [
    "arr=array1.reshape(4,2).base"
   ]
  },
  {
   "cell_type": "code",
   "execution_count": 161,
   "id": "97442eee",
   "metadata": {},
   "outputs": [
    {
     "data": {
      "text/plain": [
       "array([1, 2, 3, 4, 5, 6, 7, 8])"
      ]
     },
     "execution_count": 161,
     "metadata": {},
     "output_type": "execute_result"
    }
   ],
   "source": [
    "arr\n"
   ]
  },
  {
   "cell_type": "code",
   "execution_count": 162,
   "id": "3c0de8ef",
   "metadata": {},
   "outputs": [
    {
     "data": {
      "text/plain": [
       "array([1, 2, 3, 4, 5, 6, 7, 8])"
      ]
     },
     "execution_count": 162,
     "metadata": {},
     "output_type": "execute_result"
    }
   ],
   "source": [
    "array1"
   ]
  },
  {
   "cell_type": "code",
   "execution_count": 163,
   "id": "5a71f4ba",
   "metadata": {},
   "outputs": [
    {
     "data": {
      "text/plain": [
       "array([[[1, 2],\n",
       "        [3, 4]],\n",
       "\n",
       "       [[5, 6],\n",
       "        [7, 8]]])"
      ]
     },
     "execution_count": 163,
     "metadata": {},
     "output_type": "execute_result"
    }
   ],
   "source": [
    "arr.reshape(2,2,-1)"
   ]
  },
  {
   "cell_type": "code",
   "execution_count": 164,
   "id": "ee380c9a",
   "metadata": {},
   "outputs": [
    {
     "data": {
      "text/plain": [
       "array([1, 2, 3, 4, 5, 6, 7, 8])"
      ]
     },
     "execution_count": 164,
     "metadata": {},
     "output_type": "execute_result"
    }
   ],
   "source": [
    "arr.reshape(-1)"
   ]
  },
  {
   "cell_type": "code",
   "execution_count": 165,
   "id": "4e2a0a26",
   "metadata": {},
   "outputs": [
    {
     "data": {
      "text/plain": [
       "array([1, 2, 3, 4, 5, 6, 7, 8])"
      ]
     },
     "execution_count": 165,
     "metadata": {},
     "output_type": "execute_result"
    }
   ],
   "source": [
    "#iteration of list\n",
    "\n",
    "array1"
   ]
  },
  {
   "cell_type": "code",
   "execution_count": 166,
   "id": "379795b1",
   "metadata": {},
   "outputs": [
    {
     "name": "stdout",
     "output_type": "stream",
     "text": [
      "1\n",
      "2\n",
      "3\n",
      "4\n",
      "5\n",
      "6\n",
      "7\n",
      "8\n"
     ]
    }
   ],
   "source": [
    "for i in array1:\n",
    "    print(i)"
   ]
  },
  {
   "cell_type": "code",
   "execution_count": 167,
   "id": "8ce2f253",
   "metadata": {},
   "outputs": [],
   "source": [
    "array2=np.array([[1,2,3],[4,5,6]])"
   ]
  },
  {
   "cell_type": "code",
   "execution_count": 171,
   "id": "9507d987",
   "metadata": {},
   "outputs": [
    {
     "name": "stdout",
     "output_type": "stream",
     "text": [
      "1\n",
      "2\n",
      "3\n",
      "4\n",
      "5\n",
      "6\n"
     ]
    }
   ],
   "source": [
    "for i in array2:\n",
    "    for j in i:\n",
    "        print(j)\n",
    "    \n",
    "    "
   ]
  },
  {
   "cell_type": "code",
   "execution_count": 172,
   "id": "f8b8f9fd",
   "metadata": {},
   "outputs": [
    {
     "data": {
      "text/plain": [
       "array([[1, 2, 3],\n",
       "       [4, 5, 6]])"
      ]
     },
     "execution_count": 172,
     "metadata": {},
     "output_type": "execute_result"
    }
   ],
   "source": [
    "array2"
   ]
  },
  {
   "cell_type": "code",
   "execution_count": 173,
   "id": "bc468189",
   "metadata": {},
   "outputs": [
    {
     "name": "stdout",
     "output_type": "stream",
     "text": [
      "1\n",
      "2\n",
      "3\n",
      "4\n",
      "5\n",
      "6\n"
     ]
    }
   ],
   "source": [
    "for i in np.nditer(array2):\n",
    "    print(i)\n",
    "    "
   ]
  },
  {
   "cell_type": "code",
   "execution_count": 174,
   "id": "9ddee7b6",
   "metadata": {},
   "outputs": [
    {
     "data": {
      "text/plain": [
       "array([[1, 2, 3],\n",
       "       [4, 5, 6]])"
      ]
     },
     "execution_count": 174,
     "metadata": {},
     "output_type": "execute_result"
    }
   ],
   "source": [
    "array2"
   ]
  },
  {
   "cell_type": "code",
   "execution_count": 176,
   "id": "5e4994f6",
   "metadata": {},
   "outputs": [],
   "source": [
    "search = np.where(array2 == 5)"
   ]
  },
  {
   "cell_type": "code",
   "execution_count": 178,
   "id": "d3ce035f",
   "metadata": {},
   "outputs": [
    {
     "data": {
      "text/plain": [
       "(array([1], dtype=int64), array([1], dtype=int64))"
      ]
     },
     "execution_count": 178,
     "metadata": {},
     "output_type": "execute_result"
    }
   ],
   "source": [
    "search"
   ]
  },
  {
   "cell_type": "code",
   "execution_count": 179,
   "id": "f17271dc",
   "metadata": {},
   "outputs": [
    {
     "data": {
      "text/plain": [
       "array([1, 2, 3, 4, 5, 6, 7, 8])"
      ]
     },
     "execution_count": 179,
     "metadata": {},
     "output_type": "execute_result"
    }
   ],
   "source": [
    "array1"
   ]
  },
  {
   "cell_type": "code",
   "execution_count": 180,
   "id": "ad6ab668",
   "metadata": {},
   "outputs": [],
   "source": [
    "even = np.where(array1%2==0)"
   ]
  },
  {
   "cell_type": "code",
   "execution_count": 181,
   "id": "25b2be66",
   "metadata": {},
   "outputs": [
    {
     "data": {
      "text/plain": [
       "(array([1, 3, 5, 7], dtype=int64),)"
      ]
     },
     "execution_count": 181,
     "metadata": {},
     "output_type": "execute_result"
    }
   ],
   "source": [
    "even"
   ]
  },
  {
   "cell_type": "code",
   "execution_count": 183,
   "id": "a5e2ba61",
   "metadata": {},
   "outputs": [],
   "source": [
    "odd = np.where(array1%2!=0)"
   ]
  },
  {
   "cell_type": "code",
   "execution_count": 184,
   "id": "c5e5ffce",
   "metadata": {},
   "outputs": [
    {
     "data": {
      "text/plain": [
       "(array([0, 2, 4, 6], dtype=int64),)"
      ]
     },
     "execution_count": 184,
     "metadata": {},
     "output_type": "execute_result"
    }
   ],
   "source": [
    "odd"
   ]
  },
  {
   "cell_type": "code",
   "execution_count": 185,
   "id": "1449fcf7",
   "metadata": {},
   "outputs": [
    {
     "data": {
      "text/plain": [
       "array([1, 2, 3, 4, 5, 6, 7, 8])"
      ]
     },
     "execution_count": 185,
     "metadata": {},
     "output_type": "execute_result"
    }
   ],
   "source": [
    "array1"
   ]
  },
  {
   "cell_type": "code",
   "execution_count": 186,
   "id": "8ecf1fd7",
   "metadata": {},
   "outputs": [],
   "source": [
    "x=np.searchsorted(arr,5)"
   ]
  },
  {
   "cell_type": "code",
   "execution_count": 187,
   "id": "3f184ad8",
   "metadata": {},
   "outputs": [
    {
     "data": {
      "text/plain": [
       "4"
      ]
     },
     "execution_count": 187,
     "metadata": {},
     "output_type": "execute_result"
    }
   ],
   "source": [
    "x"
   ]
  },
  {
   "cell_type": "code",
   "execution_count": 188,
   "id": "9ddb84cc",
   "metadata": {},
   "outputs": [],
   "source": [
    "x=np.searchsorted(arr,[3,6,8])"
   ]
  },
  {
   "cell_type": "code",
   "execution_count": 189,
   "id": "565e8174",
   "metadata": {},
   "outputs": [
    {
     "data": {
      "text/plain": [
       "array([2, 5, 7], dtype=int64)"
      ]
     },
     "execution_count": 189,
     "metadata": {},
     "output_type": "execute_result"
    }
   ],
   "source": [
    "x"
   ]
  },
  {
   "cell_type": "code",
   "execution_count": 190,
   "id": "3c5dfb20",
   "metadata": {},
   "outputs": [],
   "source": [
    "arr = np.array([6,1,23,90])"
   ]
  },
  {
   "cell_type": "code",
   "execution_count": 198,
   "id": "70121865",
   "metadata": {},
   "outputs": [
    {
     "data": {
      "text/plain": [
       "array([ 1,  6, 23, 90])"
      ]
     },
     "execution_count": 198,
     "metadata": {},
     "output_type": "execute_result"
    }
   ],
   "source": [
    "np.sort(arr)"
   ]
  },
  {
   "cell_type": "code",
   "execution_count": 199,
   "id": "08e299ae",
   "metadata": {},
   "outputs": [],
   "source": [
    "arr1 = np.array(['prachi','vinay','vaibhav','rashi'])"
   ]
  },
  {
   "cell_type": "code",
   "execution_count": 200,
   "id": "c5c04f0d",
   "metadata": {},
   "outputs": [
    {
     "data": {
      "text/plain": [
       "array(['prachi', 'rashi', 'vaibhav', 'vinay'], dtype='<U7')"
      ]
     },
     "execution_count": 200,
     "metadata": {},
     "output_type": "execute_result"
    }
   ],
   "source": [
    "np.sort(arr1)"
   ]
  },
  {
   "cell_type": "code",
   "execution_count": 207,
   "id": "c0d8bbef",
   "metadata": {},
   "outputs": [
    {
     "name": "stdout",
     "output_type": "stream",
     "text": [
      "None\n"
     ]
    }
   ],
   "source": [
    "arr1[::-1].sort()"
   ]
  },
  {
   "cell_type": "code",
   "execution_count": 202,
   "id": "9eff4e18",
   "metadata": {},
   "outputs": [],
   "source": [
    "arr = np.array([31,32,33,34])"
   ]
  },
  {
   "cell_type": "code",
   "execution_count": 208,
   "id": "e0e8c4c3",
   "metadata": {},
   "outputs": [],
   "source": [
    "x=[True,False,True,True]"
   ]
  },
  {
   "cell_type": "code",
   "execution_count": 209,
   "id": "eae8c773",
   "metadata": {},
   "outputs": [],
   "source": [
    "arr1=arr[x]"
   ]
  },
  {
   "cell_type": "code",
   "execution_count": 210,
   "id": "b545bcd9",
   "metadata": {},
   "outputs": [
    {
     "data": {
      "text/plain": [
       "array([31, 33, 34])"
      ]
     },
     "execution_count": 210,
     "metadata": {},
     "output_type": "execute_result"
    }
   ],
   "source": [
    "arr1"
   ]
  },
  {
   "cell_type": "code",
   "execution_count": 211,
   "id": "c9467eda",
   "metadata": {},
   "outputs": [],
   "source": [
    "#Numpy broadcasting\n",
    "\n",
    "arr1 =np.array([1,2,3])\n",
    "arr2 = np.array([[1],[2],[3]])"
   ]
  },
  {
   "cell_type": "code",
   "execution_count": 212,
   "id": "50c537f7",
   "metadata": {},
   "outputs": [
    {
     "data": {
      "text/plain": [
       "array([[2, 3, 4],\n",
       "       [3, 4, 5],\n",
       "       [4, 5, 6]])"
      ]
     },
     "execution_count": 212,
     "metadata": {},
     "output_type": "execute_result"
    }
   ],
   "source": [
    "arr1 + arr2"
   ]
  },
  {
   "cell_type": "code",
   "execution_count": 217,
   "id": "cf4282b7",
   "metadata": {},
   "outputs": [],
   "source": [
    "arr1 =np.array([1,2,3])\n",
    "\n",
    "n= 5\n",
    "\n"
   ]
  },
  {
   "cell_type": "code",
   "execution_count": 218,
   "id": "01406cb2",
   "metadata": {},
   "outputs": [
    {
     "data": {
      "text/plain": [
       "array([ 5, 10, 15])"
      ]
     },
     "execution_count": 218,
     "metadata": {},
     "output_type": "execute_result"
    }
   ],
   "source": [
    "arr1*n"
   ]
  },
  {
   "cell_type": "code",
   "execution_count": 214,
   "id": "ba652102",
   "metadata": {},
   "outputs": [
    {
     "data": {
      "text/plain": [
       "array([6, 7, 8])"
      ]
     },
     "execution_count": 214,
     "metadata": {},
     "output_type": "execute_result"
    }
   ],
   "source": [
    "arr1 + n"
   ]
  },
  {
   "cell_type": "code",
   "execution_count": 219,
   "id": "d7035799",
   "metadata": {},
   "outputs": [],
   "source": [
    "arr1 =np.array([1,2,3])\n",
    "arr2=np.array([4,5,6])"
   ]
  },
  {
   "cell_type": "code",
   "execution_count": 216,
   "id": "a541a4e6",
   "metadata": {},
   "outputs": [
    {
     "data": {
      "text/plain": [
       "array([5, 7, 9])"
      ]
     },
     "execution_count": 216,
     "metadata": {},
     "output_type": "execute_result"
    }
   ],
   "source": [
    "arr1 +arr2"
   ]
  },
  {
   "cell_type": "code",
   "execution_count": 220,
   "id": "6a394492",
   "metadata": {},
   "outputs": [
    {
     "data": {
      "text/plain": [
       "array([ 4, 10, 18])"
      ]
     },
     "execution_count": 220,
     "metadata": {},
     "output_type": "execute_result"
    }
   ],
   "source": [
    "arr1*arr2"
   ]
  },
  {
   "cell_type": "code",
   "execution_count": 227,
   "id": "e972f941",
   "metadata": {},
   "outputs": [],
   "source": [
    "arr2 = np.array([[1,5],[2,9],[3,8]])\n",
    "n=5"
   ]
  },
  {
   "cell_type": "raw",
   "id": "d2f74f07",
   "metadata": {},
   "source": [
    "ar"
   ]
  },
  {
   "cell_type": "code",
   "execution_count": 226,
   "id": "8bbf79f2",
   "metadata": {},
   "outputs": [
    {
     "data": {
      "text/plain": [
       "array([[ 6, 10],\n",
       "       [ 7, 14],\n",
       "       [ 8, 13]])"
      ]
     },
     "execution_count": 226,
     "metadata": {},
     "output_type": "execute_result"
    }
   ],
   "source": [
    "arr2+n"
   ]
  },
  {
   "cell_type": "code",
   "execution_count": 239,
   "id": "cdf69354",
   "metadata": {},
   "outputs": [
    {
     "name": "stdout",
     "output_type": "stream",
     "text": [
      "1\n"
     ]
    }
   ],
   "source": [
    "from numpy import random\n",
    "\n",
    "x = random.randint(5)\n",
    "print(x)"
   ]
  },
  {
   "cell_type": "code",
   "execution_count": 230,
   "id": "84a46f86",
   "metadata": {},
   "outputs": [
    {
     "data": {
      "text/plain": [
       "0"
      ]
     },
     "execution_count": 230,
     "metadata": {},
     "output_type": "execute_result"
    }
   ],
   "source": [
    "x"
   ]
  },
  {
   "cell_type": "code",
   "execution_count": 242,
   "id": "949c0ca3",
   "metadata": {},
   "outputs": [
    {
     "name": "stdout",
     "output_type": "stream",
     "text": [
      "[0.97559847 0.53477148 0.23595941 0.98180415 0.40415772 0.83960111\n",
      " 0.96018693 0.76145839 0.17529625 0.93125565 0.58400371 0.24956618\n",
      " 0.64149035 0.33724857 0.55018095 0.69781697 0.41175269 0.81040676\n",
      " 0.46877331 0.36821268 0.60648495 0.15370068 0.0373463  0.12316481\n",
      " 0.59452611 0.72868539 0.06270032 0.65952778 0.1978498  0.63815934\n",
      " 0.50439185 0.77847099 0.53313786 0.04884355 0.83806205 0.4762032\n",
      " 0.96109924 0.98606467 0.288498   0.4336827  0.25399267 0.82202062\n",
      " 0.4057322  0.84040548 0.78635611 0.02385466 0.1666559  0.22182037\n",
      " 0.56436645 0.09139435 0.21024649 0.40349302 0.99471557 0.38726381\n",
      " 0.32925709 0.54561565 0.20575541 0.70422034 0.89299003 0.80606991\n",
      " 0.79875479 0.40544048 0.20415055 0.35243262 0.01005418 0.47199313\n",
      " 0.79742982 0.40705329 0.94517665 0.89563286 0.64263491 0.34664391\n",
      " 0.38399798 0.63374225 0.05606757 0.89605225 0.03050109 0.82737693\n",
      " 0.70009683 0.09312027 0.99019345 0.54342626 0.9614906  0.95069823\n",
      " 0.08441179 0.07255377 0.38230991 0.66039404 0.06979415 0.44737286\n",
      " 0.75513367 0.85625956 0.50122064 0.31782496 0.24629101 0.48890838\n",
      " 0.72620579 0.63847918 0.410638   0.27687224]\n"
     ]
    }
   ],
   "source": [
    "from numpy import random\n",
    "\n",
    "x = random.rand(100)\n",
    "print(x)"
   ]
  },
  {
   "cell_type": "code",
   "execution_count": null,
   "id": "45e70325",
   "metadata": {},
   "outputs": [],
   "source": []
  }
 ],
 "metadata": {
  "kernelspec": {
   "display_name": "Python 3 (ipykernel)",
   "language": "python",
   "name": "python3"
  },
  "language_info": {
   "codemirror_mode": {
    "name": "ipython",
    "version": 3
   },
   "file_extension": ".py",
   "mimetype": "text/x-python",
   "name": "python",
   "nbconvert_exporter": "python",
   "pygments_lexer": "ipython3",
   "version": "3.11.5"
  }
 },
 "nbformat": 4,
 "nbformat_minor": 5
}
