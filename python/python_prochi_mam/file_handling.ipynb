{
 "cells": [
  {
   "cell_type": "code",
   "execution_count": 1,
   "id": "61821a96",
   "metadata": {},
   "outputs": [],
   "source": [
    "def test(*a):  #\n",
    "    return a"
   ]
  },
  {
   "cell_type": "code",
   "execution_count": 2,
   "id": "9922323a",
   "metadata": {},
   "outputs": [
    {
     "data": {
      "text/plain": [
       "(1, 2, 3, 4)"
      ]
     },
     "execution_count": 2,
     "metadata": {},
     "output_type": "execute_result"
    }
   ],
   "source": [
    "test(1,2,3,4)"
   ]
  },
  {
   "cell_type": "code",
   "execution_count": 3,
   "id": "59f3d70f",
   "metadata": {},
   "outputs": [],
   "source": [
    "def test1(a,b,c,d,e):\n",
    "    return a,b,c,d,e"
   ]
  },
  {
   "cell_type": "code",
   "execution_count": 4,
   "id": "5b769069",
   "metadata": {},
   "outputs": [
    {
     "ename": "TypeError",
     "evalue": "test1() takes 5 positional arguments but 6 were given",
     "output_type": "error",
     "traceback": [
      "\u001b[1;31m---------------------------------------------------------------------------\u001b[0m",
      "\u001b[1;31mTypeError\u001b[0m                                 Traceback (most recent call last)",
      "Cell \u001b[1;32mIn[4], line 1\u001b[0m\n\u001b[1;32m----> 1\u001b[0m test1(\u001b[38;5;241m1\u001b[39m,\u001b[38;5;241m2\u001b[39m,\u001b[38;5;241m3\u001b[39m,\u001b[38;5;241m4\u001b[39m,\u001b[38;5;241m5\u001b[39m,\u001b[38;5;241m6\u001b[39m)\n",
      "\u001b[1;31mTypeError\u001b[0m: test1() takes 5 positional arguments but 6 were given"
     ]
    }
   ],
   "source": [
    "test1(1,2,3,4,5,6)"
   ]
  },
  {
   "cell_type": "code",
   "execution_count": 5,
   "id": "484aa54e",
   "metadata": {},
   "outputs": [
    {
     "data": {
      "text/plain": [
       "(1, 2, 3, 4, 5)"
      ]
     },
     "execution_count": 5,
     "metadata": {},
     "output_type": "execute_result"
    }
   ],
   "source": [
    "test1(1,2,3,4,5)"
   ]
  },
  {
   "cell_type": "code",
   "execution_count": null,
   "id": "0ceb40a3",
   "metadata": {},
   "outputs": [],
   "source": [
    "def test(*a):  # too pass the multiple or n number of  parameter\n",
    "    return a"
   ]
  },
  {
   "cell_type": "code",
   "execution_count": 6,
   "id": "1a65ffdb",
   "metadata": {},
   "outputs": [
    {
     "data": {
      "text/plain": [
       "(1, 2, 3, 4)"
      ]
     },
     "execution_count": 6,
     "metadata": {},
     "output_type": "execute_result"
    }
   ],
   "source": [
    "test(1,2,3,4)"
   ]
  },
  {
   "cell_type": "code",
   "execution_count": 7,
   "id": "42a05b55",
   "metadata": {},
   "outputs": [],
   "source": [
    "def test(*args):\n",
    "    return args"
   ]
  },
  {
   "cell_type": "code",
   "execution_count": 11,
   "id": "c5747375",
   "metadata": {},
   "outputs": [],
   "source": [
    "def test2(*a):\n",
    "    l=[]\n",
    "    for i in a:\n",
    "        l.append(i)\n",
    "    return l"
   ]
  },
  {
   "cell_type": "code",
   "execution_count": 12,
   "id": "15fb45b3",
   "metadata": {},
   "outputs": [
    {
     "data": {
      "text/plain": [
       "[1, 2, 3, 4, 5, [1, 2, 3]]"
      ]
     },
     "execution_count": 12,
     "metadata": {},
     "output_type": "execute_result"
    }
   ],
   "source": [
    "test2(1,2,3,4,5,[1,2,3])"
   ]
  },
  {
   "cell_type": "code",
   "execution_count": 13,
   "id": "8f6c82f1",
   "metadata": {},
   "outputs": [],
   "source": [
    "def test6(a,b,c,d,*m):\n",
    "    return a,b,c,d,m\n"
   ]
  },
  {
   "cell_type": "code",
   "execution_count": 14,
   "id": "dd406eb7",
   "metadata": {},
   "outputs": [
    {
     "data": {
      "text/plain": [
       "(1, 2, 3, 4, (5, 6, 7, 8, 9))"
      ]
     },
     "execution_count": 14,
     "metadata": {},
     "output_type": "execute_result"
    }
   ],
   "source": [
    "test6(1,2,3,4,5,6,7,8,9)"
   ]
  },
  {
   "cell_type": "code",
   "execution_count": 15,
   "id": "44fe61da",
   "metadata": {},
   "outputs": [],
   "source": [
    "def test7(*a,b,c,d,e):\n",
    "    return a,b,c,d,e\n"
   ]
  },
  {
   "cell_type": "code",
   "execution_count": 17,
   "id": "60124cde",
   "metadata": {},
   "outputs": [
    {
     "ename": "TypeError",
     "evalue": "test7() missing 4 required keyword-only arguments: 'b', 'c', 'd', and 'e'",
     "output_type": "error",
     "traceback": [
      "\u001b[1;31m---------------------------------------------------------------------------\u001b[0m",
      "\u001b[1;31mTypeError\u001b[0m                                 Traceback (most recent call last)",
      "Cell \u001b[1;32mIn[17], line 1\u001b[0m\n\u001b[1;32m----> 1\u001b[0m test7(\u001b[38;5;241m1\u001b[39m,\u001b[38;5;241m2\u001b[39m,\u001b[38;5;241m3\u001b[39m,\u001b[38;5;241m4\u001b[39m,\u001b[38;5;241m5\u001b[39m,\u001b[38;5;241m6\u001b[39m,\u001b[38;5;241m7\u001b[39m,\u001b[38;5;241m8\u001b[39m)\n",
      "\u001b[1;31mTypeError\u001b[0m: test7() missing 4 required keyword-only arguments: 'b', 'c', 'd', and 'e'"
     ]
    }
   ],
   "source": [
    "test7(1,2,3,4,5,6,7,8)  #in this case it is considering all the variable for steric a "
   ]
  },
  {
   "cell_type": "code",
   "execution_count": 18,
   "id": "8dd47082",
   "metadata": {},
   "outputs": [],
   "source": [
    "#to solve the  above issue \n",
    "def test8(*a,b,c,d,e):\n",
    "    return a,b,c,d,e\n",
    "\n"
   ]
  },
  {
   "cell_type": "code",
   "execution_count": 19,
   "id": "b9f6d0ea",
   "metadata": {},
   "outputs": [
    {
     "data": {
      "text/plain": [
       "((1, 2, 3, 4, 5), 5, 4, 8, 9)"
      ]
     },
     "execution_count": 19,
     "metadata": {},
     "output_type": "execute_result"
    }
   ],
   "source": [
    "test8(1,2,3,4,5,b=5,c=4,d=8,e=9)"
   ]
  },
  {
   "cell_type": "code",
   "execution_count": 20,
   "id": "333f7471",
   "metadata": {},
   "outputs": [],
   "source": [
    "#too pass the key value type of input we cause double **\n",
    "\n",
    "def test9(**kwargs):\n",
    "    return kwargs"
   ]
  },
  {
   "cell_type": "code",
   "execution_count": 22,
   "id": "72e4ce36",
   "metadata": {},
   "outputs": [
    {
     "data": {
      "text/plain": [
       "{'a': 9, 'b': 20, 'c': 30}"
      ]
     },
     "execution_count": 22,
     "metadata": {},
     "output_type": "execute_result"
    }
   ],
   "source": [
    "test9(a=9,b=20,c=30)  # considering all data in form of dictionary"
   ]
  },
  {
   "cell_type": "code",
   "execution_count": 23,
   "id": "083edd8c",
   "metadata": {},
   "outputs": [
    {
     "data": {
      "text/plain": [
       "{'a': 9, 'b': 20, 'c': 30, 'd': [1, 'a']}"
      ]
     },
     "execution_count": 23,
     "metadata": {},
     "output_type": "execute_result"
    }
   ],
   "source": [
    "test9(a=9,b=20,c=30,d=[1,'a']) "
   ]
  },
  {
   "cell_type": "code",
   "execution_count": 24,
   "id": "f4f73b23",
   "metadata": {},
   "outputs": [],
   "source": [
    "def test10(*a,**k):\n",
    "    return a,k"
   ]
  },
  {
   "cell_type": "code",
   "execution_count": 25,
   "id": "b2318b65",
   "metadata": {},
   "outputs": [
    {
     "data": {
      "text/plain": [
       "((1, 2, 3, 4, 5), {'a': 3, 'b': 4, 'c': 10})"
      ]
     },
     "execution_count": 25,
     "metadata": {},
     "output_type": "execute_result"
    }
   ],
   "source": [
    "test10(1,2,3,4,5,a=3,b=4,c=10)"
   ]
  },
  {
   "cell_type": "code",
   "execution_count": 26,
   "id": "2cfcd9fc",
   "metadata": {},
   "outputs": [],
   "source": [
    "#labmda function also called inline fuction"
   ]
  },
  {
   "cell_type": "raw",
   "id": "c1113100",
   "metadata": {},
   "source": [
    "Q.Why lambda called anonymous function?\n"
   ]
  },
  {
   "cell_type": "code",
   "execution_count": 27,
   "id": "e92bbb0c",
   "metadata": {},
   "outputs": [],
   "source": [
    "t=(3,4,5,6,7,8,9)\n",
    "l=[]\n",
    "for i in t:\n",
    "    l.append(i)"
   ]
  },
  {
   "cell_type": "code",
   "execution_count": 28,
   "id": "2180d71e",
   "metadata": {},
   "outputs": [
    {
     "data": {
      "text/plain": [
       "[3, 4, 5, 6, 7, 8, 9]"
      ]
     },
     "execution_count": 28,
     "metadata": {},
     "output_type": "execute_result"
    }
   ],
   "source": [
    "l"
   ]
  },
  {
   "cell_type": "code",
   "execution_count": 29,
   "id": "f035f924",
   "metadata": {},
   "outputs": [
    {
     "data": {
      "text/plain": [
       "[3, 4, 5, 6, 7, 8, 9]"
      ]
     },
     "execution_count": 29,
     "metadata": {},
     "output_type": "execute_result"
    }
   ],
   "source": [
    "#comprehension operation\n",
    "[i for i in t]"
   ]
  },
  {
   "cell_type": "code",
   "execution_count": 32,
   "id": "6a3a5bee",
   "metadata": {},
   "outputs": [],
   "source": [
    "#convert the string into list\n",
    "s=\"prachi\""
   ]
  },
  {
   "cell_type": "code",
   "execution_count": 31,
   "id": "bf544685",
   "metadata": {},
   "outputs": [
    {
     "data": {
      "text/plain": [
       "['p', 'r', 'a', 'c', 'h', 'i']"
      ]
     },
     "execution_count": 31,
     "metadata": {},
     "output_type": "execute_result"
    }
   ],
   "source": [
    "[i for i in s]"
   ]
  },
  {
   "cell_type": "code",
   "execution_count": 33,
   "id": "fbaba28f",
   "metadata": {},
   "outputs": [
    {
     "data": {
      "text/plain": [
       "[0, 1, 4, 9, 16, 25, 36, 49, 64, 81]"
      ]
     },
     "execution_count": 33,
     "metadata": {},
     "output_type": "execute_result"
    }
   ],
   "source": [
    "#square of number\n",
    "[i*i for i in range(10)]"
   ]
  },
  {
   "cell_type": "code",
   "execution_count": 36,
   "id": "faa1a81a",
   "metadata": {},
   "outputs": [],
   "source": [
    "l=[]\n",
    "for i in range(10):\n",
    "    l.append(i*i)"
   ]
  },
  {
   "cell_type": "code",
   "execution_count": 37,
   "id": "5157624d",
   "metadata": {},
   "outputs": [
    {
     "data": {
      "text/plain": [
       "[0, 1, 4, 9, 16, 25, 36, 49, 64, 81]"
      ]
     },
     "execution_count": 37,
     "metadata": {},
     "output_type": "execute_result"
    }
   ],
   "source": [
    "l"
   ]
  },
  {
   "cell_type": "code",
   "execution_count": 38,
   "id": "7b9b5101",
   "metadata": {},
   "outputs": [],
   "source": [
    "l=lambda *x:[i*i for i in x]"
   ]
  },
  {
   "cell_type": "code",
   "execution_count": 39,
   "id": "39648de2",
   "metadata": {},
   "outputs": [
    {
     "data": {
      "text/plain": [
       "[1, 4, 9, 16]"
      ]
     },
     "execution_count": 39,
     "metadata": {},
     "output_type": "execute_result"
    }
   ],
   "source": [
    "l(1,2,3,4)"
   ]
  },
  {
   "cell_type": "code",
   "execution_count": 47,
   "id": "87e83452",
   "metadata": {},
   "outputs": [
    {
     "name": "stdout",
     "output_type": "stream",
     "text": [
      "{'a': 7, 'b': 'prachi', 'c': 345, 'd': 'rahul', 'l': [2, 3, 4, 5, 'prachi']}\n",
      "dict_values([7, 'prachi', 345, 'rahul', [2, 3, 4, 5, 'prachi']])\n"
     ]
    },
    {
     "data": {
      "text/plain": [
       "3"
      ]
     },
     "execution_count": 47,
     "metadata": {},
     "output_type": "execute_result"
    }
   ],
   "source": [
    "test14(a=7,b='prachi',c=345,d='rahul',l=[2,3,4,5,'prachi'])"
   ]
  },
  {
   "cell_type": "code",
   "execution_count": 46,
   "id": "667fca66",
   "metadata": {},
   "outputs": [],
   "source": [
    "def test14(**k):\n",
    "    count=0\n",
    "    print(k)\n",
    "    print(k.values())\n",
    "    for v in k.values():\n",
    "        if type(v)==str or type(v)==list:\n",
    "            count+=1\n",
    "    return count\n",
    "            \n",
    "    "
   ]
  },
  {
   "cell_type": "raw",
   "id": "ffdfd8ea",
   "metadata": {},
   "source": [
    "Q1.print prime number in between 1 to 100\n",
    "Q2.write a function equivallent to print function\n",
    "Q3.write a lmbda function which can return a concatination of all the string that we will pass\n",
    "Q4.write a lambda function which can return a list of cube of all the data between 1-20\n",
    "Q5.write a 10 different lambda functions of your choice\n",
    "Q6.wrie a function which can perform a read operation from .txt file"
   ]
  },
  {
   "cell_type": "code",
   "execution_count": 193,
   "id": "d5fe9da5",
   "metadata": {},
   "outputs": [],
   "source": [
    "l1=[1,2,'anuj',12,'vaibhav','delhi',14]\n",
    "l2=[]\n",
    "l3=[]\n",
    "\n",
    "\n",
    "for i in l1:\n",
    "    if type(i)==str:\n",
    "        l2.append(i)\n",
    "    else:\n",
    "        l3.append(i)"
   ]
  },
  {
   "cell_type": "code",
   "execution_count": 196,
   "id": "6e04c1ac",
   "metadata": {},
   "outputs": [],
   "source": [
    "def fk(*k):\n",
    "    l1=[]\n",
    "    l2=[]\n",
    "    for i in list(k):\n",
    "        if type(i)==str:\n",
    "            l1.append(i)\n",
    "        else:\n",
    "            l2.append(i)\n",
    "    "
   ]
  },
  {
   "cell_type": "code",
   "execution_count": 197,
   "id": "f83b7514",
   "metadata": {},
   "outputs": [],
   "source": [
    "fk(1,2,'anuj',12,'vaibhav','delhi',14)"
   ]
  },
  {
   "cell_type": "code",
   "execution_count": 198,
   "id": "dbe868af",
   "metadata": {},
   "outputs": [
    {
     "data": {
      "text/plain": [
       "[1, 2, 'anuj', 12, 'vaibhav', 'delhi', 14]"
      ]
     },
     "execution_count": 198,
     "metadata": {},
     "output_type": "execute_result"
    }
   ],
   "source": [
    "l1"
   ]
  },
  {
   "cell_type": "code",
   "execution_count": 199,
   "id": "9a3e756f",
   "metadata": {},
   "outputs": [
    {
     "data": {
      "text/plain": [
       "['anuj', 'vaibhav', 'delhi']"
      ]
     },
     "execution_count": 199,
     "metadata": {},
     "output_type": "execute_result"
    }
   ],
   "source": [
    "l2"
   ]
  },
  {
   "cell_type": "code",
   "execution_count": 48,
   "id": "885d3560",
   "metadata": {},
   "outputs": [],
   "source": [
    "l=[1,2,3,4,5]"
   ]
  },
  {
   "cell_type": "code",
   "execution_count": 50,
   "id": "b459c4d7",
   "metadata": {},
   "outputs": [
    {
     "name": "stdout",
     "output_type": "stream",
     "text": [
      "1\n",
      "2\n",
      "3\n",
      "4\n",
      "5\n"
     ]
    }
   ],
   "source": [
    "for i in l:\n",
    "    print(i)"
   ]
  },
  {
   "cell_type": "raw",
   "id": "ee960db9",
   "metadata": {},
   "source": [
    "#how for loop is working internally \n",
    "So there is inbuilt function in python called next()"
   ]
  },
  {
   "cell_type": "code",
   "execution_count": 52,
   "id": "6520c4f4",
   "metadata": {},
   "outputs": [],
   "source": [
    "##iterable and iterator\n",
    "\n",
    "b=iter(l)"
   ]
  },
  {
   "cell_type": "code",
   "execution_count": 53,
   "id": "baa03417",
   "metadata": {},
   "outputs": [
    {
     "data": {
      "text/plain": [
       "1"
      ]
     },
     "execution_count": 53,
     "metadata": {},
     "output_type": "execute_result"
    }
   ],
   "source": [
    "next(b)"
   ]
  },
  {
   "cell_type": "code",
   "execution_count": 54,
   "id": "a129abbc",
   "metadata": {},
   "outputs": [
    {
     "data": {
      "text/plain": [
       "2"
      ]
     },
     "execution_count": 54,
     "metadata": {},
     "output_type": "execute_result"
    }
   ],
   "source": [
    "next(b)"
   ]
  },
  {
   "cell_type": "code",
   "execution_count": 55,
   "id": "4acdb07b",
   "metadata": {},
   "outputs": [
    {
     "data": {
      "text/plain": [
       "3"
      ]
     },
     "execution_count": 55,
     "metadata": {},
     "output_type": "execute_result"
    }
   ],
   "source": [
    "next(b)"
   ]
  },
  {
   "cell_type": "raw",
   "id": "5a72d0f0",
   "metadata": {},
   "source": [
    "#what is the meaning of iterable or iterator\n",
    "\n",
    "Iterable is an object, that one can iterate over. It generates an Iterator when passed to iter() method. An iterator is an object, which is used to iterate over an iterable object using the __next__() method. Iterators have the __next__() method, which returns the next item of the object.\n",
    "\n",
    "Note: Every iterator is also an iterable, but not every iterable is an iterator in Python.\n"
   ]
  },
  {
   "cell_type": "raw",
   "id": "bdfe2169",
   "metadata": {},
   "source": [
    "#We know that str is iterable but it is not an iterator. where if we run this in for loop to print string then it is possible because when for loop executes it converts into an iterator to execute the code."
   ]
  },
  {
   "cell_type": "code",
   "execution_count": 57,
   "id": "4762829c",
   "metadata": {},
   "outputs": [
    {
     "ename": "TypeError",
     "evalue": "'str' object is not an iterator",
     "output_type": "error",
     "traceback": [
      "\u001b[1;31m---------------------------------------------------------------------------\u001b[0m",
      "\u001b[1;31mTypeError\u001b[0m                                 Traceback (most recent call last)",
      "Cell \u001b[1;32mIn[57], line 1\u001b[0m\n\u001b[1;32m----> 1\u001b[0m \u001b[38;5;28mnext\u001b[39m(\u001b[38;5;124m\"\u001b[39m\u001b[38;5;124mGFG\u001b[39m\u001b[38;5;124m\"\u001b[39m)\n",
      "\u001b[1;31mTypeError\u001b[0m: 'str' object is not an iterator"
     ]
    }
   ],
   "source": [
    "next(\"GFG\")"
   ]
  },
  {
   "cell_type": "code",
   "execution_count": 58,
   "id": "d2355835",
   "metadata": {},
   "outputs": [
    {
     "name": "stdout",
     "output_type": "stream",
     "text": [
      "<str_ascii_iterator object at 0x000002A43739E0E0>\n",
      "G\n",
      "F\n",
      "G\n"
     ]
    }
   ],
   "source": [
    "s=\"GFG\"\n",
    "s=iter(s)\n",
    "print(s)\n",
    "print(next(s))\n",
    "print(next(s))\n",
    "print(next(s))"
   ]
  },
  {
   "cell_type": "code",
   "execution_count": 59,
   "id": "7f8607b2",
   "metadata": {},
   "outputs": [],
   "source": [
    "#Function ‘iterable’ will return True if the object ‘obj’ is an iterable and False otherwise. "
   ]
  },
  {
   "cell_type": "code",
   "execution_count": 61,
   "id": "4ab2c0d5",
   "metadata": {},
   "outputs": [
    {
     "name": "stdout",
     "output_type": "stream",
     "text": [
      "Berlin\n",
      "Vienna\n",
      "Zurich\n"
     ]
    }
   ],
   "source": [
    "cities = [\"Berlin\", \"Vienna\", \"Zurich\"]\n",
    " \n",
    "# initialize the object\n",
    "iterator_obj = iter(cities)\n",
    " \n",
    "print(next(iterator_obj))\n",
    "print(next(iterator_obj))\n",
    "print(next(iterator_obj))"
   ]
  },
  {
   "cell_type": "code",
   "execution_count": 62,
   "id": "9b0982e6",
   "metadata": {},
   "outputs": [],
   "source": [
    "#Note: If ‘next(iterator_obj)’ is called one more time, it would return ‘StopIteration’.   "
   ]
  },
  {
   "cell_type": "code",
   "execution_count": 63,
   "id": "fec921e0",
   "metadata": {},
   "outputs": [
    {
     "name": "stdout",
     "output_type": "stream",
     "text": [
      "34 is iterable : False\n",
      "[4, 5] is iterable : True\n",
      "(4, 5) is iterable : True\n",
      "{'a': 4} is iterable : True\n",
      "dfsdf is iterable : True\n",
      "4.5 is iterable : False\n"
     ]
    }
   ],
   "source": [
    "#Check object is iterable or not.\n",
    "def it(ob):\n",
    "  try:\n",
    "      iter(ob)\n",
    "      return True\n",
    "  except TypeError:\n",
    "      return False\n",
    " \n",
    "# Driver Code\n",
    "for i in [34, [4, 5], (4, 5),\n",
    "{\"a\":4}, \"dfsdf\", 4.5]:\n",
    " \n",
    "    print(i,\"is iterable :\",it(i))\n"
   ]
  },
  {
   "cell_type": "code",
   "execution_count": 64,
   "id": "69e7c39d",
   "metadata": {},
   "outputs": [
    {
     "ename": "TypeError",
     "evalue": "'int' object is not iterable",
     "output_type": "error",
     "traceback": [
      "\u001b[1;31m---------------------------------------------------------------------------\u001b[0m",
      "\u001b[1;31mTypeError\u001b[0m                                 Traceback (most recent call last)",
      "Cell \u001b[1;32mIn[64], line 1\u001b[0m\n\u001b[1;32m----> 1\u001b[0m \u001b[38;5;28;01mfor\u001b[39;00m i \u001b[38;5;129;01min\u001b[39;00m \u001b[38;5;241m2345\u001b[39m:\n\u001b[0;32m      2\u001b[0m     \u001b[38;5;28mprint\u001b[39m(i)\n",
      "\u001b[1;31mTypeError\u001b[0m: 'int' object is not iterable"
     ]
    }
   ],
   "source": [
    "for i in 2345:\n",
    "    print(i)"
   ]
  },
  {
   "cell_type": "code",
   "execution_count": 65,
   "id": "f77a8ca7",
   "metadata": {},
   "outputs": [],
   "source": [
    "l=[1,2,3]"
   ]
  },
  {
   "cell_type": "code",
   "execution_count": 66,
   "id": "ceb3de07",
   "metadata": {},
   "outputs": [
    {
     "name": "stdout",
     "output_type": "stream",
     "text": [
      "1\n",
      "2\n",
      "3\n"
     ]
    }
   ],
   "source": [
    "for i in l:\n",
    "    print(i)"
   ]
  },
  {
   "cell_type": "code",
   "execution_count": 67,
   "id": "61ddd17a",
   "metadata": {},
   "outputs": [
    {
     "ename": "TypeError",
     "evalue": "'list' object is not an iterator",
     "output_type": "error",
     "traceback": [
      "\u001b[1;31m---------------------------------------------------------------------------\u001b[0m",
      "\u001b[1;31mTypeError\u001b[0m                                 Traceback (most recent call last)",
      "Cell \u001b[1;32mIn[67], line 1\u001b[0m\n\u001b[1;32m----> 1\u001b[0m \u001b[38;5;28mnext\u001b[39m(l)\n",
      "\u001b[1;31mTypeError\u001b[0m: 'list' object is not an iterator"
     ]
    }
   ],
   "source": [
    "next(l)"
   ]
  },
  {
   "cell_type": "code",
   "execution_count": 68,
   "id": "bac9e9ae",
   "metadata": {},
   "outputs": [],
   "source": [
    "b=iter(l)"
   ]
  },
  {
   "cell_type": "code",
   "execution_count": 69,
   "id": "8512c0ad",
   "metadata": {},
   "outputs": [
    {
     "data": {
      "text/plain": [
       "1"
      ]
     },
     "execution_count": 69,
     "metadata": {},
     "output_type": "execute_result"
    }
   ],
   "source": [
    "next(b)"
   ]
  },
  {
   "cell_type": "code",
   "execution_count": 70,
   "id": "39d0da84",
   "metadata": {},
   "outputs": [
    {
     "data": {
      "text/plain": [
       "2"
      ]
     },
     "execution_count": 70,
     "metadata": {},
     "output_type": "execute_result"
    }
   ],
   "source": [
    "next(b)"
   ]
  },
  {
   "cell_type": "code",
   "execution_count": 71,
   "id": "0c90eacb",
   "metadata": {},
   "outputs": [
    {
     "data": {
      "text/plain": [
       "3"
      ]
     },
     "execution_count": 71,
     "metadata": {},
     "output_type": "execute_result"
    }
   ],
   "source": [
    "next(b)"
   ]
  },
  {
   "cell_type": "code",
   "execution_count": 72,
   "id": "1c7418b3",
   "metadata": {},
   "outputs": [
    {
     "ename": "StopIteration",
     "evalue": "",
     "output_type": "error",
     "traceback": [
      "\u001b[1;31m---------------------------------------------------------------------------\u001b[0m",
      "\u001b[1;31mStopIteration\u001b[0m                             Traceback (most recent call last)",
      "Cell \u001b[1;32mIn[72], line 1\u001b[0m\n\u001b[1;32m----> 1\u001b[0m \u001b[38;5;28mnext\u001b[39m(b)\n",
      "\u001b[1;31mStopIteration\u001b[0m: "
     ]
    }
   ],
   "source": [
    "next(b)"
   ]
  },
  {
   "cell_type": "code",
   "execution_count": 75,
   "id": "e387ce15",
   "metadata": {},
   "outputs": [
    {
     "data": {
      "text/plain": [
       "[1, 2, 3, 4, 5, 6, 7, 8, 9]"
      ]
     },
     "execution_count": 75,
     "metadata": {},
     "output_type": "execute_result"
    }
   ],
   "source": [
    "list(range(1,10))"
   ]
  },
  {
   "cell_type": "code",
   "execution_count": 76,
   "id": "e3c6e27e",
   "metadata": {},
   "outputs": [],
   "source": [
    "def sq_fun(n):\n",
    "    x=[i*i for i in range(n)]\n",
    "    return x"
   ]
  },
  {
   "cell_type": "code",
   "execution_count": 77,
   "id": "e1299e0a",
   "metadata": {},
   "outputs": [
    {
     "data": {
      "text/plain": [
       "[0, 1, 4, 9]"
      ]
     },
     "execution_count": 77,
     "metadata": {},
     "output_type": "execute_result"
    }
   ],
   "source": [
    "sq_fun(4)"
   ]
  },
  {
   "cell_type": "raw",
   "id": "237ad1c6",
   "metadata": {},
   "source": [
    "Generator Function in Python\n",
    "A generator function in Python is defined like a normal function, but whenever it needs to generate a value, it does so with the yield keyword rather than return. If the body of a def contains yield, the function automatically becomes a Python generator function. "
   ]
  },
  {
   "cell_type": "code",
   "execution_count": 79,
   "id": "50d0ff3e",
   "metadata": {},
   "outputs": [],
   "source": [
    "def simpleGeneratorFun(): \n",
    "    yield 1            \n",
    "    yield 2            \n",
    "    yield 3            \n",
    "   "
   ]
  },
  {
   "cell_type": "code",
   "execution_count": 80,
   "id": "96f0d465",
   "metadata": {},
   "outputs": [
    {
     "name": "stdout",
     "output_type": "stream",
     "text": [
      "1\n",
      "2\n",
      "3\n"
     ]
    }
   ],
   "source": [
    "for value in simpleGeneratorFun():  \n",
    "    print(value)"
   ]
  },
  {
   "cell_type": "code",
   "execution_count": 78,
   "id": "1b07450d",
   "metadata": {},
   "outputs": [],
   "source": [
    "def sq_fun(n):\n",
    "    x=[i*i for i in range(n)]\n",
    "    yield x"
   ]
  },
  {
   "cell_type": "code",
   "execution_count": 81,
   "id": "20900aa4",
   "metadata": {},
   "outputs": [],
   "source": [
    "def simpleGeneratorFun(): \n",
    "    yield 1\n",
    "    yield 2\n",
    "    yield 3"
   ]
  },
  {
   "cell_type": "code",
   "execution_count": 82,
   "id": "4da407d1",
   "metadata": {},
   "outputs": [
    {
     "name": "stdout",
     "output_type": "stream",
     "text": [
      "1\n",
      "2\n",
      "3\n"
     ]
    }
   ],
   "source": [
    "x = simpleGeneratorFun() \n",
    "  \n",
    "# Iterating ov the generator object using next \n",
    "  \n",
    "# In Python 3, __next__() \n",
    "print(next(x)) \n",
    "print(next(x)) \n",
    "print(next(x))"
   ]
  },
  {
   "cell_type": "code",
   "execution_count": 86,
   "id": "dc9e2afe",
   "metadata": {},
   "outputs": [],
   "source": [
    "#fibinacci\n",
    "def genfib(n):\n",
    "    a,b=1,1\n",
    "    l=[]\n",
    "    for i in range(n):\n",
    "        l.append(a)\n",
    "        a,b=b,a+b\n",
    "    return(l)"
   ]
  },
  {
   "cell_type": "code",
   "execution_count": 87,
   "id": "5e9febce",
   "metadata": {},
   "outputs": [
    {
     "data": {
      "text/plain": [
       "[1, 1, 2, 3, 5, 8, 13, 21, 34, 55]"
      ]
     },
     "execution_count": 87,
     "metadata": {},
     "output_type": "execute_result"
    }
   ],
   "source": [
    "genfib(10)"
   ]
  },
  {
   "cell_type": "code",
   "execution_count": 88,
   "id": "301babd3",
   "metadata": {},
   "outputs": [],
   "source": [
    "def genfib1(n):\n",
    "    a,b=1,1\n",
    "    for i in range(n):\n",
    "        yield a\n",
    "        a,b=b,a+b\n",
    "  "
   ]
  },
  {
   "cell_type": "code",
   "execution_count": 89,
   "id": "84cc8191",
   "metadata": {},
   "outputs": [
    {
     "data": {
      "text/plain": [
       "<generator object genfib1 at 0x000002A438010C70>"
      ]
     },
     "execution_count": 89,
     "metadata": {},
     "output_type": "execute_result"
    }
   ],
   "source": [
    "genfib1(10)"
   ]
  },
  {
   "cell_type": "code",
   "execution_count": 91,
   "id": "0350791b",
   "metadata": {},
   "outputs": [
    {
     "name": "stdout",
     "output_type": "stream",
     "text": [
      "1\n",
      "1\n",
      "2\n",
      "3\n",
      "5\n",
      "8\n",
      "13\n",
      "21\n",
      "34\n",
      "55\n"
     ]
    }
   ],
   "source": [
    "for i in genfib1(10):\n",
    "    print(i)"
   ]
  },
  {
   "cell_type": "code",
   "execution_count": 92,
   "id": "c788b13c",
   "metadata": {},
   "outputs": [],
   "source": [
    "#generator basically used when we have huge amount of data"
   ]
  },
  {
   "cell_type": "code",
   "execution_count": 93,
   "id": "ec62f89d",
   "metadata": {},
   "outputs": [],
   "source": [
    "#generate data and throwing into ur console less comnsumption of memory as compare to return"
   ]
  },
  {
   "cell_type": "code",
   "execution_count": 94,
   "id": "82681d49",
   "metadata": {},
   "outputs": [],
   "source": [
    "#string,list,tuple all are iterable object"
   ]
  },
  {
   "cell_type": "code",
   "execution_count": 95,
   "id": "a5aa2d81",
   "metadata": {},
   "outputs": [],
   "source": [
    "#file operations,file handeling"
   ]
  },
  {
   "cell_type": "code",
   "execution_count": 96,
   "id": "b5d8e87e",
   "metadata": {},
   "outputs": [],
   "source": [
    "#file open \n",
    "f=open(\"prachi.txt\")"
   ]
  },
  {
   "cell_type": "code",
   "execution_count": 98,
   "id": "22e337be",
   "metadata": {},
   "outputs": [
    {
     "data": {
      "text/plain": [
       "'my name is prachi'"
      ]
     },
     "execution_count": 98,
     "metadata": {},
     "output_type": "execute_result"
    }
   ],
   "source": [
    "f.read()"
   ]
  },
  {
   "cell_type": "code",
   "execution_count": 99,
   "id": "fa44d72f",
   "metadata": {},
   "outputs": [
    {
     "ename": "FileNotFoundError",
     "evalue": "[Errno 2] No such file or directory: 'prachi1.txt'",
     "output_type": "error",
     "traceback": [
      "\u001b[1;31m---------------------------------------------------------------------------\u001b[0m",
      "\u001b[1;31mFileNotFoundError\u001b[0m                         Traceback (most recent call last)",
      "Cell \u001b[1;32mIn[99], line 1\u001b[0m\n\u001b[1;32m----> 1\u001b[0m f1\u001b[38;5;241m=\u001b[39m\u001b[38;5;28mopen\u001b[39m(\u001b[38;5;124m\"\u001b[39m\u001b[38;5;124mprachi1.txt\u001b[39m\u001b[38;5;124m\"\u001b[39m)\n",
      "File \u001b[1;32mC:\\ProgramData\\anaconda3\\Lib\\site-packages\\IPython\\core\\interactiveshell.py:286\u001b[0m, in \u001b[0;36m_modified_open\u001b[1;34m(file, *args, **kwargs)\u001b[0m\n\u001b[0;32m    279\u001b[0m \u001b[38;5;28;01mif\u001b[39;00m file \u001b[38;5;129;01min\u001b[39;00m {\u001b[38;5;241m0\u001b[39m, \u001b[38;5;241m1\u001b[39m, \u001b[38;5;241m2\u001b[39m}:\n\u001b[0;32m    280\u001b[0m     \u001b[38;5;28;01mraise\u001b[39;00m \u001b[38;5;167;01mValueError\u001b[39;00m(\n\u001b[0;32m    281\u001b[0m         \u001b[38;5;124mf\u001b[39m\u001b[38;5;124m\"\u001b[39m\u001b[38;5;124mIPython won\u001b[39m\u001b[38;5;124m'\u001b[39m\u001b[38;5;124mt let you open fd=\u001b[39m\u001b[38;5;132;01m{\u001b[39;00mfile\u001b[38;5;132;01m}\u001b[39;00m\u001b[38;5;124m by default \u001b[39m\u001b[38;5;124m\"\u001b[39m\n\u001b[0;32m    282\u001b[0m         \u001b[38;5;124m\"\u001b[39m\u001b[38;5;124mas it is likely to crash IPython. If you know what you are doing, \u001b[39m\u001b[38;5;124m\"\u001b[39m\n\u001b[0;32m    283\u001b[0m         \u001b[38;5;124m\"\u001b[39m\u001b[38;5;124myou can use builtins\u001b[39m\u001b[38;5;124m'\u001b[39m\u001b[38;5;124m open.\u001b[39m\u001b[38;5;124m\"\u001b[39m\n\u001b[0;32m    284\u001b[0m     )\n\u001b[1;32m--> 286\u001b[0m \u001b[38;5;28;01mreturn\u001b[39;00m io_open(file, \u001b[38;5;241m*\u001b[39margs, \u001b[38;5;241m*\u001b[39m\u001b[38;5;241m*\u001b[39mkwargs)\n",
      "\u001b[1;31mFileNotFoundError\u001b[0m: [Errno 2] No such file or directory: 'prachi1.txt'"
     ]
    }
   ],
   "source": [
    "f1=open(\"prachi1.txt\")"
   ]
  },
  {
   "cell_type": "code",
   "execution_count": 101,
   "id": "69ace5ce",
   "metadata": {},
   "outputs": [
    {
     "name": "stdout",
     "output_type": "stream",
     "text": [
      " Volume in drive C is OS\n",
      " Volume Serial Number is 9270-D251\n",
      "\n",
      " Directory of C:\\Users\\prach\n",
      "\n",
      "13-04-2024  15:51    <DIR>          .\n",
      "04-12-2023  19:29    <DIR>          ..\n",
      "02-03-2024  14:50    <DIR>          .anaconda\n",
      "09-12-2023  09:46    <DIR>          .astropy\n",
      "14-03-2024  16:28    <DIR>          .aws\n",
      "12-03-2024  14:37                16 .bash_history\n",
      "02-03-2024  16:46    <DIR>          .conda\n",
      "02-03-2024  14:51                25 .condarc\n",
      "02-03-2024  14:50    <DIR>          .continuum\n",
      "18-03-2024  13:56               214 .gitconfig\n",
      "13-04-2024  14:19    <DIR>          .ipynb_checkpoints\n",
      "25-12-2023  11:23    <DIR>          .ipython\n",
      "02-03-2024  15:26    <DIR>          .jupyter\n",
      "10-03-2024  11:22    <DIR>          .keras\n",
      "10-03-2024  10:39    <DIR>          .matplotlib\n",
      "04-12-2023  21:14    <DIR>          .vscode\n",
      "18-03-2024  23:08    <DIR>          anaconda3\n",
      "23-03-2024  23:47    <DIR>          API\n",
      "10-03-2024  11:05           199,644 archive (1).zip\n",
      "10-03-2024  11:06           938,020 Bengaluru_House_Data.csv\n",
      "04-12-2023  19:10    <DIR>          Contacts\n",
      "10-03-2024  11:25           398,584 DeepLearning_Question2.ipynb\n",
      "13-04-2024  15:49    <DIR>          Desktop\n",
      "07-04-2024  16:23            97,446 difference.png\n",
      "10-03-2024  11:26            27,083 DL_Question2.ipynb\n",
      "10-03-2024  11:32            42,303 DL_Question3.ipynb\n",
      "10-04-2024  17:28    <DIR>          Documents\n",
      "12-04-2024  21:02    <DIR>          Downloads\n",
      "04-12-2023  19:10    <DIR>          Favorites\n",
      "06-04-2024  12:53    <DIR>          Flask\n",
      "08-04-2024  11:58    <DIR>          Flask1\n",
      "06-04-2024  11:14           155,103 flipkart  scarpping.ipynb\n",
      "06-04-2024  18:54            13,489 Functions.ipynb\n",
      "08-04-2024  17:35            40,130 image_scraper.ipynb\n",
      "08-04-2024  17:33    <DIR>          images\n",
      "08-04-2024  21:51    <DIR>          ImageScrapper\n",
      "10-03-2024  10:51            40,533 instagram_reach.csv\n",
      "07-04-2024  16:11           177,634 lambda.png\n",
      "07-04-2024  16:16           132,232 lambda1.png\n",
      "04-12-2023  19:10    <DIR>          Links\n",
      "04-12-2023  21:19    <DIR>          Microsoft\n",
      "10-03-2024  11:05             2,395 ML_Question1.ipynb\n",
      "10-03-2024  11:14            42,481 ML_Question2.ipynb\n",
      "10-03-2024  11:16             3,282 ML_Question3.ipynb\n",
      "12-03-2024  14:28    <DIR>          MLproject\n",
      "04-12-2023  19:10    <DIR>          Music\n",
      "20-03-2024  11:12    <DIR>          OneDrive\n",
      "02-03-2024  00:36           144,914 pandas.ipynb\n",
      "03-03-2024  15:20    <DIR>          Pictures\n",
      "23-03-2024  22:17    <DIR>          Postman\n",
      "12-03-2024  21:39    <DIR>          prachi\n",
      "13-04-2024  15:49                17 prachi.txt\n",
      "13-04-2024  15:51                 0 prachi1.txt\n",
      "07-04-2024  18:19    <DIR>          Python\n",
      "03-03-2024  17:36            47,862 Python day 2.ipynb\n",
      "10-03-2024  15:34    <DIR>          Python_analytics\n",
      "04-04-2024  18:42    <DIR>          Python_numpy\n",
      "12-03-2024  12:50    <DIR>          Python_Project_data_Cleaning\n",
      "10-03-2024  09:41    <DIR>          Python_q1\n",
      "10-03-2024  09:59             3,375 Question1.ipynb\n",
      "10-03-2024  10:00             2,567 Question2.ipynb\n",
      "10-03-2024  10:03             2,144 Question3.ipynb\n",
      "10-03-2024  10:06             2,761 Question4.ipynb\n",
      "04-12-2023  19:10    <DIR>          Saved Games\n",
      "10-03-2024  11:29    <DIR>          scikit_learn_data\n",
      "04-12-2023  19:29    <DIR>          Searches\n",
      "24-03-2024  14:38    <DIR>          SQL_Flask\n",
      "10-03-2024  10:41            31,306 Stats_Question4.ipynb\n",
      "01-03-2024  23:42            94,421 test.json\n",
      "13-03-2024  21:31    <DIR>          UberDataAnalytics\n",
      "01-03-2024  11:55             2,136 Untitled.ipynb\n",
      "02-03-2024  15:36               909 Untitled1.ipynb\n",
      "19-03-2024  11:25            27,819 Untitled10.ipynb\n",
      "20-03-2024  15:17             1,106 Untitled11.ipynb\n",
      "06-04-2024  17:35             6,690 Untitled12.ipynb\n",
      "07-04-2024  18:42            20,591 Untitled13.ipynb\n",
      "10-04-2024  12:22             2,335 Untitled14.ipynb\n",
      "13-04-2024  15:49            27,741 Untitled15.ipynb\n",
      "02-03-2024  15:45             3,890 Untitled2.ipynb\n",
      "02-03-2024  18:30               617 Untitled3.ipynb\n",
      "03-03-2024  19:13            23,891 Untitled4.ipynb\n",
      "09-03-2024  18:57            44,342 Untitled5.ipynb\n",
      "10-03-2024  17:54            18,145 Untitled6.ipynb\n",
      "10-03-2024  19:03            23,006 Untitled7.ipynb\n",
      "10-03-2024  18:45             1,433 Untitled8.ipynb\n",
      "16-03-2024  19:18            47,922 Untitled9.ipynb\n",
      "12-12-2023  09:32    <DIR>          Videos\n",
      "08-04-2024  16:23    <DIR>          Web Project\n",
      "14-03-2024  16:39    <DIR>          Youtube_dataAnalysis\n",
      "              44 File(s)      2,892,554 bytes\n",
      "              45 Dir(s)  373,205,266,432 bytes free\n"
     ]
    }
   ],
   "source": [
    "ls"
   ]
  },
  {
   "cell_type": "code",
   "execution_count": null,
   "id": "f5245fc9",
   "metadata": {},
   "outputs": [],
   "source": [
    "mode---->write -'w',read -'r'"
   ]
  },
  {
   "cell_type": "code",
   "execution_count": 100,
   "id": "dc7178f6",
   "metadata": {},
   "outputs": [],
   "source": [
    "f1=open(\"prachi1.txt\",'w')"
   ]
  },
  {
   "cell_type": "code",
   "execution_count": 102,
   "id": "da399558",
   "metadata": {},
   "outputs": [
    {
     "name": "stdout",
     "output_type": "stream",
     "text": [
      " Volume in drive C is OS\n",
      " Volume Serial Number is 9270-D251\n",
      "\n",
      " Directory of C:\\Users\\prach\n",
      "\n",
      "13-04-2024  15:51    <DIR>          .\n",
      "04-12-2023  19:29    <DIR>          ..\n",
      "02-03-2024  14:50    <DIR>          .anaconda\n",
      "09-12-2023  09:46    <DIR>          .astropy\n",
      "14-03-2024  16:28    <DIR>          .aws\n",
      "12-03-2024  14:37                16 .bash_history\n",
      "02-03-2024  16:46    <DIR>          .conda\n",
      "02-03-2024  14:51                25 .condarc\n",
      "02-03-2024  14:50    <DIR>          .continuum\n",
      "18-03-2024  13:56               214 .gitconfig\n",
      "13-04-2024  14:19    <DIR>          .ipynb_checkpoints\n",
      "25-12-2023  11:23    <DIR>          .ipython\n",
      "02-03-2024  15:26    <DIR>          .jupyter\n",
      "10-03-2024  11:22    <DIR>          .keras\n",
      "10-03-2024  10:39    <DIR>          .matplotlib\n",
      "04-12-2023  21:14    <DIR>          .vscode\n",
      "18-03-2024  23:08    <DIR>          anaconda3\n",
      "23-03-2024  23:47    <DIR>          API\n",
      "10-03-2024  11:05           199,644 archive (1).zip\n",
      "10-03-2024  11:06           938,020 Bengaluru_House_Data.csv\n",
      "04-12-2023  19:10    <DIR>          Contacts\n",
      "10-03-2024  11:25           398,584 DeepLearning_Question2.ipynb\n",
      "13-04-2024  15:49    <DIR>          Desktop\n",
      "07-04-2024  16:23            97,446 difference.png\n",
      "10-03-2024  11:26            27,083 DL_Question2.ipynb\n",
      "10-03-2024  11:32            42,303 DL_Question3.ipynb\n",
      "10-04-2024  17:28    <DIR>          Documents\n",
      "12-04-2024  21:02    <DIR>          Downloads\n",
      "04-12-2023  19:10    <DIR>          Favorites\n",
      "06-04-2024  12:53    <DIR>          Flask\n",
      "08-04-2024  11:58    <DIR>          Flask1\n",
      "06-04-2024  11:14           155,103 flipkart  scarpping.ipynb\n",
      "06-04-2024  18:54            13,489 Functions.ipynb\n",
      "08-04-2024  17:35            40,130 image_scraper.ipynb\n",
      "08-04-2024  17:33    <DIR>          images\n",
      "08-04-2024  21:51    <DIR>          ImageScrapper\n",
      "10-03-2024  10:51            40,533 instagram_reach.csv\n",
      "07-04-2024  16:11           177,634 lambda.png\n",
      "07-04-2024  16:16           132,232 lambda1.png\n",
      "04-12-2023  19:10    <DIR>          Links\n",
      "04-12-2023  21:19    <DIR>          Microsoft\n",
      "10-03-2024  11:05             2,395 ML_Question1.ipynb\n",
      "10-03-2024  11:14            42,481 ML_Question2.ipynb\n",
      "10-03-2024  11:16             3,282 ML_Question3.ipynb\n",
      "12-03-2024  14:28    <DIR>          MLproject\n",
      "04-12-2023  19:10    <DIR>          Music\n",
      "20-03-2024  11:12    <DIR>          OneDrive\n",
      "02-03-2024  00:36           144,914 pandas.ipynb\n",
      "03-03-2024  15:20    <DIR>          Pictures\n",
      "23-03-2024  22:17    <DIR>          Postman\n",
      "12-03-2024  21:39    <DIR>          prachi\n",
      "13-04-2024  15:49                17 prachi.txt\n",
      "13-04-2024  15:51                 0 prachi1.txt\n",
      "07-04-2024  18:19    <DIR>          Python\n",
      "03-03-2024  17:36            47,862 Python day 2.ipynb\n",
      "10-03-2024  15:34    <DIR>          Python_analytics\n",
      "04-04-2024  18:42    <DIR>          Python_numpy\n",
      "12-03-2024  12:50    <DIR>          Python_Project_data_Cleaning\n",
      "10-03-2024  09:41    <DIR>          Python_q1\n",
      "10-03-2024  09:59             3,375 Question1.ipynb\n",
      "10-03-2024  10:00             2,567 Question2.ipynb\n",
      "10-03-2024  10:03             2,144 Question3.ipynb\n",
      "10-03-2024  10:06             2,761 Question4.ipynb\n",
      "04-12-2023  19:10    <DIR>          Saved Games\n",
      "10-03-2024  11:29    <DIR>          scikit_learn_data\n",
      "04-12-2023  19:29    <DIR>          Searches\n",
      "24-03-2024  14:38    <DIR>          SQL_Flask\n",
      "10-03-2024  10:41            31,306 Stats_Question4.ipynb\n",
      "01-03-2024  23:42            94,421 test.json\n",
      "13-03-2024  21:31    <DIR>          UberDataAnalytics\n",
      "01-03-2024  11:55             2,136 Untitled.ipynb\n",
      "02-03-2024  15:36               909 Untitled1.ipynb\n",
      "19-03-2024  11:25            27,819 Untitled10.ipynb\n",
      "20-03-2024  15:17             1,106 Untitled11.ipynb\n",
      "06-04-2024  17:35             6,690 Untitled12.ipynb\n",
      "07-04-2024  18:42            20,591 Untitled13.ipynb\n",
      "10-04-2024  12:22             2,335 Untitled14.ipynb\n",
      "13-04-2024  15:51            36,781 Untitled15.ipynb\n",
      "02-03-2024  15:45             3,890 Untitled2.ipynb\n",
      "02-03-2024  18:30               617 Untitled3.ipynb\n",
      "03-03-2024  19:13            23,891 Untitled4.ipynb\n",
      "09-03-2024  18:57            44,342 Untitled5.ipynb\n",
      "10-03-2024  17:54            18,145 Untitled6.ipynb\n",
      "10-03-2024  19:03            23,006 Untitled7.ipynb\n",
      "10-03-2024  18:45             1,433 Untitled8.ipynb\n",
      "16-03-2024  19:18            47,922 Untitled9.ipynb\n",
      "12-12-2023  09:32    <DIR>          Videos\n",
      "08-04-2024  16:23    <DIR>          Web Project\n",
      "14-03-2024  16:39    <DIR>          Youtube_dataAnalysis\n",
      "              44 File(s)      2,901,594 bytes\n",
      "              45 Dir(s)  373,204,426,752 bytes free\n"
     ]
    }
   ],
   "source": [
    "ls"
   ]
  },
  {
   "cell_type": "code",
   "execution_count": 104,
   "id": "40e25900",
   "metadata": {},
   "outputs": [
    {
     "data": {
      "text/plain": [
       "31"
      ]
     },
     "execution_count": 104,
     "metadata": {},
     "output_type": "execute_result"
    }
   ],
   "source": [
    "#write operation\n",
    "f1.write(\"this is my first file operation\")"
   ]
  },
  {
   "cell_type": "code",
   "execution_count": 108,
   "id": "3b3ad34b",
   "metadata": {},
   "outputs": [],
   "source": [
    "f1.close()"
   ]
  },
  {
   "cell_type": "code",
   "execution_count": 112,
   "id": "975c6e32",
   "metadata": {},
   "outputs": [],
   "source": [
    "f2=open(\"prachi1.txt\",'r')"
   ]
  },
  {
   "cell_type": "code",
   "execution_count": 114,
   "id": "6b038a88",
   "metadata": {},
   "outputs": [
    {
     "data": {
      "text/plain": [
       "'this is my first file operation'"
      ]
     },
     "execution_count": 114,
     "metadata": {},
     "output_type": "execute_result"
    }
   ],
   "source": [
    "f2.read()"
   ]
  },
  {
   "cell_type": "code",
   "execution_count": 115,
   "id": "e74e7ba5",
   "metadata": {},
   "outputs": [],
   "source": [
    "l=[1,2,3,4,5]"
   ]
  },
  {
   "cell_type": "code",
   "execution_count": 116,
   "id": "60cc1e39",
   "metadata": {},
   "outputs": [],
   "source": [
    "f3=open(\"test2.txt\",'w')"
   ]
  },
  {
   "cell_type": "code",
   "execution_count": 118,
   "id": "6f5df9ed",
   "metadata": {},
   "outputs": [
    {
     "data": {
      "text/plain": [
       "15"
      ]
     },
     "execution_count": 118,
     "metadata": {},
     "output_type": "execute_result"
    }
   ],
   "source": [
    "f3.write(str(l))"
   ]
  },
  {
   "cell_type": "code",
   "execution_count": 120,
   "id": "84ebe0af",
   "metadata": {},
   "outputs": [],
   "source": [
    "f3.close()"
   ]
  },
  {
   "cell_type": "code",
   "execution_count": 121,
   "id": "1a2df7c5",
   "metadata": {},
   "outputs": [],
   "source": [
    "f4=open('test2.txt')"
   ]
  },
  {
   "cell_type": "code",
   "execution_count": 122,
   "id": "01ad125b",
   "metadata": {},
   "outputs": [
    {
     "data": {
      "text/plain": [
       "'[1, 2, 3, 4, 5]'"
      ]
     },
     "execution_count": 122,
     "metadata": {},
     "output_type": "execute_result"
    }
   ],
   "source": [
    "f4.read()"
   ]
  },
  {
   "cell_type": "code",
   "execution_count": 123,
   "id": "e4d7b75c",
   "metadata": {},
   "outputs": [],
   "source": [
    "#in jupyter notebook once we close it all info will be gone we have execute it again so if save info in a file I will be able to see my result "
   ]
  },
  {
   "cell_type": "code",
   "execution_count": 124,
   "id": "6532da0e",
   "metadata": {},
   "outputs": [],
   "source": [
    "f3=open(\"prachi.kabra\",'w')"
   ]
  },
  {
   "cell_type": "code",
   "execution_count": 125,
   "id": "6a19b337",
   "metadata": {},
   "outputs": [
    {
     "data": {
      "text/plain": [
       "9"
      ]
     },
     "execution_count": 125,
     "metadata": {},
     "output_type": "execute_result"
    }
   ],
   "source": [
    "f3.write(\"ghhjejdkm\")"
   ]
  },
  {
   "cell_type": "code",
   "execution_count": 126,
   "id": "1ee9f7cd",
   "metadata": {},
   "outputs": [],
   "source": [
    "f3.close()"
   ]
  },
  {
   "cell_type": "code",
   "execution_count": 127,
   "id": "e4352f63",
   "metadata": {},
   "outputs": [],
   "source": [
    "#pandas will gonna teach you different different file operations such as csv,excel ...."
   ]
  },
  {
   "cell_type": "code",
   "execution_count": 134,
   "id": "cbd6cfec",
   "metadata": {},
   "outputs": [],
   "source": [
    "f=open(\"prachi1.txt\")"
   ]
  },
  {
   "cell_type": "code",
   "execution_count": 135,
   "id": "b3192d56",
   "metadata": {},
   "outputs": [
    {
     "data": {
      "text/plain": [
       "'this is my first file operation'"
      ]
     },
     "execution_count": 135,
     "metadata": {},
     "output_type": "execute_result"
    }
   ],
   "source": [
    "f.read()"
   ]
  },
  {
   "cell_type": "code",
   "execution_count": 136,
   "id": "49e650ce",
   "metadata": {},
   "outputs": [
    {
     "data": {
      "text/plain": [
       "''"
      ]
     },
     "execution_count": 136,
     "metadata": {},
     "output_type": "execute_result"
    }
   ],
   "source": [
    "f.read() #following index"
   ]
  },
  {
   "cell_type": "code",
   "execution_count": 140,
   "id": "3d4d630e",
   "metadata": {},
   "outputs": [
    {
     "data": {
      "text/plain": [
       "0"
      ]
     },
     "execution_count": 140,
     "metadata": {},
     "output_type": "execute_result"
    }
   ],
   "source": [
    "f.seek(0) # seek() is basically set a index or pointer to aperticuler location"
   ]
  },
  {
   "cell_type": "code",
   "execution_count": 139,
   "id": "9f7fb250",
   "metadata": {},
   "outputs": [
    {
     "data": {
      "text/plain": [
       "'this is my first file operation'"
      ]
     },
     "execution_count": 139,
     "metadata": {},
     "output_type": "execute_result"
    }
   ],
   "source": [
    "f.read()"
   ]
  },
  {
   "cell_type": "code",
   "execution_count": 141,
   "id": "cca7a101",
   "metadata": {},
   "outputs": [
    {
     "data": {
      "text/plain": [
       "'this is my first file operation'"
      ]
     },
     "execution_count": 141,
     "metadata": {},
     "output_type": "execute_result"
    }
   ],
   "source": [
    "f.read()"
   ]
  },
  {
   "cell_type": "code",
   "execution_count": 142,
   "id": "7e292ddc",
   "metadata": {},
   "outputs": [
    {
     "data": {
      "text/plain": [
       "''"
      ]
     },
     "execution_count": 142,
     "metadata": {},
     "output_type": "execute_result"
    }
   ],
   "source": [
    "f.read()"
   ]
  },
  {
   "cell_type": "code",
   "execution_count": 143,
   "id": "28db5620",
   "metadata": {},
   "outputs": [
    {
     "data": {
      "text/plain": [
       "3"
      ]
     },
     "execution_count": 143,
     "metadata": {},
     "output_type": "execute_result"
    }
   ],
   "source": [
    "f.seek(3)"
   ]
  },
  {
   "cell_type": "code",
   "execution_count": 144,
   "id": "e26eebe3",
   "metadata": {},
   "outputs": [
    {
     "data": {
      "text/plain": [
       "'s is my first file operation'"
      ]
     },
     "execution_count": 144,
     "metadata": {},
     "output_type": "execute_result"
    }
   ],
   "source": [
    "f.read()"
   ]
  },
  {
   "cell_type": "code",
   "execution_count": 145,
   "id": "615467c8",
   "metadata": {},
   "outputs": [],
   "source": [
    "f=open(\"test5.txt\",'w')"
   ]
  },
  {
   "cell_type": "code",
   "execution_count": 146,
   "id": "ace596c3",
   "metadata": {},
   "outputs": [
    {
     "data": {
      "text/plain": [
       "714"
      ]
     },
     "execution_count": 146,
     "metadata": {},
     "output_type": "execute_result"
    }
   ],
   "source": [
    "f.write(\"Python is an interpreted, object-oriented, high-level programming language with dynamic semantics. Its high-level built in data structures, combined with dynamic typing and dynamic binding, make it very attractive for Rapid Application Development, as well as for use as a scripting or glue language to connect existing components together. Python's simple, easy to learn syntax emphasizes readability and therefore reduces the cost of program maintenance. Python supports modules and packages, which encourages program modularity and code reuse. The Python interpreter and the extensive standard library are available in source or binary form without charge for all major platforms, and can be freely distributed.\")"
   ]
  },
  {
   "cell_type": "code",
   "execution_count": 147,
   "id": "624f5a41",
   "metadata": {},
   "outputs": [],
   "source": [
    "f.close()"
   ]
  },
  {
   "cell_type": "code",
   "execution_count": 148,
   "id": "baf8d396",
   "metadata": {},
   "outputs": [],
   "source": [
    "f=open('test5.txt')"
   ]
  },
  {
   "cell_type": "code",
   "execution_count": 149,
   "id": "0eec1b64",
   "metadata": {},
   "outputs": [
    {
     "data": {
      "text/plain": [
       "\"Python is an interpreted, object-oriented, high-level programming language with dynamic semantics. Its high-level built in data structures, combined with dynamic typing and dynamic binding, make it very attractive for Rapid Application Development, as well as for use as a scripting or glue language to connect existing components together. Python's simple, easy to learn syntax emphasizes readability and therefore reduces the cost of program maintenance. Python supports modules and packages, which encourages program modularity and code reuse. The Python interpreter and the extensive standard library are available in source or binary form without charge for all major platforms, and can be freely distributed.\""
      ]
     },
     "execution_count": 149,
     "metadata": {},
     "output_type": "execute_result"
    }
   ],
   "source": [
    "f.read()"
   ]
  },
  {
   "cell_type": "code",
   "execution_count": 150,
   "id": "8bf3d221",
   "metadata": {},
   "outputs": [
    {
     "data": {
      "text/plain": [
       "''"
      ]
     },
     "execution_count": 150,
     "metadata": {},
     "output_type": "execute_result"
    }
   ],
   "source": [
    "f.read()"
   ]
  },
  {
   "cell_type": "code",
   "execution_count": 151,
   "id": "87541e0b",
   "metadata": {},
   "outputs": [
    {
     "data": {
      "text/plain": [
       "15"
      ]
     },
     "execution_count": 151,
     "metadata": {},
     "output_type": "execute_result"
    }
   ],
   "source": [
    "f.seek(15)"
   ]
  },
  {
   "cell_type": "code",
   "execution_count": 152,
   "id": "eaf36b77",
   "metadata": {},
   "outputs": [
    {
     "data": {
      "text/plain": [
       "\"terpreted, object-oriented, high-level programming language with dynamic semantics. Its high-level built in data structures, combined with dynamic typing and dynamic binding, make it very attractive for Rapid Application Development, as well as for use as a scripting or glue language to connect existing components together. Python's simple, easy to learn syntax emphasizes readability and therefore reduces the cost of program maintenance. Python supports modules and packages, which encourages program modularity and code reuse. The Python interpreter and the extensive standard library are available in source or binary form without charge for all major platforms, and can be freely distributed.\""
      ]
     },
     "execution_count": 152,
     "metadata": {},
     "output_type": "execute_result"
    }
   ],
   "source": [
    "f.read()"
   ]
  },
  {
   "cell_type": "code",
   "execution_count": 154,
   "id": "737cee7b",
   "metadata": {},
   "outputs": [],
   "source": [
    "f.close()"
   ]
  },
  {
   "cell_type": "code",
   "execution_count": 155,
   "id": "594bf3da",
   "metadata": {},
   "outputs": [],
   "source": [
    "f=open('test5.txt')"
   ]
  },
  {
   "cell_type": "code",
   "execution_count": 157,
   "id": "735fb6ca",
   "metadata": {},
   "outputs": [
    {
     "data": {
      "text/plain": [
       "\"Python is an interpreted, object-oriented, high-level programming language with dynamic semantics. Its high-level built in data structures, combined with dynamic typing and dynamic binding, make it very attractive for Rapid Application Development, as well as for use as a scripting or glue language to connect existing components together. Python's simple, easy to learn syntax emphasizes readability and therefore reduces the cost of program maintenance. Python supports modules and packages, which encourages program modularity and code reuse. The Python interpreter and the extensive standard library are available in source or binary form without charge for all major platforms, and can be freely distributed.\""
      ]
     },
     "execution_count": 157,
     "metadata": {},
     "output_type": "execute_result"
    }
   ],
   "source": [
    "f.read()"
   ]
  },
  {
   "cell_type": "code",
   "execution_count": 160,
   "id": "a2b7088e",
   "metadata": {},
   "outputs": [
    {
     "data": {
      "text/plain": [
       "714"
      ]
     },
     "execution_count": 160,
     "metadata": {},
     "output_type": "execute_result"
    }
   ],
   "source": [
    "f.tell() #pointer location"
   ]
  },
  {
   "cell_type": "code",
   "execution_count": 161,
   "id": "ce2aff12",
   "metadata": {},
   "outputs": [
    {
     "data": {
      "text/plain": [
       "[]"
      ]
     },
     "execution_count": 161,
     "metadata": {},
     "output_type": "execute_result"
    }
   ],
   "source": [
    "f.readlines()"
   ]
  },
  {
   "cell_type": "code",
   "execution_count": 162,
   "id": "8a222a17",
   "metadata": {},
   "outputs": [],
   "source": [
    "f1=open('test6.txt','w')"
   ]
  },
  {
   "cell_type": "code",
   "execution_count": 163,
   "id": "1874f099",
   "metadata": {},
   "outputs": [
    {
     "data": {
      "text/plain": [
       "716"
      ]
     },
     "execution_count": 163,
     "metadata": {},
     "output_type": "execute_result"
    }
   ],
   "source": [
    "f1.write(\"Python is an interpreted, object-oriented, high-level programming language with dynamic semantics\\n. Its high-level built in data structures, combined with dynamic typing and dynamic binding, make it very attractive for Rapid Application Development, as well as for use as a scripting or glue language to connect existing components together. Python's simple, easy to learn syntax emphasizes readability and therefore reduces the cost of program maintenance\\n. Python supports modules and packages, which encourages program modularity and code reuse. The Python interpreter and the extensive standard library are available in source or binary form without charge for all major platforms, and can be freely distributed.\")"
   ]
  },
  {
   "cell_type": "code",
   "execution_count": 164,
   "id": "ed1b7791",
   "metadata": {},
   "outputs": [],
   "source": [
    "f1.close()"
   ]
  },
  {
   "cell_type": "code",
   "execution_count": 165,
   "id": "50fcf805",
   "metadata": {},
   "outputs": [],
   "source": [
    "f2=open(\"test6.txt\")"
   ]
  },
  {
   "cell_type": "code",
   "execution_count": 166,
   "id": "e3825c5f",
   "metadata": {},
   "outputs": [
    {
     "data": {
      "text/plain": [
       "['Python is an interpreted, object-oriented, high-level programming language with dynamic semantics\\n',\n",
       " \". Its high-level built in data structures, combined with dynamic typing and dynamic binding, make it very attractive for Rapid Application Development, as well as for use as a scripting or glue language to connect existing components together. Python's simple, easy to learn syntax emphasizes readability and therefore reduces the cost of program maintenance\\n\",\n",
       " '. Python supports modules and packages, which encourages program modularity and code reuse. The Python interpreter and the extensive standard library are available in source or binary form without charge for all major platforms, and can be freely distributed.']"
      ]
     },
     "execution_count": 166,
     "metadata": {},
     "output_type": "execute_result"
    }
   ],
   "source": [
    "f2.readlines()"
   ]
  },
  {
   "cell_type": "code",
   "execution_count": 167,
   "id": "12340cbe",
   "metadata": {},
   "outputs": [
    {
     "data": {
      "text/plain": [
       "''"
      ]
     },
     "execution_count": 167,
     "metadata": {},
     "output_type": "execute_result"
    }
   ],
   "source": [
    "f2.readline()"
   ]
  },
  {
   "cell_type": "code",
   "execution_count": 168,
   "id": "2aa74ed0",
   "metadata": {},
   "outputs": [
    {
     "data": {
      "text/plain": [
       "0"
      ]
     },
     "execution_count": 168,
     "metadata": {},
     "output_type": "execute_result"
    }
   ],
   "source": [
    "f2.seek(0)"
   ]
  },
  {
   "cell_type": "code",
   "execution_count": 169,
   "id": "1bd279ba",
   "metadata": {},
   "outputs": [
    {
     "data": {
      "text/plain": [
       "'Python is an interpreted, object-oriented, high-level programming language with dynamic semantics\\n'"
      ]
     },
     "execution_count": 169,
     "metadata": {},
     "output_type": "execute_result"
    }
   ],
   "source": [
    "f2.readline()"
   ]
  },
  {
   "cell_type": "code",
   "execution_count": 170,
   "id": "c141ac04",
   "metadata": {},
   "outputs": [
    {
     "data": {
      "text/plain": [
       "[\". Its high-level built in data structures, combined with dynamic typing and dynamic binding, make it very attractive for Rapid Application Development, as well as for use as a scripting or glue language to connect existing components together. Python's simple, easy to learn syntax emphasizes readability and therefore reduces the cost of program maintenance\\n\",\n",
       " '. Python supports modules and packages, which encourages program modularity and code reuse. The Python interpreter and the extensive standard library are available in source or binary form without charge for all major platforms, and can be freely distributed.']"
      ]
     },
     "execution_count": 170,
     "metadata": {},
     "output_type": "execute_result"
    }
   ],
   "source": [
    "f2.readlines()"
   ]
  },
  {
   "cell_type": "code",
   "execution_count": 171,
   "id": "aa8d1822",
   "metadata": {},
   "outputs": [],
   "source": [
    "f=open(\"prachi.txt\",'w')"
   ]
  },
  {
   "cell_type": "code",
   "execution_count": 172,
   "id": "6b2ac56b",
   "metadata": {},
   "outputs": [
    {
     "data": {
      "text/plain": [
       "17"
      ]
     },
     "execution_count": 172,
     "metadata": {},
     "output_type": "execute_result"
    }
   ],
   "source": [
    "f.write(\"Hello I am prachi\")"
   ]
  },
  {
   "cell_type": "code",
   "execution_count": 173,
   "id": "1a30e955",
   "metadata": {},
   "outputs": [],
   "source": [
    "f.close()"
   ]
  },
  {
   "cell_type": "code",
   "execution_count": 174,
   "id": "f78e5d07",
   "metadata": {},
   "outputs": [],
   "source": [
    "f=open(\"prachi.txt\")"
   ]
  },
  {
   "cell_type": "code",
   "execution_count": 177,
   "id": "e6205bf3",
   "metadata": {},
   "outputs": [
    {
     "data": {
      "text/plain": [
       "0"
      ]
     },
     "execution_count": 177,
     "metadata": {},
     "output_type": "execute_result"
    }
   ],
   "source": [
    "f.seek(0)"
   ]
  },
  {
   "cell_type": "code",
   "execution_count": 178,
   "id": "c4cc4287",
   "metadata": {},
   "outputs": [
    {
     "data": {
      "text/plain": [
       "'Hello I am prachi'"
      ]
     },
     "execution_count": 178,
     "metadata": {},
     "output_type": "execute_result"
    }
   ],
   "source": [
    "f.read() #my previous data is gone"
   ]
  },
  {
   "cell_type": "code",
   "execution_count": 180,
   "id": "dcdeea57",
   "metadata": {},
   "outputs": [],
   "source": [
    "f.close()"
   ]
  },
  {
   "cell_type": "code",
   "execution_count": 179,
   "id": "7ccd802d",
   "metadata": {},
   "outputs": [],
   "source": [
    "#to keep previous data we have to open our file in append mode"
   ]
  },
  {
   "cell_type": "code",
   "execution_count": 181,
   "id": "5945a357",
   "metadata": {},
   "outputs": [],
   "source": [
    "f=open(\"prachi.txt\",'a')"
   ]
  },
  {
   "cell_type": "code",
   "execution_count": 182,
   "id": "c24325db",
   "metadata": {},
   "outputs": [
    {
     "data": {
      "text/plain": [
       "24"
      ]
     },
     "execution_count": 182,
     "metadata": {},
     "output_type": "execute_result"
    }
   ],
   "source": [
    "f.write(\"I am a software engineer\")"
   ]
  },
  {
   "cell_type": "code",
   "execution_count": 183,
   "id": "02313930",
   "metadata": {},
   "outputs": [],
   "source": [
    "f.close()"
   ]
  },
  {
   "cell_type": "code",
   "execution_count": 184,
   "id": "31844bc5",
   "metadata": {},
   "outputs": [],
   "source": [
    "f=open(\"prachi.txt\")"
   ]
  },
  {
   "cell_type": "code",
   "execution_count": 185,
   "id": "f5a5e435",
   "metadata": {},
   "outputs": [
    {
     "data": {
      "text/plain": [
       "'Hello I am prachiI am a software engineer'"
      ]
     },
     "execution_count": 185,
     "metadata": {},
     "output_type": "execute_result"
    }
   ],
   "source": [
    "f.read()"
   ]
  },
  {
   "cell_type": "code",
   "execution_count": 186,
   "id": "bd4589dd",
   "metadata": {},
   "outputs": [
    {
     "data": {
      "text/plain": [
       "'r'"
      ]
     },
     "execution_count": 186,
     "metadata": {},
     "output_type": "execute_result"
    }
   ],
   "source": [
    "f.mode"
   ]
  },
  {
   "cell_type": "code",
   "execution_count": 187,
   "id": "f60f1736",
   "metadata": {},
   "outputs": [
    {
     "data": {
      "text/plain": [
       "'prachi.txt'"
      ]
     },
     "execution_count": 187,
     "metadata": {},
     "output_type": "execute_result"
    }
   ],
   "source": [
    "f.name"
   ]
  },
  {
   "cell_type": "raw",
   "id": "d1e90224",
   "metadata": {},
   "source": [
    "map, filter, and reduce - Map, Filter, and Reduce are built-in Python functions that can be used for functional programming tasks. With the help of these operations, you may apply a specific function to sequence items using the 'map', filter sequence elements based on a condition using the 'filter', and cumulatively aggregate elements using the 'reduce'."
   ]
  },
  {
   "cell_type": "raw",
   "id": "7934d62c",
   "metadata": {},
   "source": [
    "1. map() - Python's map() method applies a specified function to each item of an iterable (such as a list, tuple, or string) and then returns a new iterable containing the results.\n",
    "\n",
    "The map() syntax is as follows: map(function, iterable)\n",
    "\n",
    "The first argument passed to the map function is itself a function, and the second argument passed is an iterable (sequence of elements) such as a list, tuple, set, string, etc. "
   ]
  },
  {
   "cell_type": "code",
   "execution_count": 192,
   "id": "4889ef5c",
   "metadata": {},
   "outputs": [
    {
     "name": "stdout",
     "output_type": "stream",
     "text": [
      "1 4 9 16 25 Squares: [1, 4, 9, 16, 25]\n"
     ]
    }
   ],
   "source": [
    "# Using map() to square each element of the data list  \n",
    "data = [1, 2, 3, 4, 5]  \n",
    "  \n",
    "# Map function returns the map object  \n",
    "squares = map(lambda x: x*x, data)  \n",
    "  \n",
    "# Iterating the elements of the squares  \n",
    "for i in squares:  \n",
    "    print(i, end=\" \")  \n",
    "  \n",
    "# Also, we can convert the map object into a list  \n",
    "squares = list(map(lambda x: x*x, data))  \n",
    "print(f\"Squares: {squares}\")  "
   ]
  },
  {
   "cell_type": "code",
   "execution_count": null,
   "id": "226ec737",
   "metadata": {},
   "outputs": [],
   "source": []
  }
 ],
 "metadata": {
  "kernelspec": {
   "display_name": "Python 3 (ipykernel)",
   "language": "python",
   "name": "python3"
  },
  "language_info": {
   "codemirror_mode": {
    "name": "ipython",
    "version": 3
   },
   "file_extension": ".py",
   "mimetype": "text/x-python",
   "name": "python",
   "nbconvert_exporter": "python",
   "pygments_lexer": "ipython3",
   "version": "3.11.5"
  }
 },
 "nbformat": 4,
 "nbformat_minor": 5
}
