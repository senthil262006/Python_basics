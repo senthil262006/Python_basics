{
 "cells": [
  {
   "cell_type": "raw",
   "id": "6def9df2",
   "metadata": {},
   "source": [
    "1.What are the two values of the Boolean data type? How do you write them?\n",
    "True \n",
    "False\n"
   ]
  },
  {
   "cell_type": "raw",
   "id": "08056540",
   "metadata": {},
   "source": [
    "2. What are the three different types of Boolean operators?\n",
    "AND \n",
    "OR\n",
    "NOT"
   ]
  },
  {
   "cell_type": "raw",
   "id": "1ab4343d",
   "metadata": {},
   "source": [
    "3. Make a list of each Boolean operator, truth tables (i.e. every possible combination of Boolean\n",
    "values for the operator and what it evaluate ).\n",
    "\n",
    "and        or       not\n",
    "F F F      F F F    T F\n",
    "T F F      T F T    F T\n",
    "F T F      F T T    \n",
    "T T T      T T T \n",
    "\n",
    "\n"
   ]
  },
  {
   "cell_type": "raw",
   "id": "bfa3bde3",
   "metadata": {},
   "source": [
    "4. What are the values of the following expressions?\n",
    "(5 > 4) and (3 == 5)                    False\n",
    "not (5 > 4)                             False\n",
    "(5 > 4) or (3 == 5)                     True\n",
    "not ((5 > 4) or (3 == 5))               False\n",
    "(True and True) and (True == False)     False\n",
    "(not False) or (not True)               True"
   ]
  },
  {
   "cell_type": "raw",
   "id": "22b2b9b2",
   "metadata": {},
   "source": [
    "5 What are the six comparison operators?\n",
    ">       greater than\n",
    "<       Less than\n",
    ">=      Graterthan or eqal to \n",
    "<=      less than or eqal to \n",
    "==      equal to\n",
    "!=      not equal to"
   ]
  },
  {
   "cell_type": "raw",
   "id": "7c0e75d9",
   "metadata": {},
   "source": [
    "How do you tell the difference between the equal to and assignment operators?Describe a\n",
    "condition and when you would use one.\n",
    "\n",
    "   equal to ( ==)                           Assignment(=)\n",
    "   It compare two values                   It asign a value to the variable\n",
    "   each value have a datatype              The asigne value  belong adatatype\n",
    "   The datatypes may same or \n",
    "   diffrent\n",
    "   It resulting always true or false       It always evalute a value from variable"
   ]
  },
  {
   "cell_type": "code",
   "execution_count": 1,
   "id": "6fdcec2b",
   "metadata": {},
   "outputs": [
    {
     "name": "stdout",
     "output_type": "stream",
     "text": [
      "ham\n",
      "spam\n",
      "spam\n"
     ]
    }
   ],
   "source": [
    "#block1\n",
    "spam = 0\n",
    "#block2\n",
    "if spam == 10:\n",
    "    print('eggs')\n",
    "#bloclk3    \n",
    "if spam > 5:\n",
    "    print('bacon')\n",
    "else:\n",
    "    print('ham')\n",
    "    print('spam')\n",
    "    print('spam')"
   ]
  },
  {
   "cell_type": "code",
   "execution_count": 2,
   "id": "d8406c04",
   "metadata": {},
   "outputs": [
    {
     "name": "stdout",
     "output_type": "stream",
     "text": [
      "Greetings\n"
     ]
    }
   ],
   "source": [
    "#8. Write code that prints Hello if 1 is stored in spam, prints Howdy if 2 is stored in spam, and prints\n",
    "#Greetings! if anything else is stored in spam\n",
    "spam=\"1\"\n",
    "if spam == 1:\n",
    "    print('Hello')\n",
    "elif spam == 2:\n",
    "    print('Howdy')  \n",
    "else:\n",
    "    print('Greetings')\n",
    "    "
   ]
  },
  {
   "cell_type": "raw",
   "id": "8d3df505",
   "metadata": {},
   "source": [
    "9.If your programme is stuck in an endless loop, what keys you’ll press?\n",
    "Ctrl -C or I ---> intrrupt the kernel"
   ]
  },
  {
   "cell_type": "raw",
   "id": "06e993f5",
   "metadata": {},
   "source": [
    "10. How can you tell the difference between break and continue?\n",
    "\n",
    "break ---> it will exit from loop\n",
    "continiue -> It will re direct the loop to first line"
   ]
  },
  {
   "cell_type": "code",
   "execution_count": 3,
   "id": "5999b8a6",
   "metadata": {},
   "outputs": [
    {
     "data": {
      "text/plain": [
       "range(0, 10)"
      ]
     },
     "execution_count": 3,
     "metadata": {},
     "output_type": "execute_result"
    }
   ],
   "source": [
    "#11In a for loop, what is the difference between range(10), range(0, 10), and range(0, 10, 1)?\n",
    "\n",
    "# all are same\n",
    "\n",
    "\n",
    "range(10)"
   ]
  },
  {
   "cell_type": "code",
   "execution_count": 4,
   "id": "a132bf63",
   "metadata": {},
   "outputs": [
    {
     "data": {
      "text/plain": [
       "range(0, 10)"
      ]
     },
     "execution_count": 4,
     "metadata": {},
     "output_type": "execute_result"
    }
   ],
   "source": [
    " range(0, 10)"
   ]
  },
  {
   "cell_type": "code",
   "execution_count": 5,
   "id": "07c451a3",
   "metadata": {},
   "outputs": [
    {
     "data": {
      "text/plain": [
       "range(0, 10)"
      ]
     },
     "execution_count": 5,
     "metadata": {},
     "output_type": "execute_result"
    }
   ],
   "source": [
    "range(0, 10, 1)"
   ]
  },
  {
   "cell_type": "code",
   "execution_count": 6,
   "id": "7a59a7d0",
   "metadata": {},
   "outputs": [
    {
     "name": "stdout",
     "output_type": "stream",
     "text": [
      "1\n",
      "2\n",
      "3\n",
      "4\n",
      "5\n",
      "6\n",
      "7\n",
      "8\n",
      "9\n",
      "10\n"
     ]
    }
   ],
   "source": [
    "#12. Write a short program that prints the numbers 1 to 10 using a for loop. Then write an equivalent\n",
    "#program that prints the numbers 1 to 10 using a while loop.\n",
    "for i in list(range(1,11)):\n",
    "    print(i)"
   ]
  },
  {
   "cell_type": "code",
   "execution_count": 7,
   "id": "14470d54",
   "metadata": {},
   "outputs": [
    {
     "name": "stdout",
     "output_type": "stream",
     "text": [
      "1\n",
      "2\n",
      "3\n",
      "4\n",
      "5\n",
      "6\n",
      "7\n",
      "8\n",
      "9\n",
      "10\n"
     ]
    }
   ],
   "source": [
    "i=1\n",
    "while(i<11):\n",
    "    print(i)\n",
    "    i+=1"
   ]
  },
  {
   "cell_type": "raw",
   "id": "42d5cdce",
   "metadata": {},
   "source": [
    "13. If you had a function named bacon() inside a module named spam, how would you call it after\n",
    "importing spam?\n",
    "\n",
    "spam.bacon()"
   ]
  },
  {
   "cell_type": "code",
   "execution_count": null,
   "id": "c2943bc5",
   "metadata": {},
   "outputs": [],
   "source": []
  },
  {
   "cell_type": "code",
   "execution_count": null,
   "id": "c9fc9167",
   "metadata": {},
   "outputs": [],
   "source": []
  },
  {
   "cell_type": "code",
   "execution_count": null,
   "id": "897742ec",
   "metadata": {},
   "outputs": [],
   "source": []
  }
 ],
 "metadata": {
  "interpreter": {
   "hash": "854ad7b50770bedaf0cab730b1aaabb765566ea98036f134b639e260bede141e"
  },
  "kernelspec": {
   "display_name": "Python 3.10.4 64-bit (windows store)",
   "language": "python",
   "name": "python3"
  },
  "language_info": {
   "codemirror_mode": {
    "name": "ipython",
    "version": 3
   },
   "file_extension": ".py",
   "mimetype": "text/x-python",
   "name": "python",
   "nbconvert_exporter": "python",
   "pygments_lexer": "ipython3",
   "version": "3.10.4"
  }
 },
 "nbformat": 4,
 "nbformat_minor": 5
}
