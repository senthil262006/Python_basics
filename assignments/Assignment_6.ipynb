{
 "cells": [
  {
   "cell_type": "raw",
   "id": "d9697485",
   "metadata": {},
   "source": [
    "1. What are escape characters, and how do you use them?\n",
    "Cheracter\tUsage\n",
    "\\'\t        Escaping Single Quote\n",
    "\\\\\t        Escaping Backslash\n",
    "\\n\t        Escaping New Line\n",
    "\\r\t        Escaping Carriage Return\n",
    "\\t\t        Escaping Tab\n",
    "\\b\t        Escaping Backspace\n",
    "\\f\t        Escaping Form Feed\n",
    "\\ooo\t    Escaping Octal value\n",
    "\\xhh\t    Escaping Hex value\n"
   ]
  },
  {
   "cell_type": "raw",
   "id": "34e5db09",
   "metadata": {},
   "source": [
    "2. What do the escape characters n and t stand for?\n",
    "\\n        Escaping New Line\n",
    "\\t        Escaping Tab"
   ]
  },
  {
   "cell_type": "raw",
   "id": "c2b5fe6c",
   "metadata": {},
   "source": [
    "3. What is the way to include backslash characters in a string?\n",
    "\\\\\t        Escaping Backslash\n"
   ]
  },
  {
   "cell_type": "code",
   "execution_count": 1,
   "id": "e08c02ca",
   "metadata": {},
   "outputs": [
    {
     "data": {
      "text/plain": [
       "\"Howl's Moving Castle\""
      ]
     },
     "execution_count": 1,
     "metadata": {},
     "output_type": "execute_result"
    }
   ],
   "source": [
    "#4. The string \"Howl's Moving Castle\" is a correct value.\n",
    "#Why isn't the single quote character in the word Howl's not escaped a problem?\n",
    "\n",
    "#The String is coated by double Quote . here the it will escape the single quote\n",
    "\n",
    "st1=\"Howl's Moving Castle\"\n",
    "st1\n"
   ]
  },
  {
   "cell_type": "code",
   "execution_count": 3,
   "id": "3248c1fd",
   "metadata": {},
   "outputs": [
    {
     "name": "stdout",
     "output_type": "stream",
     "text": [
      "hello world\n",
      "hello world\n"
     ]
    }
   ],
   "source": [
    "#5. How do you write a string of newlines if you don't want to use the n character?\n",
    "#In the print() funtion \\n is a default newline at the end of the string.\n",
    "print(\"hello world\")\n",
    "print(\"hello world\")"
   ]
  },
  {
   "cell_type": "code",
   "execution_count": 5,
   "id": "917e2d8f",
   "metadata": {},
   "outputs": [
    {
     "data": {
      "text/plain": [
       "'e'"
      ]
     },
     "execution_count": 5,
     "metadata": {},
     "output_type": "execute_result"
    }
   ],
   "source": [
    "#6. What are the values of the given expressions?\n",
    "'Hello, world!'[1] \n"
   ]
  },
  {
   "cell_type": "code",
   "execution_count": 6,
   "id": "a8bf053c",
   "metadata": {},
   "outputs": [
    {
     "data": {
      "text/plain": [
       "'Hello'"
      ]
     },
     "execution_count": 6,
     "metadata": {},
     "output_type": "execute_result"
    }
   ],
   "source": [
    "'Hello, world!'[0:5]\n",
    "#"
   ]
  },
  {
   "cell_type": "code",
   "execution_count": 7,
   "id": "0c6a7694",
   "metadata": {},
   "outputs": [
    {
     "data": {
      "text/plain": [
       "'Hello'"
      ]
     },
     "execution_count": 7,
     "metadata": {},
     "output_type": "execute_result"
    }
   ],
   "source": [
    "'Hello, world!'[:5]\n"
   ]
  },
  {
   "cell_type": "code",
   "execution_count": 8,
   "id": "cc4c4bee",
   "metadata": {},
   "outputs": [
    {
     "data": {
      "text/plain": [
       "'lo, world!'"
      ]
     },
     "execution_count": 8,
     "metadata": {},
     "output_type": "execute_result"
    }
   ],
   "source": [
    "'Hello, world!'[3:]"
   ]
  },
  {
   "cell_type": "code",
   "execution_count": 9,
   "id": "24219378",
   "metadata": {},
   "outputs": [
    {
     "data": {
      "text/plain": [
       "'HELLO'"
      ]
     },
     "execution_count": 9,
     "metadata": {},
     "output_type": "execute_result"
    }
   ],
   "source": [
    "#7. What are the values of the following expressions? It become upper character\n",
    "'Hello'.upper()\n"
   ]
  },
  {
   "cell_type": "code",
   "execution_count": 10,
   "id": "75f71772",
   "metadata": {},
   "outputs": [
    {
     "data": {
      "text/plain": [
       "True"
      ]
     },
     "execution_count": 10,
     "metadata": {},
     "output_type": "execute_result"
    }
   ],
   "source": [
    "'Hello'.upper().isupper() # converts it upper character and checks its upper  .Here it will returns true\n"
   ]
  },
  {
   "cell_type": "code",
   "execution_count": 11,
   "id": "4ae9722b",
   "metadata": {},
   "outputs": [
    {
     "data": {
      "text/plain": [
       "'hello'"
      ]
     },
     "execution_count": 11,
     "metadata": {},
     "output_type": "execute_result"
    }
   ],
   "source": [
    "'Hello'.upper().lower()# converts it upper character and converts lower its upper  .Here it will returns lower 'hello'\n"
   ]
  },
  {
   "cell_type": "code",
   "execution_count": 12,
   "id": "9d8da0d7",
   "metadata": {},
   "outputs": [
    {
     "name": "stdout",
     "output_type": "stream",
     "text": [
      "Object `expressions` not found.\n"
     ]
    },
    {
     "data": {
      "text/plain": [
       "['Remember,', 'remember,', 'the', 'fifth', 'of', 'July.']"
      ]
     },
     "execution_count": 12,
     "metadata": {},
     "output_type": "execute_result"
    }
   ],
   "source": [
    "8. What are the values of the following expressions?\n",
    "'Remember, remember, the fifth of July.'.split()# Split the word and creae the list in to the list in terms of white space\n"
   ]
  },
  {
   "cell_type": "code",
   "execution_count": 13,
   "id": "887a6336",
   "metadata": {},
   "outputs": [
    {
     "data": {
      "text/plain": [
       "'There-can-only-one.'"
      ]
     },
     "execution_count": 13,
     "metadata": {},
     "output_type": "execute_result"
    }
   ],
   "source": [
    "'-'.join('There can only one.'.split())# Split the word and create the list in to the list in terms of white space   then join the word in terms of '-'"
   ]
  },
  {
   "cell_type": "code",
   "execution_count": null,
   "id": "acf100b0",
   "metadata": {},
   "outputs": [],
   "source": []
  }
 ],
 "metadata": {
  "kernelspec": {
   "display_name": "Python 3 (ipykernel)",
   "language": "python",
   "name": "python3"
  },
  "language_info": {
   "codemirror_mode": {
    "name": "ipython",
    "version": 3
   },
   "file_extension": ".py",
   "mimetype": "text/x-python",
   "name": "python",
   "nbconvert_exporter": "python",
   "pygments_lexer": "ipython3",
   "version": "3.9.12"
  }
 },
 "nbformat": 4,
 "nbformat_minor": 5
}
