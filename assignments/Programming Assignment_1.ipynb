{
 "cells": [
  {
   "cell_type": "code",
   "execution_count": 2,
   "id": "b16c40d3",
   "metadata": {},
   "outputs": [
    {
     "name": "stdout",
     "output_type": "stream",
     "text": [
      "Hello Python\n"
     ]
    }
   ],
   "source": [
    "#. Write a Python program to print \"Hello Python\"?\n",
    "print(\"Hello Python\")\n"
   ]
  },
  {
   "cell_type": "code",
   "execution_count": 7,
   "id": "60dc1b49",
   "metadata": {},
   "outputs": [
    {
     "name": "stdout",
     "output_type": "stream",
     "text": [
      "Enter First number 10\n",
      "Enter Secound number 20\n",
      "addition of 10 and 20 is 30\n",
      "addition of 10 and 20 is 0.5\n"
     ]
    }
   ],
   "source": [
    "#2. Write a Python program to do arithmetical operations addition and division.?\n",
    "el1=int(input(\"Enter First number \"))\n",
    "el2=int(input(\"Enter Secound number \"))\n",
    "print(F\"addition of {el1} and {el2} is {el1 + el2}\")\n",
    "print(F\"addition of {el1} and {el2} is {float(el1) / float(el2)}\")\n"
   ]
  },
  {
   "cell_type": "code",
   "execution_count": 13,
   "id": "4c05bdfb",
   "metadata": {},
   "outputs": [
    {
     "name": "stdout",
     "output_type": "stream",
     "text": [
      "Enter bredth of the triangle  100\n",
      "Enter hight of the triangle 50\n",
      "The Area of the triangle is   2500.0\n"
     ]
    }
   ],
   "source": [
    "#3. Write a Python program to find the area of a triangle?\n",
    "bredth=int(input(\"Enter bredth of the triangle  \"))\n",
    "hight=int(input(\"Enter hight of the triangle \"))\n",
    "print(F\"The Area of the triangle is   {float(1/2 *  (bredth * hight)) }\")\n"
   ]
  },
  {
   "cell_type": "code",
   "execution_count": 15,
   "id": "843f24f6",
   "metadata": {},
   "outputs": [
    {
     "name": "stdout",
     "output_type": "stream",
     "text": [
      "the value of a before : first String\n",
      "the value of b before : Secound String\n",
      "\n",
      "the value of a after : Secound String\n",
      "the value of b after : first String\n"
     ]
    }
   ],
   "source": [
    "#4. Write a Python program to swap two variables?\n",
    "a = \"first String\"\n",
    "b = \"Secound String\"\n",
    "print(F\"the value of a before : {a}\")\n",
    "print(F\"the value of b before : {b}\")\n",
    "c = a\n",
    "a = b\n",
    "b = c\n",
    "print()\n",
    "print(F\"the value of a after : {a}\")\n",
    "print(F\"the value of b after : {b}\")"
   ]
  },
  {
   "cell_type": "code",
   "execution_count": 18,
   "id": "9fe359da",
   "metadata": {},
   "outputs": [
    {
     "name": "stdout",
     "output_type": "stream",
     "text": [
      "0.9160037830600801\n",
      "0.5901151713649456\n"
     ]
    }
   ],
   "source": [
    "#5. Write a Python program to generate a random number?\n",
    "import random\n",
    "a=random.random()\n",
    "print(a)\n",
    "b=random.random()\n",
    "print(b)"
   ]
  },
  {
   "cell_type": "code",
   "execution_count": null,
   "id": "629bdb66",
   "metadata": {},
   "outputs": [],
   "source": []
  }
 ],
 "metadata": {
  "kernelspec": {
   "display_name": "Python 3 (ipykernel)",
   "language": "python",
   "name": "python3"
  },
  "language_info": {
   "codemirror_mode": {
    "name": "ipython",
    "version": 3
   },
   "file_extension": ".py",
   "mimetype": "text/x-python",
   "name": "python",
   "nbconvert_exporter": "python",
   "pygments_lexer": "ipython3",
   "version": "3.9.12"
  }
 },
 "nbformat": 4,
 "nbformat_minor": 5
}
