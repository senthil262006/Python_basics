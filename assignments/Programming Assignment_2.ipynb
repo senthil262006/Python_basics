{
 "cells": [
  {
   "cell_type": "code",
   "execution_count": 2,
   "id": "a0d5492a",
   "metadata": {},
   "outputs": [
    {
     "name": "stdout",
     "output_type": "stream",
     "text": [
      "Enter the Kilometer: 20\n",
      "converting kilometer to mile ... the miles are 12.4\n"
     ]
    }
   ],
   "source": [
    "#1. Write a Python program to convert kilometers to miles?\n",
    "k=int(input(\"Enter the Kilometer: \" ))\n",
    "print(F\"converting kilometer to mile ... the miles are { 0.62 * k }\")\n",
    "\n"
   ]
  },
  {
   "cell_type": "code",
   "execution_count": 4,
   "id": "a4bb990e",
   "metadata": {},
   "outputs": [
    {
     "name": "stdout",
     "output_type": "stream",
     "text": [
      "Enter the Celsius: 98\n",
      "converting Celsius to Fahrenheit ... the Fahrenheit value is 3312.3999999999996\n"
     ]
    }
   ],
   "source": [
    "#2. Write a Python program to convert Celsius to Fahrenheit?\n",
    "C=int(input(\"Enter the Celsius: \" ))\n",
    "print(F\"converting Celsius to Fahrenheit ... the Fahrenheit value is { 33.8 * C }\")\n"
   ]
  },
  {
   "cell_type": "code",
   "execution_count": 12,
   "id": "2a1f8e27",
   "metadata": {},
   "outputs": [
    {
     "name": "stdout",
     "output_type": "stream",
     "text": [
      "Enter the month 3\n",
      "Enter the Year 2022\n",
      "Here is the calendar: \n",
      "\n",
      "     March 2022\n",
      "Su Mo Tu We Th Fr Sa\n",
      "       1  2  3  4  5\n",
      " 6  7  8  9 10 11 12\n",
      "13 14 15 16 17 18 19\n",
      "20 21 22 23 24 25 26\n",
      "27 28 29 30 31\n",
      "\n"
     ]
    }
   ],
   "source": [
    "#3. Write a Python program to display calendar?\n",
    "import calendar\n",
    "M=int(input(\"Enter the month \"))\n",
    "Year=int(input(\"Enter the Year \"))\n",
    "\n",
    "cal = calendar.month(Year, M)\n",
    "print(\"Here is the calendar: \")\n",
    "print()\n",
    "print(cal)\n"
   ]
  },
  {
   "cell_type": "code",
   "execution_count": 48,
   "id": "5da4f418",
   "metadata": {},
   "outputs": [
    {
     "name": "stdout",
     "output_type": "stream",
     "text": [
      "Enter coefficient of x^2 value 10\n",
      "Enter coefficient of x value 20\n",
      "Enter c  value 25\n",
      "The solution of quadratic equation 10x^2+20x+25 are -775.0, 725.0\n"
     ]
    }
   ],
   "source": [
    "#4. Write a Python program to solve quadratic equation?\n",
    "a=int(input(\"Enter coefficient of x^2 value \"))\n",
    "b=int(input(\"Enter coefficient of x value \"))\n",
    "c=int(input(\"Enter c  value \"))\n",
    "\n",
    "x1= ((-b+(b**2-4*a*c ))/4*a)**1/2;x2= ((-b-(b**2-4*a*c ))/4*a)**1/2\n",
    "print(F\"The solution of quadratic equation {a}x^2+{b}x+{c} are {x1}, {x2}\")\n",
    "\n"
   ]
  },
  {
   "cell_type": "code",
   "execution_count": 39,
   "id": "f754f91d",
   "metadata": {},
   "outputs": [
    {
     "name": "stdout",
     "output_type": "stream",
     "text": [
      "Object `variable` not found.\n",
      "the value of a before : first String\n",
      "the value of b before : Secound String\n",
      "\n",
      "the value of a after : Secound String\n",
      "the value of b after : first String\n"
     ]
    }
   ],
   "source": [
    "5. Write a Python program to swap two variables without temp variable?\n",
    "a = \"first String\"\n",
    "b = \"Secound String\"\n",
    "print(F\"the value of a before : {a}\")\n",
    "print(F\"the value of b before : {b}\")\n",
    "a=a + b\n",
    "b=a[0:len(a) -len(b) ]\n",
    "a=a[len(b):]\n",
    "print()\n",
    "print(F\"the value of a after : {a}\")\n",
    "print(F\"the value of b after : {b}\")"
   ]
  },
  {
   "cell_type": "code",
   "execution_count": null,
   "id": "b1614a31",
   "metadata": {},
   "outputs": [],
   "source": []
  }
 ],
 "metadata": {
  "kernelspec": {
   "display_name": "Python 3 (ipykernel)",
   "language": "python",
   "name": "python3"
  },
  "language_info": {
   "codemirror_mode": {
    "name": "ipython",
    "version": 3
   },
   "file_extension": ".py",
   "mimetype": "text/x-python",
   "name": "python",
   "nbconvert_exporter": "python",
   "pygments_lexer": "ipython3",
   "version": "3.9.12"
  }
 },
 "nbformat": 4,
 "nbformat_minor": 5
}
