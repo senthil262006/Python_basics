{
 "cells": [
  {
   "cell_type": "raw",
   "id": "0e7492df",
   "metadata": {},
   "source": [
    "1. Why are functions advantageous to have in your programs?\n",
    "Function are  help to avoid duplication code in programs\n",
    "It helps to  create an method to call when ever it required\n"
   ]
  },
  {
   "cell_type": "raw",
   "id": "90d2d658",
   "metadata": {},
   "source": [
    "2. When does the code in a function run: when it's run specified or when it's called?\n",
    "    \n",
    "    The function is running while its calling\n",
    "    \n",
    "    "
   ]
  },
  {
   "cell_type": "raw",
   "id": "14848925",
   "metadata": {},
   "source": [
    "3. What statement creates a function?\n",
    "def <function name>: will create the function\n"
   ]
  },
  {
   "cell_type": "raw",
   "id": "5401917f",
   "metadata": {},
   "source": [
    "4. What is the difference between a function and a function call?\n",
    "Function is - Defnition of the funcion\n",
    "function call - Invokes the function execution\n",
    "\n"
   ]
  },
  {
   "cell_type": "raw",
   "id": "9e175fa8",
   "metadata": {},
   "source": [
    "5. How many global scopes are there in a Python program? How many local scopes?\n",
    "Only one global scope in the program \n",
    "evry defined function have its own local scope. tecnialy more than one local scope is there\n"
   ]
  },
  {
   "cell_type": "raw",
   "id": "975b02c5",
   "metadata": {},
   "source": [
    "6. What happens to variables in a local scope when the function call returns?\n",
    "It will be unavilable once the function call returns\n"
   ]
  },
  {
   "cell_type": "raw",
   "id": "d38f4d06",
   "metadata": {},
   "source": [
    "7. What is the concept of a return value? Is it possible to have a return value in an expression?\n",
    "The function output will be passed to main function.\n",
    "The function call cannot return expression\n"
   ]
  },
  {
   "cell_type": "raw",
   "id": "a9541b5d",
   "metadata": {},
   "source": [
    "8. If a function does not have a return statement, what is the return value of a call to that function?\n",
    "None is the default return value of the function"
   ]
  },
  {
   "cell_type": "raw",
   "id": "8a1d8ad9",
   "metadata": {},
   "source": [
    "9. How do you make a function variable refer to the global variable?\n",
    "using global keyword\n"
   ]
  },
  {
   "cell_type": "code",
   "execution_count": 1,
   "id": "5b27887a",
   "metadata": {},
   "outputs": [
    {
     "data": {
      "text/plain": [
       "NoneType"
      ]
     },
     "execution_count": 1,
     "metadata": {},
     "output_type": "execute_result"
    }
   ],
   "source": [
    "#10. What is the data type of None? \n",
    "#NoneType\n",
    "el=None\n",
    "type(el)\n"
   ]
  },
  {
   "cell_type": "code",
   "execution_count": 2,
   "id": "fa48fec4",
   "metadata": {},
   "outputs": [
    {
     "ename": "ModuleNotFoundError",
     "evalue": "No module named 'areallyourpetsnamederic'",
     "output_type": "error",
     "traceback": [
      "\u001b[1;31m---------------------------------------------------------------------------\u001b[0m",
      "\u001b[1;31mModuleNotFoundError\u001b[0m                       Traceback (most recent call last)",
      "Input \u001b[1;32mIn [2]\u001b[0m, in \u001b[0;36m<cell line: 2>\u001b[1;34m()\u001b[0m\n\u001b[0;32m      1\u001b[0m \u001b[38;5;66;03m#11. What does the sentence import areallyourpetsnamederic do?\u001b[39;00m\n\u001b[1;32m----> 2\u001b[0m \u001b[38;5;28;01mimport\u001b[39;00m \u001b[38;5;21;01mareallyourpetsnamederic\u001b[39;00m\n",
      "\u001b[1;31mModuleNotFoundError\u001b[0m: No module named 'areallyourpetsnamederic'"
     ]
    }
   ],
   "source": [
    "#11. What does the sentence import areallyourpetsnamederic do?\n",
    "If a module available in name of areallyourpetsnamederic it will make available to the program.\n",
    "\n",
    "import areallyourpetsnamederic\n"
   ]
  },
  {
   "cell_type": "raw",
   "id": "643d5451",
   "metadata": {},
   "source": [
    "12. If you had a bacon() feature in a spam module, what would you call it after importing spam?\n",
    "import spam\n",
    "sparm.bacon()\n"
   ]
  },
  {
   "cell_type": "raw",
   "id": "040c339e",
   "metadata": {},
   "source": [
    "13. What can you do to save a programme from crashing if it encounters an error?\n",
    "Syntax error  - we need to use correct syntax\n",
    "Runtime error - We can use try and exept statement as a exception handiling \n",
    "Logical Error - We need to find correct logic\n"
   ]
  },
  {
   "cell_type": "code",
   "execution_count": null,
   "id": "77f31754",
   "metadata": {},
   "outputs": [],
   "source": [
    "14. What is the purpose of the try clause? What is the purpose of the except clause?\n",
    "try block contain the code which raise exception\n",
    "except block contains the contens  once the exception raised"
   ]
  }
 ],
 "metadata": {
  "kernelspec": {
   "display_name": "Python 3 (ipykernel)",
   "language": "python",
   "name": "python3"
  },
  "language_info": {
   "codemirror_mode": {
    "name": "ipython",
    "version": 3
   },
   "file_extension": ".py",
   "mimetype": "text/x-python",
   "name": "python",
   "nbconvert_exporter": "python",
   "pygments_lexer": "ipython3",
   "version": "3.9.12"
  }
 },
 "nbformat": 4,
 "nbformat_minor": 5
}
