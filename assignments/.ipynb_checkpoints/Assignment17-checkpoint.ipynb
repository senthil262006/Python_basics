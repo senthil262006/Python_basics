{
 "cells": [
  {
   "cell_type": "markdown",
   "id": "61804c2d",
   "metadata": {},
   "source": [
    "1. Assign the value 7 to the variable guess_me. Then, write the conditional tests (if, else, and elif) to\n",
    "print the string \"too low\"; if guess_me is less than 7, \"too high\" if greater than 7, and \"just right\"; if equal\n",
    "to 7.\n"
   ]
  },
  {
   "cell_type": "code",
   "execution_count": 1,
   "id": "adc1a4a6",
   "metadata": {},
   "outputs": [
    {
     "name": "stdout",
     "output_type": "stream",
     "text": [
      "just right\n"
     ]
    }
   ],
   "source": [
    "guess_me = 7\n",
    "\n",
    "if guess_me < 7:\n",
    "    print('too low')\n",
    "elif guess_me > 7:\n",
    "    print('too high')\n",
    "else:\n",
    "    print('just right')\n"
   ]
  },
  {
   "cell_type": "markdown",
   "id": "520fa7be",
   "metadata": {},
   "source": [
    "2. Assign the value 7 to the variable guess_me and the value 1 to the variable start. Write a while\n",
    "loop that compares start with guess_me. Print too low if start is less than guess me. If start equals\n",
    "guess_me, print \"found it!\" and exit the loop. If start is greater than guess_me, print \"oops\" and exit\n",
    "the loop. Increment start at the end of the loop.\n"
   ]
  },
  {
   "cell_type": "code",
   "execution_count": 2,
   "id": "cafd4812",
   "metadata": {},
   "outputs": [
    {
     "name": "stdout",
     "output_type": "stream",
     "text": [
      "too low\n",
      "too low\n",
      "too low\n",
      "too low\n",
      "too low\n",
      "too low\n",
      "found it!\n"
     ]
    }
   ],
   "source": [
    "guess_me = 7\n",
    "start = 1\n",
    "\n",
    "while True:\n",
    "    if start < guess_me:\n",
    "        print(\"too low\")\n",
    "    elif start == guess_me:\n",
    "        print(\"found it!\")\n",
    "        break\n",
    "    else:\n",
    "        print(\"oops\")\n",
    "        break\n",
    "    \n",
    "    start += 1\n"
   ]
  },
  {
   "cell_type": "markdown",
   "id": "346a7281",
   "metadata": {},
   "source": [
    "3. Print the following values of the list [3, 2, 1, 0] using a for loop.\n"
   ]
  },
  {
   "cell_type": "code",
   "execution_count": 3,
   "id": "78b00cc6",
   "metadata": {},
   "outputs": [
    {
     "name": "stdout",
     "output_type": "stream",
     "text": [
      "3\n",
      "2\n",
      "1\n",
      "0\n"
     ]
    }
   ],
   "source": [
    "my_list = [3, 2, 1, 0]\n",
    "\n",
    "for value in my_list:\n",
    "    print(value)\n"
   ]
  },
  {
   "cell_type": "markdown",
   "id": "a803dc3d",
   "metadata": {},
   "source": [
    "4. Use a list comprehension to make a list of the even numbers in range(10)\n"
   ]
  },
  {
   "cell_type": "code",
   "execution_count": 15,
   "id": "1dd1f9c4",
   "metadata": {},
   "outputs": [
    {
     "data": {
      "text/plain": [
       "[0, 2, 4, 6, 8]"
      ]
     },
     "execution_count": 15,
     "metadata": {},
     "output_type": "execute_result"
    }
   ],
   "source": [
    "#[x  if x % 2 == 0   for x in range(10)]\n",
    "[x  for x in range(10) if x % 2 == 0 ]"
   ]
  },
  {
   "cell_type": "markdown",
   "id": "843ea82a",
   "metadata": {},
   "source": [
    "5. Use a dictionary comprehension to create the dictionary squares. Use range(10) to return the\n",
    "keys, and use the square of each key as its value.\n"
   ]
  },
  {
   "cell_type": "code",
   "execution_count": 17,
   "id": "bde25aa1",
   "metadata": {},
   "outputs": [
    {
     "data": {
      "text/plain": [
       "{0: 0, 1: 1, 2: 4, 3: 9, 4: 16, 5: 25, 6: 36, 7: 49, 8: 64, 9: 81}"
      ]
     },
     "execution_count": 17,
     "metadata": {},
     "output_type": "execute_result"
    }
   ],
   "source": [
    "{num: num*num for num in range(10)}"
   ]
  },
  {
   "cell_type": "markdown",
   "id": "2a1366dc",
   "metadata": {},
   "source": [
    "6. Construct the set odd from the odd numbers in the range using a set comprehension (10).\n"
   ]
  },
  {
   "cell_type": "code",
   "execution_count": 2,
   "id": "d343a82c",
   "metadata": {},
   "outputs": [
    {
     "data": {
      "text/plain": [
       "{1, 3, 5, 7, 9}"
      ]
     },
     "execution_count": 2,
     "metadata": {},
     "output_type": "execute_result"
    }
   ],
   "source": [
    "{x  for x in range(10) if x % 2 != 0 }"
   ]
  },
  {
   "cell_type": "markdown",
   "id": "dbcc2be5",
   "metadata": {},
   "source": [
    "7. Use a generator comprehension to return the string \"Got \" and a number for the numbers in\n",
    "range(10). Iterate through this by using a for loop.\n"
   ]
  },
  {
   "cell_type": "code",
   "execution_count": 8,
   "id": "07560b4f",
   "metadata": {},
   "outputs": [
    {
     "name": "stdout",
     "output_type": "stream",
     "text": [
      "got\n",
      "got\n",
      "got\n",
      "got\n",
      "got\n",
      "got\n",
      "got\n",
      "got\n",
      "got\n",
      "got\n"
     ]
    }
   ],
   "source": [
    "gen=(\"got\" for num in range(1, 11) )\n",
    "for i in gen:\n",
    "    print(i)\n"
   ]
  },
  {
   "cell_type": "markdown",
   "id": "c13fb90e",
   "metadata": {},
   "source": [
    "8. Define a function called good that returns the list [\"Harry\", \"Ron\", \"Hermione\"].\n"
   ]
  },
  {
   "cell_type": "code",
   "execution_count": 9,
   "id": "c0e84a5b",
   "metadata": {},
   "outputs": [
    {
     "name": "stdout",
     "output_type": "stream",
     "text": [
      "['Harry', 'Ron', 'Hermione']\n"
     ]
    }
   ],
   "source": [
    "def good(list1):\n",
    "    print(list1)\n",
    "good([\"Harry\", \"Ron\", \"Hermione\"])    "
   ]
  },
  {
   "cell_type": "markdown",
   "id": "21825e83",
   "metadata": {},
   "source": [
    "9. Define a generator function called get_odds that returns the odd numbers from range(10). Use a\n",
    "for loop to find and print the third value returned.\n"
   ]
  },
  {
   "cell_type": "code",
   "execution_count": 18,
   "id": "fb2ade44",
   "metadata": {},
   "outputs": [
    {
     "name": "stdout",
     "output_type": "stream",
     "text": [
      "7\n"
     ]
    }
   ],
   "source": [
    "odd=( num for num in range(1, 11) if num %2!=0 )\n",
    "j=0\n",
    "for i in odd:\n",
    "    if(j==3):\n",
    "        print(i)\n",
    "    j+=1     "
   ]
  },
  {
   "cell_type": "code",
   "execution_count": null,
   "id": "c5f924f8",
   "metadata": {},
   "outputs": [],
   "source": [
    "10. Define an exception called OopsException. Raise this exception to see what happens. Then write\n",
    "the code to catch this exception and print \"Caught an oops\".\n"
   ]
  },
  {
   "cell_type": "code",
   "execution_count": 19,
   "id": "493b62e6",
   "metadata": {},
   "outputs": [
    {
     "ename": "OopsException",
     "evalue": "Something went wrong!",
     "output_type": "error",
     "traceback": [
      "\u001b[1;31m---------------------------------------------------------------------------\u001b[0m",
      "\u001b[1;31mOopsException\u001b[0m                             Traceback (most recent call last)",
      "\u001b[1;32m~\\AppData\\Local\\Temp\\ipykernel_23996\\398471323.py\u001b[0m in \u001b[0;36m<module>\u001b[1;34m\u001b[0m\n\u001b[0;32m      3\u001b[0m \u001b[1;33m\u001b[0m\u001b[0m\n\u001b[0;32m      4\u001b[0m \u001b[1;31m# Raising the OopsException\u001b[0m\u001b[1;33m\u001b[0m\u001b[1;33m\u001b[0m\u001b[0m\n\u001b[1;32m----> 5\u001b[1;33m \u001b[1;32mraise\u001b[0m \u001b[0mOopsException\u001b[0m\u001b[1;33m(\u001b[0m\u001b[1;34m\"Something went wrong!\"\u001b[0m\u001b[1;33m)\u001b[0m\u001b[1;33m\u001b[0m\u001b[1;33m\u001b[0m\u001b[0m\n\u001b[0m\u001b[0;32m      6\u001b[0m \u001b[1;33m\u001b[0m\u001b[0m\n\u001b[0;32m      7\u001b[0m \u001b[1;32mtry\u001b[0m\u001b[1;33m:\u001b[0m\u001b[1;33m\u001b[0m\u001b[1;33m\u001b[0m\u001b[0m\n",
      "\u001b[1;31mOopsException\u001b[0m: Something went wrong!"
     ]
    }
   ],
   "source": [
    "class OopsException(Exception):\n",
    "    pass\n",
    "\n",
    "# Raising the OopsException\n",
    "raise OopsException(\"Something went wrong!\")\n",
    "\n",
    "try:\n",
    "    # Code that may raise the OopsException\n",
    "    raise OopsException(\"Something went wrong!\")\n",
    "except OopsException:\n",
    "    print(\"Caught an oops\")\n"
   ]
  },
  {
   "cell_type": "markdown",
   "id": "0746948c",
   "metadata": {},
   "source": [
    "11. Use zip() to make a dictionary called movies that pairs these lists: titles = [\"Creature of Habit\",\n",
    "\"Crewel Fate\"] and plots = [\"A nun turns into a monster\", \"A haunted yarn shop\"]."
   ]
  },
  {
   "cell_type": "code",
   "execution_count": 17,
   "id": "506e2336",
   "metadata": {},
   "outputs": [
    {
     "data": {
      "text/plain": [
       "{'Creature of Habit': 'A nun turns into a monster',\n",
       " 'Crewel Fate': 'A haunted yarn shop'}"
      ]
     },
     "execution_count": 17,
     "metadata": {},
     "output_type": "execute_result"
    }
   ],
   "source": [
    "titles = [\"Creature of Habit\",\"Crewel Fate\"] \n",
    "plots = [\"A nun turns into a monster\", \"A haunted yarn shop\"]\n",
    "dict(zip(titles,plots))"
   ]
  },
  {
   "cell_type": "code",
   "execution_count": null,
   "id": "ede0d38f",
   "metadata": {},
   "outputs": [],
   "source": []
  }
 ],
 "metadata": {
  "kernelspec": {
   "display_name": "Python 3 (ipykernel)",
   "language": "python",
   "name": "python3"
  },
  "language_info": {
   "codemirror_mode": {
    "name": "ipython",
    "version": 3
   },
   "file_extension": ".py",
   "mimetype": "text/x-python",
   "name": "python",
   "nbconvert_exporter": "python",
   "pygments_lexer": "ipython3",
   "version": "3.9.13"
  }
 },
 "nbformat": 4,
 "nbformat_minor": 5
}
