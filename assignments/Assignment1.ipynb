{
 "cells": [
  {
   "cell_type": "markdown",
   "id": "d6e823ab",
   "metadata": {},
   "source": [
    "# Assignment1"
   ]
  },
  {
   "cell_type": "raw",
   "id": "d1ff4fc0",
   "metadata": {},
   "source": [
    "1.  In the below elements which of them are values or an expression? eg:- values can be\n",
    "    integer or string and expressions will be mathematical operators.\n",
    "\n",
    "*                 Expression\n",
    "&#39;hello&#39;   Value\n",
    "-87.8             Value\n",
    "-                 Expression\n",
    "/                 Expression\n",
    "+                 Expression\n",
    "6                 Expression"
   ]
  },
  {
   "cell_type": "raw",
   "id": "939d5e8f",
   "metadata": {},
   "source": [
    "2. What is the difference between string and variable?\n",
    "\n",
    "   String                             Variable\n",
    "   Its a Datatype                     Store the datatypes \n",
    "   Enclosed with \"\"                   Assign the datatypes by using =\n",
    "   Eg \"Welcome\" is a sting            s=\"Welcome\n",
    "                                      s is variable     "
   ]
  },
  {
   "cell_type": "raw",
   "id": "6ba1193e",
   "metadata": {},
   "source": [
    "3. Describe three different data types.\n",
    "    1.Number datatype            - int, float \n",
    "    2. Sequence datatype         - string list, tuple, set\n",
    "    3. Mapping datatype          - Dectionary\n",
    "   "
   ]
  },
  {
   "cell_type": "raw",
   "id": "ee4d73a7",
   "metadata": {},
   "source": [
    "4. What is an expression made up of? What do all expressions do?\n",
    "\n",
    "    Expression is representung something like a number, a string, or an instance of a class. Any value is an expression\n",
    "     "
   ]
  },
  {
   "cell_type": "raw",
   "id": "13d87764",
   "metadata": {},
   "source": [
    "5. This assignment statements, like spam = 10. What is the difference between an expression and a statement?\n",
    "    Anything that does something is a statement. Any assignment to a variable or function call is a statement. Any value contained in that statement in an expression.\n",
    "\n",
    "spam = 10 is a statement that assigns spam to the value of the expression \"10\". "
   ]
  },
  {
   "cell_type": "code",
   "execution_count": 5,
   "id": "c512376a",
   "metadata": {},
   "outputs": [
    {
     "data": {
      "text/plain": [
       "23"
      ]
     },
     "execution_count": 5,
     "metadata": {},
     "output_type": "execute_result"
    }
   ],
   "source": [
    "#6. After running the following code, what does the variable bacon contain? the is  22 \n",
    "bacon = 22\n",
    "bacon + 1"
   ]
  },
  {
   "cell_type": "code",
   "execution_count": 6,
   "id": "ef60ce94",
   "metadata": {},
   "outputs": [
    {
     "data": {
      "text/plain": [
       "22"
      ]
     },
     "execution_count": 6,
     "metadata": {},
     "output_type": "execute_result"
    }
   ],
   "source": [
    "bacon"
   ]
  },
  {
   "cell_type": "code",
   "execution_count": 7,
   "id": "1c1cca95",
   "metadata": {},
   "outputs": [
    {
     "data": {
      "text/plain": [
       "'spamspamspam'"
      ]
     },
     "execution_count": 7,
     "metadata": {},
     "output_type": "execute_result"
    }
   ],
   "source": [
    "#What should the values of the following two terms be? \n",
    "'spam' + 'spamspam' #the answer is 'spamspamspam' "
   ]
  },
  {
   "cell_type": "code",
   "execution_count": 8,
   "id": "f78248c5",
   "metadata": {},
   "outputs": [
    {
     "data": {
      "text/plain": [
       "'spamspamspam'"
      ]
     },
     "execution_count": 8,
     "metadata": {},
     "output_type": "execute_result"
    }
   ],
   "source": [
    "'spam'*3\n",
    "#the answer is spamspamspam'"
   ]
  },
  {
   "cell_type": "raw",
   "id": "99b463a2",
   "metadata": {},
   "source": [
    "8. Why is eggs a valid variable name while 100 is invalid?\n",
    "The variable name s'I have eaten '+ 99 + 'burrito' hold not be a number it allways be characher or string"
   ]
  },
  {
   "cell_type": "raw",
   "id": "f696dd06",
   "metadata": {},
   "source": [
    "9. What three functions can be used to get the integer, floating-point number, or string\n",
    "version of a value?\n",
    "intiger --> int()\n",
    "float   --> float()\n",
    "string  -->str()  \n",
    "\n",
    "above functions will evaluate to the integer, floating-point number, and string versions of the value passed to them.\n"
   ]
  },
  {
   "cell_type": "code",
   "execution_count": 9,
   "id": "d228bae3",
   "metadata": {},
   "outputs": [
    {
     "ename": "TypeError",
     "evalue": "can only concatenate str (not \"int\") to str",
     "output_type": "error",
     "traceback": [
      "\u001b[1;31m---------------------------------------------------------------------------\u001b[0m",
      "\u001b[1;31mTypeError\u001b[0m                                 Traceback (most recent call last)",
      "\u001b[1;32m~\\AppData\\Local\\Temp/ipykernel_6864/3788286809.py\u001b[0m in \u001b[0;36m<module>\u001b[1;34m\u001b[0m\n\u001b[0;32m      1\u001b[0m \u001b[1;31m#Why does this expression cause an error? How can you fix it?\u001b[0m\u001b[1;33m\u001b[0m\u001b[1;33m\u001b[0m\u001b[0m\n\u001b[1;32m----> 2\u001b[1;33m \u001b[1;34m'I have eaten '\u001b[0m\u001b[1;33m+\u001b[0m \u001b[1;36m99\u001b[0m \u001b[1;33m+\u001b[0m \u001b[1;34m'burrito'\u001b[0m\u001b[1;33m\u001b[0m\u001b[1;33m\u001b[0m\u001b[0m\n\u001b[0m\u001b[0;32m      3\u001b[0m \u001b[1;31m#diffrent data type expression cannot concordinate .  here 99 is intiger cannot concordinate with stirng\u001b[0m\u001b[1;33m\u001b[0m\u001b[1;33m\u001b[0m\u001b[0m\n\u001b[0;32m      4\u001b[0m \u001b[1;31m#To fix this put 99 inside ''(single quotes)\u001b[0m\u001b[1;33m\u001b[0m\u001b[1;33m\u001b[0m\u001b[0m\n",
      "\u001b[1;31mTypeError\u001b[0m: can only concatenate str (not \"int\") to str"
     ]
    }
   ],
   "source": [
    "#Why does this expression cause an error? How can you fix it?\n",
    "'I have eaten '+ 99 + 'burrito' \n",
    "#diffrent data type expression cannot concordinate .  here 99 is intiger cannot concordinate with stirng\n",
    "#To fix this put 99 inside ''(single quotes)"
   ]
  },
  {
   "cell_type": "code",
   "execution_count": 11,
   "id": "4ba99c5e",
   "metadata": {},
   "outputs": [
    {
     "data": {
      "text/plain": [
       "'I have eaten 99 burrito'"
      ]
     },
     "execution_count": 11,
     "metadata": {},
     "output_type": "execute_result"
    }
   ],
   "source": [
    "'I have eaten '+ '99 ' + 'burrito'"
   ]
  },
  {
   "cell_type": "code",
   "execution_count": null,
   "id": "268aa48c",
   "metadata": {},
   "outputs": [],
   "source": []
  }
 ],
 "metadata": {
  "kernelspec": {
   "display_name": "Python 3 (ipykernel)",
   "language": "python",
   "name": "python3"
  },
  "language_info": {
   "codemirror_mode": {
    "name": "ipython",
    "version": 3
   },
   "file_extension": ".py",
   "mimetype": "text/x-python",
   "name": "python",
   "nbconvert_exporter": "python",
   "pygments_lexer": "ipython3",
   "version": "3.9.7"
  }
 },
 "nbformat": 4,
 "nbformat_minor": 5
}
